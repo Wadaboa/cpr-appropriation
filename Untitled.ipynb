{
 "cells": [
  {
   "cell_type": "code",
   "execution_count": 19,
   "id": "38738be0",
   "metadata": {},
   "outputs": [
    {
     "name": "stdout",
     "output_type": "stream",
     "text": [
      "The autoreload extension is already loaded. To reload it, use:\n",
      "  %reload_ext autoreload\n"
     ]
    }
   ],
   "source": [
    "from src import memory\n",
    "import numpy as np\n",
    "import gym\n",
    "%load_ext autoreload\n",
    "%autoreload 2"
   ]
  },
  {
   "cell_type": "code",
   "execution_count": 43,
   "id": "033a3676",
   "metadata": {},
   "outputs": [],
   "source": [
    "n_agents = 11\n",
    "grid_width = 39\n",
    "grid_height = 19\n",
    "max_steps = 1000\n",
    "seed = 42"
   ]
  },
  {
   "cell_type": "code",
   "execution_count": 44,
   "id": "fee8574d",
   "metadata": {},
   "outputs": [],
   "source": [
    "env = gym.make(\n",
    "    'gym_cpr_grid:CPRGridEnv-v0', \n",
    "    n_agents=n_agents, \n",
    "    grid_width=grid_width, \n",
    "    grid_height=grid_height,\n",
    ")"
   ]
  },
  {
   "cell_type": "code",
   "execution_count": 42,
   "id": "5bb1a808",
   "metadata": {},
   "outputs": [],
   "source": [
    "epochs = 100\n",
    "checkpoints_path = \"./checkpoints\"\n",
    "save_every = 25\n",
    "wandb_config = {\n",
    "    \"api_key\": open(\"./wandb_api_key_file\", \"r\").read().strip(),\n",
    "    \"project\": \"cpr-appropriation\",\n",
    "    \"entity\": \"wadaboa\",\n",
    "}"
   ]
  },
  {
   "cell_type": "code",
   "execution_count": 46,
   "id": "e738bc87",
   "metadata": {
    "scrolled": true
   },
   "outputs": [
    {
     "data": {
      "text/html": [
       "Finishing last run (ID:3jq5m3yf) before initializing another..."
      ],
      "text/plain": [
       "<IPython.core.display.HTML object>"
      ]
     },
     "metadata": {},
     "output_type": "display_data"
    },
    {
     "data": {
      "text/html": [
       "<br/>Waiting for W&B process to finish, PID 80031<br/>Program ended successfully."
      ],
      "text/plain": [
       "<IPython.core.display.HTML object>"
      ]
     },
     "metadata": {},
     "output_type": "display_data"
    },
    {
     "data": {
      "application/vnd.jupyter.widget-view+json": {
       "model_id": "",
       "version_major": 2,
       "version_minor": 0
      },
      "text/plain": [
       "VBox(children=(Label(value=' 0.00MB of 0.00MB uploaded (0.00MB deduped)\\r'), FloatProgress(value=1.0, max=1.0)…"
      ]
     },
     "metadata": {},
     "output_type": "display_data"
    },
    {
     "data": {
      "text/html": [
       "Find user logs for this run at: <code>/Users/jobs/Github/cpr-appropriation/wandb/run-20210824_165137-3jq5m3yf/logs/debug.log</code>"
      ],
      "text/plain": [
       "<IPython.core.display.HTML object>"
      ]
     },
     "metadata": {},
     "output_type": "display_data"
    },
    {
     "data": {
      "text/html": [
       "Find internal logs for this run at: <code>/Users/jobs/Github/cpr-appropriation/wandb/run-20210824_165137-3jq5m3yf/logs/debug-internal.log</code>"
      ],
      "text/plain": [
       "<IPython.core.display.HTML object>"
      ]
     },
     "metadata": {},
     "output_type": "display_data"
    },
    {
     "data": {
      "text/html": [
       "<h3>Run summary:</h3><br/><style>\n",
       "    table.wandb td:nth-child(1) { padding: 0 10px; text-align: right }\n",
       "    </style><table class=\"wandb\">\n",
       "<tr><td>efficiency</td><td>3.093</td></tr><tr><td>equality</td><td>0.96238</td></tr><tr><td>sustainability</td><td>510.82245</td></tr><tr><td>peace</td><td>6.515</td></tr><tr><td>loss</td><td>36.8574</td></tr><tr><td>_runtime</td><td>103</td></tr><tr><td>_timestamp</td><td>1629816800</td></tr><tr><td>_step</td><td>0</td></tr></table>"
      ],
      "text/plain": [
       "<IPython.core.display.HTML object>"
      ]
     },
     "metadata": {},
     "output_type": "display_data"
    },
    {
     "data": {
      "text/html": [
       "<h3>Run history:</h3><br/><style>\n",
       "    table.wandb td:nth-child(1) { padding: 0 10px; text-align: right }\n",
       "    </style><table class=\"wandb\">\n",
       "<tr><td>efficiency</td><td>▁</td></tr><tr><td>equality</td><td>▁</td></tr><tr><td>sustainability</td><td>▁</td></tr><tr><td>peace</td><td>▁</td></tr><tr><td>loss</td><td>▁</td></tr><tr><td>_runtime</td><td>▁</td></tr><tr><td>_timestamp</td><td>▁</td></tr><tr><td>_step</td><td>▁</td></tr></table><br/>"
      ],
      "text/plain": [
       "<IPython.core.display.HTML object>"
      ]
     },
     "metadata": {},
     "output_type": "display_data"
    },
    {
     "data": {
      "text/html": [
       "Synced 5 W&B file(s), 0 media file(s), 0 artifact file(s) and 0 other file(s)"
      ],
      "text/plain": [
       "<IPython.core.display.HTML object>"
      ]
     },
     "metadata": {},
     "output_type": "display_data"
    },
    {
     "data": {
      "text/html": [
       "\n",
       "                    <br/>Synced <strong style=\"color:#cdcd00\">elated-haze-20</strong>: <a href=\"https://wandb.ai/wadaboa/cpr-appropriation/runs/3jq5m3yf\" target=\"_blank\">https://wandb.ai/wadaboa/cpr-appropriation/runs/3jq5m3yf</a><br/>\n",
       "                "
      ],
      "text/plain": [
       "<IPython.core.display.HTML object>"
      ]
     },
     "metadata": {},
     "output_type": "display_data"
    },
    {
     "data": {
      "text/html": [
       "...Successfully finished last run (ID:3jq5m3yf). Initializing new run:<br/><br/>"
      ],
      "text/plain": [
       "<IPython.core.display.HTML object>"
      ]
     },
     "metadata": {},
     "output_type": "display_data"
    },
    {
     "data": {
      "text/html": [
       "\n",
       "                Tracking run with wandb version 0.12.0<br/>\n",
       "                Syncing run <strong style=\"color:#cdcd00\">lucky-sunset-21</strong> to <a href=\"https://wandb.ai\" target=\"_blank\">Weights & Biases</a> <a href=\"https://docs.wandb.com/integrations/jupyter.html\" target=\"_blank\">(Documentation)</a>.<br/>\n",
       "                Project page: <a href=\"https://wandb.ai/wadaboa/cpr-appropriation\" target=\"_blank\">https://wandb.ai/wadaboa/cpr-appropriation</a><br/>\n",
       "                Run page: <a href=\"https://wandb.ai/wadaboa/cpr-appropriation/runs/9vl0nb3j\" target=\"_blank\">https://wandb.ai/wadaboa/cpr-appropriation/runs/9vl0nb3j</a><br/>\n",
       "                Run data is saved locally in <code>/Users/jobs/Github/cpr-appropriation/wandb/run-20210824_165320-9vl0nb3j</code><br/><br/>\n",
       "            "
      ],
      "text/plain": [
       "<IPython.core.display.HTML object>"
      ]
     },
     "metadata": {},
     "output_type": "display_data"
    },
    {
     "name": "stderr",
     "output_type": "stream",
     "text": [
      "2021-08-24 16:53:25.763 | INFO     | src.policies:train:88 - Epoch 1 / 100\n",
      "2021-08-24 16:53:25.764 | INFO     | src.policies:train:93 - Episode 1\n",
      "2021-08-24 16:53:45.914 | DEBUG    | src.policies:execute_episode:233 - Early stopping, all agents done\n",
      "2021-08-24 16:53:45.919 | INFO     | src.policies:train:96 - Social outcome metrics: {'efficiency': 3.093, 'equality': 0.9623783910889343, 'sustainability': 510.8224459964027, 'peace': 6.515}\n",
      "2021-08-24 16:53:45.920 | WARNING  | src.policies:train:105 - The actual batch size is 11000, instead of 4000\n",
      "2021-08-24 16:53:54.793 | INFO     | src.policies:train:130 - Total loss: 36.857398986816406\n",
      "2021-08-24 16:53:54.794 | INFO     | src.policies:train:134 - Mean metrics: {'efficiency': 3.093, 'equality': 0.9623783910889343, 'sustainability': 510.8224459964027, 'peace': 6.515}\n",
      "2021-08-24 16:53:54.837 | INFO     | src.policies:train:147 - Saving model checkpoints to ./checkpoints\n",
      "2021-08-24 16:53:54.843 | INFO     | src.policies:train:88 - Epoch 2 / 100\n",
      "2021-08-24 16:53:54.843 | INFO     | src.policies:train:93 - Episode 2\n",
      "2021-08-24 16:54:18.281 | DEBUG    | src.policies:execute_episode:233 - Early stopping, all agents done\n",
      "2021-08-24 16:54:18.313 | INFO     | src.policies:train:96 - Social outcome metrics: {'efficiency': 3.044, 'equality': 0.9638036076937672, 'sustainability': 526.4083433225751, 'peace': 6.437}\n",
      "2021-08-24 16:54:18.314 | WARNING  | src.policies:train:105 - The actual batch size is 11000, instead of 4000\n",
      "2021-08-24 16:54:28.767 | INFO     | src.policies:train:130 - Total loss: 31.24793815612793\n",
      "2021-08-24 16:54:28.768 | INFO     | src.policies:train:134 - Mean metrics: {'efficiency': 3.0685000000000002, 'equality': 0.9630909993913508, 'sustainability': 518.6153946594889, 'peace': 6.476}\n",
      "2021-08-24 16:54:28.823 | INFO     | src.policies:train:88 - Epoch 3 / 100\n",
      "2021-08-24 16:54:28.824 | INFO     | src.policies:train:93 - Episode 3\n",
      "2021-08-24 16:54:52.456 | DEBUG    | src.policies:execute_episode:233 - Early stopping, all agents done\n",
      "2021-08-24 16:54:52.487 | INFO     | src.policies:train:96 - Social outcome metrics: {'efficiency': 3.041, 'equality': 0.9540820902222044, 'sustainability': 507.77388158046284, 'peace': 6.961}\n",
      "2021-08-24 16:54:52.488 | WARNING  | src.policies:train:105 - The actual batch size is 11000, instead of 4000\n",
      "2021-08-24 16:55:01.919 | INFO     | src.policies:train:130 - Total loss: 37.70024871826172\n",
      "2021-08-24 16:55:01.919 | INFO     | src.policies:train:134 - Mean metrics: {'efficiency': 3.0593333333333335, 'equality': 0.960088029668302, 'sustainability': 515.0015569664802, 'peace': 6.637666666666667}\n",
      "2021-08-24 16:55:01.969 | INFO     | src.policies:train:88 - Epoch 4 / 100\n",
      "2021-08-24 16:55:01.970 | INFO     | src.policies:train:93 - Episode 4\n",
      "2021-08-24 16:55:23.216 | DEBUG    | src.policies:execute_episode:233 - Early stopping, all agents done\n",
      "2021-08-24 16:55:23.247 | INFO     | src.policies:train:96 - Social outcome metrics: {'efficiency': 3.115, 'equality': 0.9607179337522148, 'sustainability': 513.397418198084, 'peace': 6.971}\n",
      "2021-08-24 16:55:23.247 | WARNING  | src.policies:train:105 - The actual batch size is 11000, instead of 4000\n",
      "2021-08-24 16:55:32.188 | INFO     | src.policies:train:130 - Total loss: 34.91812515258789\n",
      "2021-08-24 16:55:32.189 | INFO     | src.policies:train:134 - Mean metrics: {'efficiency': 3.0732500000000003, 'equality': 0.9602455056892802, 'sustainability': 514.6005222743811, 'peace': 6.721}\n",
      "2021-08-24 16:55:32.238 | INFO     | src.policies:train:88 - Epoch 5 / 100\n",
      "2021-08-24 16:55:32.238 | INFO     | src.policies:train:93 - Episode 5\n",
      "2021-08-24 16:55:52.493 | DEBUG    | src.policies:execute_episode:233 - Early stopping, all agents done\n",
      "2021-08-24 16:55:52.523 | INFO     | src.policies:train:96 - Social outcome metrics: {'efficiency': 3.012, 'equality': 0.9626946758426492, 'sustainability': 513.4305407350407, 'peace': 6.467}\n",
      "2021-08-24 16:55:52.523 | WARNING  | src.policies:train:105 - The actual batch size is 11000, instead of 4000\n",
      "2021-08-24 16:56:01.430 | INFO     | src.policies:train:130 - Total loss: 35.88722229003906\n",
      "2021-08-24 16:56:01.431 | INFO     | src.policies:train:134 - Mean metrics: {'efficiency': 3.0610000000000004, 'equality': 0.9607353397199541, 'sustainability': 514.366525966513, 'peace': 6.6701999999999995}\n",
      "2021-08-24 16:56:01.481 | INFO     | src.policies:train:88 - Epoch 6 / 100\n",
      "2021-08-24 16:56:01.482 | INFO     | src.policies:train:93 - Episode 6\n",
      "2021-08-24 16:56:21.490 | DEBUG    | src.policies:execute_episode:233 - Early stopping, all agents done\n",
      "2021-08-24 16:56:21.517 | INFO     | src.policies:train:96 - Social outcome metrics: {'efficiency': 3.004, 'equality': 0.9540612516651426, 'sustainability': 523.0076705612138, 'peace': 6.788}\n",
      "2021-08-24 16:56:21.518 | WARNING  | src.policies:train:105 - The actual batch size is 11000, instead of 4000\n",
      "2021-08-24 16:56:30.467 | INFO     | src.policies:train:130 - Total loss: 32.94047164916992\n",
      "2021-08-24 16:56:30.468 | INFO     | src.policies:train:134 - Mean metrics: {'efficiency': 3.0515000000000003, 'equality': 0.9596229917108188, 'sustainability': 515.8067167322964, 'peace': 6.689833333333333}\n",
      "2021-08-24 16:56:30.516 | INFO     | src.policies:train:88 - Epoch 7 / 100\n",
      "2021-08-24 16:56:30.517 | INFO     | src.policies:train:93 - Episode 7\n",
      "2021-08-24 16:56:51.029 | DEBUG    | src.policies:execute_episode:233 - Early stopping, all agents done\n",
      "2021-08-24 16:56:51.054 | INFO     | src.policies:train:96 - Social outcome metrics: {'efficiency': 3.104, 'equality': 0.9582357075919893, 'sustainability': 526.8918038961884, 'peace': 6.822}\n",
      "2021-08-24 16:56:51.055 | WARNING  | src.policies:train:105 - The actual batch size is 11000, instead of 4000\n",
      "2021-08-24 16:56:59.999 | INFO     | src.policies:train:130 - Total loss: 33.129024505615234\n",
      "2021-08-24 16:56:59.999 | INFO     | src.policies:train:134 - Mean metrics: {'efficiency': 3.059, 'equality': 0.9594248082652718, 'sustainability': 517.3903006128525, 'peace': 6.708714285714286}\n",
      "2021-08-24 16:57:00.049 | INFO     | src.policies:train:88 - Epoch 8 / 100\n",
      "2021-08-24 16:57:00.050 | INFO     | src.policies:train:93 - Episode 8\n",
      "2021-08-24 16:57:20.237 | DEBUG    | src.policies:execute_episode:233 - Early stopping, all agents done\n",
      "2021-08-24 16:57:20.264 | INFO     | src.policies:train:96 - Social outcome metrics: {'efficiency': 3.126, 'equality': 0.9684755423723539, 'sustainability': 521.0422174906868, 'peace': 6.299}\n",
      "2021-08-24 16:57:20.265 | WARNING  | src.policies:train:105 - The actual batch size is 11000, instead of 4000\n",
      "2021-08-24 16:57:29.451 | INFO     | src.policies:train:130 - Total loss: 32.38513946533203\n",
      "2021-08-24 16:57:29.452 | INFO     | src.policies:train:134 - Mean metrics: {'efficiency': 3.067375, 'equality': 0.960556150028657, 'sustainability': 517.8467902225817, 'peace': 6.6575}\n",
      "2021-08-24 16:57:29.503 | INFO     | src.policies:train:88 - Epoch 9 / 100\n",
      "2021-08-24 16:57:29.504 | INFO     | src.policies:train:93 - Episode 9\n",
      "2021-08-24 16:57:50.910 | DEBUG    | src.policies:execute_episode:233 - Early stopping, all agents done\n",
      "2021-08-24 16:57:50.936 | INFO     | src.policies:train:96 - Social outcome metrics: {'efficiency': 3.219, 'equality': 0.9755994238756305, 'sustainability': 510.64734637812523, 'peace': 6.195}\n",
      "2021-08-24 16:57:50.937 | WARNING  | src.policies:train:105 - The actual batch size is 11000, instead of 4000\n",
      "2021-08-24 16:58:00.025 | INFO     | src.policies:train:130 - Total loss: 41.3577880859375\n",
      "2021-08-24 16:58:00.026 | INFO     | src.policies:train:134 - Mean metrics: {'efficiency': 3.0842222222222224, 'equality': 0.9622276249005429, 'sustainability': 517.0468520176421, 'peace': 6.606111111111111}\n",
      "2021-08-24 16:58:00.075 | INFO     | src.policies:train:88 - Epoch 10 / 100\n",
      "2021-08-24 16:58:00.076 | INFO     | src.policies:train:93 - Episode 10\n",
      "2021-08-24 16:58:20.697 | DEBUG    | src.policies:execute_episode:233 - Early stopping, all agents done\n",
      "2021-08-24 16:58:20.725 | INFO     | src.policies:train:96 - Social outcome metrics: {'efficiency': 3.231, 'equality': 0.9625221575087571, 'sustainability': 519.7776112948172, 'peace': 6.994}\n",
      "2021-08-24 16:58:20.726 | WARNING  | src.policies:train:105 - The actual batch size is 11000, instead of 4000\n"
     ]
    },
    {
     "name": "stderr",
     "output_type": "stream",
     "text": [
      "2021-08-24 16:58:29.700 | INFO     | src.policies:train:130 - Total loss: 36.671165466308594\n",
      "2021-08-24 16:58:29.700 | INFO     | src.policies:train:134 - Mean metrics: {'efficiency': 3.0989000000000004, 'equality': 0.9622570781613644, 'sustainability': 517.3199279453596, 'peace': 6.6449}\n",
      "2021-08-24 16:58:29.748 | INFO     | src.policies:train:88 - Epoch 11 / 100\n",
      "2021-08-24 16:58:29.749 | INFO     | src.policies:train:93 - Episode 11\n",
      "2021-08-24 16:58:49.831 | DEBUG    | src.policies:execute_episode:233 - Early stopping, all agents done\n",
      "2021-08-24 16:58:49.860 | INFO     | src.policies:train:96 - Social outcome metrics: {'efficiency': 3.142, 'equality': 0.9730339679420601, 'sustainability': 524.3837294245596, 'peace': 7.525}\n",
      "2021-08-24 16:58:49.861 | WARNING  | src.policies:train:105 - The actual batch size is 11000, instead of 4000\n",
      "2021-08-24 16:58:59.588 | INFO     | src.policies:train:130 - Total loss: 33.826332092285156\n",
      "2021-08-24 16:58:59.589 | INFO     | src.policies:train:134 - Mean metrics: {'efficiency': 3.1028181818181824, 'equality': 0.963236795414155, 'sustainability': 517.962091716196, 'peace': 6.724909090909091}\n",
      "2021-08-24 16:58:59.640 | INFO     | src.policies:train:88 - Epoch 12 / 100\n",
      "2021-08-24 16:58:59.640 | INFO     | src.policies:train:93 - Episode 12\n",
      "2021-08-24 16:59:21.484 | DEBUG    | src.policies:execute_episode:233 - Early stopping, all agents done\n",
      "2021-08-24 16:59:21.513 | INFO     | src.policies:train:96 - Social outcome metrics: {'efficiency': 2.993, 'equality': 0.9453269750638562, 'sustainability': 503.2598932302024, 'peace': 6.618}\n",
      "2021-08-24 16:59:21.514 | WARNING  | src.policies:train:105 - The actual batch size is 11000, instead of 4000\n",
      "2021-08-24 16:59:30.925 | INFO     | src.policies:train:130 - Total loss: 38.69968795776367\n",
      "2021-08-24 16:59:30.926 | INFO     | src.policies:train:134 - Mean metrics: {'efficiency': 3.0936666666666675, 'equality': 0.9617443103849634, 'sustainability': 516.7369085090298, 'peace': 6.716}\n",
      "2021-08-24 16:59:30.979 | INFO     | src.policies:train:88 - Epoch 13 / 100\n",
      "2021-08-24 16:59:30.980 | INFO     | src.policies:train:93 - Episode 13\n",
      "2021-08-24 16:59:51.973 | DEBUG    | src.policies:execute_episode:233 - Early stopping, all agents done\n",
      "2021-08-24 16:59:52.000 | INFO     | src.policies:train:96 - Social outcome metrics: {'efficiency': 3.044, 'equality': 0.9531119340587577, 'sustainability': 521.0386795107663, 'peace': 6.113}\n",
      "2021-08-24 16:59:52.001 | WARNING  | src.policies:train:105 - The actual batch size is 11000, instead of 4000\n",
      "2021-08-24 17:00:01.249 | INFO     | src.policies:train:130 - Total loss: 30.55730438232422\n",
      "2021-08-24 17:00:01.250 | INFO     | src.policies:train:134 - Mean metrics: {'efficiency': 3.089846153846154, 'equality': 0.9610802814367937, 'sustainability': 517.0678139707019, 'peace': 6.669615384615384}\n",
      "2021-08-24 17:00:01.303 | INFO     | src.policies:train:88 - Epoch 14 / 100\n",
      "2021-08-24 17:00:01.304 | INFO     | src.policies:train:93 - Episode 14\n",
      "2021-08-24 17:00:22.604 | DEBUG    | src.policies:execute_episode:233 - Early stopping, all agents done\n",
      "2021-08-24 17:00:22.631 | INFO     | src.policies:train:96 - Social outcome metrics: {'efficiency': 3.043, 'equality': 0.9716786663882581, 'sustainability': 520.5577379045573, 'peace': 6.732}\n",
      "2021-08-24 17:00:22.632 | WARNING  | src.policies:train:105 - The actual batch size is 11000, instead of 4000\n",
      "2021-08-24 17:00:32.068 | INFO     | src.policies:train:130 - Total loss: 33.9849739074707\n",
      "2021-08-24 17:00:32.069 | INFO     | src.policies:train:134 - Mean metrics: {'efficiency': 3.0865000000000005, 'equality': 0.9618373089333269, 'sustainability': 517.3170942516915, 'peace': 6.674071428571429}\n",
      "2021-08-24 17:00:32.119 | INFO     | src.policies:train:88 - Epoch 15 / 100\n",
      "2021-08-24 17:00:32.120 | INFO     | src.policies:train:93 - Episode 15\n",
      "2021-08-24 17:00:53.016 | DEBUG    | src.policies:execute_episode:233 - Early stopping, all agents done\n",
      "2021-08-24 17:00:53.043 | INFO     | src.policies:train:96 - Social outcome metrics: {'efficiency': 2.93, 'equality': 0.9622091219366706, 'sustainability': 520.0665213246492, 'peace': 5.105}\n",
      "2021-08-24 17:00:53.043 | WARNING  | src.policies:train:105 - The actual batch size is 11000, instead of 4000\n",
      "2021-08-24 17:01:02.256 | INFO     | src.policies:train:130 - Total loss: 28.83731460571289\n",
      "2021-08-24 17:01:02.256 | INFO     | src.policies:train:134 - Mean metrics: {'efficiency': 3.076066666666667, 'equality': 0.961862096466883, 'sustainability': 517.5003893898887, 'peace': 6.569466666666667}\n",
      "2021-08-24 17:01:02.307 | INFO     | src.policies:train:88 - Epoch 16 / 100\n",
      "2021-08-24 17:01:02.307 | INFO     | src.policies:train:93 - Episode 16\n",
      "2021-08-24 17:01:23.002 | DEBUG    | src.policies:execute_episode:233 - Early stopping, all agents done\n",
      "2021-08-24 17:01:23.031 | INFO     | src.policies:train:96 - Social outcome metrics: {'efficiency': 3.128, 'equality': 0.9598349221117206, 'sustainability': 502.6989565388067, 'peace': 6.787}\n",
      "2021-08-24 17:01:23.031 | WARNING  | src.policies:train:105 - The actual batch size is 11000, instead of 4000\n",
      "2021-08-24 17:01:32.558 | INFO     | src.policies:train:130 - Total loss: 41.78321838378906\n",
      "2021-08-24 17:01:32.559 | INFO     | src.policies:train:134 - Mean metrics: {'efficiency': 3.0793125000000003, 'equality': 0.9617353980696854, 'sustainability': 516.5752998366961, 'peace': 6.5830625000000005}\n",
      "2021-08-24 17:01:32.611 | INFO     | src.policies:train:88 - Epoch 17 / 100\n",
      "2021-08-24 17:01:32.611 | INFO     | src.policies:train:93 - Episode 17\n",
      "2021-08-24 17:01:54.776 | DEBUG    | src.policies:execute_episode:233 - Early stopping, all agents done\n",
      "2021-08-24 17:01:54.809 | INFO     | src.policies:train:96 - Social outcome metrics: {'efficiency': 2.98, 'equality': 0.9653447223922309, 'sustainability': 521.0946285204722, 'peace': 7.119}\n",
      "2021-08-24 17:01:54.810 | WARNING  | src.policies:train:105 - The actual batch size is 11000, instead of 4000\n",
      "2021-08-24 17:02:04.296 | INFO     | src.policies:train:130 - Total loss: 31.265260696411133\n",
      "2021-08-24 17:02:04.297 | INFO     | src.policies:train:134 - Mean metrics: {'efficiency': 3.073470588235294, 'equality': 0.9619477112651293, 'sustainability': 516.8411427004476, 'peace': 6.614588235294118}\n",
      "2021-08-24 17:02:04.347 | INFO     | src.policies:train:88 - Epoch 18 / 100\n",
      "2021-08-24 17:02:04.347 | INFO     | src.policies:train:93 - Episode 18\n",
      "2021-08-24 17:02:26.533 | DEBUG    | src.policies:execute_episode:233 - Early stopping, all agents done\n",
      "2021-08-24 17:02:26.562 | INFO     | src.policies:train:96 - Social outcome metrics: {'efficiency': 3.157, 'equality': 0.9580729691600474, 'sustainability': 522.2298847971473, 'peace': 6.877}\n",
      "2021-08-24 17:02:26.562 | WARNING  | src.policies:train:105 - The actual batch size is 11000, instead of 4000\n",
      "2021-08-24 17:02:36.399 | INFO     | src.policies:train:130 - Total loss: 37.249019622802734\n",
      "2021-08-24 17:02:36.399 | INFO     | src.policies:train:134 - Mean metrics: {'efficiency': 3.0781111111111112, 'equality': 0.9617324478148469, 'sustainability': 517.1405172613754, 'peace': 6.629166666666666}\n",
      "2021-08-24 17:02:36.452 | INFO     | src.policies:train:88 - Epoch 19 / 100\n",
      "2021-08-24 17:02:36.452 | INFO     | src.policies:train:93 - Episode 19\n",
      "2021-08-24 17:02:58.059 | DEBUG    | src.policies:execute_episode:233 - Early stopping, all agents done\n",
      "2021-08-24 17:02:58.086 | INFO     | src.policies:train:96 - Social outcome metrics: {'efficiency': 3.188, 'equality': 0.9628721341399157, 'sustainability': 516.9680940056619, 'peace': 7.512}\n",
      "2021-08-24 17:02:58.087 | WARNING  | src.policies:train:105 - The actual batch size is 11000, instead of 4000\n",
      "2021-08-24 17:03:07.628 | INFO     | src.policies:train:130 - Total loss: 37.28532028198242\n",
      "2021-08-24 17:03:07.629 | INFO     | src.policies:train:134 - Mean metrics: {'efficiency': 3.083894736842106, 'equality': 0.96179243130564, 'sustainability': 517.13144235318, 'peace': 6.675631578947368}\n",
      "2021-08-24 17:03:07.684 | INFO     | src.policies:train:88 - Epoch 20 / 100\n",
      "2021-08-24 17:03:07.684 | INFO     | src.policies:train:93 - Episode 20\n",
      "2021-08-24 17:03:29.058 | DEBUG    | src.policies:execute_episode:233 - Early stopping, all agents done\n"
     ]
    },
    {
     "name": "stderr",
     "output_type": "stream",
     "text": [
      "2021-08-24 17:03:29.091 | INFO     | src.policies:train:96 - Social outcome metrics: {'efficiency': 3.05, 'equality': 0.9736512667664136, 'sustainability': 519.5784733178062, 'peace': 6.451}\n",
      "2021-08-24 17:03:29.092 | WARNING  | src.policies:train:105 - The actual batch size is 11000, instead of 4000\n",
      "2021-08-24 17:03:39.490 | INFO     | src.policies:train:130 - Total loss: 32.17411804199219\n",
      "2021-08-24 17:03:39.490 | INFO     | src.policies:train:134 - Mean metrics: {'efficiency': 3.0822000000000003, 'equality': 0.9623853730786787, 'sustainability': 517.2537939014112, 'peace': 6.6644000000000005}\n",
      "2021-08-24 17:03:39.545 | INFO     | src.policies:train:88 - Epoch 21 / 100\n",
      "2021-08-24 17:03:39.546 | INFO     | src.policies:train:93 - Episode 21\n",
      "2021-08-24 17:04:03.176 | DEBUG    | src.policies:execute_episode:233 - Early stopping, all agents done\n",
      "2021-08-24 17:04:03.207 | INFO     | src.policies:train:96 - Social outcome metrics: {'efficiency': 3.107, 'equality': 0.9668197910880589, 'sustainability': 524.1177101106604, 'peace': 7.266}\n",
      "2021-08-24 17:04:03.208 | WARNING  | src.policies:train:105 - The actual batch size is 11000, instead of 4000\n",
      "2021-08-24 17:04:13.379 | INFO     | src.policies:train:130 - Total loss: 35.32481384277344\n",
      "2021-08-24 17:04:13.380 | INFO     | src.policies:train:134 - Mean metrics: {'efficiency': 3.0833809523809528, 'equality': 0.9625965358410301, 'sustainability': 517.5806470542326, 'peace': 6.693047619047619}\n",
      "2021-08-24 17:04:13.432 | INFO     | src.policies:train:88 - Epoch 22 / 100\n",
      "2021-08-24 17:04:13.433 | INFO     | src.policies:train:93 - Episode 22\n",
      "2021-08-24 17:04:36.085 | DEBUG    | src.policies:execute_episode:233 - Early stopping, all agents done\n",
      "2021-08-24 17:04:36.117 | INFO     | src.policies:train:96 - Social outcome metrics: {'efficiency': 3.062, 'equality': 0.9646695564401658, 'sustainability': 523.0974766116182, 'peace': 7.101}\n",
      "2021-08-24 17:04:36.117 | WARNING  | src.policies:train:105 - The actual batch size is 11000, instead of 4000\n",
      "2021-08-24 17:04:45.950 | INFO     | src.policies:train:130 - Total loss: 32.935550689697266\n",
      "2021-08-24 17:04:45.951 | INFO     | src.policies:train:134 - Mean metrics: {'efficiency': 3.082409090909091, 'equality': 0.9626907640500818, 'sustainability': 517.8314120341138, 'peace': 6.711590909090909}\n",
      "2021-08-24 17:04:46.003 | INFO     | src.policies:train:88 - Epoch 23 / 100\n",
      "2021-08-24 17:04:46.003 | INFO     | src.policies:train:93 - Episode 23\n",
      "2021-08-24 17:05:07.941 | DEBUG    | src.policies:execute_episode:233 - Early stopping, all agents done\n",
      "2021-08-24 17:05:07.970 | INFO     | src.policies:train:96 - Social outcome metrics: {'efficiency': 3.076, 'equality': 0.9614611656229834, 'sustainability': 515.3776872350214, 'peace': 7.409}\n",
      "2021-08-24 17:05:07.971 | WARNING  | src.policies:train:105 - The actual batch size is 11000, instead of 4000\n",
      "2021-08-24 17:05:17.753 | INFO     | src.policies:train:130 - Total loss: 36.61872100830078\n",
      "2021-08-24 17:05:17.754 | INFO     | src.policies:train:134 - Mean metrics: {'efficiency': 3.0821304347826084, 'equality': 0.9626373032489035, 'sustainability': 517.7247283471967, 'peace': 6.74191304347826}\n",
      "2021-08-24 17:05:17.806 | INFO     | src.policies:train:88 - Epoch 24 / 100\n",
      "2021-08-24 17:05:17.807 | INFO     | src.policies:train:93 - Episode 24\n",
      "2021-08-24 17:05:40.868 | DEBUG    | src.policies:execute_episode:233 - Early stopping, all agents done\n",
      "2021-08-24 17:05:40.900 | INFO     | src.policies:train:96 - Social outcome metrics: {'efficiency': 3.118, 'equality': 0.9645460376703519, 'sustainability': 516.7617408276242, 'peace': 6.557}\n",
      "2021-08-24 17:05:40.900 | WARNING  | src.policies:train:105 - The actual batch size is 11000, instead of 4000\n",
      "2021-08-24 17:05:50.984 | INFO     | src.policies:train:130 - Total loss: 35.415733337402344\n",
      "2021-08-24 17:05:50.985 | INFO     | src.policies:train:134 - Mean metrics: {'efficiency': 3.0836249999999996, 'equality': 0.9627168338497972, 'sustainability': 517.6846038672145, 'peace': 6.734208333333332}\n",
      "2021-08-24 17:05:51.038 | INFO     | src.policies:train:88 - Epoch 25 / 100\n",
      "2021-08-24 17:05:51.038 | INFO     | src.policies:train:93 - Episode 25\n",
      "2021-08-24 17:06:14.239 | DEBUG    | src.policies:execute_episode:233 - Early stopping, all agents done\n",
      "2021-08-24 17:06:14.271 | INFO     | src.policies:train:96 - Social outcome metrics: {'efficiency': 3.189, 'equality': 0.9663616408682351, 'sustainability': 513.2718246515179, 'peace': 7.48}\n",
      "2021-08-24 17:06:14.271 | WARNING  | src.policies:train:105 - The actual batch size is 11000, instead of 4000\n",
      "2021-08-24 17:06:25.013 | INFO     | src.policies:train:130 - Total loss: 38.26539993286133\n",
      "2021-08-24 17:06:25.014 | INFO     | src.policies:train:134 - Mean metrics: {'efficiency': 3.08784, 'equality': 0.9628626261305349, 'sustainability': 517.5080926985867, 'peace': 6.764039999999999}\n",
      "2021-08-24 17:06:25.068 | INFO     | src.policies:train:88 - Epoch 26 / 100\n",
      "2021-08-24 17:06:25.069 | INFO     | src.policies:train:93 - Episode 26\n",
      "2021-08-24 17:06:48.917 | DEBUG    | src.policies:execute_episode:233 - Early stopping, all agents done\n",
      "2021-08-24 17:06:48.953 | INFO     | src.policies:train:96 - Social outcome metrics: {'efficiency': 3.163, 'equality': 0.962348748311983, 'sustainability': 506.43772442379526, 'peace': 6.626}\n",
      "2021-08-24 17:06:48.954 | WARNING  | src.policies:train:105 - The actual batch size is 11000, instead of 4000\n",
      "2021-08-24 17:07:00.032 | INFO     | src.policies:train:130 - Total loss: 38.066429138183594\n",
      "2021-08-24 17:07:00.033 | INFO     | src.policies:train:134 - Mean metrics: {'efficiency': 3.090730769230769, 'equality': 0.962842861599052, 'sustainability': 517.0823093034023, 'peace': 6.758730769230768}\n",
      "2021-08-24 17:07:00.094 | INFO     | src.policies:train:147 - Saving model checkpoints to ./checkpoints\n",
      "2021-08-24 17:07:00.098 | INFO     | src.policies:train:88 - Epoch 27 / 100\n",
      "2021-08-24 17:07:00.098 | INFO     | src.policies:train:93 - Episode 27\n",
      "2021-08-24 17:07:29.285 | DEBUG    | src.policies:execute_episode:233 - Early stopping, all agents done\n",
      "2021-08-24 17:07:29.322 | INFO     | src.policies:train:96 - Social outcome metrics: {'efficiency': 3.052, 'equality': 0.9750982961995845, 'sustainability': 520.4551929560498, 'peace': 5.754}\n",
      "2021-08-24 17:07:29.323 | WARNING  | src.policies:train:105 - The actual batch size is 11000, instead of 4000\n",
      "2021-08-24 17:07:41.480 | INFO     | src.policies:train:130 - Total loss: 32.35639190673828\n",
      "2021-08-24 17:07:41.481 | INFO     | src.policies:train:134 - Mean metrics: {'efficiency': 3.0892962962962964, 'equality': 0.9632967665842569, 'sustainability': 517.207230920167, 'peace': 6.721518518518518}\n",
      "2021-08-24 17:07:41.545 | INFO     | src.policies:train:88 - Epoch 28 / 100\n",
      "2021-08-24 17:07:41.546 | INFO     | src.policies:train:93 - Episode 28\n",
      "2021-08-24 17:08:07.111 | DEBUG    | src.policies:execute_episode:233 - Early stopping, all agents done\n",
      "2021-08-24 17:08:07.143 | INFO     | src.policies:train:96 - Social outcome metrics: {'efficiency': 3.134, 'equality': 0.9774902825320896, 'sustainability': 505.11296538384266, 'peace': 6.453}\n",
      "2021-08-24 17:08:07.144 | WARNING  | src.policies:train:105 - The actual batch size is 11000, instead of 4000\n",
      "2021-08-24 17:08:17.629 | INFO     | src.policies:train:130 - Total loss: 40.39821243286133\n",
      "2021-08-24 17:08:17.630 | INFO     | src.policies:train:134 - Mean metrics: {'efficiency': 3.0908928571428573, 'equality': 0.9638036778681079, 'sustainability': 516.7752928652983, 'peace': 6.711928571428571}\n",
      "2021-08-24 17:08:17.686 | INFO     | src.policies:train:88 - Epoch 29 / 100\n",
      "2021-08-24 17:08:17.687 | INFO     | src.policies:train:93 - Episode 29\n",
      "2021-08-24 17:08:41.096 | DEBUG    | src.policies:execute_episode:233 - Early stopping, all agents done\n",
      "2021-08-24 17:08:41.131 | INFO     | src.policies:train:96 - Social outcome metrics: {'efficiency': 2.993, 'equality': 0.9687756279809134, 'sustainability': 519.2555297433427, 'peace': 6.117}\n",
      "2021-08-24 17:08:41.132 | WARNING  | src.policies:train:105 - The actual batch size is 11000, instead of 4000\n",
      "2021-08-24 17:08:52.274 | INFO     | src.policies:train:130 - Total loss: 33.454734802246094\n",
      "2021-08-24 17:08:52.274 | INFO     | src.policies:train:134 - Mean metrics: {'efficiency': 3.0875172413793104, 'equality': 0.963975124423722, 'sustainability': 516.860818274886, 'peace': 6.691413793103447}\n"
     ]
    },
    {
     "name": "stderr",
     "output_type": "stream",
     "text": [
      "2021-08-24 17:08:52.330 | INFO     | src.policies:train:88 - Epoch 30 / 100\n",
      "2021-08-24 17:08:52.331 | INFO     | src.policies:train:93 - Episode 30\n",
      "2021-08-24 17:09:18.380 | DEBUG    | src.policies:execute_episode:233 - Early stopping, all agents done\n",
      "2021-08-24 17:09:18.418 | INFO     | src.policies:train:96 - Social outcome metrics: {'efficiency': 3.078, 'equality': 0.9758402740862449, 'sustainability': 511.08166247055766, 'peace': 7.075}\n",
      "2021-08-24 17:09:18.419 | WARNING  | src.policies:train:105 - The actual batch size is 11000, instead of 4000\n",
      "2021-08-24 17:09:29.654 | INFO     | src.policies:train:130 - Total loss: 38.94526672363281\n",
      "2021-08-24 17:09:29.655 | INFO     | src.policies:train:134 - Mean metrics: {'efficiency': 3.0872, 'equality': 0.9643706294124728, 'sustainability': 516.6681797480752, 'peace': 6.704199999999998}\n",
      "2021-08-24 17:09:29.713 | INFO     | src.policies:train:88 - Epoch 31 / 100\n",
      "2021-08-24 17:09:29.714 | INFO     | src.policies:train:93 - Episode 31\n",
      "2021-08-24 17:09:54.309 | DEBUG    | src.policies:execute_episode:233 - Early stopping, all agents done\n",
      "2021-08-24 17:09:54.339 | INFO     | src.policies:train:96 - Social outcome metrics: {'efficiency': 3.113, 'equality': 0.9640218438810264, 'sustainability': 524.8057483043589, 'peace': 8.045}\n",
      "2021-08-24 17:09:54.340 | WARNING  | src.policies:train:105 - The actual batch size is 11000, instead of 4000\n",
      "2021-08-24 17:10:05.029 | INFO     | src.policies:train:130 - Total loss: 32.44270706176758\n",
      "2021-08-24 17:10:05.030 | INFO     | src.policies:train:134 - Mean metrics: {'efficiency': 3.088032258064516, 'equality': 0.9643593782662971, 'sustainability': 516.9306819595682, 'peace': 6.747451612903224}\n",
      "2021-08-24 17:10:05.090 | INFO     | src.policies:train:88 - Epoch 32 / 100\n",
      "2021-08-24 17:10:05.091 | INFO     | src.policies:train:93 - Episode 32\n",
      "2021-08-24 17:10:30.874 | DEBUG    | src.policies:execute_episode:233 - Early stopping, all agents done\n",
      "2021-08-24 17:10:30.908 | INFO     | src.policies:train:96 - Social outcome metrics: {'efficiency': 3.139, 'equality': 0.975267166729774, 'sustainability': 514.314147763724, 'peace': 5.848}\n",
      "2021-08-24 17:10:30.909 | WARNING  | src.policies:train:105 - The actual batch size is 11000, instead of 4000\n",
      "2021-08-24 17:10:42.636 | INFO     | src.policies:train:130 - Total loss: 35.29201889038086\n",
      "2021-08-24 17:10:42.637 | INFO     | src.policies:train:134 - Mean metrics: {'efficiency': 3.089625, 'equality': 0.9647002466557808, 'sustainability': 516.8489152659481, 'peace': 6.719343749999998}\n",
      "2021-08-24 17:10:42.697 | INFO     | src.policies:train:88 - Epoch 33 / 100\n",
      "2021-08-24 17:10:42.698 | INFO     | src.policies:train:93 - Episode 33\n",
      "2021-08-24 17:11:08.392 | DEBUG    | src.policies:execute_episode:233 - Early stopping, all agents done\n",
      "2021-08-24 17:11:08.425 | INFO     | src.policies:train:96 - Social outcome metrics: {'efficiency': 3.11, 'equality': 0.9800643086819634, 'sustainability': 521.8815766516216, 'peace': 6.889}\n",
      "2021-08-24 17:11:08.426 | WARNING  | src.policies:train:105 - The actual batch size is 11000, instead of 4000\n",
      "2021-08-24 17:11:19.247 | INFO     | src.policies:train:130 - Total loss: 33.487667083740234\n",
      "2021-08-24 17:11:19.248 | INFO     | src.policies:train:134 - Mean metrics: {'efficiency': 3.0902424242424242, 'equality': 0.9651658242929378, 'sustainability': 517.001420156423, 'peace': 6.724484848484847}\n",
      "2021-08-24 17:11:19.304 | INFO     | src.policies:train:88 - Epoch 34 / 100\n",
      "2021-08-24 17:11:19.305 | INFO     | src.policies:train:93 - Episode 34\n",
      "2021-08-24 17:11:45.028 | DEBUG    | src.policies:execute_episode:233 - Early stopping, all agents done\n",
      "2021-08-24 17:11:45.060 | INFO     | src.policies:train:96 - Social outcome metrics: {'efficiency': 3.068, 'equality': 0.9702500888945974, 'sustainability': 511.3780804910133, 'peace': 6.241}\n",
      "2021-08-24 17:11:45.061 | WARNING  | src.policies:train:105 - The actual batch size is 11000, instead of 4000\n",
      "2021-08-24 17:11:56.316 | INFO     | src.policies:train:130 - Total loss: 35.608943939208984\n",
      "2021-08-24 17:11:56.317 | INFO     | src.policies:train:134 - Mean metrics: {'efficiency': 3.0895882352941175, 'equality': 0.9653153614871044, 'sustainability': 516.8360278133227, 'peace': 6.710264705882351}\n",
      "2021-08-24 17:11:56.378 | INFO     | src.policies:train:88 - Epoch 35 / 100\n",
      "2021-08-24 17:11:56.379 | INFO     | src.policies:train:93 - Episode 35\n",
      "2021-08-24 17:12:23.079 | DEBUG    | src.policies:execute_episode:233 - Early stopping, all agents done\n",
      "2021-08-24 17:12:23.114 | INFO     | src.policies:train:96 - Social outcome metrics: {'efficiency': 3.163, 'equality': 0.9593021584807389, 'sustainability': 529.3531240450561, 'peace': 6.895}\n",
      "2021-08-24 17:12:23.114 | WARNING  | src.policies:train:105 - The actual batch size is 11000, instead of 4000\n",
      "2021-08-24 17:12:34.818 | INFO     | src.policies:train:130 - Total loss: 31.745264053344727\n",
      "2021-08-24 17:12:34.819 | INFO     | src.policies:train:134 - Mean metrics: {'efficiency': 3.091685714285714, 'equality': 0.9651435556869224, 'sustainability': 517.1936591342294, 'peace': 6.7155428571428555}\n",
      "2021-08-24 17:12:34.883 | INFO     | src.policies:train:88 - Epoch 36 / 100\n",
      "2021-08-24 17:12:34.883 | INFO     | src.policies:train:93 - Episode 36\n",
      "2021-08-24 17:13:01.015 | DEBUG    | src.policies:execute_episode:233 - Early stopping, all agents done\n",
      "2021-08-24 17:13:01.052 | INFO     | src.policies:train:96 - Social outcome metrics: {'efficiency': 3.147, 'equality': 0.9656816015257579, 'sustainability': 512.7134230586524, 'peace': 6.732}\n",
      "2021-08-24 17:13:01.053 | WARNING  | src.policies:train:105 - The actual batch size is 11000, instead of 4000\n",
      "2021-08-24 17:13:12.694 | INFO     | src.policies:train:130 - Total loss: 37.68551254272461\n",
      "2021-08-24 17:13:12.695 | INFO     | src.policies:train:134 - Mean metrics: {'efficiency': 3.093222222222222, 'equality': 0.965158501404668, 'sustainability': 517.06920813213, 'peace': 6.715999999999998}\n",
      "2021-08-24 17:13:12.758 | INFO     | src.policies:train:88 - Epoch 37 / 100\n",
      "2021-08-24 17:13:12.759 | INFO     | src.policies:train:93 - Episode 37\n",
      "2021-08-24 17:13:40.202 | DEBUG    | src.policies:execute_episode:233 - Early stopping, all agents done\n",
      "2021-08-24 17:13:40.239 | INFO     | src.policies:train:96 - Social outcome metrics: {'efficiency': 3.149, 'equality': 0.9725742660011465, 'sustainability': 521.1563897452414, 'peace': 6.645}\n",
      "2021-08-24 17:13:40.240 | WARNING  | src.policies:train:105 - The actual batch size is 11000, instead of 4000\n",
      "2021-08-24 17:13:52.314 | INFO     | src.policies:train:130 - Total loss: 38.66746139526367\n",
      "2021-08-24 17:13:52.315 | INFO     | src.policies:train:134 - Mean metrics: {'efficiency': 3.0947297297297296, 'equality': 0.9653589274748431, 'sustainability': 517.179672500052, 'peace': 6.71408108108108}\n",
      "2021-08-24 17:13:52.377 | INFO     | src.policies:train:88 - Epoch 38 / 100\n",
      "2021-08-24 17:13:52.378 | INFO     | src.policies:train:93 - Episode 38\n",
      "2021-08-24 17:14:19.303 | DEBUG    | src.policies:execute_episode:233 - Early stopping, all agents done\n",
      "2021-08-24 17:14:19.346 | INFO     | src.policies:train:96 - Social outcome metrics: {'efficiency': 3.17, 'equality': 0.9696587324351927, 'sustainability': 519.152266215166, 'peace': 7.118}\n",
      "2021-08-24 17:14:19.347 | WARNING  | src.policies:train:105 - The actual batch size is 11000, instead of 4000\n",
      "2021-08-24 17:14:31.359 | INFO     | src.policies:train:130 - Total loss: 35.956695556640625\n",
      "2021-08-24 17:14:31.360 | INFO     | src.policies:train:134 - Mean metrics: {'efficiency': 3.0967105263157895, 'equality': 0.9654720802369575, 'sustainability': 517.231582860976, 'peace': 6.724710526315788}\n",
      "2021-08-24 17:14:31.419 | INFO     | src.policies:train:88 - Epoch 39 / 100\n",
      "2021-08-24 17:14:31.420 | INFO     | src.policies:train:93 - Episode 39\n",
      "2021-08-24 17:14:58.914 | DEBUG    | src.policies:execute_episode:233 - Early stopping, all agents done\n",
      "2021-08-24 17:14:58.950 | INFO     | src.policies:train:96 - Social outcome metrics: {'efficiency': 3.113, 'equality': 0.95438483777773, 'sustainability': 516.3524210883451, 'peace': 5.765}\n",
      "2021-08-24 17:14:58.951 | WARNING  | src.policies:train:105 - The actual batch size is 11000, instead of 4000\n"
     ]
    },
    {
     "name": "stderr",
     "output_type": "stream",
     "text": [
      "2021-08-24 17:15:11.104 | INFO     | src.policies:train:130 - Total loss: 36.286834716796875\n",
      "2021-08-24 17:15:11.105 | INFO     | src.policies:train:134 - Mean metrics: {'efficiency': 3.097128205128205, 'equality': 0.9651877919687722, 'sustainability': 517.2090402514214, 'peace': 6.700102564102563}\n",
      "2021-08-24 17:15:11.167 | INFO     | src.policies:train:88 - Epoch 40 / 100\n",
      "2021-08-24 17:15:11.168 | INFO     | src.policies:train:93 - Episode 40\n",
      "2021-08-24 17:15:40.430 | DEBUG    | src.policies:execute_episode:233 - Early stopping, all agents done\n",
      "2021-08-24 17:15:40.470 | INFO     | src.policies:train:96 - Social outcome metrics: {'efficiency': 3.062, 'equality': 0.9432931536140476, 'sustainability': 519.7559659217178, 'peace': 6.46}\n",
      "2021-08-24 17:15:40.471 | WARNING  | src.policies:train:105 - The actual batch size is 11000, instead of 4000\n",
      "2021-08-24 17:15:53.424 | INFO     | src.policies:train:130 - Total loss: 34.29716873168945\n",
      "2021-08-24 17:15:53.425 | INFO     | src.policies:train:134 - Mean metrics: {'efficiency': 3.09625, 'equality': 0.9646404260099042, 'sustainability': 517.2727133931787, 'peace': 6.694099999999999}\n",
      "2021-08-24 17:15:53.489 | INFO     | src.policies:train:88 - Epoch 41 / 100\n",
      "2021-08-24 17:15:53.489 | INFO     | src.policies:train:93 - Episode 41\n",
      "2021-08-24 17:16:21.670 | DEBUG    | src.policies:execute_episode:233 - Early stopping, all agents done\n",
      "2021-08-24 17:16:21.707 | INFO     | src.policies:train:96 - Social outcome metrics: {'efficiency': 3.153, 'equality': 0.95023498544027, 'sustainability': 511.96306648710595, 'peace': 6.332}\n",
      "2021-08-24 17:16:21.708 | WARNING  | src.policies:train:105 - The actual batch size is 11000, instead of 4000\n",
      "2021-08-24 17:16:33.705 | INFO     | src.policies:train:130 - Total loss: 39.46164321899414\n",
      "2021-08-24 17:16:33.706 | INFO     | src.policies:train:134 - Mean metrics: {'efficiency': 3.0976341463414636, 'equality': 0.9642890738008886, 'sustainability': 517.1432098101038, 'peace': 6.685268292682926}\n",
      "2021-08-24 17:16:33.764 | INFO     | src.policies:train:88 - Epoch 42 / 100\n",
      "2021-08-24 17:16:33.765 | INFO     | src.policies:train:93 - Episode 42\n",
      "2021-08-24 17:16:59.377 | DEBUG    | src.policies:execute_episode:233 - Early stopping, all agents done\n",
      "2021-08-24 17:16:59.409 | INFO     | src.policies:train:96 - Social outcome metrics: {'efficiency': 3.113, 'equality': 0.963905031685835, 'sustainability': 520.5966542001062, 'peace': 6.66}\n",
      "2021-08-24 17:16:59.410 | WARNING  | src.policies:train:105 - The actual batch size is 11000, instead of 4000\n",
      "2021-08-24 17:17:10.632 | INFO     | src.policies:train:130 - Total loss: 34.40403366088867\n",
      "2021-08-24 17:17:10.633 | INFO     | src.policies:train:134 - Mean metrics: {'efficiency': 3.0980000000000003, 'equality': 0.9642799299410063, 'sustainability': 517.2254346765325, 'peace': 6.684666666666666}\n",
      "2021-08-24 17:17:10.689 | INFO     | src.policies:train:88 - Epoch 43 / 100\n",
      "2021-08-24 17:17:10.689 | INFO     | src.policies:train:93 - Episode 43\n",
      "2021-08-24 17:17:37.226 | DEBUG    | src.policies:execute_episode:233 - Early stopping, all agents done\n",
      "2021-08-24 17:17:37.263 | INFO     | src.policies:train:96 - Social outcome metrics: {'efficiency': 3.101, 'equality': 0.9612441734343578, 'sustainability': 519.8760388169528, 'peace': 6.571}\n",
      "2021-08-24 17:17:37.264 | WARNING  | src.policies:train:105 - The actual batch size is 11000, instead of 4000\n",
      "2021-08-24 17:17:49.125 | INFO     | src.policies:train:130 - Total loss: 35.23930740356445\n",
      "2021-08-24 17:17:49.126 | INFO     | src.policies:train:134 - Mean metrics: {'efficiency': 3.098069767441861, 'equality': 0.9642093309524796, 'sustainability': 517.2870766332865, 'peace': 6.682023255813953}\n",
      "2021-08-24 17:17:49.184 | INFO     | src.policies:train:88 - Epoch 44 / 100\n",
      "2021-08-24 17:17:49.184 | INFO     | src.policies:train:93 - Episode 44\n",
      "2021-08-24 17:18:15.827 | DEBUG    | src.policies:execute_episode:233 - Early stopping, all agents done\n",
      "2021-08-24 17:18:15.861 | INFO     | src.policies:train:96 - Social outcome metrics: {'efficiency': 3.138, 'equality': 0.9289066573971709, 'sustainability': 515.9042507537412, 'peace': 6.481}\n",
      "2021-08-24 17:18:15.863 | WARNING  | src.policies:train:105 - The actual batch size is 11000, instead of 4000\n",
      "2021-08-24 17:18:27.922 | INFO     | src.policies:train:130 - Total loss: 38.85289764404297\n",
      "2021-08-24 17:18:27.923 | INFO     | src.policies:train:134 - Mean metrics: {'efficiency': 3.0989772727272733, 'equality': 0.9634069974625863, 'sustainability': 517.2556487723878, 'peace': 6.6774545454545455}\n",
      "2021-08-24 17:18:27.980 | INFO     | src.policies:train:88 - Epoch 45 / 100\n",
      "2021-08-24 17:18:27.981 | INFO     | src.policies:train:93 - Episode 45\n",
      "2021-08-24 17:18:54.555 | DEBUG    | src.policies:execute_episode:233 - Early stopping, all agents done\n",
      "2021-08-24 17:18:54.596 | INFO     | src.policies:train:96 - Social outcome metrics: {'efficiency': 3.165, 'equality': 0.9720809995695522, 'sustainability': 520.2436873423762, 'peace': 6.376}\n",
      "2021-08-24 17:18:54.597 | WARNING  | src.policies:train:105 - The actual batch size is 11000, instead of 4000\n",
      "2021-08-24 17:19:06.183 | INFO     | src.policies:train:130 - Total loss: 35.81728744506836\n",
      "2021-08-24 17:19:06.184 | INFO     | src.policies:train:134 - Mean metrics: {'efficiency': 3.100444444444445, 'equality': 0.9635997530649633, 'sustainability': 517.3220496294986, 'peace': 6.670755555555555}\n",
      "2021-08-24 17:19:06.239 | INFO     | src.policies:train:88 - Epoch 46 / 100\n",
      "2021-08-24 17:19:06.240 | INFO     | src.policies:train:93 - Episode 46\n",
      "2021-08-24 17:19:32.080 | DEBUG    | src.policies:execute_episode:233 - Early stopping, all agents done\n",
      "2021-08-24 17:19:32.120 | INFO     | src.policies:train:96 - Social outcome metrics: {'efficiency': 2.992, 'equality': 0.9497447739433984, 'sustainability': 519.6940971849903, 'peace': 6.816}\n",
      "2021-08-24 17:19:32.121 | WARNING  | src.policies:train:105 - The actual batch size is 11000, instead of 4000\n",
      "2021-08-24 17:19:43.797 | INFO     | src.policies:train:130 - Total loss: 33.1953125\n",
      "2021-08-24 17:19:43.797 | INFO     | src.policies:train:134 - Mean metrics: {'efficiency': 3.098086956521739, 'equality': 0.9632985578666684, 'sustainability': 517.373615880705, 'peace': 6.67391304347826}\n",
      "2021-08-24 17:19:43.856 | INFO     | src.policies:train:88 - Epoch 47 / 100\n",
      "2021-08-24 17:19:43.857 | INFO     | src.policies:train:93 - Episode 47\n",
      "2021-08-24 17:20:12.643 | DEBUG    | src.policies:execute_episode:233 - Early stopping, all agents done\n",
      "2021-08-24 17:20:12.684 | INFO     | src.policies:train:96 - Social outcome metrics: {'efficiency': 3.115, 'equality': 0.9671968480962032, 'sustainability': 512.7263370713889, 'peace': 6.861}\n",
      "2021-08-24 17:20:12.685 | WARNING  | src.policies:train:105 - The actual batch size is 11000, instead of 4000\n",
      "2021-08-24 17:20:25.783 | INFO     | src.policies:train:130 - Total loss: 34.63980484008789\n",
      "2021-08-24 17:20:25.784 | INFO     | src.policies:train:134 - Mean metrics: {'efficiency': 3.0984468085106385, 'equality': 0.9633815002119775, 'sustainability': 517.2747376081663, 'peace': 6.677893617021275}\n",
      "2021-08-24 17:20:25.854 | INFO     | src.policies:train:88 - Epoch 48 / 100\n",
      "2021-08-24 17:20:25.855 | INFO     | src.policies:train:93 - Episode 48\n",
      "2021-08-24 17:20:56.154 | DEBUG    | src.policies:execute_episode:233 - Early stopping, all agents done\n",
      "2021-08-24 17:20:56.190 | INFO     | src.policies:train:96 - Social outcome metrics: {'efficiency': 3.155, 'equality': 0.9627719348802367, 'sustainability': 517.6063460479743, 'peace': 6.674}\n",
      "2021-08-24 17:20:56.191 | WARNING  | src.policies:train:105 - The actual batch size is 11000, instead of 4000\n",
      "2021-08-24 17:21:08.984 | INFO     | src.policies:train:130 - Total loss: 37.152313232421875\n",
      "2021-08-24 17:21:08.985 | INFO     | src.policies:train:134 - Mean metrics: {'efficiency': 3.099625, 'equality': 0.963368800934233, 'sustainability': 517.2816461173289, 'peace': 6.677812499999998}\n",
      "2021-08-24 17:21:09.048 | INFO     | src.policies:train:88 - Epoch 49 / 100\n",
      "2021-08-24 17:21:09.049 | INFO     | src.policies:train:93 - Episode 49\n",
      "2021-08-24 17:21:37.339 | DEBUG    | src.policies:execute_episode:233 - Early stopping, all agents done\n"
     ]
    },
    {
     "name": "stderr",
     "output_type": "stream",
     "text": [
      "2021-08-24 17:21:37.376 | INFO     | src.policies:train:96 - Social outcome metrics: {'efficiency': 3.006, 'equality': 0.9554829734477185, 'sustainability': 513.0999528720728, 'peace': 6.199}\n",
      "2021-08-24 17:21:37.377 | WARNING  | src.policies:train:105 - The actual batch size is 11000, instead of 4000\n",
      "2021-08-24 17:21:49.772 | INFO     | src.policies:train:130 - Total loss: 35.08211898803711\n",
      "2021-08-24 17:21:49.772 | INFO     | src.policies:train:134 - Mean metrics: {'efficiency': 3.097714285714286, 'equality': 0.9632078656794061, 'sustainability': 517.1963054388543, 'peace': 6.6680408163265295}\n",
      "2021-08-24 17:21:49.830 | INFO     | src.policies:train:88 - Epoch 50 / 100\n",
      "2021-08-24 17:21:49.831 | INFO     | src.policies:train:93 - Episode 50\n",
      "2021-08-24 17:22:16.137 | DEBUG    | src.policies:execute_episode:233 - Early stopping, all agents done\n",
      "2021-08-24 17:22:16.174 | INFO     | src.policies:train:96 - Social outcome metrics: {'efficiency': 3.198, 'equality': 0.9649212576046831, 'sustainability': 517.7259603486925, 'peace': 6.747}\n",
      "2021-08-24 17:22:16.175 | WARNING  | src.policies:train:105 - The actual batch size is 11000, instead of 4000\n",
      "2021-08-24 17:22:27.798 | INFO     | src.policies:train:130 - Total loss: 38.49544906616211\n",
      "2021-08-24 17:22:27.799 | INFO     | src.policies:train:134 - Mean metrics: {'efficiency': 3.0997200000000005, 'equality': 0.9632421335179118, 'sustainability': 517.2068985370511, 'peace': 6.669619999999998}\n",
      "2021-08-24 17:22:27.855 | INFO     | src.policies:train:88 - Epoch 51 / 100\n",
      "2021-08-24 17:22:27.855 | INFO     | src.policies:train:93 - Episode 51\n",
      "2021-08-24 17:22:53.332 | DEBUG    | src.policies:execute_episode:233 - Early stopping, all agents done\n",
      "2021-08-24 17:22:53.369 | INFO     | src.policies:train:96 - Social outcome metrics: {'efficiency': 3.084, 'equality': 0.9729984671622892, 'sustainability': 518.1641766415843, 'peace': 6.94}\n",
      "2021-08-24 17:22:53.370 | WARNING  | src.policies:train:105 - The actual batch size is 11000, instead of 4000\n",
      "2021-08-24 17:23:04.610 | INFO     | src.policies:train:130 - Total loss: 35.01274490356445\n",
      "2021-08-24 17:23:04.611 | INFO     | src.policies:train:134 - Mean metrics: {'efficiency': 3.099411764705883, 'equality': 0.9634334341776054, 'sustainability': 517.2256686959636, 'peace': 6.6749215686274495}\n",
      "2021-08-24 17:23:04.669 | INFO     | src.policies:train:147 - Saving model checkpoints to ./checkpoints\n",
      "2021-08-24 17:23:04.672 | INFO     | src.policies:train:88 - Epoch 52 / 100\n",
      "2021-08-24 17:23:04.672 | INFO     | src.policies:train:93 - Episode 52\n",
      "2021-08-24 17:23:31.522 | DEBUG    | src.policies:execute_episode:233 - Early stopping, all agents done\n",
      "2021-08-24 17:23:31.562 | INFO     | src.policies:train:96 - Social outcome metrics: {'efficiency': 3.141, 'equality': 0.965789702179882, 'sustainability': 518.9273849957627, 'peace': 6.365}\n",
      "2021-08-24 17:23:31.563 | WARNING  | src.policies:train:105 - The actual batch size is 11000, instead of 4000\n",
      "2021-08-24 17:23:43.560 | INFO     | src.policies:train:130 - Total loss: 37.08816909790039\n",
      "2021-08-24 17:23:43.561 | INFO     | src.policies:train:134 - Mean metrics: {'efficiency': 3.1002115384615387, 'equality': 0.9634787470238031, 'sustainability': 517.2583940094212, 'peace': 6.668961538461537}\n",
      "2021-08-24 17:23:43.620 | INFO     | src.policies:train:88 - Epoch 53 / 100\n",
      "2021-08-24 17:23:43.621 | INFO     | src.policies:train:93 - Episode 53\n",
      "2021-08-24 17:24:11.652 | DEBUG    | src.policies:execute_episode:233 - Early stopping, all agents done\n",
      "2021-08-24 17:24:11.687 | INFO     | src.policies:train:96 - Social outcome metrics: {'efficiency': 3.106, 'equality': 0.9604870338939225, 'sustainability': 525.2349304162628, 'peace': 5.667}\n",
      "2021-08-24 17:24:11.688 | WARNING  | src.policies:train:105 - The actual batch size is 11000, instead of 4000\n",
      "2021-08-24 17:24:24.009 | INFO     | src.policies:train:130 - Total loss: 32.70671844482422\n",
      "2021-08-24 17:24:24.010 | INFO     | src.policies:train:134 - Mean metrics: {'efficiency': 3.1003207547169813, 'equality': 0.9634222996062581, 'sustainability': 517.4088946963428, 'peace': 6.650056603773583}\n",
      "2021-08-24 17:24:24.071 | INFO     | src.policies:train:88 - Epoch 54 / 100\n",
      "2021-08-24 17:24:24.072 | INFO     | src.policies:train:93 - Episode 54\n",
      "2021-08-24 17:24:51.981 | DEBUG    | src.policies:execute_episode:233 - Early stopping, all agents done\n",
      "2021-08-24 17:24:52.023 | INFO     | src.policies:train:96 - Social outcome metrics: {'efficiency': 3.159, 'equality': 0.9690926357597471, 'sustainability': 511.27006533037843, 'peace': 6.57}\n",
      "2021-08-24 17:24:52.024 | WARNING  | src.policies:train:105 - The actual batch size is 11000, instead of 4000\n",
      "2021-08-24 17:25:04.320 | INFO     | src.policies:train:130 - Total loss: 38.56767272949219\n",
      "2021-08-24 17:25:04.320 | INFO     | src.policies:train:134 - Mean metrics: {'efficiency': 3.1014074074074074, 'equality': 0.9635273058313228, 'sustainability': 517.2952126710471, 'peace': 6.648574074074072}\n",
      "2021-08-24 17:25:04.381 | INFO     | src.policies:train:88 - Epoch 55 / 100\n",
      "2021-08-24 17:25:04.381 | INFO     | src.policies:train:93 - Episode 55\n",
      "2021-08-24 17:25:31.472 | DEBUG    | src.policies:execute_episode:233 - Early stopping, all agents done\n",
      "2021-08-24 17:25:31.507 | INFO     | src.policies:train:96 - Social outcome metrics: {'efficiency': 3.18, 'equality': 0.9597484276735313, 'sustainability': 508.7387167491481, 'peace': 6.889}\n",
      "2021-08-24 17:25:31.508 | WARNING  | src.policies:train:105 - The actual batch size is 11000, instead of 4000\n",
      "2021-08-24 17:25:43.607 | INFO     | src.policies:train:130 - Total loss: 41.464508056640625\n",
      "2021-08-24 17:25:43.608 | INFO     | src.policies:train:134 - Mean metrics: {'efficiency': 3.1028363636363636, 'equality': 0.9634585989557266, 'sustainability': 517.1396400179217, 'peace': 6.652945454545453}\n",
      "2021-08-24 17:25:43.666 | INFO     | src.policies:train:88 - Epoch 56 / 100\n",
      "2021-08-24 17:25:43.667 | INFO     | src.policies:train:93 - Episode 56\n",
      "2021-08-24 17:26:14.473 | DEBUG    | src.policies:execute_episode:233 - Early stopping, all agents done\n",
      "2021-08-24 17:26:14.519 | INFO     | src.policies:train:96 - Social outcome metrics: {'efficiency': 3.172, 'equality': 0.9648056861176658, 'sustainability': 508.94774971508235, 'peace': 6.804}\n",
      "2021-08-24 17:26:14.520 | WARNING  | src.policies:train:105 - The actual batch size is 11000, instead of 4000\n",
      "2021-08-24 17:26:28.835 | INFO     | src.policies:train:130 - Total loss: 42.128326416015625\n",
      "2021-08-24 17:26:28.836 | INFO     | src.policies:train:134 - Mean metrics: {'efficiency': 3.104071428571429, 'equality': 0.9634826540836183, 'sustainability': 516.9933562625139, 'peace': 6.655642857142856}\n",
      "2021-08-24 17:26:28.906 | INFO     | src.policies:train:88 - Epoch 57 / 100\n",
      "2021-08-24 17:26:28.907 | INFO     | src.policies:train:93 - Episode 57\n",
      "2021-08-24 17:27:00.098 | DEBUG    | src.policies:execute_episode:233 - Early stopping, all agents done\n",
      "2021-08-24 17:27:00.134 | INFO     | src.policies:train:96 - Social outcome metrics: {'efficiency': 3.135, 'equality': 0.9658982166164144, 'sustainability': 513.7752272381259, 'peace': 6.659}\n",
      "2021-08-24 17:27:00.135 | WARNING  | src.policies:train:105 - The actual batch size is 11000, instead of 4000\n",
      "2021-08-24 17:27:12.260 | INFO     | src.policies:train:130 - Total loss: 40.84994888305664\n",
      "2021-08-24 17:27:12.261 | INFO     | src.policies:train:134 - Mean metrics: {'efficiency': 3.104614035087719, 'equality': 0.9635250323736674, 'sustainability': 516.9368978585773, 'peace': 6.655701754385963}\n",
      "2021-08-24 17:27:12.322 | INFO     | src.policies:train:88 - Epoch 58 / 100\n",
      "2021-08-24 17:27:12.323 | INFO     | src.policies:train:93 - Episode 58\n",
      "2021-08-24 17:27:40.425 | DEBUG    | src.policies:execute_episode:233 - Early stopping, all agents done\n",
      "2021-08-24 17:27:40.459 | INFO     | src.policies:train:96 - Social outcome metrics: {'efficiency': 3.121, 'equality': 0.964521860709497, 'sustainability': 507.5395835254944, 'peace': 7.143}\n",
      "2021-08-24 17:27:40.460 | WARNING  | src.policies:train:105 - The actual batch size is 11000, instead of 4000\n",
      "2021-08-24 17:27:52.546 | INFO     | src.policies:train:130 - Total loss: 38.79499816894531\n",
      "2021-08-24 17:27:52.547 | INFO     | src.policies:train:134 - Mean metrics: {'efficiency': 3.104896551724138, 'equality': 0.9635422190691127, 'sustainability': 516.774875197662, 'peace': 6.66410344827586}\n"
     ]
    },
    {
     "name": "stderr",
     "output_type": "stream",
     "text": [
      "2021-08-24 17:27:52.607 | INFO     | src.policies:train:88 - Epoch 59 / 100\n",
      "2021-08-24 17:27:52.608 | INFO     | src.policies:train:93 - Episode 59\n",
      "2021-08-24 17:28:20.655 | DEBUG    | src.policies:execute_episode:233 - Early stopping, all agents done\n",
      "2021-08-24 17:28:20.692 | INFO     | src.policies:train:96 - Social outcome metrics: {'efficiency': 2.964, 'equality': 0.9327689854015954, 'sustainability': 539.8366575568044, 'peace': 6.107}\n",
      "2021-08-24 17:28:20.693 | WARNING  | src.policies:train:105 - The actual batch size is 11000, instead of 4000\n",
      "2021-08-24 17:28:32.956 | INFO     | src.policies:train:130 - Total loss: 26.540498733520508\n",
      "2021-08-24 17:28:32.957 | INFO     | src.policies:train:134 - Mean metrics: {'efficiency': 3.1025084745762714, 'equality': 0.9630206388374599, 'sustainability': 517.1657528647661, 'peace': 6.6546610169491505}\n",
      "2021-08-24 17:28:33.020 | INFO     | src.policies:train:88 - Epoch 60 / 100\n",
      "2021-08-24 17:28:33.021 | INFO     | src.policies:train:93 - Episode 60\n",
      "2021-08-24 17:29:03.000 | DEBUG    | src.policies:execute_episode:233 - Early stopping, all agents done\n",
      "2021-08-24 17:29:03.042 | INFO     | src.policies:train:96 - Social outcome metrics: {'efficiency': 3.167, 'equality': 0.9580331257002894, 'sustainability': 523.5952531861776, 'peace': 6.155}\n",
      "2021-08-24 17:29:03.043 | WARNING  | src.policies:train:105 - The actual batch size is 11000, instead of 4000\n",
      "2021-08-24 17:29:16.745 | INFO     | src.policies:train:130 - Total loss: 37.633304595947266\n",
      "2021-08-24 17:29:16.746 | INFO     | src.policies:train:134 - Mean metrics: {'efficiency': 3.1035833333333334, 'equality': 0.9629375136185071, 'sustainability': 517.2729112034563, 'peace': 6.646333333333331}\n",
      "2021-08-24 17:29:16.815 | INFO     | src.policies:train:88 - Epoch 61 / 100\n",
      "2021-08-24 17:29:16.816 | INFO     | src.policies:train:93 - Episode 61\n",
      "2021-08-24 17:29:47.436 | DEBUG    | src.policies:execute_episode:233 - Early stopping, all agents done\n",
      "2021-08-24 17:29:47.481 | INFO     | src.policies:train:96 - Social outcome metrics: {'efficiency': 3.134, 'equality': 0.9671056448342649, 'sustainability': 508.689493454985, 'peace': 6.944}\n",
      "2021-08-24 17:29:47.482 | WARNING  | src.policies:train:105 - The actual batch size is 11000, instead of 4000\n",
      "2021-08-24 17:30:00.611 | INFO     | src.policies:train:130 - Total loss: 39.19291687011719\n",
      "2021-08-24 17:30:00.612 | INFO     | src.policies:train:134 - Mean metrics: {'efficiency': 3.104081967213115, 'equality': 0.9630058436384374, 'sustainability': 517.1321994370879, 'peace': 6.651213114754096}\n",
      "2021-08-24 17:30:00.675 | INFO     | src.policies:train:88 - Epoch 62 / 100\n",
      "2021-08-24 17:30:00.676 | INFO     | src.policies:train:93 - Episode 62\n",
      "2021-08-24 17:30:30.503 | DEBUG    | src.policies:execute_episode:233 - Early stopping, all agents done\n",
      "2021-08-24 17:30:30.539 | INFO     | src.policies:train:96 - Social outcome metrics: {'efficiency': 3.002, 'equality': 0.9459754103333236, 'sustainability': 509.78902887468297, 'peace': 5.385}\n",
      "2021-08-24 17:30:30.540 | WARNING  | src.policies:train:105 - The actual batch size is 11000, instead of 4000\n",
      "2021-08-24 17:30:42.812 | INFO     | src.policies:train:130 - Total loss: 37.6650276184082\n",
      "2021-08-24 17:30:42.812 | INFO     | src.policies:train:134 - Mean metrics: {'efficiency': 3.1024354838709676, 'equality': 0.9627311592302905, 'sustainability': 517.0137612022104, 'peace': 6.630790322580643}\n",
      "2021-08-24 17:30:42.877 | INFO     | src.policies:train:88 - Epoch 63 / 100\n",
      "2021-08-24 17:30:42.879 | INFO     | src.policies:train:93 - Episode 63\n",
      "2021-08-24 17:31:10.893 | DEBUG    | src.policies:execute_episode:233 - Early stopping, all agents done\n",
      "2021-08-24 17:31:10.929 | INFO     | src.policies:train:96 - Social outcome metrics: {'efficiency': 3.205, 'equality': 0.9722025244650092, 'sustainability': 515.6968256260643, 'peace': 6.809}\n",
      "2021-08-24 17:31:10.930 | WARNING  | src.policies:train:105 - The actual batch size is 11000, instead of 4000\n",
      "2021-08-24 17:31:23.809 | INFO     | src.policies:train:130 - Total loss: 38.50743103027344\n",
      "2021-08-24 17:31:23.810 | INFO     | src.policies:train:134 - Mean metrics: {'efficiency': 3.104063492063492, 'equality': 0.9628814983610003, 'sustainability': 516.9928574629065, 'peace': 6.633619047619046}\n",
      "2021-08-24 17:31:23.890 | INFO     | src.policies:train:88 - Epoch 64 / 100\n",
      "2021-08-24 17:31:23.890 | INFO     | src.policies:train:93 - Episode 64\n",
      "2021-08-24 17:31:55.256 | DEBUG    | src.policies:execute_episode:233 - Early stopping, all agents done\n",
      "2021-08-24 17:31:55.297 | INFO     | src.policies:train:96 - Social outcome metrics: {'efficiency': 3.135, 'equality': 0.9616644918085883, 'sustainability': 517.773246696934, 'peace': 6.481}\n",
      "2021-08-24 17:31:55.298 | WARNING  | src.policies:train:105 - The actual batch size is 11000, instead of 4000\n",
      "2021-08-24 17:32:08.814 | INFO     | src.policies:train:130 - Total loss: 35.45237731933594\n",
      "2021-08-24 17:32:08.815 | INFO     | src.policies:train:134 - Mean metrics: {'efficiency': 3.104546875, 'equality': 0.962862482633619, 'sustainability': 517.0050510446881, 'peace': 6.631234374999998}\n",
      "2021-08-24 17:32:08.896 | INFO     | src.policies:train:88 - Epoch 65 / 100\n",
      "2021-08-24 17:32:08.897 | INFO     | src.policies:train:93 - Episode 65\n",
      "2021-08-24 17:32:42.376 | DEBUG    | src.policies:execute_episode:233 - Early stopping, all agents done\n",
      "2021-08-24 17:32:42.420 | INFO     | src.policies:train:96 - Social outcome metrics: {'efficiency': 2.932, 'equality': 0.9325933275466236, 'sustainability': 517.1457312076224, 'peace': 6.84}\n",
      "2021-08-24 17:32:42.421 | WARNING  | src.policies:train:105 - The actual batch size is 11000, instead of 4000\n",
      "2021-08-24 17:32:57.319 | INFO     | src.policies:train:130 - Total loss: 34.97298049926758\n",
      "2021-08-24 17:32:57.320 | INFO     | src.policies:train:134 - Mean metrics: {'efficiency': 3.1018923076923075, 'equality': 0.9623968033245883, 'sustainability': 517.0072153548871, 'peace': 6.634446153846151}\n",
      "2021-08-24 17:32:57.393 | INFO     | src.policies:train:88 - Epoch 66 / 100\n",
      "2021-08-24 17:32:57.394 | INFO     | src.policies:train:93 - Episode 66\n",
      "2021-08-24 17:33:32.386 | DEBUG    | src.policies:execute_episode:233 - Early stopping, all agents done\n",
      "2021-08-24 17:33:32.432 | INFO     | src.policies:train:96 - Social outcome metrics: {'efficiency': 3.032, 'equality': 0.9696569920848876, 'sustainability': 532.5088817977615, 'peace': 5.426}\n",
      "2021-08-24 17:33:32.433 | WARNING  | src.policies:train:105 - The actual batch size is 11000, instead of 4000\n",
      "2021-08-24 17:33:46.621 | INFO     | src.policies:train:130 - Total loss: 29.9023380279541\n",
      "2021-08-24 17:33:46.622 | INFO     | src.policies:train:134 - Mean metrics: {'efficiency': 3.1008333333333336, 'equality': 0.9625068061845928, 'sustainability': 517.24208908887, 'peace': 6.616136363636361}\n",
      "2021-08-24 17:33:46.688 | INFO     | src.policies:train:88 - Epoch 67 / 100\n",
      "2021-08-24 17:33:46.689 | INFO     | src.policies:train:93 - Episode 67\n",
      "2021-08-24 17:34:15.736 | DEBUG    | src.policies:execute_episode:233 - Early stopping, all agents done\n",
      "2021-08-24 17:34:15.775 | INFO     | src.policies:train:96 - Social outcome metrics: {'efficiency': 3.201, 'equality': 0.971372582432033, 'sustainability': 518.1499923738032, 'peace': 6.686}\n",
      "2021-08-24 17:34:15.776 | WARNING  | src.policies:train:105 - The actual batch size is 11000, instead of 4000\n",
      "2021-08-24 17:34:28.143 | INFO     | src.policies:train:130 - Total loss: 40.50767517089844\n",
      "2021-08-24 17:34:28.144 | INFO     | src.policies:train:134 - Mean metrics: {'efficiency': 3.1023283582089554, 'equality': 0.9626391312032113, 'sustainability': 517.2556398841675, 'peace': 6.61717910447761}\n",
      "2021-08-24 17:34:28.204 | INFO     | src.policies:train:88 - Epoch 68 / 100\n",
      "2021-08-24 17:34:28.205 | INFO     | src.policies:train:93 - Episode 68\n",
      "2021-08-24 17:34:55.641 | DEBUG    | src.policies:execute_episode:233 - Early stopping, all agents done\n",
      "2021-08-24 17:34:55.677 | INFO     | src.policies:train:96 - Social outcome metrics: {'efficiency': 3.213, 'equality': 0.9583510171751358, 'sustainability': 506.8254599927783, 'peace': 6.669}\n",
      "2021-08-24 17:34:55.678 | WARNING  | src.policies:train:105 - The actual batch size is 11000, instead of 4000\n"
     ]
    },
    {
     "name": "stderr",
     "output_type": "stream",
     "text": [
      "2021-08-24 17:35:07.818 | INFO     | src.policies:train:130 - Total loss: 40.59775924682617\n",
      "2021-08-24 17:35:07.819 | INFO     | src.policies:train:134 - Mean metrics: {'efficiency': 3.103955882352941, 'equality': 0.9625760707027984, 'sustainability': 517.1022548857646, 'peace': 6.617941176470586}\n",
      "2021-08-24 17:35:07.881 | INFO     | src.policies:train:88 - Epoch 69 / 100\n",
      "2021-08-24 17:35:07.882 | INFO     | src.policies:train:93 - Episode 69\n",
      "2021-08-24 17:35:36.214 | DEBUG    | src.policies:execute_episode:233 - Early stopping, all agents done\n",
      "2021-08-24 17:35:36.252 | INFO     | src.policies:train:96 - Social outcome metrics: {'efficiency': 3.1, 'equality': 0.9513196480945554, 'sustainability': 513.1273309987475, 'peace': 6.093}\n",
      "2021-08-24 17:35:36.253 | WARNING  | src.policies:train:105 - The actual batch size is 11000, instead of 4000\n",
      "2021-08-24 17:35:49.171 | INFO     | src.policies:train:130 - Total loss: 37.40778350830078\n",
      "2021-08-24 17:35:49.172 | INFO     | src.policies:train:134 - Mean metrics: {'efficiency': 3.1038985507246375, 'equality': 0.9624129341432586, 'sustainability': 517.0446472931992, 'peace': 6.6103333333333305}\n",
      "2021-08-24 17:35:49.237 | INFO     | src.policies:train:88 - Epoch 70 / 100\n",
      "2021-08-24 17:35:49.238 | INFO     | src.policies:train:93 - Episode 70\n",
      "2021-08-24 17:36:19.514 | DEBUG    | src.policies:execute_episode:233 - Early stopping, all agents done\n",
      "2021-08-24 17:36:19.552 | INFO     | src.policies:train:96 - Social outcome metrics: {'efficiency': 3.169, 'equality': 0.9703376459455185, 'sustainability': 512.7712341756164, 'peace': 6.179}\n",
      "2021-08-24 17:36:19.553 | WARNING  | src.policies:train:105 - The actual batch size is 11000, instead of 4000\n",
      "2021-08-24 17:36:32.017 | INFO     | src.policies:train:130 - Total loss: 38.20066452026367\n",
      "2021-08-24 17:36:32.018 | INFO     | src.policies:train:134 - Mean metrics: {'efficiency': 3.1048285714285715, 'equality': 0.9625261443118623, 'sustainability': 516.9835985343766, 'peace': 6.6041714285714255}\n",
      "2021-08-24 17:36:32.079 | INFO     | src.policies:train:88 - Epoch 71 / 100\n",
      "2021-08-24 17:36:32.080 | INFO     | src.policies:train:93 - Episode 71\n",
      "2021-08-24 17:37:00.247 | DEBUG    | src.policies:execute_episode:233 - Early stopping, all agents done\n",
      "2021-08-24 17:37:00.290 | INFO     | src.policies:train:96 - Social outcome metrics: {'efficiency': 3.325, 'equality': 0.9628161312376922, 'sustainability': 507.33364899659233, 'peace': 7.062}\n",
      "2021-08-24 17:37:00.291 | WARNING  | src.policies:train:105 - The actual batch size is 11000, instead of 4000\n",
      "2021-08-24 17:37:13.257 | INFO     | src.policies:train:130 - Total loss: 44.9306640625\n",
      "2021-08-24 17:37:13.257 | INFO     | src.policies:train:134 - Mean metrics: {'efficiency': 3.1079295774647884, 'equality': 0.9625302286347613, 'sustainability': 516.8476837521544, 'peace': 6.610619718309857}\n",
      "2021-08-24 17:37:13.325 | INFO     | src.policies:train:88 - Epoch 72 / 100\n",
      "2021-08-24 17:37:13.326 | INFO     | src.policies:train:93 - Episode 72\n",
      "2021-08-24 17:37:44.081 | DEBUG    | src.policies:execute_episode:233 - Early stopping, all agents done\n",
      "2021-08-24 17:37:44.119 | INFO     | src.policies:train:96 - Social outcome metrics: {'efficiency': 3.162, 'equality': 0.9585992754879161, 'sustainability': 515.4388452446263, 'peace': 7.083}\n",
      "2021-08-24 17:37:44.120 | WARNING  | src.policies:train:105 - The actual batch size is 11000, instead of 4000\n",
      "2021-08-24 17:37:57.287 | INFO     | src.policies:train:130 - Total loss: 36.79059600830078\n",
      "2021-08-24 17:37:57.288 | INFO     | src.policies:train:134 - Mean metrics: {'efficiency': 3.1086805555555554, 'equality': 0.9624756320632772, 'sustainability': 516.828116550661, 'peace': 6.617180555555553}\n",
      "2021-08-24 17:37:57.353 | INFO     | src.policies:train:88 - Epoch 73 / 100\n",
      "2021-08-24 17:37:57.354 | INFO     | src.policies:train:93 - Episode 73\n",
      "2021-08-24 17:38:28.250 | DEBUG    | src.policies:execute_episode:233 - Early stopping, all agents done\n",
      "2021-08-24 17:38:28.286 | INFO     | src.policies:train:96 - Social outcome metrics: {'efficiency': 3.005, 'equality': 0.955649674785121, 'sustainability': 523.9959984090038, 'peace': 6.97}\n",
      "2021-08-24 17:38:28.287 | WARNING  | src.policies:train:105 - The actual batch size is 11000, instead of 4000\n",
      "2021-08-24 17:38:41.414 | INFO     | src.policies:train:130 - Total loss: 31.029340744018555\n",
      "2021-08-24 17:38:41.415 | INFO     | src.policies:train:134 - Mean metrics: {'efficiency': 3.1072602739726025, 'equality': 0.9623821257991929, 'sustainability': 516.9263067131039, 'peace': 6.622013698630135}\n",
      "2021-08-24 17:38:41.482 | INFO     | src.policies:train:88 - Epoch 74 / 100\n",
      "2021-08-24 17:38:41.483 | INFO     | src.policies:train:93 - Episode 74\n",
      "2021-08-24 17:39:13.656 | DEBUG    | src.policies:execute_episode:233 - Early stopping, all agents done\n",
      "2021-08-24 17:39:13.698 | INFO     | src.policies:train:96 - Social outcome metrics: {'efficiency': 3.075, 'equality': 0.9469031781234751, 'sustainability': 520.1959916511595, 'peace': 6.424}\n",
      "2021-08-24 17:39:13.699 | WARNING  | src.policies:train:105 - The actual batch size is 11000, instead of 4000\n",
      "2021-08-24 17:39:27.687 | INFO     | src.policies:train:130 - Total loss: 35.40625762939453\n",
      "2021-08-24 17:39:27.687 | INFO     | src.policies:train:134 - Mean metrics: {'efficiency': 3.106824324324324, 'equality': 0.9621729508306022, 'sustainability': 516.9704916446993, 'peace': 6.619337837837835}\n",
      "2021-08-24 17:39:27.754 | INFO     | src.policies:train:88 - Epoch 75 / 100\n",
      "2021-08-24 17:39:27.755 | INFO     | src.policies:train:93 - Episode 75\n",
      "2021-08-24 17:39:56.351 | DEBUG    | src.policies:execute_episode:233 - Early stopping, all agents done\n",
      "2021-08-24 17:39:56.387 | INFO     | src.policies:train:96 - Social outcome metrics: {'efficiency': 2.994, 'equality': 0.9491710694123221, 'sustainability': 513.3986958985511, 'peace': 5.356}\n",
      "2021-08-24 17:39:56.387 | WARNING  | src.policies:train:105 - The actual batch size is 11000, instead of 4000\n",
      "2021-08-24 17:40:08.853 | INFO     | src.policies:train:130 - Total loss: 34.6859016418457\n",
      "2021-08-24 17:40:08.854 | INFO     | src.policies:train:134 - Mean metrics: {'efficiency': 3.1053199999999994, 'equality': 0.9619995924116918, 'sustainability': 516.9228677014173, 'peace': 6.6024933333333315}\n",
      "2021-08-24 17:40:08.913 | INFO     | src.policies:train:88 - Epoch 76 / 100\n",
      "2021-08-24 17:40:08.914 | INFO     | src.policies:train:93 - Episode 76\n",
      "2021-08-24 17:40:37.594 | DEBUG    | src.policies:execute_episode:233 - Early stopping, all agents done\n",
      "2021-08-24 17:40:37.632 | INFO     | src.policies:train:96 - Social outcome metrics: {'efficiency': 3.063, 'equality': 0.969904727985488, 'sustainability': 514.1288875379522, 'peace': 6.644}\n",
      "2021-08-24 17:40:37.633 | WARNING  | src.policies:train:105 - The actual batch size is 11000, instead of 4000\n",
      "2021-08-24 17:40:49.940 | INFO     | src.policies:train:130 - Total loss: 36.563819885253906\n",
      "2021-08-24 17:40:49.941 | INFO     | src.policies:train:134 - Mean metrics: {'efficiency': 3.104763157894736, 'equality': 0.9621036073534522, 'sustainability': 516.8861048045296, 'peace': 6.603039473684208}\n",
      "2021-08-24 17:40:50.002 | INFO     | src.policies:train:147 - Saving model checkpoints to ./checkpoints\n",
      "2021-08-24 17:40:50.005 | INFO     | src.policies:train:88 - Epoch 77 / 100\n",
      "2021-08-24 17:40:50.006 | INFO     | src.policies:train:93 - Episode 77\n",
      "2021-08-24 17:41:20.089 | DEBUG    | src.policies:execute_episode:233 - Early stopping, all agents done\n",
      "2021-08-24 17:41:20.135 | INFO     | src.policies:train:96 - Social outcome metrics: {'efficiency': 3.077, 'equality': 0.9491830886053537, 'sustainability': 516.2551117514944, 'peace': 5.844}\n",
      "2021-08-24 17:41:20.136 | WARNING  | src.policies:train:105 - The actual batch size is 11000, instead of 4000\n",
      "2021-08-24 17:41:33.112 | INFO     | src.policies:train:130 - Total loss: 36.173397064208984\n",
      "2021-08-24 17:41:33.113 | INFO     | src.policies:train:134 - Mean metrics: {'efficiency': 3.104402597402597, 'equality': 0.9619358084086718, 'sustainability': 516.8779100895551, 'peace': 6.593181818181816}\n",
      "2021-08-24 17:41:33.176 | INFO     | src.policies:train:88 - Epoch 78 / 100\n",
      "2021-08-24 17:41:33.177 | INFO     | src.policies:train:93 - Episode 78\n"
     ]
    },
    {
     "name": "stderr",
     "output_type": "stream",
     "text": [
      "2021-08-24 17:42:03.341 | DEBUG    | src.policies:execute_episode:233 - Early stopping, all agents done\n",
      "2021-08-24 17:42:03.381 | INFO     | src.policies:train:96 - Social outcome metrics: {'efficiency': 3.264, 'equality': 0.963235294118159, 'sustainability': 515.6596897422254, 'peace': 6.42}\n",
      "2021-08-24 17:42:03.382 | WARNING  | src.policies:train:105 - The actual batch size is 11000, instead of 4000\n",
      "2021-08-24 17:42:16.325 | INFO     | src.policies:train:130 - Total loss: 41.02494430541992\n",
      "2021-08-24 17:42:16.326 | INFO     | src.policies:train:134 - Mean metrics: {'efficiency': 3.1064487179487177, 'equality': 0.9619524684818703, 'sustainability': 516.862291879974, 'peace': 6.590961538461536}\n",
      "2021-08-24 17:42:16.390 | INFO     | src.policies:train:88 - Epoch 79 / 100\n",
      "2021-08-24 17:42:16.391 | INFO     | src.policies:train:93 - Episode 79\n",
      "2021-08-24 17:42:45.405 | DEBUG    | src.policies:execute_episode:233 - Early stopping, all agents done\n",
      "2021-08-24 17:42:45.445 | INFO     | src.policies:train:96 - Social outcome metrics: {'efficiency': 3.052, 'equality': 0.9557964970815591, 'sustainability': 505.0078030948474, 'peace': 6.337}\n",
      "2021-08-24 17:42:45.446 | WARNING  | src.policies:train:105 - The actual batch size is 11000, instead of 4000\n",
      "2021-08-24 17:42:58.035 | INFO     | src.policies:train:130 - Total loss: 39.32328414916992\n",
      "2021-08-24 17:42:58.036 | INFO     | src.policies:train:134 - Mean metrics: {'efficiency': 3.1057594936708854, 'equality': 0.961874544793259, 'sustainability': 516.7122350599092, 'peace': 6.587746835443036}\n",
      "2021-08-24 17:42:58.098 | INFO     | src.policies:train:88 - Epoch 80 / 100\n",
      "2021-08-24 17:42:58.099 | INFO     | src.policies:train:93 - Episode 80\n",
      "2021-08-24 17:43:26.742 | DEBUG    | src.policies:execute_episode:233 - Early stopping, all agents done\n",
      "2021-08-24 17:43:26.777 | INFO     | src.policies:train:96 - Social outcome metrics: {'efficiency': 3.146, 'equality': 0.9552100791776684, 'sustainability': 511.03268964756097, 'peace': 6.934}\n",
      "2021-08-24 17:43:26.778 | WARNING  | src.policies:train:105 - The actual batch size is 11000, instead of 4000\n",
      "2021-08-24 17:43:39.264 | INFO     | src.policies:train:130 - Total loss: 39.495582580566406\n",
      "2021-08-24 17:43:39.265 | INFO     | src.policies:train:134 - Mean metrics: {'efficiency': 3.1062624999999993, 'equality': 0.9617912389730641, 'sustainability': 516.6412407422548, 'peace': 6.592074999999997}\n",
      "2021-08-24 17:43:39.327 | INFO     | src.policies:train:88 - Epoch 81 / 100\n",
      "2021-08-24 17:43:39.328 | INFO     | src.policies:train:93 - Episode 81\n",
      "2021-08-24 17:44:08.886 | DEBUG    | src.policies:execute_episode:233 - Early stopping, all agents done\n",
      "2021-08-24 17:44:08.926 | INFO     | src.policies:train:96 - Social outcome metrics: {'efficiency': 3.231, 'equality': 0.9625221575087571, 'sustainability': 511.4404238206589, 'peace': 6.841}\n",
      "2021-08-24 17:44:08.927 | WARNING  | src.policies:train:105 - The actual batch size is 11000, instead of 4000\n",
      "2021-08-24 17:44:21.896 | INFO     | src.policies:train:130 - Total loss: 40.837772369384766\n",
      "2021-08-24 17:44:21.896 | INFO     | src.policies:train:134 - Mean metrics: {'efficiency': 3.1078024691358017, 'equality': 0.96180026265869, 'sustainability': 516.5770331259388, 'peace': 6.595148148148145}\n",
      "2021-08-24 17:44:21.960 | INFO     | src.policies:train:88 - Epoch 82 / 100\n",
      "2021-08-24 17:44:21.961 | INFO     | src.policies:train:93 - Episode 82\n",
      "2021-08-24 17:44:52.831 | DEBUG    | src.policies:execute_episode:233 - Early stopping, all agents done\n",
      "2021-08-24 17:44:52.873 | INFO     | src.policies:train:96 - Social outcome metrics: {'efficiency': 3.121, 'equality': 0.9550260697335494, 'sustainability': 534.6523095833635, 'peace': 6.458}\n",
      "2021-08-24 17:44:52.874 | WARNING  | src.policies:train:105 - The actual batch size is 11000, instead of 4000\n",
      "2021-08-24 17:45:06.062 | INFO     | src.policies:train:130 - Total loss: 31.155065536499023\n",
      "2021-08-24 17:45:06.062 | INFO     | src.policies:train:134 - Mean metrics: {'efficiency': 3.107963414634146, 'equality': 0.9617176505498468, 'sustainability': 516.7974633266391, 'peace': 6.593475609756094}\n",
      "2021-08-24 17:45:06.129 | INFO     | src.policies:train:88 - Epoch 83 / 100\n",
      "2021-08-24 17:45:06.129 | INFO     | src.policies:train:93 - Episode 83\n",
      "2021-08-24 17:45:38.680 | DEBUG    | src.policies:execute_episode:233 - Early stopping, all agents done\n",
      "2021-08-24 17:45:38.726 | INFO     | src.policies:train:96 - Social outcome metrics: {'efficiency': 3.158, 'equality': 0.9555529967189309, 'sustainability': 513.0170677598164, 'peace': 6.758}\n",
      "2021-08-24 17:45:38.727 | WARNING  | src.policies:train:105 - The actual batch size is 11000, instead of 4000\n",
      "2021-08-24 17:45:52.868 | INFO     | src.policies:train:130 - Total loss: 38.34267044067383\n",
      "2021-08-24 17:45:52.869 | INFO     | src.policies:train:134 - Mean metrics: {'efficiency': 3.1085662650602406, 'equality': 0.9616433776121249, 'sustainability': 516.751916392099, 'peace': 6.595457831325298}\n",
      "2021-08-24 17:45:52.936 | INFO     | src.policies:train:88 - Epoch 84 / 100\n",
      "2021-08-24 17:45:52.937 | INFO     | src.policies:train:93 - Episode 84\n",
      "2021-08-24 17:46:23.667 | DEBUG    | src.policies:execute_episode:233 - Early stopping, all agents done\n",
      "2021-08-24 17:46:23.707 | INFO     | src.policies:train:96 - Social outcome metrics: {'efficiency': 3.098, 'equality': 0.966664710370816, 'sustainability': 523.3817573969953, 'peace': 6.227}\n",
      "2021-08-24 17:46:23.708 | WARNING  | src.policies:train:105 - The actual batch size is 11000, instead of 4000\n",
      "2021-08-24 17:46:36.778 | INFO     | src.policies:train:130 - Total loss: 33.56370162963867\n",
      "2021-08-24 17:46:36.779 | INFO     | src.policies:train:134 - Mean metrics: {'efficiency': 3.108440476190476, 'equality': 0.9617031553830618, 'sustainability': 516.8308430707287, 'peace': 6.591071428571426}\n",
      "2021-08-24 17:46:36.838 | INFO     | src.policies:train:88 - Epoch 85 / 100\n",
      "2021-08-24 17:46:36.839 | INFO     | src.policies:train:93 - Episode 85\n",
      "2021-08-24 17:47:04.754 | DEBUG    | src.policies:execute_episode:233 - Early stopping, all agents done\n",
      "2021-08-24 17:47:04.790 | INFO     | src.policies:train:96 - Social outcome metrics: {'efficiency': 3.205, 'equality': 0.9570557367755346, 'sustainability': 499.5263470554974, 'peace': 7.164}\n",
      "2021-08-24 17:47:04.790 | WARNING  | src.policies:train:105 - The actual batch size is 11000, instead of 4000\n",
      "2021-08-24 17:47:17.228 | INFO     | src.policies:train:130 - Total loss: 47.782470703125\n",
      "2021-08-24 17:47:17.229 | INFO     | src.policies:train:134 - Mean metrics: {'efficiency': 3.1095764705882347, 'equality': 0.961648479870032, 'sustainability': 516.6272607646672, 'peace': 6.597811764705879}\n",
      "2021-08-24 17:47:17.287 | INFO     | src.policies:train:88 - Epoch 86 / 100\n",
      "2021-08-24 17:47:17.288 | INFO     | src.policies:train:93 - Episode 86\n",
      "2021-08-24 17:47:45.496 | DEBUG    | src.policies:execute_episode:233 - Early stopping, all agents done\n",
      "2021-08-24 17:47:45.537 | INFO     | src.policies:train:96 - Social outcome metrics: {'efficiency': 3.138, 'equality': 0.9594993916223492, 'sustainability': 517.2169813399631, 'peace': 5.942}\n",
      "2021-08-24 17:47:45.537 | WARNING  | src.policies:train:105 - The actual batch size is 11000, instead of 4000\n",
      "2021-08-24 17:47:58.889 | INFO     | src.policies:train:130 - Total loss: 36.344871520996094\n",
      "2021-08-24 17:47:58.889 | INFO     | src.policies:train:134 - Mean metrics: {'efficiency': 3.109906976744185, 'equality': 0.9616234904718031, 'sustainability': 516.634117980659, 'peace': 6.590186046511625}\n",
      "2021-08-24 17:47:58.953 | INFO     | src.policies:train:88 - Epoch 87 / 100\n",
      "2021-08-24 17:47:58.953 | INFO     | src.policies:train:93 - Episode 87\n",
      "2021-08-24 17:48:32.192 | DEBUG    | src.policies:execute_episode:233 - Early stopping, all agents done\n",
      "2021-08-24 17:48:32.235 | INFO     | src.policies:train:96 - Social outcome metrics: {'efficiency': 2.937, 'equality': 0.9704707958032243, 'sustainability': 515.9986509508702, 'peace': 5.612}\n",
      "2021-08-24 17:48:32.236 | WARNING  | src.policies:train:105 - The actual batch size is 11000, instead of 4000\n",
      "2021-08-24 17:48:45.875 | INFO     | src.policies:train:130 - Total loss: 30.827701568603516\n",
      "2021-08-24 17:48:45.876 | INFO     | src.policies:train:134 - Mean metrics: {'efficiency': 3.1079195402298847, 'equality': 0.961725183636532, 'sustainability': 516.6268137619257, 'peace': 6.578942528735629}\n"
     ]
    },
    {
     "name": "stderr",
     "output_type": "stream",
     "text": [
      "2021-08-24 17:48:45.937 | INFO     | src.policies:train:88 - Epoch 88 / 100\n",
      "2021-08-24 17:48:45.938 | INFO     | src.policies:train:93 - Episode 88\n",
      "2021-08-24 17:49:16.529 | DEBUG    | src.policies:execute_episode:233 - Early stopping, all agents done\n",
      "2021-08-24 17:49:16.570 | INFO     | src.policies:train:96 - Social outcome metrics: {'efficiency': 3.195, 'equality': 0.9528240147965169, 'sustainability': 515.4457150207043, 'peace': 6.36}\n",
      "2021-08-24 17:49:16.571 | WARNING  | src.policies:train:105 - The actual batch size is 11000, instead of 4000\n",
      "2021-08-24 17:49:29.597 | INFO     | src.policies:train:130 - Total loss: 36.37447738647461\n",
      "2021-08-24 17:49:29.598 | INFO     | src.policies:train:134 - Mean metrics: {'efficiency': 3.10890909090909, 'equality': 0.9616240339906228, 'sustainability': 516.6133921853209, 'peace': 6.576454545454542}\n",
      "2021-08-24 17:49:29.657 | INFO     | src.policies:train:88 - Epoch 89 / 100\n",
      "2021-08-24 17:49:29.657 | INFO     | src.policies:train:93 - Episode 89\n",
      "2021-08-24 17:49:59.530 | DEBUG    | src.policies:execute_episode:233 - Early stopping, all agents done\n",
      "2021-08-24 17:49:59.566 | INFO     | src.policies:train:96 - Social outcome metrics: {'efficiency': 3.349, 'equality': 0.9674258258914815, 'sustainability': 521.5834799442991, 'peace': 7.57}\n",
      "2021-08-24 17:49:59.567 | WARNING  | src.policies:train:105 - The actual batch size is 11000, instead of 4000\n",
      "2021-08-24 17:50:12.539 | INFO     | src.policies:train:130 - Total loss: 38.46778869628906\n",
      "2021-08-24 17:50:12.540 | INFO     | src.policies:train:134 - Mean metrics: {'efficiency': 3.111606741573033, 'equality': 0.9616892226636662, 'sustainability': 516.669235868006, 'peace': 6.587617977528088}\n",
      "2021-08-24 17:50:12.599 | INFO     | src.policies:train:88 - Epoch 90 / 100\n",
      "2021-08-24 17:50:12.600 | INFO     | src.policies:train:93 - Episode 90\n",
      "2021-08-24 17:50:43.189 | DEBUG    | src.policies:execute_episode:233 - Early stopping, all agents done\n",
      "2021-08-24 17:50:43.233 | INFO     | src.policies:train:96 - Social outcome metrics: {'efficiency': 3.068, 'equality': 0.9736873296199229, 'sustainability': 523.13834590171, 'peace': 5.626}\n",
      "2021-08-24 17:50:43.234 | WARNING  | src.policies:train:105 - The actual batch size is 11000, instead of 4000\n",
      "2021-08-24 17:50:56.786 | INFO     | src.policies:train:130 - Total loss: 30.885374069213867\n",
      "2021-08-24 17:50:56.787 | INFO     | src.policies:train:134 - Mean metrics: {'efficiency': 3.1111222222222215, 'equality': 0.9618225349631802, 'sustainability': 516.7411148683805, 'peace': 6.57693333333333}\n",
      "2021-08-24 17:50:56.852 | INFO     | src.policies:train:88 - Epoch 91 / 100\n",
      "2021-08-24 17:50:56.853 | INFO     | src.policies:train:93 - Episode 91\n",
      "2021-08-24 17:51:28.168 | DEBUG    | src.policies:execute_episode:233 - Early stopping, all agents done\n",
      "2021-08-24 17:51:28.208 | INFO     | src.policies:train:96 - Social outcome metrics: {'efficiency': 3.208, 'equality': 0.9733620494222772, 'sustainability': 508.7342952199567, 'peace': 7.211}\n",
      "2021-08-24 17:51:28.209 | WARNING  | src.policies:train:105 - The actual batch size is 11000, instead of 4000\n",
      "2021-08-24 17:51:41.702 | INFO     | src.policies:train:130 - Total loss: 40.6559944152832\n",
      "2021-08-24 17:51:41.703 | INFO     | src.policies:train:134 - Mean metrics: {'efficiency': 3.1121868131868125, 'equality': 0.961949342814379, 'sustainability': 516.6531278392769, 'peace': 6.583901098901096}\n",
      "2021-08-24 17:51:41.763 | INFO     | src.policies:train:88 - Epoch 92 / 100\n",
      "2021-08-24 17:51:41.764 | INFO     | src.policies:train:93 - Episode 92\n",
      "2021-08-24 17:52:15.456 | DEBUG    | src.policies:execute_episode:233 - Early stopping, all agents done\n",
      "2021-08-24 17:52:15.499 | INFO     | src.policies:train:96 - Social outcome metrics: {'efficiency': 3.182, 'equality': 0.9733729501175166, 'sustainability': 524.0405505965872, 'peace': 7.196}\n",
      "2021-08-24 17:52:15.500 | WARNING  | src.policies:train:105 - The actual batch size is 11000, instead of 4000\n",
      "2021-08-24 17:52:29.584 | INFO     | src.policies:train:130 - Total loss: 36.66238021850586\n",
      "2021-08-24 17:52:29.585 | INFO     | src.policies:train:134 - Mean metrics: {'efficiency': 3.1129456521739125, 'equality': 0.9620735124589784, 'sustainability': 516.7334259127259, 'peace': 6.590554347826084}\n",
      "2021-08-24 17:52:29.648 | INFO     | src.policies:train:88 - Epoch 93 / 100\n",
      "2021-08-24 17:52:29.649 | INFO     | src.policies:train:93 - Episode 93\n",
      "2021-08-24 17:53:01.123 | DEBUG    | src.policies:execute_episode:233 - Early stopping, all agents done\n",
      "2021-08-24 17:53:01.161 | INFO     | src.policies:train:96 - Social outcome metrics: {'efficiency': 3.239, 'equality': 0.9683965309162705, 'sustainability': 518.1464693845566, 'peace': 6.597}\n",
      "2021-08-24 17:53:01.162 | WARNING  | src.policies:train:105 - The actual batch size is 11000, instead of 4000\n",
      "2021-08-24 17:53:14.041 | INFO     | src.policies:train:130 - Total loss: 40.870262145996094\n",
      "2021-08-24 17:53:14.042 | INFO     | src.policies:train:134 - Mean metrics: {'efficiency': 3.1143010752688167, 'equality': 0.9621415019047557, 'sustainability': 516.7486199285521, 'peace': 6.590623655913976}\n",
      "2021-08-24 17:53:14.101 | INFO     | src.policies:train:88 - Epoch 94 / 100\n",
      "2021-08-24 17:53:14.101 | INFO     | src.policies:train:93 - Episode 94\n",
      "2021-08-24 17:53:44.319 | DEBUG    | src.policies:execute_episode:233 - Early stopping, all agents done\n",
      "2021-08-24 17:53:44.361 | INFO     | src.policies:train:96 - Social outcome metrics: {'efficiency': 3.043, 'equality': 0.959728736594274, 'sustainability': 505.4305091482695, 'peace': 7.116}\n",
      "2021-08-24 17:53:44.362 | WARNING  | src.policies:train:105 - The actual batch size is 11000, instead of 4000\n",
      "2021-08-24 17:53:57.290 | INFO     | src.policies:train:130 - Total loss: 38.2472038269043\n",
      "2021-08-24 17:53:57.290 | INFO     | src.policies:train:134 - Mean metrics: {'efficiency': 3.113542553191489, 'equality': 0.9621158341886867, 'sustainability': 516.6282144947193, 'peace': 6.5962127659574445}\n",
      "2021-08-24 17:53:57.349 | INFO     | src.policies:train:88 - Epoch 95 / 100\n",
      "2021-08-24 17:53:57.350 | INFO     | src.policies:train:93 - Episode 95\n",
      "2021-08-24 17:54:27.131 | DEBUG    | src.policies:execute_episode:233 - Early stopping, all agents done\n",
      "2021-08-24 17:54:27.172 | INFO     | src.policies:train:96 - Social outcome metrics: {'efficiency': 3.196, 'equality': 0.9674593241556568, 'sustainability': 510.87199968720546, 'peace': 6.814}\n",
      "2021-08-24 17:54:27.173 | WARNING  | src.policies:train:105 - The actual batch size is 11000, instead of 4000\n",
      "2021-08-24 17:54:40.228 | INFO     | src.policies:train:130 - Total loss: 39.43500518798828\n",
      "2021-08-24 17:54:40.228 | INFO     | src.policies:train:134 - Mean metrics: {'efficiency': 3.114410526315789, 'equality': 0.9621720814514969, 'sustainability': 516.5676227599033, 'peace': 6.598505263157892}\n",
      "2021-08-24 17:54:40.286 | INFO     | src.policies:train:88 - Epoch 96 / 100\n",
      "2021-08-24 17:54:40.287 | INFO     | src.policies:train:93 - Episode 96\n",
      "2021-08-24 17:55:09.389 | DEBUG    | src.policies:execute_episode:233 - Early stopping, all agents done\n",
      "2021-08-24 17:55:09.427 | INFO     | src.policies:train:96 - Social outcome metrics: {'efficiency': 3.282, 'equality': 0.9743504514988872, 'sustainability': 514.1076354669041, 'peace': 7.332}\n",
      "2021-08-24 17:55:09.428 | WARNING  | src.policies:train:105 - The actual batch size is 11000, instead of 4000\n",
      "2021-08-24 17:55:22.489 | INFO     | src.policies:train:130 - Total loss: 39.18852233886719\n",
      "2021-08-24 17:55:22.489 | INFO     | src.policies:train:134 - Mean metrics: {'efficiency': 3.1161562499999995, 'equality': 0.962298939472824, 'sustainability': 516.5419978922679, 'peace': 6.60614583333333}\n",
      "2021-08-24 17:55:22.549 | INFO     | src.policies:train:88 - Epoch 97 / 100\n",
      "2021-08-24 17:55:22.550 | INFO     | src.policies:train:93 - Episode 97\n",
      "2021-08-24 17:55:52.554 | DEBUG    | src.policies:execute_episode:233 - Early stopping, all agents done\n",
      "2021-08-24 17:55:52.595 | INFO     | src.policies:train:96 - Social outcome metrics: {'efficiency': 3.131, 'equality': 0.9431491536258653, 'sustainability': 506.3066603224734, 'peace': 6.089}\n",
      "2021-08-24 17:55:52.596 | WARNING  | src.policies:train:105 - The actual batch size is 11000, instead of 4000\n"
     ]
    },
    {
     "name": "stderr",
     "output_type": "stream",
     "text": [
      "2021-08-24 17:56:06.189 | INFO     | src.policies:train:130 - Total loss: 40.711814880371094\n",
      "2021-08-24 17:56:06.190 | INFO     | src.policies:train:134 - Mean metrics: {'efficiency': 3.116309278350515, 'equality': 0.9621015190001749, 'sustainability': 516.4364789482494, 'peace': 6.600814432989688}\n",
      "2021-08-24 17:56:06.255 | INFO     | src.policies:train:88 - Epoch 98 / 100\n",
      "2021-08-24 17:56:06.256 | INFO     | src.policies:train:93 - Episode 98\n",
      "2021-08-24 17:56:35.077 | DEBUG    | src.policies:execute_episode:233 - Early stopping, all agents done\n",
      "2021-08-24 17:56:35.116 | INFO     | src.policies:train:96 - Social outcome metrics: {'efficiency': 3.178, 'equality': 0.9699067452375721, 'sustainability': 508.14695361369644, 'peace': 6.129}\n",
      "2021-08-24 17:56:35.117 | WARNING  | src.policies:train:105 - The actual batch size is 11000, instead of 4000\n",
      "2021-08-24 17:56:48.134 | INFO     | src.policies:train:130 - Total loss: 41.70983123779297\n",
      "2021-08-24 17:56:48.134 | INFO     | src.policies:train:134 - Mean metrics: {'efficiency': 3.1169387755102034, 'equality': 0.9621811641658625, 'sustainability': 516.3518919550397, 'peace': 6.595999999999997}\n",
      "2021-08-24 17:56:48.196 | INFO     | src.policies:train:88 - Epoch 99 / 100\n",
      "2021-08-24 17:56:48.197 | INFO     | src.policies:train:93 - Episode 99\n",
      "2021-08-24 17:57:19.744 | DEBUG    | src.policies:execute_episode:233 - Early stopping, all agents done\n",
      "2021-08-24 17:57:19.785 | INFO     | src.policies:train:96 - Social outcome metrics: {'efficiency': 3.207, 'equality': 0.9745443206625486, 'sustainability': 517.8710678181105, 'peace': 6.835}\n",
      "2021-08-24 17:57:19.785 | WARNING  | src.policies:train:105 - The actual batch size is 11000, instead of 4000\n",
      "2021-08-24 17:57:32.690 | INFO     | src.policies:train:130 - Total loss: 34.1845588684082\n",
      "2021-08-24 17:57:32.691 | INFO     | src.policies:train:134 - Mean metrics: {'efficiency': 3.117848484848484, 'equality': 0.962306044534516, 'sustainability': 516.3672371657777, 'peace': 6.59841414141414}\n",
      "2021-08-24 17:57:32.751 | INFO     | src.policies:train:88 - Epoch 100 / 100\n",
      "2021-08-24 17:57:32.752 | INFO     | src.policies:train:93 - Episode 100\n",
      "2021-08-24 17:58:05.084 | DEBUG    | src.policies:execute_episode:233 - Early stopping, all agents done\n",
      "2021-08-24 17:58:05.141 | INFO     | src.policies:train:96 - Social outcome metrics: {'efficiency': 3.188, 'equality': 0.9617314930996673, 'sustainability': 504.99689728873005, 'peace': 6.993}\n",
      "2021-08-24 17:58:05.142 | WARNING  | src.policies:train:105 - The actual batch size is 11000, instead of 4000\n",
      "2021-08-24 17:58:20.579 | INFO     | src.policies:train:130 - Total loss: 39.78536605834961\n",
      "2021-08-24 17:58:20.580 | INFO     | src.policies:train:134 - Mean metrics: {'efficiency': 3.118549999999999, 'equality': 0.9623002990201673, 'sustainability': 516.2535337670073, 'peace': 6.602359999999999}\n"
     ]
    },
    {
     "data": {
      "text/html": [
       "<br/>Waiting for W&B process to finish, PID 80117<br/>Program ended successfully."
      ],
      "text/plain": [
       "<IPython.core.display.HTML object>"
      ]
     },
     "metadata": {},
     "output_type": "display_data"
    },
    {
     "data": {
      "application/vnd.jupyter.widget-view+json": {
       "model_id": "",
       "version_major": 2,
       "version_minor": 0
      },
      "text/plain": [
       "VBox(children=(Label(value=' 0.00MB of 0.00MB uploaded (0.00MB deduped)\\r'), FloatProgress(value=1.0, max=1.0)…"
      ]
     },
     "metadata": {},
     "output_type": "display_data"
    },
    {
     "data": {
      "text/html": [
       "Find user logs for this run at: <code>/Users/jobs/Github/cpr-appropriation/wandb/run-20210824_165320-9vl0nb3j/logs/debug.log</code>"
      ],
      "text/plain": [
       "<IPython.core.display.HTML object>"
      ]
     },
     "metadata": {},
     "output_type": "display_data"
    },
    {
     "data": {
      "text/html": [
       "Find internal logs for this run at: <code>/Users/jobs/Github/cpr-appropriation/wandb/run-20210824_165320-9vl0nb3j/logs/debug-internal.log</code>"
      ],
      "text/plain": [
       "<IPython.core.display.HTML object>"
      ]
     },
     "metadata": {},
     "output_type": "display_data"
    },
    {
     "data": {
      "text/html": [
       "<h3>Run summary:</h3><br/><style>\n",
       "    table.wandb td:nth-child(1) { padding: 0 10px; text-align: right }\n",
       "    </style><table class=\"wandb\">\n",
       "<tr><td>efficiency</td><td>3.11855</td></tr><tr><td>equality</td><td>0.9623</td></tr><tr><td>sustainability</td><td>516.25353</td></tr><tr><td>peace</td><td>6.60236</td></tr><tr><td>loss</td><td>39.78537</td></tr><tr><td>_runtime</td><td>3896</td></tr><tr><td>_timestamp</td><td>1629820700</td></tr><tr><td>_step</td><td>99</td></tr></table>"
      ],
      "text/plain": [
       "<IPython.core.display.HTML object>"
      ]
     },
     "metadata": {},
     "output_type": "display_data"
    },
    {
     "data": {
      "text/html": [
       "<h3>Run history:</h3><br/><style>\n",
       "    table.wandb td:nth-child(1) { padding: 0 10px; text-align: right }\n",
       "    </style><table class=\"wandb\">\n",
       "<tr><td>efficiency</td><td>▅▂▁▃▆▅▄▄▄▄▅▅▅▅▅▆▆▆▆▆▆▆▆▆▆▇▆▆▇▇▇▇▇▇▇▇▇▇██</td></tr><tr><td>equality</td><td>▄▂▁▂▅▃▄▄▅▅▅▆▇███▇▆▆▅▆▆▆▅▅▅▅▄▅▄▄▄▄▄▄▄▄▄▄▄</td></tr><tr><td>sustainability</td><td>▁▅▆██▇▇▇██▇▇▇▇▇▇▇▇▇▇▇▇▇▇▇▇▇▇▇▇▇▇▇▇▇▇▇▇▇▆</td></tr><tr><td>peace</td><td>▁▅▆▅▇▅▃▄▆██▇█▇▇▆▆▆▆▅▆▅▅▅▅▄▄▄▄▄▃▃▃▃▃▃▃▃▃▄</td></tr><tr><td>loss</td><td>▆▆▄▄▄▃█▆▅▆▆▇▄▅▆▅▇▇▄▅▅▆█▁▇▅▇▆▆▅▅▇▃▄▃▆▆▆▇▇</td></tr><tr><td>_runtime</td><td>▁▁▁▁▂▂▂▂▂▂▂▃▃▃▃▃▃▄▄▄▄▄▅▅▅▅▅▆▆▆▆▆▇▇▇▇▇███</td></tr><tr><td>_timestamp</td><td>▁▁▁▁▂▂▂▂▂▂▂▃▃▃▃▃▃▄▄▄▄▄▅▅▅▅▅▆▆▆▆▆▇▇▇▇▇███</td></tr><tr><td>_step</td><td>▁▁▁▁▂▂▂▂▂▃▃▃▃▃▃▄▄▄▄▄▅▅▅▅▅▅▆▆▆▆▆▇▇▇▇▇▇███</td></tr></table><br/>"
      ],
      "text/plain": [
       "<IPython.core.display.HTML object>"
      ]
     },
     "metadata": {},
     "output_type": "display_data"
    },
    {
     "data": {
      "text/html": [
       "Synced 5 W&B file(s), 0 media file(s), 0 artifact file(s) and 0 other file(s)"
      ],
      "text/plain": [
       "<IPython.core.display.HTML object>"
      ]
     },
     "metadata": {},
     "output_type": "display_data"
    },
    {
     "data": {
      "text/html": [
       "\n",
       "                    <br/>Synced <strong style=\"color:#cdcd00\">lucky-sunset-21</strong>: <a href=\"https://wandb.ai/wadaboa/cpr-appropriation/runs/9vl0nb3j\" target=\"_blank\">https://wandb.ai/wadaboa/cpr-appropriation/runs/9vl0nb3j</a><br/>\n",
       "                "
      ],
      "text/plain": [
       "<IPython.core.display.HTML object>"
      ]
     },
     "metadata": {},
     "output_type": "display_data"
    }
   ],
   "source": [
    "from src import models, policies\n",
    "\n",
    "vpg_policy_nn = models.MLP(env.observation_space_size(), [32, 32], env.action_space_size())\n",
    "vpg_baseline_nn = models.MLP(env.observation_space_size(), [32, 32], 1, log_softmax=False)\n",
    "vpg_policy = policies.VPGPolicy(env, vpg_policy_nn, baseline_nn=vpg_baseline_nn)\n",
    "vpg_policy.train(\n",
    "    epochs,\n",
    "    save_every=save_every,\n",
    "    checkpoints_path=checkpoints_path, \n",
    "    wandb_config={**wandb_config, \"group\": \"VPG\"}\n",
    ")"
   ]
  },
  {
   "cell_type": "code",
   "execution_count": 30,
   "id": "11393e22",
   "metadata": {},
   "outputs": [],
   "source": [
    "import torch\n",
    "a=torch.rand((11000))\n",
    "b=torch.rand((11000))\n",
    "c=torch.rand((11000, 9))"
   ]
  },
  {
   "cell_type": "code",
   "execution_count": 39,
   "id": "26464eda",
   "metadata": {},
   "outputs": [
    {
     "data": {
      "text/plain": [
       "torch.Size([11000, 9])"
      ]
     },
     "execution_count": 39,
     "metadata": {},
     "output_type": "execute_result"
    }
   ],
   "source": [
    "(a - b).unsqueeze(-1).repeat(1, c.shape[-1]).shape"
   ]
  },
  {
   "cell_type": "code",
   "execution_count": null,
   "id": "d8240158",
   "metadata": {},
   "outputs": [],
   "source": [
    "torch.flatten()"
   ]
  }
 ],
 "metadata": {
  "kernelspec": {
   "display_name": "Python 3 (ipykernel)",
   "language": "python",
   "name": "python3"
  },
  "language_info": {
   "codemirror_mode": {
    "name": "ipython",
    "version": 3
   },
   "file_extension": ".py",
   "mimetype": "text/x-python",
   "name": "python",
   "nbconvert_exporter": "python",
   "pygments_lexer": "ipython3",
   "version": "3.9.5"
  }
 },
 "nbformat": 4,
 "nbformat_minor": 5
}
