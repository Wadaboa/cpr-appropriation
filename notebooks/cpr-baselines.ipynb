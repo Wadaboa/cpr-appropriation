{
 "cells": [
  {
   "cell_type": "markdown",
   "id": "5bcc75b5",
   "metadata": {},
   "source": [
    "# CPR appropriation baselines"
   ]
  },
  {
   "cell_type": "markdown",
   "id": "002c6cf0",
   "metadata": {},
   "source": [
    "This notebook contains actual Harvest trainings for the DQN baseline described in the original paper. The environment in use is a custom implementation of Harvest."
   ]
  },
  {
   "cell_type": "markdown",
   "id": "e249de4b",
   "metadata": {},
   "source": [
    "## Pre-requisites"
   ]
  },
  {
   "cell_type": "markdown",
   "id": "fc303d0f",
   "metadata": {},
   "source": [
    "The cells down below install and import the necessary libraries to successfully run the notebook examples."
   ]
  },
  {
   "cell_type": "code",
   "execution_count": null,
   "id": "86f1248e",
   "metadata": {},
   "outputs": [],
   "source": [
    "import sys\n",
    "sys.path.append('../')"
   ]
  },
  {
   "cell_type": "code",
   "execution_count": null,
   "id": "05407869",
   "metadata": {},
   "outputs": [],
   "source": [
    "%%capture\n",
    "!pip install -r ../init/requirements.txt\n",
    "!pip install ../src/gym_cpr_grid"
   ]
  },
  {
   "cell_type": "code",
   "execution_count": null,
   "id": "ae40e389",
   "metadata": {},
   "outputs": [],
   "source": [
    "import numpy as np\n",
    "import gym\n",
    "import ray\n",
    "import matplotlib.pyplot as plt\n",
    "from IPython import display\n",
    "\n",
    "from src import rllib\n",
    "\n",
    "%load_ext autoreload\n",
    "%autoreload 2"
   ]
  },
  {
   "cell_type": "markdown",
   "id": "c5713dd1",
   "metadata": {},
   "source": [
    "## Utilities"
   ]
  },
  {
   "cell_type": "markdown",
   "id": "d0e0b0a5",
   "metadata": {},
   "source": [
    "The cell down below defines common variables to be used throughout the notebook."
   ]
  },
  {
   "cell_type": "code",
   "execution_count": null,
   "id": "66e7078e",
   "metadata": {},
   "outputs": [],
   "source": [
    "n_agents = 1\n",
    "grid_width = 25 \n",
    "grid_height = 7\n",
    "max_episodes = 1000\n",
    "num_workers = 4\n",
    "seed = 42\n",
    "tagging_ability = False\n",
    "gifting_mechanism = None\n",
    "rllib_log_dir = \"../rllib_logs/\"\n",
    "wandb_api_key = open(\"../wandb_api_key_file\", \"r\").read().strip()\n",
    "wandb_project = \"cpr-appropriation\""
   ]
  },
  {
   "cell_type": "code",
   "execution_count": null,
   "id": "38c1ba7e",
   "metadata": {},
   "outputs": [],
   "source": [
    "ray.shutdown()\n",
    "ray.init(local_mode=True)"
   ]
  },
  {
   "cell_type": "markdown",
   "id": "ca89d8a6",
   "metadata": {},
   "source": [
    "## Random"
   ]
  },
  {
   "cell_type": "markdown",
   "id": "d06b27c4",
   "metadata": {},
   "source": [
    "This section shows a simple set of random agents sifting through the environment, as a way to show the general Gym workflow and the how rendering works."
   ]
  },
  {
   "cell_type": "code",
   "execution_count": null,
   "id": "9bc6d516",
   "metadata": {},
   "outputs": [],
   "source": [
    "env = gym.make(\n",
    "    'gym_cpr_grid:CPRGridEnv-v0', \n",
    "    n_agents=n_agents, \n",
    "    grid_width=grid_width, \n",
    "    grid_height=grid_height,\n",
    "    initial_resource_probability=0.2\n",
    ")"
   ]
  },
  {
   "cell_type": "code",
   "execution_count": null,
   "id": "7efd9c9b",
   "metadata": {
    "scrolled": false
   },
   "outputs": [],
   "source": [
    "observations = env.reset()\n",
    "fig, ax, img = env.plot(env.render('rgb_array'))\n",
    "for _ in range(env._max_episode_steps):\n",
    "    display.display(plt.gcf())\n",
    "    action_dict = {h: env.action_space.sample() for h in range(env.n_agents)}\n",
    "    print(action_dict)\n",
    "    observations, rewards, dones, infos = env.step(action_dict)\n",
    "    print(infos)\n",
    "    display.clear_output(wait=True)\n",
    "    img.set_data(env.render(mode='rgb_array'))\n",
    "env.close()"
   ]
  },
  {
   "cell_type": "markdown",
   "id": "1acc3151",
   "metadata": {},
   "source": [
    "## DQN baseline"
   ]
  },
  {
   "cell_type": "markdown",
   "id": "a1488a9b",
   "metadata": {},
   "source": [
    "In this section we train the DQN baseline reported in the original paper, through RLlib's implementations, so as to understand whether or not our custom environment is implemented correctly."
   ]
  },
  {
   "cell_type": "code",
   "execution_count": null,
   "id": "92f47451",
   "metadata": {},
   "outputs": [],
   "source": [
    "experiment_analysis = rllib.rllib_baseline(\n",
    "    \"dqn\",\n",
    "    n_agents,\n",
    "    grid_width,\n",
    "    grid_height,\n",
    "    wandb_project,\n",
    "    wandb_api_key,\n",
    "    rllib_log_dir,\n",
    "    max_episodes,\n",
    "    tagging_ability=tagging_ability,\n",
    "    gifting_mechanism=gifting_mechanism,\n",
    "    num_workers=num_workers,\n",
    "    jupyter=False,\n",
    "    seed=seed\n",
    ")"
   ]
  },
  {
   "cell_type": "markdown",
   "id": "7db0def0",
   "metadata": {},
   "source": [
    "## VPG baseline"
   ]
  },
  {
   "cell_type": "markdown",
   "id": "d1892b43",
   "metadata": {},
   "source": [
    "In this section we train a Vanilla Policy Gradient model through RLlib's implementations, to see how it stacks up to the DQN baseline."
   ]
  },
  {
   "cell_type": "code",
   "execution_count": null,
   "id": "d9a547dd",
   "metadata": {},
   "outputs": [],
   "source": [
    "experiment_analysis = rllib.rllib_baseline(\n",
    "    \"vpg\",\n",
    "    n_agents,\n",
    "    grid_width,\n",
    "    grid_height,\n",
    "    wandb_project,\n",
    "    wandb_api_key,\n",
    "    rllib_log_dir,\n",
    "    max_episodes,\n",
    "    tagging_ability=tagging_ability,\n",
    "    gifting_mechanism=gifting_mechanism,\n",
    "    num_workers=num_workers,\n",
    "    jupyter=False,\n",
    "    seed=seed\n",
    ")"
   ]
  }
 ],
 "metadata": {
  "kernelspec": {
   "display_name": "Python 3 (ipykernel)",
   "language": "python",
   "name": "python3"
  },
  "language_info": {
   "codemirror_mode": {
    "name": "ipython",
    "version": 3
   },
   "file_extension": ".py",
   "mimetype": "text/x-python",
   "name": "python",
   "nbconvert_exporter": "python",
   "pygments_lexer": "ipython3",
   "version": "3.9.5"
  }
 },
 "nbformat": 4,
 "nbformat_minor": 5
}
