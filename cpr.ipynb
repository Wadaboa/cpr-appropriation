{
 "cells": [
  {
   "cell_type": "markdown",
   "id": "5bcc75b5",
   "metadata": {},
   "source": [
    "# CPR appropriation"
   ]
  },
  {
   "cell_type": "markdown",
   "id": "e249de4b",
   "metadata": {},
   "source": [
    "## Pre-requisites"
   ]
  },
  {
   "cell_type": "code",
   "execution_count": 21,
   "id": "05407869",
   "metadata": {},
   "outputs": [],
   "source": [
    "%%capture\n",
    "!pip install src/gym_cpr_grid\n",
    "!pip install -r requirements.txt"
   ]
  },
  {
   "cell_type": "code",
   "execution_count": 22,
   "id": "ae40e389",
   "metadata": {},
   "outputs": [
    {
     "name": "stdout",
     "output_type": "stream",
     "text": [
      "The tensorboard extension is already loaded. To reload it, use:\n",
      "  %reload_ext tensorboard\n",
      "The autoreload extension is already loaded. To reload it, use:\n",
      "  %reload_ext autoreload\n"
     ]
    },
    {
     "name": "stderr",
     "output_type": "stream",
     "text": [
      "[autoreload of gym_cpr_grid failed: Traceback (most recent call last):\n",
      "  File \"/Users/jobs/Github/cpr-appropriation/venv/lib/python3.9/site-packages/IPython/extensions/autoreload.py\", line 245, in check\n",
      "    superreload(m, reload, self.old_objects)\n",
      "  File \"/Users/jobs/Github/cpr-appropriation/venv/lib/python3.9/site-packages/IPython/extensions/autoreload.py\", line 394, in superreload\n",
      "    module = reload(module)\n",
      "  File \"/usr/local/Cellar/python@3.9/3.9.5/Frameworks/Python.framework/Versions/3.9/lib/python3.9/imp.py\", line 314, in reload\n",
      "    return importlib.reload(module)\n",
      "  File \"/usr/local/Cellar/python@3.9/3.9.5/Frameworks/Python.framework/Versions/3.9/lib/python3.9/importlib/__init__.py\", line 169, in reload\n",
      "    _bootstrap._exec(spec, module)\n",
      "  File \"<frozen importlib._bootstrap>\", line 613, in _exec\n",
      "  File \"<frozen importlib._bootstrap_external>\", line 855, in exec_module\n",
      "  File \"<frozen importlib._bootstrap>\", line 228, in _call_with_frames_removed\n",
      "  File \"/Users/jobs/Github/cpr-appropriation/venv/lib/python3.9/site-packages/gym_cpr_grid/__init__.py\", line 3, in <module>\n",
      "    register(id=\"CPRGridEnv-v0\", entry_point=\"gym_cpr_grid.cpr_grid:CPRGridEnv\")\n",
      "  File \"/Users/jobs/Github/cpr-appropriation/venv/lib/python3.9/site-packages/gym/envs/registration.py\", line 142, in register\n",
      "    return registry.register(id, **kwargs)\n",
      "  File \"/Users/jobs/Github/cpr-appropriation/venv/lib/python3.9/site-packages/gym/envs/registration.py\", line 135, in register\n",
      "    raise error.Error('Cannot re-register id: {}'.format(id))\n",
      "gym.error.Error: Cannot re-register id: CPRGridEnv-v0\n",
      "]\n"
     ]
    }
   ],
   "source": [
    "import numpy as np\n",
    "import gym\n",
    "import matplotlib.pyplot as plt\n",
    "from IPython import display\n",
    "\n",
    "from src import models, policies, rllib\n",
    "\n",
    "%load_ext tensorboard\n",
    "%load_ext autoreload\n",
    "%autoreload 2"
   ]
  },
  {
   "cell_type": "markdown",
   "id": "3f2f4847",
   "metadata": {},
   "source": [
    "## Utilities"
   ]
  },
  {
   "cell_type": "code",
   "execution_count": 23,
   "id": "e7cf754a",
   "metadata": {},
   "outputs": [],
   "source": [
    "wandb_api_key = open(\"./wandb_api_key_file\", \"r\").read().strip()\n",
    "wandb_project = \"cpr-appropriation\""
   ]
  },
  {
   "cell_type": "code",
   "execution_count": 24,
   "id": "3745225a",
   "metadata": {},
   "outputs": [],
   "source": [
    "n_agents = 11\n",
    "grid_width = 39\n",
    "grid_height = 19\n",
    "max_steps = 1000\n",
    "max_episodes = 4000\n",
    "seed = 42\n",
    "rllib_log_dir = \"./rllib_logs/\""
   ]
  },
  {
   "cell_type": "code",
   "execution_count": 26,
   "id": "1669443a",
   "metadata": {},
   "outputs": [],
   "source": [
    "env = gym.make(\n",
    "    'gym_cpr_grid:CPRGridEnv-v0', \n",
    "    n_agents=n_agents, \n",
    "    grid_width=grid_width, \n",
    "    grid_height=grid_height,\n",
    ")"
   ]
  },
  {
   "cell_type": "markdown",
   "id": "ca89d8a6",
   "metadata": {},
   "source": [
    "## Random"
   ]
  },
  {
   "cell_type": "code",
   "execution_count": 27,
   "id": "7efd9c9b",
   "metadata": {
    "scrolled": false
   },
   "outputs": [
    {
     "ename": "KeyboardInterrupt",
     "evalue": "",
     "output_type": "error",
     "traceback": [
      "\u001b[0;31m---------------------------------------------------------------------------\u001b[0m",
      "\u001b[0;31mKeyboardInterrupt\u001b[0m                         Traceback (most recent call last)",
      "\u001b[0;32m/var/folders/pp/wfj1kcws58g7pxksj9k8zdhw0000gn/T/ipykernel_95876/4004912064.py\u001b[0m in \u001b[0;36m<module>\u001b[0;34m\u001b[0m\n\u001b[1;32m      8\u001b[0m     \u001b[0mprint\u001b[0m\u001b[0;34m(\u001b[0m\u001b[0minfos\u001b[0m\u001b[0;34m)\u001b[0m\u001b[0;34m\u001b[0m\u001b[0;34m\u001b[0m\u001b[0m\n\u001b[1;32m      9\u001b[0m     \u001b[0mdisplay\u001b[0m\u001b[0;34m.\u001b[0m\u001b[0mclear_output\u001b[0m\u001b[0;34m(\u001b[0m\u001b[0mwait\u001b[0m\u001b[0;34m=\u001b[0m\u001b[0;32mTrue\u001b[0m\u001b[0;34m)\u001b[0m\u001b[0;34m\u001b[0m\u001b[0;34m\u001b[0m\u001b[0m\n\u001b[0;32m---> 10\u001b[0;31m     \u001b[0mimg\u001b[0m\u001b[0;34m.\u001b[0m\u001b[0mset_data\u001b[0m\u001b[0;34m(\u001b[0m\u001b[0menv\u001b[0m\u001b[0;34m.\u001b[0m\u001b[0mrender\u001b[0m\u001b[0;34m(\u001b[0m\u001b[0mmode\u001b[0m\u001b[0;34m=\u001b[0m\u001b[0;34m'rgb_array'\u001b[0m\u001b[0;34m)\u001b[0m\u001b[0;34m)\u001b[0m\u001b[0;34m\u001b[0m\u001b[0;34m\u001b[0m\u001b[0m\n\u001b[0m\u001b[1;32m     11\u001b[0m \u001b[0menv\u001b[0m\u001b[0;34m.\u001b[0m\u001b[0mclose\u001b[0m\u001b[0;34m(\u001b[0m\u001b[0;34m)\u001b[0m\u001b[0;34m\u001b[0m\u001b[0;34m\u001b[0m\u001b[0m\n",
      "\u001b[0;32m~/Github/cpr-appropriation/venv/lib/python3.9/site-packages/gym_cpr_grid/cpr_grid.py\u001b[0m in \u001b[0;36mrender\u001b[0;34m(self, mode, ticks)\u001b[0m\n\u001b[1;32m    689\u001b[0m         \u001b[0mfig\u001b[0m\u001b[0;34m,\u001b[0m \u001b[0m_\u001b[0m\u001b[0;34m,\u001b[0m \u001b[0m_\u001b[0m \u001b[0;34m=\u001b[0m \u001b[0mself\u001b[0m\u001b[0;34m.\u001b[0m\u001b[0mplot\u001b[0m\u001b[0;34m(\u001b[0m\u001b[0mself\u001b[0m\u001b[0;34m.\u001b[0m\u001b[0mgrid\u001b[0m\u001b[0;34m,\u001b[0m \u001b[0mticks\u001b[0m\u001b[0;34m=\u001b[0m\u001b[0mticks\u001b[0m\u001b[0;34m)\u001b[0m\u001b[0;34m\u001b[0m\u001b[0;34m\u001b[0m\u001b[0m\n\u001b[1;32m    690\u001b[0m         \u001b[0;32mif\u001b[0m \u001b[0mmode\u001b[0m \u001b[0;34m==\u001b[0m \u001b[0;34m\"rgb_array\"\u001b[0m\u001b[0;34m:\u001b[0m\u001b[0;34m\u001b[0m\u001b[0;34m\u001b[0m\u001b[0m\n\u001b[0;32m--> 691\u001b[0;31m             \u001b[0mfig\u001b[0m\u001b[0;34m.\u001b[0m\u001b[0mcanvas\u001b[0m\u001b[0;34m.\u001b[0m\u001b[0mdraw\u001b[0m\u001b[0;34m(\u001b[0m\u001b[0;34m)\u001b[0m\u001b[0;34m\u001b[0m\u001b[0;34m\u001b[0m\u001b[0m\n\u001b[0m\u001b[1;32m    692\u001b[0m             \u001b[0mdata\u001b[0m \u001b[0;34m=\u001b[0m \u001b[0mnp\u001b[0m\u001b[0;34m.\u001b[0m\u001b[0mfromstring\u001b[0m\u001b[0;34m(\u001b[0m\u001b[0mfig\u001b[0m\u001b[0;34m.\u001b[0m\u001b[0mcanvas\u001b[0m\u001b[0;34m.\u001b[0m\u001b[0mtostring_rgb\u001b[0m\u001b[0;34m(\u001b[0m\u001b[0;34m)\u001b[0m\u001b[0;34m,\u001b[0m \u001b[0mdtype\u001b[0m\u001b[0;34m=\u001b[0m\u001b[0mnp\u001b[0m\u001b[0;34m.\u001b[0m\u001b[0muint8\u001b[0m\u001b[0;34m,\u001b[0m \u001b[0msep\u001b[0m\u001b[0;34m=\u001b[0m\u001b[0;34m\"\"\u001b[0m\u001b[0;34m)\u001b[0m\u001b[0;34m\u001b[0m\u001b[0;34m\u001b[0m\u001b[0m\n\u001b[1;32m    693\u001b[0m             \u001b[0mdata\u001b[0m \u001b[0;34m=\u001b[0m \u001b[0mdata\u001b[0m\u001b[0;34m.\u001b[0m\u001b[0mreshape\u001b[0m\u001b[0;34m(\u001b[0m\u001b[0mfig\u001b[0m\u001b[0;34m.\u001b[0m\u001b[0mcanvas\u001b[0m\u001b[0;34m.\u001b[0m\u001b[0mget_width_height\u001b[0m\u001b[0;34m(\u001b[0m\u001b[0;34m)\u001b[0m\u001b[0;34m[\u001b[0m\u001b[0;34m:\u001b[0m\u001b[0;34m:\u001b[0m\u001b[0;34m-\u001b[0m\u001b[0;36m1\u001b[0m\u001b[0;34m]\u001b[0m \u001b[0;34m+\u001b[0m \u001b[0;34m(\u001b[0m\u001b[0;36m3\u001b[0m\u001b[0;34m,\u001b[0m\u001b[0;34m)\u001b[0m\u001b[0;34m)\u001b[0m\u001b[0;34m\u001b[0m\u001b[0;34m\u001b[0m\u001b[0m\n",
      "\u001b[0;32m~/Github/cpr-appropriation/venv/lib/python3.9/site-packages/matplotlib/backends/backend_agg.py\u001b[0m in \u001b[0;36mdraw\u001b[0;34m(self)\u001b[0m\n\u001b[1;32m    404\u001b[0m              (self.toolbar._wait_cursor_for_draw_cm() if self.toolbar\n\u001b[1;32m    405\u001b[0m               else nullcontext()):\n\u001b[0;32m--> 406\u001b[0;31m             \u001b[0mself\u001b[0m\u001b[0;34m.\u001b[0m\u001b[0mfigure\u001b[0m\u001b[0;34m.\u001b[0m\u001b[0mdraw\u001b[0m\u001b[0;34m(\u001b[0m\u001b[0mself\u001b[0m\u001b[0;34m.\u001b[0m\u001b[0mrenderer\u001b[0m\u001b[0;34m)\u001b[0m\u001b[0;34m\u001b[0m\u001b[0;34m\u001b[0m\u001b[0m\n\u001b[0m\u001b[1;32m    407\u001b[0m             \u001b[0;31m# A GUI class may be need to update a window using this draw, so\u001b[0m\u001b[0;34m\u001b[0m\u001b[0;34m\u001b[0m\u001b[0;34m\u001b[0m\u001b[0m\n\u001b[1;32m    408\u001b[0m             \u001b[0;31m# don't forget to call the superclass.\u001b[0m\u001b[0;34m\u001b[0m\u001b[0;34m\u001b[0m\u001b[0;34m\u001b[0m\u001b[0m\n",
      "\u001b[0;32m~/Github/cpr-appropriation/venv/lib/python3.9/site-packages/matplotlib/artist.py\u001b[0m in \u001b[0;36mdraw_wrapper\u001b[0;34m(artist, renderer, *args, **kwargs)\u001b[0m\n\u001b[1;32m     72\u001b[0m     \u001b[0;34m@\u001b[0m\u001b[0mwraps\u001b[0m\u001b[0;34m(\u001b[0m\u001b[0mdraw\u001b[0m\u001b[0;34m)\u001b[0m\u001b[0;34m\u001b[0m\u001b[0;34m\u001b[0m\u001b[0m\n\u001b[1;32m     73\u001b[0m     \u001b[0;32mdef\u001b[0m \u001b[0mdraw_wrapper\u001b[0m\u001b[0;34m(\u001b[0m\u001b[0martist\u001b[0m\u001b[0;34m,\u001b[0m \u001b[0mrenderer\u001b[0m\u001b[0;34m,\u001b[0m \u001b[0;34m*\u001b[0m\u001b[0margs\u001b[0m\u001b[0;34m,\u001b[0m \u001b[0;34m**\u001b[0m\u001b[0mkwargs\u001b[0m\u001b[0;34m)\u001b[0m\u001b[0;34m:\u001b[0m\u001b[0;34m\u001b[0m\u001b[0;34m\u001b[0m\u001b[0m\n\u001b[0;32m---> 74\u001b[0;31m         \u001b[0mresult\u001b[0m \u001b[0;34m=\u001b[0m \u001b[0mdraw\u001b[0m\u001b[0;34m(\u001b[0m\u001b[0martist\u001b[0m\u001b[0;34m,\u001b[0m \u001b[0mrenderer\u001b[0m\u001b[0;34m,\u001b[0m \u001b[0;34m*\u001b[0m\u001b[0margs\u001b[0m\u001b[0;34m,\u001b[0m \u001b[0;34m**\u001b[0m\u001b[0mkwargs\u001b[0m\u001b[0;34m)\u001b[0m\u001b[0;34m\u001b[0m\u001b[0;34m\u001b[0m\u001b[0m\n\u001b[0m\u001b[1;32m     75\u001b[0m         \u001b[0;32mif\u001b[0m \u001b[0mrenderer\u001b[0m\u001b[0;34m.\u001b[0m\u001b[0m_rasterizing\u001b[0m\u001b[0;34m:\u001b[0m\u001b[0;34m\u001b[0m\u001b[0;34m\u001b[0m\u001b[0m\n\u001b[1;32m     76\u001b[0m             \u001b[0mrenderer\u001b[0m\u001b[0;34m.\u001b[0m\u001b[0mstop_rasterizing\u001b[0m\u001b[0;34m(\u001b[0m\u001b[0;34m)\u001b[0m\u001b[0;34m\u001b[0m\u001b[0;34m\u001b[0m\u001b[0m\n",
      "\u001b[0;32m~/Github/cpr-appropriation/venv/lib/python3.9/site-packages/matplotlib/artist.py\u001b[0m in \u001b[0;36mdraw_wrapper\u001b[0;34m(artist, renderer, *args, **kwargs)\u001b[0m\n\u001b[1;32m     49\u001b[0m                 \u001b[0mrenderer\u001b[0m\u001b[0;34m.\u001b[0m\u001b[0mstart_filter\u001b[0m\u001b[0;34m(\u001b[0m\u001b[0;34m)\u001b[0m\u001b[0;34m\u001b[0m\u001b[0;34m\u001b[0m\u001b[0m\n\u001b[1;32m     50\u001b[0m \u001b[0;34m\u001b[0m\u001b[0m\n\u001b[0;32m---> 51\u001b[0;31m             \u001b[0;32mreturn\u001b[0m \u001b[0mdraw\u001b[0m\u001b[0;34m(\u001b[0m\u001b[0martist\u001b[0m\u001b[0;34m,\u001b[0m \u001b[0mrenderer\u001b[0m\u001b[0;34m,\u001b[0m \u001b[0;34m*\u001b[0m\u001b[0margs\u001b[0m\u001b[0;34m,\u001b[0m \u001b[0;34m**\u001b[0m\u001b[0mkwargs\u001b[0m\u001b[0;34m)\u001b[0m\u001b[0;34m\u001b[0m\u001b[0;34m\u001b[0m\u001b[0m\n\u001b[0m\u001b[1;32m     52\u001b[0m         \u001b[0;32mfinally\u001b[0m\u001b[0;34m:\u001b[0m\u001b[0;34m\u001b[0m\u001b[0;34m\u001b[0m\u001b[0m\n\u001b[1;32m     53\u001b[0m             \u001b[0;32mif\u001b[0m \u001b[0martist\u001b[0m\u001b[0;34m.\u001b[0m\u001b[0mget_agg_filter\u001b[0m\u001b[0;34m(\u001b[0m\u001b[0;34m)\u001b[0m \u001b[0;32mis\u001b[0m \u001b[0;32mnot\u001b[0m \u001b[0;32mNone\u001b[0m\u001b[0;34m:\u001b[0m\u001b[0;34m\u001b[0m\u001b[0;34m\u001b[0m\u001b[0m\n",
      "\u001b[0;32m~/Github/cpr-appropriation/venv/lib/python3.9/site-packages/matplotlib/figure.py\u001b[0m in \u001b[0;36mdraw\u001b[0;34m(self, renderer)\u001b[0m\n\u001b[1;32m   2788\u001b[0m \u001b[0;34m\u001b[0m\u001b[0m\n\u001b[1;32m   2789\u001b[0m             \u001b[0mself\u001b[0m\u001b[0;34m.\u001b[0m\u001b[0mpatch\u001b[0m\u001b[0;34m.\u001b[0m\u001b[0mdraw\u001b[0m\u001b[0;34m(\u001b[0m\u001b[0mrenderer\u001b[0m\u001b[0;34m)\u001b[0m\u001b[0;34m\u001b[0m\u001b[0;34m\u001b[0m\u001b[0m\n\u001b[0;32m-> 2790\u001b[0;31m             mimage._draw_list_compositing_images(\n\u001b[0m\u001b[1;32m   2791\u001b[0m                 renderer, self, artists, self.suppressComposite)\n\u001b[1;32m   2792\u001b[0m \u001b[0;34m\u001b[0m\u001b[0m\n",
      "\u001b[0;32m~/Github/cpr-appropriation/venv/lib/python3.9/site-packages/matplotlib/image.py\u001b[0m in \u001b[0;36m_draw_list_compositing_images\u001b[0;34m(renderer, parent, artists, suppress_composite)\u001b[0m\n\u001b[1;32m    130\u001b[0m     \u001b[0;32mif\u001b[0m \u001b[0mnot_composite\u001b[0m \u001b[0;32mor\u001b[0m \u001b[0;32mnot\u001b[0m \u001b[0mhas_images\u001b[0m\u001b[0;34m:\u001b[0m\u001b[0;34m\u001b[0m\u001b[0;34m\u001b[0m\u001b[0m\n\u001b[1;32m    131\u001b[0m         \u001b[0;32mfor\u001b[0m \u001b[0ma\u001b[0m \u001b[0;32min\u001b[0m \u001b[0martists\u001b[0m\u001b[0;34m:\u001b[0m\u001b[0;34m\u001b[0m\u001b[0;34m\u001b[0m\u001b[0m\n\u001b[0;32m--> 132\u001b[0;31m             \u001b[0ma\u001b[0m\u001b[0;34m.\u001b[0m\u001b[0mdraw\u001b[0m\u001b[0;34m(\u001b[0m\u001b[0mrenderer\u001b[0m\u001b[0;34m)\u001b[0m\u001b[0;34m\u001b[0m\u001b[0;34m\u001b[0m\u001b[0m\n\u001b[0m\u001b[1;32m    133\u001b[0m     \u001b[0;32melse\u001b[0m\u001b[0;34m:\u001b[0m\u001b[0;34m\u001b[0m\u001b[0;34m\u001b[0m\u001b[0m\n\u001b[1;32m    134\u001b[0m         \u001b[0;31m# Composite any adjacent images together\u001b[0m\u001b[0;34m\u001b[0m\u001b[0;34m\u001b[0m\u001b[0;34m\u001b[0m\u001b[0m\n",
      "\u001b[0;32m~/Github/cpr-appropriation/venv/lib/python3.9/site-packages/matplotlib/artist.py\u001b[0m in \u001b[0;36mdraw_wrapper\u001b[0;34m(artist, renderer, *args, **kwargs)\u001b[0m\n\u001b[1;32m     49\u001b[0m                 \u001b[0mrenderer\u001b[0m\u001b[0;34m.\u001b[0m\u001b[0mstart_filter\u001b[0m\u001b[0;34m(\u001b[0m\u001b[0;34m)\u001b[0m\u001b[0;34m\u001b[0m\u001b[0;34m\u001b[0m\u001b[0m\n\u001b[1;32m     50\u001b[0m \u001b[0;34m\u001b[0m\u001b[0m\n\u001b[0;32m---> 51\u001b[0;31m             \u001b[0;32mreturn\u001b[0m \u001b[0mdraw\u001b[0m\u001b[0;34m(\u001b[0m\u001b[0martist\u001b[0m\u001b[0;34m,\u001b[0m \u001b[0mrenderer\u001b[0m\u001b[0;34m,\u001b[0m \u001b[0;34m*\u001b[0m\u001b[0margs\u001b[0m\u001b[0;34m,\u001b[0m \u001b[0;34m**\u001b[0m\u001b[0mkwargs\u001b[0m\u001b[0;34m)\u001b[0m\u001b[0;34m\u001b[0m\u001b[0;34m\u001b[0m\u001b[0m\n\u001b[0m\u001b[1;32m     52\u001b[0m         \u001b[0;32mfinally\u001b[0m\u001b[0;34m:\u001b[0m\u001b[0;34m\u001b[0m\u001b[0;34m\u001b[0m\u001b[0m\n\u001b[1;32m     53\u001b[0m             \u001b[0;32mif\u001b[0m \u001b[0martist\u001b[0m\u001b[0;34m.\u001b[0m\u001b[0mget_agg_filter\u001b[0m\u001b[0;34m(\u001b[0m\u001b[0;34m)\u001b[0m \u001b[0;32mis\u001b[0m \u001b[0;32mnot\u001b[0m \u001b[0;32mNone\u001b[0m\u001b[0;34m:\u001b[0m\u001b[0;34m\u001b[0m\u001b[0;34m\u001b[0m\u001b[0m\n",
      "\u001b[0;32m~/Github/cpr-appropriation/venv/lib/python3.9/site-packages/matplotlib/_api/deprecation.py\u001b[0m in \u001b[0;36mwrapper\u001b[0;34m(*inner_args, **inner_kwargs)\u001b[0m\n\u001b[1;32m    429\u001b[0m                          \u001b[0;32melse\u001b[0m \u001b[0mdeprecation_addendum\u001b[0m\u001b[0;34m,\u001b[0m\u001b[0;34m\u001b[0m\u001b[0;34m\u001b[0m\u001b[0m\n\u001b[1;32m    430\u001b[0m                 **kwargs)\n\u001b[0;32m--> 431\u001b[0;31m         \u001b[0;32mreturn\u001b[0m \u001b[0mfunc\u001b[0m\u001b[0;34m(\u001b[0m\u001b[0;34m*\u001b[0m\u001b[0minner_args\u001b[0m\u001b[0;34m,\u001b[0m \u001b[0;34m**\u001b[0m\u001b[0minner_kwargs\u001b[0m\u001b[0;34m)\u001b[0m\u001b[0;34m\u001b[0m\u001b[0;34m\u001b[0m\u001b[0m\n\u001b[0m\u001b[1;32m    432\u001b[0m \u001b[0;34m\u001b[0m\u001b[0m\n\u001b[1;32m    433\u001b[0m     \u001b[0;32mreturn\u001b[0m \u001b[0mwrapper\u001b[0m\u001b[0;34m\u001b[0m\u001b[0;34m\u001b[0m\u001b[0m\n",
      "\u001b[0;32m~/Github/cpr-appropriation/venv/lib/python3.9/site-packages/matplotlib/axes/_base.py\u001b[0m in \u001b[0;36mdraw\u001b[0;34m(self, renderer, inframe)\u001b[0m\n\u001b[1;32m   2919\u001b[0m             \u001b[0mrenderer\u001b[0m\u001b[0;34m.\u001b[0m\u001b[0mstop_rasterizing\u001b[0m\u001b[0;34m(\u001b[0m\u001b[0;34m)\u001b[0m\u001b[0;34m\u001b[0m\u001b[0;34m\u001b[0m\u001b[0m\n\u001b[1;32m   2920\u001b[0m \u001b[0;34m\u001b[0m\u001b[0m\n\u001b[0;32m-> 2921\u001b[0;31m         \u001b[0mmimage\u001b[0m\u001b[0;34m.\u001b[0m\u001b[0m_draw_list_compositing_images\u001b[0m\u001b[0;34m(\u001b[0m\u001b[0mrenderer\u001b[0m\u001b[0;34m,\u001b[0m \u001b[0mself\u001b[0m\u001b[0;34m,\u001b[0m \u001b[0martists\u001b[0m\u001b[0;34m)\u001b[0m\u001b[0;34m\u001b[0m\u001b[0;34m\u001b[0m\u001b[0m\n\u001b[0m\u001b[1;32m   2922\u001b[0m \u001b[0;34m\u001b[0m\u001b[0m\n\u001b[1;32m   2923\u001b[0m         \u001b[0mrenderer\u001b[0m\u001b[0;34m.\u001b[0m\u001b[0mclose_group\u001b[0m\u001b[0;34m(\u001b[0m\u001b[0;34m'axes'\u001b[0m\u001b[0;34m)\u001b[0m\u001b[0;34m\u001b[0m\u001b[0;34m\u001b[0m\u001b[0m\n",
      "\u001b[0;32m~/Github/cpr-appropriation/venv/lib/python3.9/site-packages/matplotlib/image.py\u001b[0m in \u001b[0;36m_draw_list_compositing_images\u001b[0;34m(renderer, parent, artists, suppress_composite)\u001b[0m\n\u001b[1;32m    130\u001b[0m     \u001b[0;32mif\u001b[0m \u001b[0mnot_composite\u001b[0m \u001b[0;32mor\u001b[0m \u001b[0;32mnot\u001b[0m \u001b[0mhas_images\u001b[0m\u001b[0;34m:\u001b[0m\u001b[0;34m\u001b[0m\u001b[0;34m\u001b[0m\u001b[0m\n\u001b[1;32m    131\u001b[0m         \u001b[0;32mfor\u001b[0m \u001b[0ma\u001b[0m \u001b[0;32min\u001b[0m \u001b[0martists\u001b[0m\u001b[0;34m:\u001b[0m\u001b[0;34m\u001b[0m\u001b[0;34m\u001b[0m\u001b[0m\n\u001b[0;32m--> 132\u001b[0;31m             \u001b[0ma\u001b[0m\u001b[0;34m.\u001b[0m\u001b[0mdraw\u001b[0m\u001b[0;34m(\u001b[0m\u001b[0mrenderer\u001b[0m\u001b[0;34m)\u001b[0m\u001b[0;34m\u001b[0m\u001b[0;34m\u001b[0m\u001b[0m\n\u001b[0m\u001b[1;32m    133\u001b[0m     \u001b[0;32melse\u001b[0m\u001b[0;34m:\u001b[0m\u001b[0;34m\u001b[0m\u001b[0;34m\u001b[0m\u001b[0m\n\u001b[1;32m    134\u001b[0m         \u001b[0;31m# Composite any adjacent images together\u001b[0m\u001b[0;34m\u001b[0m\u001b[0;34m\u001b[0m\u001b[0;34m\u001b[0m\u001b[0m\n",
      "\u001b[0;32m~/Github/cpr-appropriation/venv/lib/python3.9/site-packages/matplotlib/artist.py\u001b[0m in \u001b[0;36mdraw_wrapper\u001b[0;34m(artist, renderer, *args, **kwargs)\u001b[0m\n\u001b[1;32m     49\u001b[0m                 \u001b[0mrenderer\u001b[0m\u001b[0;34m.\u001b[0m\u001b[0mstart_filter\u001b[0m\u001b[0;34m(\u001b[0m\u001b[0;34m)\u001b[0m\u001b[0;34m\u001b[0m\u001b[0;34m\u001b[0m\u001b[0m\n\u001b[1;32m     50\u001b[0m \u001b[0;34m\u001b[0m\u001b[0m\n\u001b[0;32m---> 51\u001b[0;31m             \u001b[0;32mreturn\u001b[0m \u001b[0mdraw\u001b[0m\u001b[0;34m(\u001b[0m\u001b[0martist\u001b[0m\u001b[0;34m,\u001b[0m \u001b[0mrenderer\u001b[0m\u001b[0;34m,\u001b[0m \u001b[0;34m*\u001b[0m\u001b[0margs\u001b[0m\u001b[0;34m,\u001b[0m \u001b[0;34m**\u001b[0m\u001b[0mkwargs\u001b[0m\u001b[0;34m)\u001b[0m\u001b[0;34m\u001b[0m\u001b[0;34m\u001b[0m\u001b[0m\n\u001b[0m\u001b[1;32m     52\u001b[0m         \u001b[0;32mfinally\u001b[0m\u001b[0;34m:\u001b[0m\u001b[0;34m\u001b[0m\u001b[0;34m\u001b[0m\u001b[0m\n\u001b[1;32m     53\u001b[0m             \u001b[0;32mif\u001b[0m \u001b[0martist\u001b[0m\u001b[0;34m.\u001b[0m\u001b[0mget_agg_filter\u001b[0m\u001b[0;34m(\u001b[0m\u001b[0;34m)\u001b[0m \u001b[0;32mis\u001b[0m \u001b[0;32mnot\u001b[0m \u001b[0;32mNone\u001b[0m\u001b[0;34m:\u001b[0m\u001b[0;34m\u001b[0m\u001b[0;34m\u001b[0m\u001b[0m\n",
      "\u001b[0;32m~/Github/cpr-appropriation/venv/lib/python3.9/site-packages/matplotlib/image.py\u001b[0m in \u001b[0;36mdraw\u001b[0;34m(self, renderer, *args, **kwargs)\u001b[0m\n\u001b[1;32m    638\u001b[0m                 \u001b[0mrenderer\u001b[0m\u001b[0;34m.\u001b[0m\u001b[0mdraw_image\u001b[0m\u001b[0;34m(\u001b[0m\u001b[0mgc\u001b[0m\u001b[0;34m,\u001b[0m \u001b[0ml\u001b[0m\u001b[0;34m,\u001b[0m \u001b[0mb\u001b[0m\u001b[0;34m,\u001b[0m \u001b[0mim\u001b[0m\u001b[0;34m,\u001b[0m \u001b[0mtrans\u001b[0m\u001b[0;34m)\u001b[0m\u001b[0;34m\u001b[0m\u001b[0;34m\u001b[0m\u001b[0m\n\u001b[1;32m    639\u001b[0m         \u001b[0;32melse\u001b[0m\u001b[0;34m:\u001b[0m\u001b[0;34m\u001b[0m\u001b[0;34m\u001b[0m\u001b[0m\n\u001b[0;32m--> 640\u001b[0;31m             im, l, b, trans = self.make_image(\n\u001b[0m\u001b[1;32m    641\u001b[0m                 renderer, renderer.get_image_magnification())\n\u001b[1;32m    642\u001b[0m             \u001b[0;32mif\u001b[0m \u001b[0mim\u001b[0m \u001b[0;32mis\u001b[0m \u001b[0;32mnot\u001b[0m \u001b[0;32mNone\u001b[0m\u001b[0;34m:\u001b[0m\u001b[0;34m\u001b[0m\u001b[0;34m\u001b[0m\u001b[0m\n",
      "\u001b[0;32m~/Github/cpr-appropriation/venv/lib/python3.9/site-packages/matplotlib/image.py\u001b[0m in \u001b[0;36mmake_image\u001b[0;34m(self, renderer, magnification, unsampled)\u001b[0m\n\u001b[1;32m    924\u001b[0m         clip = ((self.get_clip_box() or self.axes.bbox) if self.get_clip_on()\n\u001b[1;32m    925\u001b[0m                 else self.figure.bbox)\n\u001b[0;32m--> 926\u001b[0;31m         return self._make_image(self._A, bbox, transformed_bbox, clip,\n\u001b[0m\u001b[1;32m    927\u001b[0m                                 magnification, unsampled=unsampled)\n\u001b[1;32m    928\u001b[0m \u001b[0;34m\u001b[0m\u001b[0m\n",
      "\u001b[0;32m~/Github/cpr-appropriation/venv/lib/python3.9/site-packages/matplotlib/image.py\u001b[0m in \u001b[0;36m_make_image\u001b[0;34m(self, A, in_bbox, out_bbox, clip_bbox, magnification, unsampled, round_to_pixel_border)\u001b[0m\n\u001b[1;32m    503\u001b[0m                     \u001b[0mA_resampled\u001b[0m \u001b[0;34m*=\u001b[0m \u001b[0;34m(\u001b[0m\u001b[0;34m(\u001b[0m\u001b[0ma_max\u001b[0m \u001b[0;34m-\u001b[0m \u001b[0ma_min\u001b[0m\u001b[0;34m)\u001b[0m \u001b[0;34m/\u001b[0m \u001b[0mfrac\u001b[0m\u001b[0;34m)\u001b[0m\u001b[0;34m\u001b[0m\u001b[0;34m\u001b[0m\u001b[0m\n\u001b[1;32m    504\u001b[0m                     \u001b[0mvrange\u001b[0m \u001b[0;34m*=\u001b[0m \u001b[0;34m(\u001b[0m\u001b[0;34m(\u001b[0m\u001b[0ma_max\u001b[0m \u001b[0;34m-\u001b[0m \u001b[0ma_min\u001b[0m\u001b[0;34m)\u001b[0m \u001b[0;34m/\u001b[0m \u001b[0mfrac\u001b[0m\u001b[0;34m)\u001b[0m\u001b[0;34m\u001b[0m\u001b[0;34m\u001b[0m\u001b[0m\n\u001b[0;32m--> 505\u001b[0;31m                 \u001b[0mA_resampled\u001b[0m \u001b[0;34m+=\u001b[0m \u001b[0ma_min\u001b[0m\u001b[0;34m\u001b[0m\u001b[0;34m\u001b[0m\u001b[0m\n\u001b[0m\u001b[1;32m    506\u001b[0m                 \u001b[0mvrange\u001b[0m \u001b[0;34m+=\u001b[0m \u001b[0ma_min\u001b[0m\u001b[0;34m\u001b[0m\u001b[0;34m\u001b[0m\u001b[0m\n\u001b[1;32m    507\u001b[0m                 \u001b[0;31m# if using NoNorm, cast back to the original datatype\u001b[0m\u001b[0;34m\u001b[0m\u001b[0;34m\u001b[0m\u001b[0;34m\u001b[0m\u001b[0m\n",
      "\u001b[0;31mKeyboardInterrupt\u001b[0m: "
     ]
    },
    {
     "data": {
      "image/png": "[encoded data removed]",
      "text/plain": [
       "<Figure size 864x720 with 1 Axes>"
      ]
     },
     "metadata": {
      "needs_background": "light"
     },
     "output_type": "display_data"
    },
    {
     "data": {
      "image/png": "[encoded data removed]",
      "text/plain": [
       "<Figure size 864x720 with 1 Axes>"
      ]
     },
     "metadata": {
      "needs_background": "light"
     },
     "output_type": "display_data"
    }
   ],
   "source": [
    "observations = env.reset()\n",
    "fig, ax, img = env.plot(env.render('rgb_array'))\n",
    "for _ in range(env.max_steps):\n",
    "    display.display(plt.gcf())\n",
    "    action_dict = {h: env.action_space.sample() for h in range(env.n_agents)}\n",
    "    print(action_dict)\n",
    "    observations, rewards, dones, infos = env.step(action_dict)\n",
    "    print(infos)\n",
    "    display.clear_output(wait=True)\n",
    "    img.set_data(env.render(mode='rgb_array'))\n",
    "env.close()"
   ]
  },
  {
   "cell_type": "markdown",
   "id": "1acc3151",
   "metadata": {},
   "source": [
    "## DQN baseline"
   ]
  },
  {
   "cell_type": "markdown",
   "id": "786a7f3b",
   "metadata": {},
   "source": [
    "### Without tagging"
   ]
  },
  {
   "cell_type": "code",
   "execution_count": 37,
   "id": "2f4324fc",
   "metadata": {},
   "outputs": [
    {
     "data": {
      "text/html": [
       "== Status ==<br>Memory usage on this node: 10.3/16.0 GiB<br>Using FIFO scheduling algorithm.<br>Resources requested: 0/16 CPUs, 0/0 GPUs, 0.0/4.53 GiB heap, 0.0/2.27 GiB objects (0.0/1.0 CPU_group_0_057347ab6d6b3f2ec9e2aa876b55c925, 0.0/1.0 CPU_group_1_057347ab6d6b3f2ec9e2aa876b55c925, 0.0/2.0 CPU_group_057347ab6d6b3f2ec9e2aa876b55c925)<br>Result logdir: /Users/jobs/Github/cpr-appropriation/rllib_logs/DQN_2021-08-23_16-36-02<br>Number of trials: 1/1 (1 TERMINATED)<br><table>\n",
       "<thead>\n",
       "<tr><th>Trial name                                </th><th>status    </th><th>loc  </th><th style=\"text-align: right;\">  episodes</th><th style=\"text-align: right;\">      U</th><th style=\"text-align: right;\">       E</th><th style=\"text-align: right;\">      S</th><th style=\"text-align: right;\">  P</th></tr>\n",
       "</thead>\n",
       "<tbody>\n",
       "<tr><td>DQN_gym_cpr_grid:CPRGridEnv-v0_70c20_00000</td><td>TERMINATED</td><td>     </td><td style=\"text-align: right;\">         2</td><td style=\"text-align: right;\">2.45176</td><td style=\"text-align: right;\">0.860419</td><td style=\"text-align: right;\">273.469</td><td style=\"text-align: right;\">nan</td></tr>\n",
       "</tbody>\n",
       "</table><br><br>"
      ],
      "text/plain": [
       "<IPython.core.display.HTML object>"
      ]
     },
     "metadata": {},
     "output_type": "display_data"
    },
    {
     "name": "stderr",
     "output_type": "stream",
     "text": [
      "2021-08-23 16:36:55,307\tINFO tune.py:550 -- Total run time: 52.93 seconds (52.72 seconds for the tuning loop).\n"
     ]
    }
   ],
   "source": [
    "experiment_analysis = rllib.dqn_baseline(\n",
    "    n_agents,\n",
    "    grid_width,\n",
    "    grid_height,\n",
    "    wandb_project,\n",
    "    wandb_api_key,\n",
    "    rllib_log_dir,\n",
    "    max_episodes,\n",
    "    max_steps=max_steps,\n",
    "    tagging_ability=False,\n",
    "    gifting_mechanism=None,\n",
    "    num_workers=1,\n",
    "    jupyter=True,\n",
    "    seed=seed\n",
    ")"
   ]
  },
  {
   "cell_type": "markdown",
   "id": "7db0def0",
   "metadata": {},
   "source": [
    "### With tagging"
   ]
  },
  {
   "cell_type": "code",
   "execution_count": 222,
   "id": "d9a547dd",
   "metadata": {},
   "outputs": [
    {
     "ename": "TypeError",
     "evalue": "dqn_baseline() missing 1 required positional argument: 'max_episodes'",
     "output_type": "error",
     "traceback": [
      "\u001b[0;31m---------------------------------------------------------------------------\u001b[0m",
      "\u001b[0;31mTypeError\u001b[0m                                 Traceback (most recent call last)",
      "\u001b[0;32m/var/folders/pp/wfj1kcws58g7pxksj9k8zdhw0000gn/T/ipykernel_42485/3326725698.py\u001b[0m in \u001b[0;36m<module>\u001b[0;34m\u001b[0m\n\u001b[0;32m----> 1\u001b[0;31m experiment_analysis = rllib.dqn_baseline(\n\u001b[0m\u001b[1;32m      2\u001b[0m     \u001b[0mn_agents\u001b[0m\u001b[0;34m,\u001b[0m\u001b[0;34m\u001b[0m\u001b[0;34m\u001b[0m\u001b[0m\n\u001b[1;32m      3\u001b[0m     \u001b[0mgrid_width\u001b[0m\u001b[0;34m,\u001b[0m\u001b[0;34m\u001b[0m\u001b[0;34m\u001b[0m\u001b[0m\n\u001b[1;32m      4\u001b[0m     \u001b[0mgrid_height\u001b[0m\u001b[0;34m,\u001b[0m\u001b[0;34m\u001b[0m\u001b[0;34m\u001b[0m\u001b[0m\n\u001b[1;32m      5\u001b[0m     \u001b[0mwandb_project\u001b[0m\u001b[0;34m,\u001b[0m\u001b[0;34m\u001b[0m\u001b[0;34m\u001b[0m\u001b[0m\n",
      "\u001b[0;31mTypeError\u001b[0m: dqn_baseline() missing 1 required positional argument: 'max_episodes'"
     ]
    }
   ],
   "source": [
    "experiment_analysis = rllib.dqn_baseline(\n",
    "    n_agents,\n",
    "    grid_width,\n",
    "    grid_height,\n",
    "    wandb_project,\n",
    "    wandb_api_key,\n",
    "    rllib_log_dir,\n",
    "    max_episodes,\n",
    "    max_steps=max_steps,\n",
    "    tagging_ability=True,\n",
    "    gifting_mechanism=None,\n",
    "    num_workers=1,\n",
    "    jupyter=True,\n",
    "    seed=seed\n",
    ")"
   ]
  },
  {
   "cell_type": "markdown",
   "id": "1eac3aea",
   "metadata": {},
   "source": [
    "### With gifting"
   ]
  },
  {
   "cell_type": "markdown",
   "id": "1caa0ad7",
   "metadata": {},
   "source": [
    "#### Zero sum"
   ]
  },
  {
   "cell_type": "code",
   "execution_count": null,
   "id": "f44c3bf3",
   "metadata": {},
   "outputs": [],
   "source": [
    "experiment_analysis = rllib.dqn_baseline(\n",
    "    n_agents,\n",
    "    grid_width,\n",
    "    grid_height,\n",
    "    wandb_project,\n",
    "    wandb_api_key,\n",
    "    rllib_log_dir,\n",
    "    max_episodes,\n",
    "    max_steps=max_steps,\n",
    "    tagging_ability=False,\n",
    "    gifting_mechanism=0,\n",
    "    num_workers=1,\n",
    "    jupyter=True,\n",
    "    seed=seed\n",
    ")"
   ]
  },
  {
   "cell_type": "markdown",
   "id": "79c78584",
   "metadata": {},
   "source": [
    "#### Fixed budget"
   ]
  },
  {
   "cell_type": "code",
   "execution_count": null,
   "id": "1744213b",
   "metadata": {},
   "outputs": [],
   "source": [
    "experiment_analysis = rllib.dqn_baseline(\n",
    "    n_agents,\n",
    "    grid_width,\n",
    "    grid_height,\n",
    "    wandb_project,\n",
    "    wandb_api_key,\n",
    "    rllib_log_dir,\n",
    "    max_episodes,\n",
    "    max_steps=max_steps,\n",
    "    tagging_ability=False,\n",
    "    gifting_mechanism=1,\n",
    "    num_workers=1,\n",
    "    jupyter=True,\n",
    "    seed=seed\n",
    ")"
   ]
  },
  {
   "cell_type": "markdown",
   "id": "5644ef8c",
   "metadata": {},
   "source": [
    "#### Replenishable budget"
   ]
  },
  {
   "cell_type": "code",
   "execution_count": null,
   "id": "20703058",
   "metadata": {},
   "outputs": [],
   "source": [
    "experiment_analysis = rllib.dqn_baseline(\n",
    "    n_agents,\n",
    "    grid_width,\n",
    "    grid_height,\n",
    "    wandb_project,\n",
    "    wandb_api_key,\n",
    "    rllib_log_dir,\n",
    "    max_episodes,\n",
    "    max_steps=max_steps,\n",
    "    tagging_ability=False,\n",
    "    gifting_mechanism=2,\n",
    "    num_workers=1,\n",
    "    jupyter=True,\n",
    "    seed=seed\n",
    ")"
   ]
  },
  {
   "cell_type": "markdown",
   "id": "f1a8ac1e",
   "metadata": {},
   "source": [
    "## Policy gradient methods"
   ]
  },
  {
   "cell_type": "code",
   "execution_count": 193,
   "id": "44383ca0",
   "metadata": {},
   "outputs": [],
   "source": [
    "policy_nn = models.MLP(env.observation_space_size(), [32, 32], env.action_space_size())\n",
    "baseline_nn = models.MLP(env.observation_space_size(), [32, 32], 1)"
   ]
  },
  {
   "cell_type": "code",
   "execution_count": 194,
   "id": "edaa6f57",
   "metadata": {},
   "outputs": [
    {
     "data": {
      "text/plain": [
       "MLP(\n",
       "  (mlp): Sequential(\n",
       "    (0): Linear(in_features=1260, out_features=32, bias=True)\n",
       "    (1): ReLU()\n",
       "    (2): Linear(in_features=32, out_features=32, bias=True)\n",
       "    (3): ReLU()\n",
       "    (4): Linear(in_features=32, out_features=9, bias=True)\n",
       "    (5): ReLU()\n",
       "  )\n",
       "  (out): LogSoftmax(dim=None)\n",
       ")"
      ]
     },
     "execution_count": 194,
     "metadata": {},
     "output_type": "execute_result"
    }
   ],
   "source": [
    "policy_nn"
   ]
  },
  {
   "cell_type": "code",
   "execution_count": 195,
   "id": "00d87aaa",
   "metadata": {},
   "outputs": [
    {
     "data": {
      "text/plain": [
       "MLP(\n",
       "  (mlp): Sequential(\n",
       "    (0): Linear(in_features=1260, out_features=32, bias=True)\n",
       "    (1): ReLU()\n",
       "    (2): Linear(in_features=32, out_features=32, bias=True)\n",
       "    (3): ReLU()\n",
       "    (4): Linear(in_features=32, out_features=1, bias=True)\n",
       "    (5): ReLU()\n",
       "  )\n",
       "  (out): LogSoftmax(dim=None)\n",
       ")"
      ]
     },
     "execution_count": 195,
     "metadata": {},
     "output_type": "execute_result"
    }
   ],
   "source": [
    "baseline_nn"
   ]
  },
  {
   "cell_type": "markdown",
   "id": "3f41e4a6",
   "metadata": {},
   "source": [
    "## VPG"
   ]
  },
  {
   "cell_type": "code",
   "execution_count": 199,
   "id": "a220f6aa",
   "metadata": {},
   "outputs": [
    {
     "name": "stdout",
     "output_type": "stream",
     "text": [
      "[MLP(\n",
      "  (mlp): Sequential(\n",
      "    (0): Linear(in_features=1260, out_features=32, bias=True)\n",
      "    (1): ReLU()\n",
      "    (2): Linear(in_features=32, out_features=32, bias=True)\n",
      "    (3): ReLU()\n",
      "    (4): Linear(in_features=32, out_features=9, bias=True)\n",
      "    (5): ReLU()\n",
      "  )\n",
      "  (out): LogSoftmax(dim=None)\n",
      "), Sequential(\n",
      "  (0): Linear(in_features=1260, out_features=32, bias=True)\n",
      "  (1): ReLU()\n",
      "  (2): Linear(in_features=32, out_features=32, bias=True)\n",
      "  (3): ReLU()\n",
      "  (4): Linear(in_features=32, out_features=9, bias=True)\n",
      "  (5): ReLU()\n",
      "), Linear(in_features=1260, out_features=32, bias=True), ReLU(), Linear(in_features=32, out_features=32, bias=True), ReLU(), Linear(in_features=32, out_features=9, bias=True), ReLU(), LogSoftmax(dim=None)]\n",
      "[MLP(\n",
      "  (mlp): Sequential(\n",
      "    (0): Linear(in_features=1260, out_features=32, bias=True)\n",
      "    (1): ReLU()\n",
      "    (2): Linear(in_features=32, out_features=32, bias=True)\n",
      "    (3): ReLU()\n",
      "    (4): Linear(in_features=32, out_features=1, bias=True)\n",
      "    (5): ReLU()\n",
      "  )\n",
      "  (out): LogSoftmax(dim=None)\n",
      "), Sequential(\n",
      "  (0): Linear(in_features=1260, out_features=32, bias=True)\n",
      "  (1): ReLU()\n",
      "  (2): Linear(in_features=32, out_features=32, bias=True)\n",
      "  (3): ReLU()\n",
      "  (4): Linear(in_features=32, out_features=1, bias=True)\n",
      "  (5): ReLU()\n",
      "), Linear(in_features=1260, out_features=32, bias=True), ReLU(), Linear(in_features=32, out_features=32, bias=True), ReLU(), Linear(in_features=32, out_features=1, bias=True), ReLU(), LogSoftmax(dim=None)]\n"
     ]
    },
    {
     "data": {
      "text/html": [
       "Finishing last run (ID:2gmdy9yj) before initializing another..."
      ],
      "text/plain": [
       "<IPython.core.display.HTML object>"
      ]
     },
     "metadata": {},
     "output_type": "display_data"
    },
    {
     "data": {
      "text/html": [
       "<br/>Waiting for W&B process to finish, PID 85407<br/>Program ended successfully."
      ],
      "text/plain": [
       "<IPython.core.display.HTML object>"
      ]
     },
     "metadata": {},
     "output_type": "display_data"
    },
    {
     "data": {
      "application/vnd.jupyter.widget-view+json": {
       "model_id": "a29e8e5ab17e4c099af1b1b9ad57ddd0",
       "version_major": 2,
       "version_minor": 0
      },
      "text/plain": [
       "VBox(children=(Label(value=' 0.00MB of 0.00MB uploaded (0.00MB deduped)\\r'), FloatProgress(value=1.0, max=1.0)…"
      ]
     },
     "metadata": {},
     "output_type": "display_data"
    },
    {
     "name": "stderr",
     "output_type": "stream",
     "text": [
      "\u001b[34m\u001b[1mwandb\u001b[0m: \u001b[32m\u001b[41mERROR\u001b[0m Control-C detected -- Run data was not synced\n"
     ]
    },
    {
     "data": {
      "text/html": [
       "...Successfully finished last run (ID:2gmdy9yj). Initializing new run:<br/><br/>"
      ],
      "text/plain": [
       "<IPython.core.display.HTML object>"
      ]
     },
     "metadata": {},
     "output_type": "display_data"
    },
    {
     "data": {
      "text/html": [
       "\n",
       "                Tracking run with wandb version 0.12.0<br/>\n",
       "                Syncing run <strong style=\"color:#cdcd00\">rural-yogurt-11</strong> to <a href=\"https://wandb.ai\" target=\"_blank\">Weights & Biases</a> <a href=\"https://docs.wandb.com/integrations/jupyter.html\" target=\"_blank\">(Documentation)</a>.<br/>\n",
       "                Project page: <a href=\"https://wandb.ai/wadaboa/cpr-appropriation\" target=\"_blank\">https://wandb.ai/wadaboa/cpr-appropriation</a><br/>\n",
       "                Run page: <a href=\"https://wandb.ai/wadaboa/cpr-appropriation/runs/29f4hsob\" target=\"_blank\">https://wandb.ai/wadaboa/cpr-appropriation/runs/29f4hsob</a><br/>\n",
       "                Run data is saved locally in <code>/Users/jobs/Github/cpr-appropriation/wandb/run-20210823_123600-29f4hsob</code><br/><br/>\n",
       "            "
      ],
      "text/plain": [
       "<IPython.core.display.HTML object>"
      ]
     },
     "metadata": {},
     "output_type": "display_data"
    },
    {
     "name": "stderr",
     "output_type": "stream",
     "text": [
      "2021-08-23 12:36:03.768 | INFO     | src.policies:train:76 - Epoch 1 / 1\n",
      "/Users/jobs/Github/cpr-appropriation/src/models.py:48: UserWarning: Implicit dimension choice for log_softmax has been deprecated. Change the call to include dim=X as an argument.\n",
      "2021-08-23 12:36:03.780 | INFO     | src.policies:execute_episode:195 - Early stopping, all agents done\n",
      "2021-08-23 12:36:03.790 | INFO     | src.policies:execute_episode:195 - Early stopping, all agents done\n",
      "2021-08-23 12:36:03.800 | INFO     | src.policies:execute_episode:195 - Early stopping, all agents done\n",
      "2021-08-23 12:36:03.856 | INFO     | src.policies:execute_episode:195 - Early stopping, all agents done\n",
      "2021-08-23 12:36:03.865 | INFO     | src.policies:execute_episode:195 - Early stopping, all agents done\n",
      "2021-08-23 12:36:03.874 | INFO     | src.policies:execute_episode:195 - Early stopping, all agents done\n",
      "2021-08-23 12:36:03.883 | INFO     | src.policies:execute_episode:195 - Early stopping, all agents done\n",
      "2021-08-23 12:36:03.892 | INFO     | src.policies:execute_episode:195 - Early stopping, all agents done\n",
      "2021-08-23 12:36:03.908 | INFO     | src.policies:execute_episode:195 - Early stopping, all agents done\n",
      "2021-08-23 12:36:03.918 | INFO     | src.policies:execute_episode:195 - Early stopping, all agents done\n",
      "2021-08-23 12:36:03.919 | INFO     | src.policies:train:88 - Working with a batch size of 30\n"
     ]
    },
    {
     "data": {
      "text/html": [
       "<br/>Waiting for W&B process to finish, PID 85520<br/>Program ended successfully."
      ],
      "text/plain": [
       "<IPython.core.display.HTML object>"
      ]
     },
     "metadata": {},
     "output_type": "display_data"
    },
    {
     "data": {
      "application/vnd.jupyter.widget-view+json": {
       "model_id": "",
       "version_major": 2,
       "version_minor": 0
      },
      "text/plain": [
       "VBox(children=(Label(value=' 0.00MB of 0.00MB uploaded (0.00MB deduped)\\r'), FloatProgress(value=1.0, max=1.0)…"
      ]
     },
     "metadata": {},
     "output_type": "display_data"
    },
    {
     "data": {
      "text/html": [
       "Find user logs for this run at: <code>/Users/jobs/Github/cpr-appropriation/wandb/run-20210823_123600-29f4hsob/logs/debug.log</code>"
      ],
      "text/plain": [
       "<IPython.core.display.HTML object>"
      ]
     },
     "metadata": {},
     "output_type": "display_data"
    },
    {
     "data": {
      "text/html": [
       "Find internal logs for this run at: <code>/Users/jobs/Github/cpr-appropriation/wandb/run-20210823_123600-29f4hsob/logs/debug-internal.log</code>"
      ],
      "text/plain": [
       "<IPython.core.display.HTML object>"
      ]
     },
     "metadata": {},
     "output_type": "display_data"
    },
    {
     "data": {
      "text/html": [
       "<h3>Run summary:</h3><br/><style>\n",
       "    table.wandb td:nth-child(1) { padding: 0 10px; text-align: right }\n",
       "    </style><table class=\"wandb\">\n",
       "<tr><td>efficiency</td><td>0.625</td></tr><tr><td>equality</td><td>8.66667</td></tr><tr><td>sustainability</td><td>9336.0</td></tr><tr><td>peace</td><td>28.0</td></tr><tr><td>loss</td><td>9332.28125</td></tr><tr><td>_runtime</td><td>2</td></tr><tr><td>_timestamp</td><td>1629714964</td></tr><tr><td>_step</td><td>0</td></tr></table>"
      ],
      "text/plain": [
       "<IPython.core.display.HTML object>"
      ]
     },
     "metadata": {},
     "output_type": "display_data"
    },
    {
     "data": {
      "text/html": [
       "<h3>Run history:</h3><br/><style>\n",
       "    table.wandb td:nth-child(1) { padding: 0 10px; text-align: right }\n",
       "    </style><table class=\"wandb\">\n",
       "<tr><td>efficiency</td><td>▁</td></tr><tr><td>equality</td><td>▁</td></tr><tr><td>sustainability</td><td>▁</td></tr><tr><td>peace</td><td>▁</td></tr><tr><td>loss</td><td>▁</td></tr><tr><td>_runtime</td><td>▁</td></tr><tr><td>_timestamp</td><td>▁</td></tr><tr><td>_step</td><td>▁</td></tr></table><br/>"
      ],
      "text/plain": [
       "<IPython.core.display.HTML object>"
      ]
     },
     "metadata": {},
     "output_type": "display_data"
    },
    {
     "data": {
      "text/html": [
       "Synced 5 W&B file(s), 0 media file(s), 0 artifact file(s) and 0 other file(s)"
      ],
      "text/plain": [
       "<IPython.core.display.HTML object>"
      ]
     },
     "metadata": {},
     "output_type": "display_data"
    },
    {
     "data": {
      "text/html": [
       "\n",
       "                    <br/>Synced <strong style=\"color:#cdcd00\">rural-yogurt-11</strong>: <a href=\"https://wandb.ai/wadaboa/cpr-appropriation/runs/29f4hsob\" target=\"_blank\">https://wandb.ai/wadaboa/cpr-appropriation/runs/29f4hsob</a><br/>\n",
       "                "
      ],
      "text/plain": [
       "<IPython.core.display.HTML object>"
      ]
     },
     "metadata": {},
     "output_type": "display_data"
    }
   ],
   "source": [
    "vpg_policy = policies.VPGPolicy(env, policy_nn, reset_parameters=True, baseline_nn=baseline_nn)\n",
    "vpg_policy.train(1)"
   ]
  },
  {
   "cell_type": "markdown",
   "id": "6bd8a31e",
   "metadata": {},
   "source": [
    "## TRPO"
   ]
  },
  {
   "cell_type": "code",
   "execution_count": 154,
   "id": "9e58d556",
   "metadata": {},
   "outputs": [
    {
     "name": "stderr",
     "output_type": "stream",
     "text": [
      "2021-08-23 10:25:23.754 | INFO     | src.policies:train:45 - Epoch 1 / 1\n",
      "2021-08-23 10:25:23.765 | INFO     | src.policies:execute_episode:149 - Early stopping, all agents done\n",
      "2021-08-23 10:25:26.532 | INFO     | src.policies:execute_episode:149 - Early stopping, all agents done\n",
      "2021-08-23 10:25:26.540 | INFO     | src.policies:execute_episode:149 - Early stopping, all agents done\n",
      "2021-08-23 10:25:26.550 | INFO     | src.policies:execute_episode:149 - Early stopping, all agents done\n",
      "2021-08-23 10:25:26.559 | INFO     | src.policies:execute_episode:149 - Early stopping, all agents done\n",
      "2021-08-23 10:25:26.569 | INFO     | src.policies:execute_episode:149 - Early stopping, all agents done\n",
      "2021-08-23 10:25:26.578 | INFO     | src.policies:execute_episode:149 - Early stopping, all agents done\n",
      "2021-08-23 10:25:26.588 | INFO     | src.policies:execute_episode:149 - Early stopping, all agents done\n",
      "2021-08-23 10:25:26.597 | INFO     | src.policies:execute_episode:149 - Early stopping, all agents done\n",
      "2021-08-23 10:25:26.606 | INFO     | src.policies:execute_episode:149 - Early stopping, all agents done\n",
      "2021-08-23 10:25:26.614 | INFO     | src.policies:execute_episode:149 - Early stopping, all agents done\n",
      "2021-08-23 10:25:26.623 | INFO     | src.policies:execute_episode:149 - Early stopping, all agents done\n",
      "2021-08-23 10:25:26.632 | INFO     | src.policies:execute_episode:149 - Early stopping, all agents done\n",
      "2021-08-23 10:25:26.641 | INFO     | src.policies:execute_episode:149 - Early stopping, all agents done\n",
      "2021-08-23 10:25:26.650 | INFO     | src.policies:execute_episode:149 - Early stopping, all agents done\n",
      "2021-08-23 10:25:29.485 | INFO     | src.policies:execute_episode:149 - Early stopping, all agents done\n",
      "2021-08-23 10:25:29.492 | INFO     | src.policies:execute_episode:149 - Early stopping, all agents done\n",
      "2021-08-23 10:25:35.464 | INFO     | src.policies:execute_episode:149 - Early stopping, all agents done\n",
      "2021-08-23 10:25:35.473 | INFO     | src.policies:execute_episode:149 - Early stopping, all agents done\n",
      "2021-08-23 10:25:35.482 | INFO     | src.policies:execute_episode:149 - Early stopping, all agents done\n",
      "2021-08-23 10:25:35.578 | INFO     | src.policies:execute_episode:149 - Early stopping, all agents done\n",
      "2021-08-23 10:25:35.586 | INFO     | src.policies:execute_episode:149 - Early stopping, all agents done\n",
      "2021-08-23 10:25:35.595 | INFO     | src.policies:execute_episode:149 - Early stopping, all agents done\n",
      "2021-08-23 10:25:35.604 | INFO     | src.policies:execute_episode:149 - Early stopping, all agents done\n",
      "2021-08-23 10:25:38.632 | INFO     | src.policies:execute_episode:149 - Early stopping, all agents done\n",
      "2021-08-23 10:25:38.659 | INFO     | src.policies:execute_episode:149 - Early stopping, all agents done\n",
      "2021-08-23 10:25:38.669 | INFO     | src.policies:execute_episode:149 - Early stopping, all agents done\n",
      "2021-08-23 10:25:38.679 | INFO     | src.policies:execute_episode:149 - Early stopping, all agents done\n",
      "2021-08-23 10:25:38.688 | INFO     | src.policies:execute_episode:149 - Early stopping, all agents done\n",
      "2021-08-23 10:25:38.697 | INFO     | src.policies:execute_episode:149 - Early stopping, all agents done\n",
      "2021-08-23 10:25:38.706 | INFO     | src.policies:execute_episode:149 - Early stopping, all agents done\n",
      "2021-08-23 10:25:38.715 | INFO     | src.policies:execute_episode:149 - Early stopping, all agents done\n",
      "2021-08-23 10:25:38.724 | INFO     | src.policies:execute_episode:149 - Early stopping, all agents done\n",
      "2021-08-23 10:25:41.515 | INFO     | src.policies:execute_episode:149 - Early stopping, all agents done\n",
      "2021-08-23 10:25:41.524 | INFO     | src.policies:execute_episode:149 - Early stopping, all agents done\n",
      "2021-08-23 10:25:44.390 | INFO     | src.policies:execute_episode:149 - Early stopping, all agents done\n",
      "2021-08-23 10:25:44.398 | INFO     | src.policies:execute_episode:149 - Early stopping, all agents done\n",
      "2021-08-23 10:25:44.408 | INFO     | src.policies:execute_episode:149 - Early stopping, all agents done\n",
      "2021-08-23 10:25:44.418 | INFO     | src.policies:execute_episode:149 - Early stopping, all agents done\n",
      "2021-08-23 10:25:44.721 | INFO     | src.policies:execute_episode:149 - Early stopping, all agents done\n",
      "2021-08-23 10:25:44.731 | INFO     | src.policies:execute_episode:149 - Early stopping, all agents done\n",
      "2021-08-23 10:25:44.739 | INFO     | src.policies:execute_episode:149 - Early stopping, all agents done\n",
      "2021-08-23 10:25:44.740 | INFO     | src.policies:train:54 - Working with a batch size of 126\n"
     ]
    }
   ],
   "source": [
    "trpo_policy = policies.TRPOPolicy(env, policy_nn, baseline_nn, reset_parameters=True, beta=1.0, kl_target=0.01)\n",
    "trpo_policy.train(1)"
   ]
  },
  {
   "cell_type": "markdown",
   "id": "57ea2443",
   "metadata": {},
   "source": [
    "## PPO"
   ]
  },
  {
   "cell_type": "code",
   "execution_count": 166,
   "id": "91e06784",
   "metadata": {},
   "outputs": [
    {
     "name": "stderr",
     "output_type": "stream",
     "text": [
      "2021-08-23 10:33:56.186 | INFO     | src.policies:train:51 - Epoch 1 / 1\n",
      "/Users/jobs/Github/cpr-appropriation/src/models.py:72: UserWarning: Implicit dimension choice for log_softmax has been deprecated. Change the call to include dim=X as an argument.\n",
      "2021-08-23 10:33:59.245 | INFO     | src.policies:execute_episode:155 - Early stopping, all agents done\n",
      "2021-08-23 10:33:59.253 | INFO     | src.policies:execute_episode:155 - Early stopping, all agents done\n",
      "2021-08-23 10:33:59.265 | INFO     | src.policies:execute_episode:155 - Early stopping, all agents done\n",
      "2021-08-23 10:33:59.334 | INFO     | src.policies:execute_episode:155 - Early stopping, all agents done\n",
      "2021-08-23 10:33:59.716 | INFO     | src.policies:execute_episode:155 - Early stopping, all agents done\n",
      "2021-08-23 10:33:59.724 | INFO     | src.policies:execute_episode:155 - Early stopping, all agents done\n",
      "2021-08-23 10:33:59.734 | INFO     | src.policies:execute_episode:155 - Early stopping, all agents done\n",
      "2021-08-23 10:33:59.743 | INFO     | src.policies:execute_episode:155 - Early stopping, all agents done\n",
      "2021-08-23 10:33:59.752 | INFO     | src.policies:execute_episode:155 - Early stopping, all agents done\n",
      "2021-08-23 10:34:02.594 | INFO     | src.policies:execute_episode:155 - Early stopping, all agents done\n",
      "2021-08-23 10:34:02.602 | INFO     | src.policies:execute_episode:155 - Early stopping, all agents done\n",
      "2021-08-23 10:34:05.329 | INFO     | src.policies:execute_episode:155 - Early stopping, all agents done\n",
      "2021-08-23 10:34:05.338 | INFO     | src.policies:execute_episode:155 - Early stopping, all agents done\n",
      "2021-08-23 10:34:08.039 | INFO     | src.policies:execute_episode:155 - Early stopping, all agents done\n",
      "2021-08-23 10:34:08.047 | INFO     | src.policies:execute_episode:155 - Early stopping, all agents done\n",
      "2021-08-23 10:34:08.056 | INFO     | src.policies:execute_episode:155 - Early stopping, all agents done\n",
      "2021-08-23 10:34:08.066 | INFO     | src.policies:execute_episode:155 - Early stopping, all agents done\n",
      "2021-08-23 10:34:08.077 | INFO     | src.policies:execute_episode:155 - Early stopping, all agents done\n",
      "2021-08-23 10:34:08.086 | INFO     | src.policies:execute_episode:155 - Early stopping, all agents done\n",
      "2021-08-23 10:34:08.095 | INFO     | src.policies:execute_episode:155 - Early stopping, all agents done\n",
      "2021-08-23 10:34:08.104 | INFO     | src.policies:execute_episode:155 - Early stopping, all agents done\n",
      "2021-08-23 10:34:08.113 | INFO     | src.policies:execute_episode:155 - Early stopping, all agents done\n",
      "2021-08-23 10:34:10.787 | INFO     | src.policies:execute_episode:155 - Early stopping, all agents done\n",
      "2021-08-23 10:34:13.682 | INFO     | src.policies:execute_episode:155 - Early stopping, all agents done\n",
      "2021-08-23 10:34:16.359 | INFO     | src.policies:execute_episode:155 - Early stopping, all agents done\n",
      "2021-08-23 10:34:18.942 | INFO     | src.policies:execute_episode:155 - Early stopping, all agents done\n",
      "2021-08-23 10:34:19.075 | INFO     | src.policies:execute_episode:155 - Early stopping, all agents done\n",
      "2021-08-23 10:34:19.133 | INFO     | src.policies:execute_episode:155 - Early stopping, all agents done\n",
      "2021-08-23 10:34:19.141 | INFO     | src.policies:execute_episode:155 - Early stopping, all agents done\n",
      "2021-08-23 10:34:19.151 | INFO     | src.policies:execute_episode:155 - Early stopping, all agents done\n",
      "2021-08-23 10:34:21.960 | INFO     | src.policies:execute_episode:155 - Early stopping, all agents done\n",
      "2021-08-23 10:34:22.286 | INFO     | src.policies:execute_episode:155 - Early stopping, all agents done\n",
      "2021-08-23 10:34:24.944 | INFO     | src.policies:execute_episode:155 - Early stopping, all agents done\n",
      "2021-08-23 10:34:24.952 | INFO     | src.policies:execute_episode:155 - Early stopping, all agents done\n",
      "2021-08-23 10:34:24.962 | INFO     | src.policies:execute_episode:155 - Early stopping, all agents done\n",
      "2021-08-23 10:34:24.971 | INFO     | src.policies:execute_episode:155 - Early stopping, all agents done\n",
      "2021-08-23 10:34:24.980 | INFO     | src.policies:execute_episode:155 - Early stopping, all agents done\n",
      "2021-08-23 10:34:24.991 | INFO     | src.policies:execute_episode:155 - Early stopping, all agents done\n",
      "2021-08-23 10:34:25.464 | INFO     | src.policies:execute_episode:155 - Early stopping, all agents done\n",
      "2021-08-23 10:34:25.507 | INFO     | src.policies:execute_episode:155 - Early stopping, all agents done\n",
      "2021-08-23 10:34:25.556 | INFO     | src.policies:execute_episode:155 - Early stopping, all agents done\n",
      "2021-08-23 10:34:28.337 | INFO     | src.policies:execute_episode:155 - Early stopping, all agents done\n",
      "2021-08-23 10:34:28.338 | INFO     | src.policies:train:60 - Working with a batch size of 126\n"
     ]
    }
   ],
   "source": [
    "ppo_policy = policies.PPOPolicy(env, policy_nn, baseline_nn, reset_parameters=True, c1=1.0, c2=0.0, eps=0.2)\n",
    "ppo_policy.train(1)"
   ]
  },
  {
   "cell_type": "code",
   "execution_count": null,
   "id": "773e3779",
   "metadata": {},
   "outputs": [],
   "source": []
  }
 ],
 "metadata": {
  "kernelspec": {
   "display_name": "Python 3 (ipykernel)",
   "language": "python",
   "name": "python3"
  },
  "language_info": {
   "codemirror_mode": {
    "name": "ipython",
    "version": 3
   },
   "file_extension": ".py",
   "mimetype": "text/x-python",
   "name": "python",
   "nbconvert_exporter": "python",
   "pygments_lexer": "ipython3",
   "version": "3.9.5"
  }
 },
 "nbformat": 4,
 "nbformat_minor": 5
}
