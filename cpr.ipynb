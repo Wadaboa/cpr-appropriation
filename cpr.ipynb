{
 "cells": [
  {
   "cell_type": "markdown",
   "id": "5bcc75b5",
   "metadata": {},
   "source": [
    "# CPR appropriation"
   ]
  },
  {
   "cell_type": "markdown",
   "id": "e249de4b",
   "metadata": {},
   "source": [
    "## Pre-requisites"
   ]
  },
  {
   "cell_type": "code",
   "execution_count": 70,
   "id": "05407869",
   "metadata": {},
   "outputs": [],
   "source": [
    "%%capture\n",
    "!pip install src/gym_cpr_grid\n",
    "!pip install -r requirements.txt"
   ]
  },
  {
   "cell_type": "code",
   "execution_count": 65,
   "id": "ae40e389",
   "metadata": {},
   "outputs": [
    {
     "name": "stdout",
     "output_type": "stream",
     "text": [
      "The tensorboard extension is already loaded. To reload it, use:\n",
      "  %reload_ext tensorboard\n",
      "The autoreload extension is already loaded. To reload it, use:\n",
      "  %reload_ext autoreload\n"
     ]
    }
   ],
   "source": [
    "import numpy as np\n",
    "import gym\n",
    "import matplotlib.pyplot as plt\n",
    "from IPython import display\n",
    "\n",
    "from src import models, policies, rllib\n",
    "\n",
    "%load_ext tensorboard\n",
    "%load_ext autoreload\n",
    "%autoreload 2"
   ]
  },
  {
   "cell_type": "markdown",
   "id": "19edb64a",
   "metadata": {},
   "source": [
    "## Utilities"
   ]
  },
  {
   "cell_type": "code",
   "execution_count": 66,
   "id": "781f2ab1",
   "metadata": {},
   "outputs": [],
   "source": [
    "wandb_api_key = open(\"./wandb_api_key_file\", \"r\").read().strip()\n",
    "wandb_project = \"cpr-appropriation\""
   ]
  },
  {
   "cell_type": "code",
   "execution_count": 67,
   "id": "1aba2094",
   "metadata": {},
   "outputs": [],
   "source": [
    "n_agents = 11\n",
    "grid_width = 39\n",
    "grid_height = 19\n",
    "max_steps = 1000\n",
    "max_episodes = 4000\n",
    "seed = 42\n",
    "rllib_log_dir = \"./rllib_logs/\""
   ]
  },
  {
   "cell_type": "code",
   "execution_count": 72,
   "id": "7bd0cfcb",
   "metadata": {},
   "outputs": [],
   "source": [
    "env = gym.make(\n",
    "    'gym_cpr_grid:CPRGridEnv-v0', \n",
    "    n_agents=n_agents, \n",
    "    grid_width=grid_width, \n",
    "    grid_height=grid_height,\n",
    ")"
   ]
  },
  {
   "cell_type": "markdown",
   "id": "ca89d8a6",
   "metadata": {},
   "source": [
    "## Random"
   ]
  },
  {
   "cell_type": "code",
   "execution_count": 73,
   "id": "7efd9c9b",
   "metadata": {
    "scrolled": false
   },
   "outputs": [
    {
     "data": {
      "image/png": "[encoded data removed]",
      "text/plain": [
       "<Figure size 864x720 with 1 Axes>"
      ]
     },
     "metadata": {},
     "output_type": "display_data"
    },
    {
     "name": "stdout",
     "output_type": "stream",
     "text": [
      "{0: <AgentAction.ROTATE_RIGHT: 5>, 1: <AgentAction.ROTATE_LEFT: 4>, 2: <AgentAction.ROTATE_RIGHT: 5>, 3: <AgentAction.ROTATE_RIGHT: 5>, 4: <AgentAction.STAND_STILL: 6>, 5: <AgentAction.ROTATE_RIGHT: 5>, 6: <AgentAction.GIFT: 8>, 7: <AgentAction.STEP_FORWARD: 0>, 8: <AgentAction.STEP_LEFT: 2>, 9: <AgentAction.STEP_LEFT: 2>, 10: <AgentAction.GIFT: 8>}\n"
     ]
    },
    {
     "ename": "KeyboardInterrupt",
     "evalue": "",
     "output_type": "error",
     "traceback": [
      "\u001b[0;31m---------------------------------------------------------------------------\u001b[0m",
      "\u001b[0;31mAttributeError\u001b[0m                            Traceback (most recent call last)",
      "\u001b[0;32m~/Github/cpr-appropriation/venv/lib/python3.9/site-packages/numpy/core/fromnumeric.py\u001b[0m in \u001b[0;36mndim\u001b[0;34m(a)\u001b[0m\n\u001b[1;32m   3159\u001b[0m     \u001b[0;32mtry\u001b[0m\u001b[0;34m:\u001b[0m\u001b[0;34m\u001b[0m\u001b[0;34m\u001b[0m\u001b[0m\n\u001b[0;32m-> 3160\u001b[0;31m         \u001b[0;32mreturn\u001b[0m \u001b[0ma\u001b[0m\u001b[0;34m.\u001b[0m\u001b[0mndim\u001b[0m\u001b[0;34m\u001b[0m\u001b[0;34m\u001b[0m\u001b[0m\n\u001b[0m\u001b[1;32m   3161\u001b[0m     \u001b[0;32mexcept\u001b[0m \u001b[0mAttributeError\u001b[0m\u001b[0;34m:\u001b[0m\u001b[0;34m\u001b[0m\u001b[0;34m\u001b[0m\u001b[0m\n",
      "\u001b[0;31mAttributeError\u001b[0m: 'NoneType' object has no attribute 'ndim'",
      "\nDuring handling of the above exception, another exception occurred:\n",
      "\u001b[0;31mKeyboardInterrupt\u001b[0m                         Traceback (most recent call last)",
      "\u001b[0;32m/var/folders/pp/wfj1kcws58g7pxksj9k8zdhw0000gn/T/ipykernel_95876/4004912064.py\u001b[0m in \u001b[0;36m<module>\u001b[0;34m\u001b[0m\n\u001b[1;32m      5\u001b[0m     \u001b[0maction_dict\u001b[0m \u001b[0;34m=\u001b[0m \u001b[0;34m{\u001b[0m\u001b[0mh\u001b[0m\u001b[0;34m:\u001b[0m \u001b[0menv\u001b[0m\u001b[0;34m.\u001b[0m\u001b[0maction_space\u001b[0m\u001b[0;34m.\u001b[0m\u001b[0msample\u001b[0m\u001b[0;34m(\u001b[0m\u001b[0;34m)\u001b[0m \u001b[0;32mfor\u001b[0m \u001b[0mh\u001b[0m \u001b[0;32min\u001b[0m \u001b[0mrange\u001b[0m\u001b[0;34m(\u001b[0m\u001b[0menv\u001b[0m\u001b[0;34m.\u001b[0m\u001b[0mn_agents\u001b[0m\u001b[0;34m)\u001b[0m\u001b[0;34m}\u001b[0m\u001b[0;34m\u001b[0m\u001b[0;34m\u001b[0m\u001b[0m\n\u001b[1;32m      6\u001b[0m     \u001b[0mprint\u001b[0m\u001b[0;34m(\u001b[0m\u001b[0maction_dict\u001b[0m\u001b[0;34m)\u001b[0m\u001b[0;34m\u001b[0m\u001b[0;34m\u001b[0m\u001b[0m\n\u001b[0;32m----> 7\u001b[0;31m     \u001b[0mobservations\u001b[0m\u001b[0;34m,\u001b[0m \u001b[0mrewards\u001b[0m\u001b[0;34m,\u001b[0m \u001b[0mdones\u001b[0m\u001b[0;34m,\u001b[0m \u001b[0minfos\u001b[0m \u001b[0;34m=\u001b[0m \u001b[0menv\u001b[0m\u001b[0;34m.\u001b[0m\u001b[0mstep\u001b[0m\u001b[0;34m(\u001b[0m\u001b[0maction_dict\u001b[0m\u001b[0;34m)\u001b[0m\u001b[0;34m\u001b[0m\u001b[0;34m\u001b[0m\u001b[0m\n\u001b[0m\u001b[1;32m      8\u001b[0m     \u001b[0mprint\u001b[0m\u001b[0;34m(\u001b[0m\u001b[0minfos\u001b[0m\u001b[0;34m)\u001b[0m\u001b[0;34m\u001b[0m\u001b[0;34m\u001b[0m\u001b[0m\n\u001b[1;32m      9\u001b[0m     \u001b[0mdisplay\u001b[0m\u001b[0;34m.\u001b[0m\u001b[0mclear_output\u001b[0m\u001b[0;34m(\u001b[0m\u001b[0mwait\u001b[0m\u001b[0;34m=\u001b[0m\u001b[0;32mTrue\u001b[0m\u001b[0;34m)\u001b[0m\u001b[0;34m\u001b[0m\u001b[0;34m\u001b[0m\u001b[0m\n",
      "\u001b[0;32m~/Github/cpr-appropriation/venv/lib/python3.9/site-packages/gym_cpr_grid/cpr_grid.py\u001b[0m in \u001b[0;36mstep\u001b[0;34m(self, action_dict)\u001b[0m\n\u001b[1;32m    314\u001b[0m \u001b[0;34m\u001b[0m\u001b[0m\n\u001b[1;32m    315\u001b[0m         \u001b[0;31m# Respawn resources\u001b[0m\u001b[0;34m\u001b[0m\u001b[0;34m\u001b[0m\u001b[0;34m\u001b[0m\u001b[0m\n\u001b[0;32m--> 316\u001b[0;31m         \u001b[0mself\u001b[0m\u001b[0;34m.\u001b[0m\u001b[0m_respawn_resources\u001b[0m\u001b[0;34m(\u001b[0m\u001b[0;34m)\u001b[0m\u001b[0;34m\u001b[0m\u001b[0;34m\u001b[0m\u001b[0m\n\u001b[0m\u001b[1;32m    317\u001b[0m \u001b[0;34m\u001b[0m\u001b[0m\n\u001b[1;32m    318\u001b[0m         \u001b[0;32mreturn\u001b[0m \u001b[0mobservations\u001b[0m\u001b[0;34m,\u001b[0m \u001b[0mrewards\u001b[0m\u001b[0;34m,\u001b[0m \u001b[0mdones\u001b[0m\u001b[0;34m,\u001b[0m \u001b[0minfos\u001b[0m\u001b[0;34m\u001b[0m\u001b[0;34m\u001b[0m\u001b[0m\n",
      "\u001b[0;32m~/Github/cpr-appropriation/venv/lib/python3.9/site-packages/gym_cpr_grid/cpr_grid.py\u001b[0m in \u001b[0;36m_respawn_resources\u001b[0;34m(self)\u001b[0m\n\u001b[1;32m    446\u001b[0m         \u001b[0;32mfor\u001b[0m \u001b[0mx\u001b[0m\u001b[0;34m,\u001b[0m \u001b[0my\u001b[0m \u001b[0;32min\u001b[0m \u001b[0mitertools\u001b[0m\u001b[0;34m.\u001b[0m\u001b[0mproduct\u001b[0m\u001b[0;34m(\u001b[0m\u001b[0mrange\u001b[0m\u001b[0;34m(\u001b[0m\u001b[0mself\u001b[0m\u001b[0;34m.\u001b[0m\u001b[0mgrid_width\u001b[0m\u001b[0;34m)\u001b[0m\u001b[0;34m,\u001b[0m \u001b[0mrange\u001b[0m\u001b[0;34m(\u001b[0m\u001b[0mself\u001b[0m\u001b[0;34m.\u001b[0m\u001b[0mgrid_height\u001b[0m\u001b[0;34m)\u001b[0m\u001b[0;34m)\u001b[0m\u001b[0;34m:\u001b[0m\u001b[0;34m\u001b[0m\u001b[0;34m\u001b[0m\u001b[0m\n\u001b[1;32m    447\u001b[0m             \u001b[0;32mif\u001b[0m \u001b[0mself\u001b[0m\u001b[0;34m.\u001b[0m\u001b[0mgrid\u001b[0m\u001b[0;34m[\u001b[0m\u001b[0my\u001b[0m\u001b[0;34m,\u001b[0m \u001b[0mx\u001b[0m\u001b[0;34m]\u001b[0m \u001b[0;34m==\u001b[0m \u001b[0mutils\u001b[0m\u001b[0;34m.\u001b[0m\u001b[0mGridCell\u001b[0m\u001b[0;34m.\u001b[0m\u001b[0mEMPTY\u001b[0m\u001b[0;34m.\u001b[0m\u001b[0mvalue\u001b[0m\u001b[0;34m:\u001b[0m\u001b[0;34m\u001b[0m\u001b[0;34m\u001b[0m\u001b[0m\n\u001b[0;32m--> 448\u001b[0;31m                 \u001b[0mball\u001b[0m \u001b[0;34m=\u001b[0m \u001b[0mself\u001b[0m\u001b[0;34m.\u001b[0m\u001b[0m_extract_ball\u001b[0m\u001b[0;34m(\u001b[0m\u001b[0mx\u001b[0m\u001b[0;34m,\u001b[0m \u001b[0my\u001b[0m\u001b[0;34m)\u001b[0m\u001b[0;34m\u001b[0m\u001b[0;34m\u001b[0m\u001b[0m\n\u001b[0m\u001b[1;32m    449\u001b[0m                 \u001b[0ml\u001b[0m \u001b[0;34m=\u001b[0m \u001b[0mlen\u001b[0m\u001b[0;34m(\u001b[0m\u001b[0mball\u001b[0m\u001b[0;34m[\u001b[0m\u001b[0mball\u001b[0m \u001b[0;34m==\u001b[0m \u001b[0mutils\u001b[0m\u001b[0;34m.\u001b[0m\u001b[0mGridCell\u001b[0m\u001b[0;34m.\u001b[0m\u001b[0mRESOURCE\u001b[0m\u001b[0;34m.\u001b[0m\u001b[0mvalue\u001b[0m\u001b[0;34m]\u001b[0m\u001b[0;34m)\u001b[0m\u001b[0;34m\u001b[0m\u001b[0;34m\u001b[0m\u001b[0m\n\u001b[1;32m    450\u001b[0m                 \u001b[0mp\u001b[0m \u001b[0;34m=\u001b[0m \u001b[0mself\u001b[0m\u001b[0;34m.\u001b[0m\u001b[0m_respawn_probability\u001b[0m\u001b[0;34m(\u001b[0m\u001b[0ml\u001b[0m\u001b[0;34m)\u001b[0m\u001b[0;34m\u001b[0m\u001b[0;34m\u001b[0m\u001b[0m\n",
      "\u001b[0;32m~/Github/cpr-appropriation/venv/lib/python3.9/site-packages/gym_cpr_grid/cpr_grid.py\u001b[0m in \u001b[0;36m_extract_ball\u001b[0;34m(self, x, y)\u001b[0m\n\u001b[1;32m    558\u001b[0m         \"\"\"\n\u001b[1;32m    559\u001b[0m         \u001b[0;31m# Pad the 2D grid so as not have indexing errors in ball extraction\u001b[0m\u001b[0;34m\u001b[0m\u001b[0;34m\u001b[0m\u001b[0;34m\u001b[0m\u001b[0m\n\u001b[0;32m--> 560\u001b[0;31m         padded_grid, x_pad_width, y_pad_width = self._pad_grid(\n\u001b[0m\u001b[1;32m    561\u001b[0m             \u001b[0mself\u001b[0m\u001b[0;34m.\u001b[0m\u001b[0mgrid\u001b[0m\u001b[0;34m,\u001b[0m\u001b[0;34m\u001b[0m\u001b[0;34m\u001b[0m\u001b[0m\n\u001b[1;32m    562\u001b[0m             \u001b[0mx\u001b[0m\u001b[0;34m,\u001b[0m\u001b[0;34m\u001b[0m\u001b[0;34m\u001b[0m\u001b[0m\n",
      "\u001b[0;32m~/Github/cpr-appropriation/venv/lib/python3.9/site-packages/gym_cpr_grid/cpr_grid.py\u001b[0m in \u001b[0;36m_pad_grid\u001b[0;34m(self, grid, x, y, xl, yl, pad_value)\u001b[0m\n\u001b[1;32m    476\u001b[0m         )\n\u001b[1;32m    477\u001b[0m         y_pad_width = (\n\u001b[0;32m--> 478\u001b[0;31m             \u001b[0mabs\u001b[0m\u001b[0;34m(\u001b[0m\u001b[0mnp\u001b[0m\u001b[0;34m.\u001b[0m\u001b[0mclip\u001b[0m\u001b[0;34m(\u001b[0m\u001b[0my\u001b[0m \u001b[0;34m-\u001b[0m \u001b[0myl\u001b[0m\u001b[0;34m,\u001b[0m \u001b[0;32mNone\u001b[0m\u001b[0;34m,\u001b[0m \u001b[0;36m0\u001b[0m\u001b[0;34m)\u001b[0m\u001b[0;34m)\u001b[0m\u001b[0;34m,\u001b[0m\u001b[0;34m\u001b[0m\u001b[0;34m\u001b[0m\u001b[0m\n\u001b[0m\u001b[1;32m    479\u001b[0m             \u001b[0mnp\u001b[0m\u001b[0;34m.\u001b[0m\u001b[0mclip\u001b[0m\u001b[0;34m(\u001b[0m\u001b[0my\u001b[0m \u001b[0;34m+\u001b[0m \u001b[0myl\u001b[0m \u001b[0;34m-\u001b[0m \u001b[0mheight\u001b[0m \u001b[0;34m+\u001b[0m \u001b[0;36m1\u001b[0m\u001b[0;34m,\u001b[0m \u001b[0;36m0\u001b[0m\u001b[0;34m,\u001b[0m \u001b[0;32mNone\u001b[0m\u001b[0;34m)\u001b[0m\u001b[0;34m,\u001b[0m\u001b[0;34m\u001b[0m\u001b[0;34m\u001b[0m\u001b[0m\n\u001b[1;32m    480\u001b[0m         )\n",
      "\u001b[0;32m<__array_function__ internals>\u001b[0m in \u001b[0;36mclip\u001b[0;34m(*args, **kwargs)\u001b[0m\n",
      "\u001b[0;32m~/Github/cpr-appropriation/venv/lib/python3.9/site-packages/numpy/core/fromnumeric.py\u001b[0m in \u001b[0;36mclip\u001b[0;34m(a, a_min, a_max, out, **kwargs)\u001b[0m\n\u001b[1;32m   2113\u001b[0m \u001b[0;34m\u001b[0m\u001b[0m\n\u001b[1;32m   2114\u001b[0m     \"\"\"\n\u001b[0;32m-> 2115\u001b[0;31m     \u001b[0;32mreturn\u001b[0m \u001b[0m_wrapfunc\u001b[0m\u001b[0;34m(\u001b[0m\u001b[0ma\u001b[0m\u001b[0;34m,\u001b[0m \u001b[0;34m'clip'\u001b[0m\u001b[0;34m,\u001b[0m \u001b[0ma_min\u001b[0m\u001b[0;34m,\u001b[0m \u001b[0ma_max\u001b[0m\u001b[0;34m,\u001b[0m \u001b[0mout\u001b[0m\u001b[0;34m=\u001b[0m\u001b[0mout\u001b[0m\u001b[0;34m,\u001b[0m \u001b[0;34m**\u001b[0m\u001b[0mkwargs\u001b[0m\u001b[0;34m)\u001b[0m\u001b[0;34m\u001b[0m\u001b[0;34m\u001b[0m\u001b[0m\n\u001b[0m\u001b[1;32m   2116\u001b[0m \u001b[0;34m\u001b[0m\u001b[0m\n\u001b[1;32m   2117\u001b[0m \u001b[0;34m\u001b[0m\u001b[0m\n",
      "\u001b[0;32m~/Github/cpr-appropriation/venv/lib/python3.9/site-packages/numpy/core/fromnumeric.py\u001b[0m in \u001b[0;36m_wrapfunc\u001b[0;34m(obj, method, *args, **kwds)\u001b[0m\n\u001b[1;32m     52\u001b[0m     \u001b[0mbound\u001b[0m \u001b[0;34m=\u001b[0m \u001b[0mgetattr\u001b[0m\u001b[0;34m(\u001b[0m\u001b[0mobj\u001b[0m\u001b[0;34m,\u001b[0m \u001b[0mmethod\u001b[0m\u001b[0;34m,\u001b[0m \u001b[0;32mNone\u001b[0m\u001b[0;34m)\u001b[0m\u001b[0;34m\u001b[0m\u001b[0;34m\u001b[0m\u001b[0m\n\u001b[1;32m     53\u001b[0m     \u001b[0;32mif\u001b[0m \u001b[0mbound\u001b[0m \u001b[0;32mis\u001b[0m \u001b[0;32mNone\u001b[0m\u001b[0;34m:\u001b[0m\u001b[0;34m\u001b[0m\u001b[0;34m\u001b[0m\u001b[0m\n\u001b[0;32m---> 54\u001b[0;31m         \u001b[0;32mreturn\u001b[0m \u001b[0m_wrapit\u001b[0m\u001b[0;34m(\u001b[0m\u001b[0mobj\u001b[0m\u001b[0;34m,\u001b[0m \u001b[0mmethod\u001b[0m\u001b[0;34m,\u001b[0m \u001b[0;34m*\u001b[0m\u001b[0margs\u001b[0m\u001b[0;34m,\u001b[0m \u001b[0;34m**\u001b[0m\u001b[0mkwds\u001b[0m\u001b[0;34m)\u001b[0m\u001b[0;34m\u001b[0m\u001b[0;34m\u001b[0m\u001b[0m\n\u001b[0m\u001b[1;32m     55\u001b[0m \u001b[0;34m\u001b[0m\u001b[0m\n\u001b[1;32m     56\u001b[0m     \u001b[0;32mtry\u001b[0m\u001b[0;34m:\u001b[0m\u001b[0;34m\u001b[0m\u001b[0;34m\u001b[0m\u001b[0m\n",
      "\u001b[0;32m~/Github/cpr-appropriation/venv/lib/python3.9/site-packages/numpy/core/fromnumeric.py\u001b[0m in \u001b[0;36m_wrapit\u001b[0;34m(obj, method, *args, **kwds)\u001b[0m\n\u001b[1;32m     41\u001b[0m     \u001b[0;32mexcept\u001b[0m \u001b[0mAttributeError\u001b[0m\u001b[0;34m:\u001b[0m\u001b[0;34m\u001b[0m\u001b[0;34m\u001b[0m\u001b[0m\n\u001b[1;32m     42\u001b[0m         \u001b[0mwrap\u001b[0m \u001b[0;34m=\u001b[0m \u001b[0;32mNone\u001b[0m\u001b[0;34m\u001b[0m\u001b[0;34m\u001b[0m\u001b[0m\n\u001b[0;32m---> 43\u001b[0;31m     \u001b[0mresult\u001b[0m \u001b[0;34m=\u001b[0m \u001b[0mgetattr\u001b[0m\u001b[0;34m(\u001b[0m\u001b[0masarray\u001b[0m\u001b[0;34m(\u001b[0m\u001b[0mobj\u001b[0m\u001b[0;34m)\u001b[0m\u001b[0;34m,\u001b[0m \u001b[0mmethod\u001b[0m\u001b[0;34m)\u001b[0m\u001b[0;34m(\u001b[0m\u001b[0;34m*\u001b[0m\u001b[0margs\u001b[0m\u001b[0;34m,\u001b[0m \u001b[0;34m**\u001b[0m\u001b[0mkwds\u001b[0m\u001b[0;34m)\u001b[0m\u001b[0;34m\u001b[0m\u001b[0;34m\u001b[0m\u001b[0m\n\u001b[0m\u001b[1;32m     44\u001b[0m     \u001b[0;32mif\u001b[0m \u001b[0mwrap\u001b[0m\u001b[0;34m:\u001b[0m\u001b[0;34m\u001b[0m\u001b[0;34m\u001b[0m\u001b[0m\n\u001b[1;32m     45\u001b[0m         \u001b[0;32mif\u001b[0m \u001b[0;32mnot\u001b[0m \u001b[0misinstance\u001b[0m\u001b[0;34m(\u001b[0m\u001b[0mresult\u001b[0m\u001b[0;34m,\u001b[0m \u001b[0mmu\u001b[0m\u001b[0;34m.\u001b[0m\u001b[0mndarray\u001b[0m\u001b[0;34m)\u001b[0m\u001b[0;34m:\u001b[0m\u001b[0;34m\u001b[0m\u001b[0;34m\u001b[0m\u001b[0m\n",
      "\u001b[0;32m~/Github/cpr-appropriation/venv/lib/python3.9/site-packages/numpy/core/_methods.py\u001b[0m in \u001b[0;36m_clip\u001b[0;34m(a, min, max, out, casting, **kwargs)\u001b[0m\n\u001b[1;32m    132\u001b[0m     \u001b[0;32mif\u001b[0m \u001b[0;32mnot\u001b[0m \u001b[0m_clip_dep_is_byte_swapped\u001b[0m\u001b[0;34m(\u001b[0m\u001b[0ma\u001b[0m\u001b[0;34m)\u001b[0m \u001b[0;32mand\u001b[0m \u001b[0;32mnot\u001b[0m \u001b[0m_clip_dep_is_byte_swapped\u001b[0m\u001b[0;34m(\u001b[0m\u001b[0mout\u001b[0m\u001b[0;34m)\u001b[0m\u001b[0;34m:\u001b[0m\u001b[0;34m\u001b[0m\u001b[0;34m\u001b[0m\u001b[0m\n\u001b[1;32m    133\u001b[0m         \u001b[0musing_deprecated_nan\u001b[0m \u001b[0;34m=\u001b[0m \u001b[0;32mFalse\u001b[0m\u001b[0;34m\u001b[0m\u001b[0;34m\u001b[0m\u001b[0m\n\u001b[0;32m--> 134\u001b[0;31m         \u001b[0;32mif\u001b[0m \u001b[0m_clip_dep_is_scalar_nan\u001b[0m\u001b[0;34m(\u001b[0m\u001b[0mmin\u001b[0m\u001b[0;34m)\u001b[0m\u001b[0;34m:\u001b[0m\u001b[0;34m\u001b[0m\u001b[0;34m\u001b[0m\u001b[0m\n\u001b[0m\u001b[1;32m    135\u001b[0m             \u001b[0mmin\u001b[0m \u001b[0;34m=\u001b[0m \u001b[0;34m-\u001b[0m\u001b[0mfloat\u001b[0m\u001b[0;34m(\u001b[0m\u001b[0;34m'inf'\u001b[0m\u001b[0;34m)\u001b[0m\u001b[0;34m\u001b[0m\u001b[0;34m\u001b[0m\u001b[0m\n\u001b[1;32m    136\u001b[0m             \u001b[0musing_deprecated_nan\u001b[0m \u001b[0;34m=\u001b[0m \u001b[0;32mTrue\u001b[0m\u001b[0;34m\u001b[0m\u001b[0;34m\u001b[0m\u001b[0m\n",
      "\u001b[0;32m~/Github/cpr-appropriation/venv/lib/python3.9/site-packages/numpy/core/_methods.py\u001b[0m in \u001b[0;36m_clip_dep_is_scalar_nan\u001b[0;34m(a)\u001b[0m\n\u001b[1;32m     92\u001b[0m     \u001b[0;31m# guarded to protect circular imports\u001b[0m\u001b[0;34m\u001b[0m\u001b[0;34m\u001b[0m\u001b[0;34m\u001b[0m\u001b[0m\n\u001b[1;32m     93\u001b[0m     \u001b[0;32mfrom\u001b[0m \u001b[0mnumpy\u001b[0m\u001b[0;34m.\u001b[0m\u001b[0mcore\u001b[0m\u001b[0;34m.\u001b[0m\u001b[0mfromnumeric\u001b[0m \u001b[0;32mimport\u001b[0m \u001b[0mndim\u001b[0m\u001b[0;34m\u001b[0m\u001b[0;34m\u001b[0m\u001b[0m\n\u001b[0;32m---> 94\u001b[0;31m     \u001b[0;32mif\u001b[0m \u001b[0mndim\u001b[0m\u001b[0;34m(\u001b[0m\u001b[0ma\u001b[0m\u001b[0;34m)\u001b[0m \u001b[0;34m!=\u001b[0m \u001b[0;36m0\u001b[0m\u001b[0;34m:\u001b[0m\u001b[0;34m\u001b[0m\u001b[0;34m\u001b[0m\u001b[0m\n\u001b[0m\u001b[1;32m     95\u001b[0m         \u001b[0;32mreturn\u001b[0m \u001b[0;32mFalse\u001b[0m\u001b[0;34m\u001b[0m\u001b[0;34m\u001b[0m\u001b[0m\n\u001b[1;32m     96\u001b[0m     \u001b[0;32mtry\u001b[0m\u001b[0;34m:\u001b[0m\u001b[0;34m\u001b[0m\u001b[0;34m\u001b[0m\u001b[0m\n",
      "\u001b[0;32m<__array_function__ internals>\u001b[0m in \u001b[0;36mndim\u001b[0;34m(*args, **kwargs)\u001b[0m\n",
      "\u001b[0;32m~/Github/cpr-appropriation/venv/lib/python3.9/site-packages/numpy/core/fromnumeric.py\u001b[0m in \u001b[0;36mndim\u001b[0;34m(a)\u001b[0m\n\u001b[1;32m   3158\u001b[0m     \"\"\"\n\u001b[1;32m   3159\u001b[0m     \u001b[0;32mtry\u001b[0m\u001b[0;34m:\u001b[0m\u001b[0;34m\u001b[0m\u001b[0;34m\u001b[0m\u001b[0m\n\u001b[0;32m-> 3160\u001b[0;31m         \u001b[0;32mreturn\u001b[0m \u001b[0ma\u001b[0m\u001b[0;34m.\u001b[0m\u001b[0mndim\u001b[0m\u001b[0;34m\u001b[0m\u001b[0;34m\u001b[0m\u001b[0m\n\u001b[0m\u001b[1;32m   3161\u001b[0m     \u001b[0;32mexcept\u001b[0m \u001b[0mAttributeError\u001b[0m\u001b[0;34m:\u001b[0m\u001b[0;34m\u001b[0m\u001b[0;34m\u001b[0m\u001b[0m\n\u001b[1;32m   3162\u001b[0m         \u001b[0;32mreturn\u001b[0m \u001b[0masarray\u001b[0m\u001b[0;34m(\u001b[0m\u001b[0ma\u001b[0m\u001b[0;34m)\u001b[0m\u001b[0;34m.\u001b[0m\u001b[0mndim\u001b[0m\u001b[0;34m\u001b[0m\u001b[0;34m\u001b[0m\u001b[0m\n",
      "\u001b[0;31mKeyboardInterrupt\u001b[0m: "
     ]
    },
    {
     "data": {
      "image/png": "[encoded data removed]",
      "text/plain": [
       "<Figure size 864x720 with 1 Axes>"
      ]
     },
     "metadata": {
      "needs_background": "light"
     },
     "output_type": "display_data"
    }
   ],
   "source": [
    "observations = env.reset()\n",
    "fig, ax, img = env.plot(env.render('rgb_array'))\n",
    "for _ in range(env.max_steps):\n",
    "    display.display(plt.gcf())\n",
    "    action_dict = {h: env.action_space.sample() for h in range(env.n_agents)}\n",
    "    print(action_dict)\n",
    "    observations, rewards, dones, infos = env.step(action_dict)\n",
    "    print(infos)\n",
    "    display.clear_output(wait=True)\n",
    "    img.set_data(env.render(mode='rgb_array'))\n",
    "env.close()"
   ]
  },
  {
   "cell_type": "markdown",
   "id": "1acc3151",
   "metadata": {},
   "source": [
    "## DQN baseline"
   ]
  },
  {
   "cell_type": "markdown",
   "id": "37a10032",
   "metadata": {},
   "source": [
    "### Without tagging"
   ]
  },
  {
   "cell_type": "code",
   "execution_count": 37,
   "id": "084d90aa",
   "metadata": {},
   "outputs": [
    {
     "data": {
      "text/html": [
       "== Status ==<br>Memory usage on this node: 10.3/16.0 GiB<br>Using FIFO scheduling algorithm.<br>Resources requested: 0/16 CPUs, 0/0 GPUs, 0.0/4.53 GiB heap, 0.0/2.27 GiB objects (0.0/1.0 CPU_group_0_057347ab6d6b3f2ec9e2aa876b55c925, 0.0/1.0 CPU_group_1_057347ab6d6b3f2ec9e2aa876b55c925, 0.0/2.0 CPU_group_057347ab6d6b3f2ec9e2aa876b55c925)<br>Result logdir: /Users/jobs/Github/cpr-appropriation/rllib_logs/DQN_2021-08-23_16-36-02<br>Number of trials: 1/1 (1 TERMINATED)<br><table>\n",
       "<thead>\n",
       "<tr><th>Trial name                                </th><th>status    </th><th>loc  </th><th style=\"text-align: right;\">  episodes</th><th style=\"text-align: right;\">      U</th><th style=\"text-align: right;\">       E</th><th style=\"text-align: right;\">      S</th><th style=\"text-align: right;\">  P</th></tr>\n",
       "</thead>\n",
       "<tbody>\n",
       "<tr><td>DQN_gym_cpr_grid:CPRGridEnv-v0_70c20_00000</td><td>TERMINATED</td><td>     </td><td style=\"text-align: right;\">         2</td><td style=\"text-align: right;\">2.45176</td><td style=\"text-align: right;\">0.860419</td><td style=\"text-align: right;\">273.469</td><td style=\"text-align: right;\">nan</td></tr>\n",
       "</tbody>\n",
       "</table><br><br>"
      ],
      "text/plain": [
       "<IPython.core.display.HTML object>"
      ]
     },
     "metadata": {},
     "output_type": "display_data"
    },
    {
     "name": "stderr",
     "output_type": "stream",
     "text": [
      "2021-08-23 16:36:55,307\tINFO tune.py:550 -- Total run time: 52.93 seconds (52.72 seconds for the tuning loop).\n"
     ]
    }
   ],
   "source": [
    "experiment_analysis = rllib.dqn_baseline(\n",
    "    n_agents,\n",
    "    grid_width,\n",
    "    grid_height,\n",
    "    wandb_project,\n",
    "    wandb_api_key,\n",
    "    rllib_log_dir,\n",
    "    max_episodes,\n",
    "    max_steps=max_steps,\n",
    "    tagging_ability=False,\n",
    "    gifting_mechanism=None,\n",
    "    num_workers=1,\n",
    "    jupyter=True,\n",
    "    seed=seed\n",
    ")"
   ]
  },
  {
   "cell_type": "markdown",
   "id": "7db0def0",
   "metadata": {},
   "source": [
    "### With tagging"
   ]
  },
  {
   "cell_type": "code",
   "execution_count": 222,
   "id": "d9a547dd",
   "metadata": {},
   "outputs": [
    {
     "ename": "TypeError",
     "evalue": "dqn_baseline() missing 1 required positional argument: 'max_episodes'",
     "output_type": "error",
     "traceback": [
      "\u001b[0;31m---------------------------------------------------------------------------\u001b[0m",
      "\u001b[0;31mTypeError\u001b[0m                                 Traceback (most recent call last)",
      "\u001b[0;32m/var/folders/pp/wfj1kcws58g7pxksj9k8zdhw0000gn/T/ipykernel_42485/3326725698.py\u001b[0m in \u001b[0;36m<module>\u001b[0;34m\u001b[0m\n\u001b[0;32m----> 1\u001b[0;31m experiment_analysis = rllib.dqn_baseline(\n\u001b[0m\u001b[1;32m      2\u001b[0m     \u001b[0mn_agents\u001b[0m\u001b[0;34m,\u001b[0m\u001b[0;34m\u001b[0m\u001b[0;34m\u001b[0m\u001b[0m\n\u001b[1;32m      3\u001b[0m     \u001b[0mgrid_width\u001b[0m\u001b[0;34m,\u001b[0m\u001b[0;34m\u001b[0m\u001b[0;34m\u001b[0m\u001b[0m\n\u001b[1;32m      4\u001b[0m     \u001b[0mgrid_height\u001b[0m\u001b[0;34m,\u001b[0m\u001b[0;34m\u001b[0m\u001b[0;34m\u001b[0m\u001b[0m\n\u001b[1;32m      5\u001b[0m     \u001b[0mwandb_project\u001b[0m\u001b[0;34m,\u001b[0m\u001b[0;34m\u001b[0m\u001b[0;34m\u001b[0m\u001b[0m\n",
      "\u001b[0;31mTypeError\u001b[0m: dqn_baseline() missing 1 required positional argument: 'max_episodes'"
     ]
    }
   ],
   "source": [
    "experiment_analysis = rllib.dqn_baseline(\n",
    "    n_agents,\n",
    "    grid_width,\n",
    "    grid_height,\n",
    "    wandb_project,\n",
    "    wandb_api_key,\n",
    "    rllib_log_dir,\n",
    "    max_episodes,\n",
    "    max_steps=max_steps,\n",
    "    tagging_ability=True,\n",
    "    gifting_mechanism=None,\n",
    "    num_workers=1,\n",
    "    jupyter=True,\n",
    "    seed=seed\n",
    ")"
   ]
  },
  {
   "cell_type": "markdown",
   "id": "1eac3aea",
   "metadata": {},
   "source": [
    "### With gifting"
   ]
  },
  {
   "cell_type": "markdown",
   "id": "1caa0ad7",
   "metadata": {},
   "source": [
    "#### Zero sum"
   ]
  },
  {
   "cell_type": "code",
   "execution_count": null,
   "id": "f44c3bf3",
   "metadata": {},
   "outputs": [],
   "source": [
    "experiment_analysis = rllib.dqn_baseline(\n",
    "    n_agents,\n",
    "    grid_width,\n",
    "    grid_height,\n",
    "    wandb_project,\n",
    "    wandb_api_key,\n",
    "    rllib_log_dir,\n",
    "    max_episodes,\n",
    "    max_steps=max_steps,\n",
    "    tagging_ability=False,\n",
    "    gifting_mechanism=0,\n",
    "    num_workers=1,\n",
    "    jupyter=True,\n",
    "    seed=seed\n",
    ")"
   ]
  },
  {
   "cell_type": "markdown",
   "id": "79c78584",
   "metadata": {},
   "source": [
    "#### Fixed budget"
   ]
  },
  {
   "cell_type": "code",
   "execution_count": null,
   "id": "1744213b",
   "metadata": {},
   "outputs": [],
   "source": [
    "experiment_analysis = rllib.dqn_baseline(\n",
    "    n_agents,\n",
    "    grid_width,\n",
    "    grid_height,\n",
    "    wandb_project,\n",
    "    wandb_api_key,\n",
    "    rllib_log_dir,\n",
    "    max_episodes,\n",
    "    max_steps=max_steps,\n",
    "    tagging_ability=False,\n",
    "    gifting_mechanism=1,\n",
    "    num_workers=1,\n",
    "    jupyter=True,\n",
    "    seed=seed\n",
    ")"
   ]
  },
  {
   "cell_type": "markdown",
   "id": "5644ef8c",
   "metadata": {},
   "source": [
    "#### Replenishable budget"
   ]
  },
  {
   "cell_type": "code",
   "execution_count": null,
   "id": "20703058",
   "metadata": {},
   "outputs": [],
   "source": [
    "experiment_analysis = rllib.dqn_baseline(\n",
    "    n_agents,\n",
    "    grid_width,\n",
    "    grid_height,\n",
    "    wandb_project,\n",
    "    wandb_api_key,\n",
    "    rllib_log_dir,\n",
    "    max_episodes,\n",
    "    max_steps=max_steps,\n",
    "    tagging_ability=False,\n",
    "    gifting_mechanism=2,\n",
    "    num_workers=1,\n",
    "    jupyter=True,\n",
    "    seed=seed\n",
    ")"
   ]
  },
  {
   "cell_type": "markdown",
   "id": "7dff1649",
   "metadata": {},
   "source": [
    "## Policy gradient methods"
   ]
  },
  {
   "cell_type": "code",
   "execution_count": 82,
   "id": "7e831bf0",
   "metadata": {},
   "outputs": [],
   "source": [
    "max_epochs = 1000\n",
    "checkpoints_path = \"./checkpoints\"\n",
    "save_every = 100\n",
    "wandb_config = {\n",
    "    \"api_key\": wandb_api_key,\n",
    "    \"project\": wandb_project,\n",
    "    \"entity\": \"wadaboa\",\n",
    "}"
   ]
  },
  {
   "cell_type": "markdown",
   "id": "783af399",
   "metadata": {},
   "source": [
    "### VPG"
   ]
  },
  {
   "cell_type": "code",
   "execution_count": 83,
   "id": "56e52426",
   "metadata": {
    "scrolled": true
   },
   "outputs": [
    {
     "name": "stderr",
     "output_type": "stream",
     "text": [
      "\u001b[34m\u001b[1mwandb\u001b[0m: Currently logged in as: \u001b[33mwadaboa\u001b[0m (use `wandb login --relogin` to force relogin)\n"
     ]
    },
    {
     "data": {
      "text/html": [
       "\n",
       "                Tracking run with wandb version 0.12.0<br/>\n",
       "                Syncing run <strong style=\"color:#cdcd00\">worldly-spaceship-17</strong> to <a href=\"https://wandb.ai\" target=\"_blank\">Weights & Biases</a> <a href=\"https://docs.wandb.com/integrations/jupyter.html\" target=\"_blank\">(Documentation)</a>.<br/>\n",
       "                Project page: <a href=\"https://wandb.ai/wadaboa/cpr-appropriation\" target=\"_blank\">https://wandb.ai/wadaboa/cpr-appropriation</a><br/>\n",
       "                Run page: <a href=\"https://wandb.ai/wadaboa/cpr-appropriation/runs/n20iaxbe\" target=\"_blank\">https://wandb.ai/wadaboa/cpr-appropriation/runs/n20iaxbe</a><br/>\n",
       "                Run data is saved locally in <code>/Users/jobs/Github/cpr-appropriation/wandb/run-20210823_170020-n20iaxbe</code><br/><br/>\n",
       "            "
      ],
      "text/plain": [
       "<IPython.core.display.HTML object>"
      ]
     },
     "metadata": {},
     "output_type": "display_data"
    },
    {
     "name": "stderr",
     "output_type": "stream",
     "text": [
      "2021-08-23 17:00:21.516 | INFO     | src.policies:train:93 - Epoch 1 / 1000\n",
      "/Users/jobs/Github/cpr-appropriation/src/models.py:39: UserWarning: Implicit dimension choice for log_softmax has been deprecated. Change the call to include dim=X as an argument.\n",
      "  return self.out(x)\n",
      "2021-08-23 17:00:40.304 | INFO     | src.policies:execute_episode:212 - Early stopping, all agents done\n",
      "2021-08-23 17:00:58.861 | INFO     | src.policies:execute_episode:212 - Early stopping, all agents done\n",
      "2021-08-23 17:00:58.867 | INFO     | src.policies:train:105 - Working with a batch size of 22\n",
      "2021-08-23 17:01:13.539 | INFO     | src.policies:train:93 - Epoch 2 / 1000\n",
      "2021-08-23 17:01:32.378 | INFO     | src.policies:execute_episode:212 - Early stopping, all agents done\n",
      "2021-08-23 17:01:51.464 | INFO     | src.policies:execute_episode:212 - Early stopping, all agents done\n",
      "2021-08-23 17:01:51.470 | INFO     | src.policies:train:105 - Working with a batch size of 22\n",
      "2021-08-23 17:02:07.115 | INFO     | src.policies:train:93 - Epoch 3 / 1000\n",
      "2021-08-23 17:02:27.440 | INFO     | src.policies:execute_episode:212 - Early stopping, all agents done\n",
      "2021-08-23 17:02:46.748 | INFO     | src.policies:execute_episode:212 - Early stopping, all agents done\n",
      "2021-08-23 17:02:46.754 | INFO     | src.policies:train:105 - Working with a batch size of 22\n",
      "2021-08-23 17:03:01.596 | INFO     | src.policies:train:93 - Epoch 4 / 1000\n",
      "2021-08-23 17:03:20.347 | INFO     | src.policies:execute_episode:212 - Early stopping, all agents done\n",
      "2021-08-23 17:03:38.616 | INFO     | src.policies:execute_episode:212 - Early stopping, all agents done\n",
      "2021-08-23 17:03:38.621 | INFO     | src.policies:train:105 - Working with a batch size of 22\n",
      "2021-08-23 17:03:53.320 | INFO     | src.policies:train:93 - Epoch 5 / 1000\n",
      "2021-08-23 17:04:11.262 | INFO     | src.policies:execute_episode:212 - Early stopping, all agents done\n",
      "2021-08-23 17:04:29.122 | INFO     | src.policies:execute_episode:212 - Early stopping, all agents done\n",
      "2021-08-23 17:04:29.128 | INFO     | src.policies:train:105 - Working with a batch size of 22\n",
      "2021-08-23 17:04:44.016 | INFO     | src.policies:train:93 - Epoch 6 / 1000\n",
      "2021-08-23 17:05:02.681 | INFO     | src.policies:execute_episode:212 - Early stopping, all agents done\n",
      "2021-08-23 17:05:20.960 | INFO     | src.policies:execute_episode:212 - Early stopping, all agents done\n",
      "2021-08-23 17:05:20.966 | INFO     | src.policies:train:105 - Working with a batch size of 22\n",
      "2021-08-23 17:05:35.979 | INFO     | src.policies:train:93 - Epoch 7 / 1000\n",
      "2021-08-23 17:05:54.406 | INFO     | src.policies:execute_episode:212 - Early stopping, all agents done\n",
      "2021-08-23 17:06:13.957 | INFO     | src.policies:execute_episode:212 - Early stopping, all agents done\n",
      "2021-08-23 17:06:13.964 | INFO     | src.policies:train:105 - Working with a batch size of 22\n",
      "2021-08-23 17:06:28.950 | INFO     | src.policies:train:93 - Epoch 8 / 1000\n",
      "2021-08-23 17:06:48.420 | INFO     | src.policies:execute_episode:212 - Early stopping, all agents done\n",
      "2021-08-23 17:07:08.108 | INFO     | src.policies:execute_episode:212 - Early stopping, all agents done\n",
      "2021-08-23 17:07:08.114 | INFO     | src.policies:train:105 - Working with a batch size of 22\n",
      "2021-08-23 17:07:23.579 | INFO     | src.policies:train:93 - Epoch 9 / 1000\n",
      "2021-08-23 17:07:43.071 | INFO     | src.policies:execute_episode:212 - Early stopping, all agents done\n",
      "2021-08-23 17:08:03.994 | INFO     | src.policies:execute_episode:212 - Early stopping, all agents done\n",
      "2021-08-23 17:08:04.000 | INFO     | src.policies:train:105 - Working with a batch size of 22\n",
      "2021-08-23 17:08:20.206 | INFO     | src.policies:train:93 - Epoch 10 / 1000\n",
      "2021-08-23 17:08:40.481 | INFO     | src.policies:execute_episode:212 - Early stopping, all agents done\n",
      "2021-08-23 17:09:01.122 | INFO     | src.policies:execute_episode:212 - Early stopping, all agents done\n",
      "2021-08-23 17:09:01.128 | INFO     | src.policies:train:105 - Working with a batch size of 22\n",
      "2021-08-23 17:09:17.352 | INFO     | src.policies:train:93 - Epoch 11 / 1000\n",
      "2021-08-23 17:09:37.939 | INFO     | src.policies:execute_episode:212 - Early stopping, all agents done\n",
      "2021-08-23 17:09:59.668 | INFO     | src.policies:execute_episode:212 - Early stopping, all agents done\n",
      "2021-08-23 17:09:59.673 | INFO     | src.policies:train:105 - Working with a batch size of 22\n",
      "2021-08-23 17:10:16.278 | INFO     | src.policies:train:93 - Epoch 12 / 1000\n",
      "2021-08-23 17:10:37.300 | INFO     | src.policies:execute_episode:212 - Early stopping, all agents done\n",
      "2021-08-23 17:10:57.736 | INFO     | src.policies:execute_episode:212 - Early stopping, all agents done\n",
      "2021-08-23 17:10:57.742 | INFO     | src.policies:train:105 - Working with a batch size of 22\n",
      "2021-08-23 17:11:13.806 | INFO     | src.policies:train:93 - Epoch 13 / 1000\n",
      "2021-08-23 17:11:34.718 | INFO     | src.policies:execute_episode:212 - Early stopping, all agents done\n",
      "2021-08-23 17:11:56.798 | INFO     | src.policies:execute_episode:212 - Early stopping, all agents done\n",
      "2021-08-23 17:11:56.805 | INFO     | src.policies:train:105 - Working with a batch size of 22\n",
      "2021-08-23 17:12:14.881 | INFO     | src.policies:train:93 - Epoch 14 / 1000\n",
      "2021-08-23 17:12:38.327 | INFO     | src.policies:execute_episode:212 - Early stopping, all agents done\n",
      "2021-08-23 17:13:00.530 | INFO     | src.policies:execute_episode:212 - Early stopping, all agents done\n",
      "2021-08-23 17:13:00.536 | INFO     | src.policies:train:105 - Working with a batch size of 22\n",
      "2021-08-23 17:13:17.593 | INFO     | src.policies:train:93 - Epoch 15 / 1000\n",
      "2021-08-23 17:13:39.087 | INFO     | src.policies:execute_episode:212 - Early stopping, all agents done\n",
      "2021-08-23 17:14:01.278 | INFO     | src.policies:execute_episode:212 - Early stopping, all agents done\n",
      "2021-08-23 17:14:01.285 | INFO     | src.policies:train:105 - Working with a batch size of 22\n",
      "2021-08-23 17:14:19.080 | INFO     | src.policies:train:93 - Epoch 16 / 1000\n",
      "2021-08-23 17:14:43.780 | INFO     | src.policies:execute_episode:212 - Early stopping, all agents done\n",
      "2021-08-23 17:15:07.058 | INFO     | src.policies:execute_episode:212 - Early stopping, all agents done\n",
      "2021-08-23 17:15:07.064 | INFO     | src.policies:train:105 - Working with a batch size of 22\n",
      "2021-08-23 17:15:24.643 | INFO     | src.policies:train:93 - Epoch 17 / 1000\n",
      "2021-08-23 17:15:47.317 | INFO     | src.policies:execute_episode:212 - Early stopping, all agents done\n",
      "2021-08-23 17:16:11.080 | INFO     | src.policies:execute_episode:212 - Early stopping, all agents done\n",
      "2021-08-23 17:16:11.086 | INFO     | src.policies:train:105 - Working with a batch size of 22\n",
      "2021-08-23 17:16:29.821 | INFO     | src.policies:train:93 - Epoch 18 / 1000\n",
      "2021-08-23 17:16:54.001 | INFO     | src.policies:execute_episode:212 - Early stopping, all agents done\n",
      "2021-08-23 17:17:19.538 | INFO     | src.policies:execute_episode:212 - Early stopping, all agents done\n",
      "2021-08-23 17:17:19.545 | INFO     | src.policies:train:105 - Working with a batch size of 22\n",
      "2021-08-23 17:17:39.525 | INFO     | src.policies:train:93 - Epoch 19 / 1000\n",
      "2021-08-23 17:18:05.106 | INFO     | src.policies:execute_episode:212 - Early stopping, all agents done\n",
      "2021-08-23 17:18:29.136 | INFO     | src.policies:execute_episode:212 - Early stopping, all agents done\n",
      "2021-08-23 17:18:29.143 | INFO     | src.policies:train:105 - Working with a batch size of 22\n",
      "2021-08-23 17:18:48.717 | INFO     | src.policies:train:93 - Epoch 20 / 1000\n",
      "2021-08-23 17:19:16.049 | INFO     | src.policies:execute_episode:212 - Early stopping, all agents done\n",
      "2021-08-23 17:19:41.997 | INFO     | src.policies:execute_episode:212 - Early stopping, all agents done\n",
      "2021-08-23 17:19:42.004 | INFO     | src.policies:train:105 - Working with a batch size of 22\n",
      "2021-08-23 17:19:59.741 | INFO     | src.policies:train:93 - Epoch 21 / 1000\n",
      "2021-08-23 17:20:21.567 | INFO     | src.policies:execute_episode:212 - Early stopping, all agents done\n",
      "2021-08-23 17:20:46.082 | INFO     | src.policies:execute_episode:212 - Early stopping, all agents done\n",
      "2021-08-23 17:20:46.089 | INFO     | src.policies:train:105 - Working with a batch size of 22\n"
     ]
    },
    {
     "ename": "KeyboardInterrupt",
     "evalue": "",
     "output_type": "error",
     "traceback": [
      "\u001b[0;31m---------------------------------------------------------------------------\u001b[0m",
      "\u001b[0;31mKeyboardInterrupt\u001b[0m                         Traceback (most recent call last)",
      "\u001b[0;32m/var/folders/pp/wfj1kcws58g7pxksj9k8zdhw0000gn/T/ipykernel_95876/3149603631.py\u001b[0m in \u001b[0;36m<module>\u001b[0;34m\u001b[0m\n\u001b[1;32m      2\u001b[0m \u001b[0mvpg_baseline_nn\u001b[0m \u001b[0;34m=\u001b[0m \u001b[0mmodels\u001b[0m\u001b[0;34m.\u001b[0m\u001b[0mMLP\u001b[0m\u001b[0;34m(\u001b[0m\u001b[0menv\u001b[0m\u001b[0;34m.\u001b[0m\u001b[0mobservation_space_size\u001b[0m\u001b[0;34m(\u001b[0m\u001b[0;34m)\u001b[0m\u001b[0;34m,\u001b[0m \u001b[0;34m[\u001b[0m\u001b[0;36m32\u001b[0m\u001b[0;34m,\u001b[0m \u001b[0;36m32\u001b[0m\u001b[0;34m]\u001b[0m\u001b[0;34m,\u001b[0m \u001b[0;36m1\u001b[0m\u001b[0;34m)\u001b[0m\u001b[0;34m\u001b[0m\u001b[0;34m\u001b[0m\u001b[0m\n\u001b[1;32m      3\u001b[0m \u001b[0mvpg_policy\u001b[0m \u001b[0;34m=\u001b[0m \u001b[0mpolicies\u001b[0m\u001b[0;34m.\u001b[0m\u001b[0mVPGPolicy\u001b[0m\u001b[0;34m(\u001b[0m\u001b[0menv\u001b[0m\u001b[0;34m,\u001b[0m \u001b[0mvpg_policy_nn\u001b[0m\u001b[0;34m,\u001b[0m \u001b[0mbaseline_nn\u001b[0m\u001b[0;34m=\u001b[0m\u001b[0mvpg_baseline_nn\u001b[0m\u001b[0;34m)\u001b[0m\u001b[0;34m\u001b[0m\u001b[0;34m\u001b[0m\u001b[0m\n\u001b[0;32m----> 4\u001b[0;31m vpg_policy.train(\n\u001b[0m\u001b[1;32m      5\u001b[0m     \u001b[0mmax_epochs\u001b[0m\u001b[0;34m,\u001b[0m\u001b[0;34m\u001b[0m\u001b[0;34m\u001b[0m\u001b[0m\n\u001b[1;32m      6\u001b[0m     \u001b[0msave_every\u001b[0m\u001b[0;34m=\u001b[0m\u001b[0msave_every\u001b[0m\u001b[0;34m,\u001b[0m\u001b[0;34m\u001b[0m\u001b[0;34m\u001b[0m\u001b[0m\n",
      "\u001b[0;32m~/Github/cpr-appropriation/src/policies.py\u001b[0m in \u001b[0;36mtrain\u001b[0;34m(self, max_epochs, lr, discount, batch_size, save_every, checkpoints_path, wandb, wandb_config)\u001b[0m\n\u001b[1;32m    104\u001b[0m             \u001b[0;31m# Get a batch of (s, a, r) tuples\u001b[0m\u001b[0;34m\u001b[0m\u001b[0;34m\u001b[0m\u001b[0;34m\u001b[0m\u001b[0m\n\u001b[1;32m    105\u001b[0m             \u001b[0mlogger\u001b[0m\u001b[0;34m.\u001b[0m\u001b[0minfo\u001b[0m\u001b[0;34m(\u001b[0m\u001b[0;34mf\"Working with a batch size of {len(trajectories)}\"\u001b[0m\u001b[0;34m)\u001b[0m\u001b[0;34m\u001b[0m\u001b[0;34m\u001b[0m\u001b[0m\n\u001b[0;32m--> 106\u001b[0;31m             states, actions, old_log_probs, returns, _ = trajectories.tensorify(\n\u001b[0m\u001b[1;32m    107\u001b[0m                 \u001b[0mself\u001b[0m\u001b[0;34m.\u001b[0m\u001b[0menv\u001b[0m\u001b[0;34m.\u001b[0m\u001b[0mmax_steps\u001b[0m\u001b[0;34m,\u001b[0m\u001b[0;34m\u001b[0m\u001b[0;34m\u001b[0m\u001b[0m\n\u001b[1;32m    108\u001b[0m                 \u001b[0mself\u001b[0m\u001b[0;34m.\u001b[0m\u001b[0menv\u001b[0m\u001b[0;34m.\u001b[0m\u001b[0mobservation_space_size\u001b[0m\u001b[0;34m(\u001b[0m\u001b[0mflattened\u001b[0m\u001b[0;34m=\u001b[0m\u001b[0;32mFalse\u001b[0m\u001b[0;34m)\u001b[0m\u001b[0;34m,\u001b[0m\u001b[0;34m\u001b[0m\u001b[0;34m\u001b[0m\u001b[0m\n",
      "\u001b[0;32m~/Github/cpr-appropriation/src/memory.py\u001b[0m in \u001b[0;36mtensorify\u001b[0;34m(self, max_steps, state_shape, num_actions, discount, ignore_index)\u001b[0m\n\u001b[1;32m    173\u001b[0m         \u001b[0;31m# Update tensors for each trajectory\u001b[0m\u001b[0;34m\u001b[0m\u001b[0;34m\u001b[0m\u001b[0;34m\u001b[0m\u001b[0m\n\u001b[1;32m    174\u001b[0m         \u001b[0;32mfor\u001b[0m \u001b[0mi\u001b[0m\u001b[0;34m,\u001b[0m \u001b[0mtrajectory\u001b[0m \u001b[0;32min\u001b[0m \u001b[0menumerate\u001b[0m\u001b[0;34m(\u001b[0m\u001b[0mself\u001b[0m\u001b[0;34m.\u001b[0m\u001b[0mtrajectories\u001b[0m\u001b[0;34m)\u001b[0m\u001b[0;34m:\u001b[0m\u001b[0;34m\u001b[0m\u001b[0;34m\u001b[0m\u001b[0m\n\u001b[0;32m--> 175\u001b[0;31m             \u001b[0mt_states\u001b[0m \u001b[0;34m=\u001b[0m \u001b[0mtrajectory\u001b[0m\u001b[0;34m.\u001b[0m\u001b[0mget_states\u001b[0m\u001b[0;34m(\u001b[0m\u001b[0mas_torch\u001b[0m\u001b[0;34m=\u001b[0m\u001b[0;32mTrue\u001b[0m\u001b[0;34m)\u001b[0m\u001b[0;34m\u001b[0m\u001b[0;34m\u001b[0m\u001b[0m\n\u001b[0m\u001b[1;32m    176\u001b[0m             \u001b[0mt_actions\u001b[0m \u001b[0;34m=\u001b[0m \u001b[0mtrajectory\u001b[0m\u001b[0;34m.\u001b[0m\u001b[0mget_actions\u001b[0m\u001b[0;34m(\u001b[0m\u001b[0mas_torch\u001b[0m\u001b[0;34m=\u001b[0m\u001b[0;32mTrue\u001b[0m\u001b[0;34m)\u001b[0m\u001b[0;34m\u001b[0m\u001b[0;34m\u001b[0m\u001b[0m\n\u001b[1;32m    177\u001b[0m             \u001b[0mt_action_probs\u001b[0m \u001b[0;34m=\u001b[0m \u001b[0mtrajectory\u001b[0m\u001b[0;34m.\u001b[0m\u001b[0mget_action_probs\u001b[0m\u001b[0;34m(\u001b[0m\u001b[0mas_torch\u001b[0m\u001b[0;34m=\u001b[0m\u001b[0;32mTrue\u001b[0m\u001b[0;34m)\u001b[0m\u001b[0;34m\u001b[0m\u001b[0;34m\u001b[0m\u001b[0m\n",
      "\u001b[0;32m~/Github/cpr-appropriation/src/memory.py\u001b[0m in \u001b[0;36mget_states\u001b[0;34m(self, as_torch)\u001b[0m\n\u001b[1;32m     34\u001b[0m         \u001b[0meither\u001b[0m \u001b[0;32mas\u001b[0m \u001b[0ma\u001b[0m \u001b[0mNumpy\u001b[0m \u001b[0marray\u001b[0m \u001b[0;32mor\u001b[0m \u001b[0;32mas\u001b[0m \u001b[0ma\u001b[0m \u001b[0mPyTorch\u001b[0m \u001b[0mtensor\u001b[0m\u001b[0;34m\u001b[0m\u001b[0;34m\u001b[0m\u001b[0m\n\u001b[1;32m     35\u001b[0m         \"\"\"\n\u001b[0;32m---> 36\u001b[0;31m         \u001b[0;32mreturn\u001b[0m \u001b[0mnp\u001b[0m\u001b[0;34m.\u001b[0m\u001b[0marray\u001b[0m\u001b[0;34m(\u001b[0m\u001b[0mself\u001b[0m\u001b[0;34m.\u001b[0m\u001b[0mstates\u001b[0m\u001b[0;34m)\u001b[0m \u001b[0;32mif\u001b[0m \u001b[0;32mnot\u001b[0m \u001b[0mas_torch\u001b[0m \u001b[0;32melse\u001b[0m \u001b[0mtorch\u001b[0m\u001b[0;34m.\u001b[0m\u001b[0mtensor\u001b[0m\u001b[0;34m(\u001b[0m\u001b[0mself\u001b[0m\u001b[0;34m.\u001b[0m\u001b[0mstates\u001b[0m\u001b[0;34m)\u001b[0m\u001b[0;34m\u001b[0m\u001b[0;34m\u001b[0m\u001b[0m\n\u001b[0m\u001b[1;32m     37\u001b[0m \u001b[0;34m\u001b[0m\u001b[0m\n\u001b[1;32m     38\u001b[0m     \u001b[0;32mdef\u001b[0m \u001b[0mget_actions\u001b[0m\u001b[0;34m(\u001b[0m\u001b[0mself\u001b[0m\u001b[0;34m,\u001b[0m \u001b[0mas_torch\u001b[0m\u001b[0;34m=\u001b[0m\u001b[0;32mTrue\u001b[0m\u001b[0;34m)\u001b[0m\u001b[0;34m:\u001b[0m\u001b[0;34m\u001b[0m\u001b[0;34m\u001b[0m\u001b[0m\n",
      "\u001b[0;31mKeyboardInterrupt\u001b[0m: "
     ]
    }
   ],
   "source": [
    "vpg_policy_nn = models.MLP(env.observation_space_size(), [32, 32], env.action_space_size())\n",
    "vpg_baseline_nn = models.MLP(env.observation_space_size(), [32, 32], 1)\n",
    "vpg_policy = policies.VPGPolicy(env, vpg_policy_nn, baseline_nn=vpg_baseline_nn)\n",
    "vpg_policy.train(\n",
    "    max_epochs, \n",
    "    save_every=save_every, \n",
    "    checkpoints_path=checkpoints_path, \n",
    "    wandb_config={**wandb_config, \"group\": \"VPG\"}\n",
    ")"
   ]
  },
  {
   "cell_type": "markdown",
   "id": "37c8726a",
   "metadata": {},
   "source": [
    "### TRPO"
   ]
  },
  {
   "cell_type": "code",
   "execution_count": 154,
   "id": "b8ed8f49",
   "metadata": {},
   "outputs": [
    {
     "name": "stderr",
     "output_type": "stream",
     "text": [
      "2021-08-23 10:25:23.754 | INFO     | src.policies:train:45 - Epoch 1 / 1\n",
      "2021-08-23 10:25:23.765 | INFO     | src.policies:execute_episode:149 - Early stopping, all agents done\n",
      "2021-08-23 10:25:26.532 | INFO     | src.policies:execute_episode:149 - Early stopping, all agents done\n",
      "2021-08-23 10:25:26.540 | INFO     | src.policies:execute_episode:149 - Early stopping, all agents done\n",
      "2021-08-23 10:25:26.550 | INFO     | src.policies:execute_episode:149 - Early stopping, all agents done\n",
      "2021-08-23 10:25:26.559 | INFO     | src.policies:execute_episode:149 - Early stopping, all agents done\n",
      "2021-08-23 10:25:26.569 | INFO     | src.policies:execute_episode:149 - Early stopping, all agents done\n",
      "2021-08-23 10:25:26.578 | INFO     | src.policies:execute_episode:149 - Early stopping, all agents done\n",
      "2021-08-23 10:25:26.588 | INFO     | src.policies:execute_episode:149 - Early stopping, all agents done\n",
      "2021-08-23 10:25:26.597 | INFO     | src.policies:execute_episode:149 - Early stopping, all agents done\n",
      "2021-08-23 10:25:26.606 | INFO     | src.policies:execute_episode:149 - Early stopping, all agents done\n",
      "2021-08-23 10:25:26.614 | INFO     | src.policies:execute_episode:149 - Early stopping, all agents done\n",
      "2021-08-23 10:25:26.623 | INFO     | src.policies:execute_episode:149 - Early stopping, all agents done\n",
      "2021-08-23 10:25:26.632 | INFO     | src.policies:execute_episode:149 - Early stopping, all agents done\n",
      "2021-08-23 10:25:26.641 | INFO     | src.policies:execute_episode:149 - Early stopping, all agents done\n",
      "2021-08-23 10:25:26.650 | INFO     | src.policies:execute_episode:149 - Early stopping, all agents done\n",
      "2021-08-23 10:25:29.485 | INFO     | src.policies:execute_episode:149 - Early stopping, all agents done\n",
      "2021-08-23 10:25:29.492 | INFO     | src.policies:execute_episode:149 - Early stopping, all agents done\n",
      "2021-08-23 10:25:35.464 | INFO     | src.policies:execute_episode:149 - Early stopping, all agents done\n",
      "2021-08-23 10:25:35.473 | INFO     | src.policies:execute_episode:149 - Early stopping, all agents done\n",
      "2021-08-23 10:25:35.482 | INFO     | src.policies:execute_episode:149 - Early stopping, all agents done\n",
      "2021-08-23 10:25:35.578 | INFO     | src.policies:execute_episode:149 - Early stopping, all agents done\n",
      "2021-08-23 10:25:35.586 | INFO     | src.policies:execute_episode:149 - Early stopping, all agents done\n",
      "2021-08-23 10:25:35.595 | INFO     | src.policies:execute_episode:149 - Early stopping, all agents done\n",
      "2021-08-23 10:25:35.604 | INFO     | src.policies:execute_episode:149 - Early stopping, all agents done\n",
      "2021-08-23 10:25:38.632 | INFO     | src.policies:execute_episode:149 - Early stopping, all agents done\n",
      "2021-08-23 10:25:38.659 | INFO     | src.policies:execute_episode:149 - Early stopping, all agents done\n",
      "2021-08-23 10:25:38.669 | INFO     | src.policies:execute_episode:149 - Early stopping, all agents done\n",
      "2021-08-23 10:25:38.679 | INFO     | src.policies:execute_episode:149 - Early stopping, all agents done\n",
      "2021-08-23 10:25:38.688 | INFO     | src.policies:execute_episode:149 - Early stopping, all agents done\n",
      "2021-08-23 10:25:38.697 | INFO     | src.policies:execute_episode:149 - Early stopping, all agents done\n",
      "2021-08-23 10:25:38.706 | INFO     | src.policies:execute_episode:149 - Early stopping, all agents done\n",
      "2021-08-23 10:25:38.715 | INFO     | src.policies:execute_episode:149 - Early stopping, all agents done\n",
      "2021-08-23 10:25:38.724 | INFO     | src.policies:execute_episode:149 - Early stopping, all agents done\n",
      "2021-08-23 10:25:41.515 | INFO     | src.policies:execute_episode:149 - Early stopping, all agents done\n",
      "2021-08-23 10:25:41.524 | INFO     | src.policies:execute_episode:149 - Early stopping, all agents done\n",
      "2021-08-23 10:25:44.390 | INFO     | src.policies:execute_episode:149 - Early stopping, all agents done\n",
      "2021-08-23 10:25:44.398 | INFO     | src.policies:execute_episode:149 - Early stopping, all agents done\n",
      "2021-08-23 10:25:44.408 | INFO     | src.policies:execute_episode:149 - Early stopping, all agents done\n",
      "2021-08-23 10:25:44.418 | INFO     | src.policies:execute_episode:149 - Early stopping, all agents done\n",
      "2021-08-23 10:25:44.721 | INFO     | src.policies:execute_episode:149 - Early stopping, all agents done\n",
      "2021-08-23 10:25:44.731 | INFO     | src.policies:execute_episode:149 - Early stopping, all agents done\n",
      "2021-08-23 10:25:44.739 | INFO     | src.policies:execute_episode:149 - Early stopping, all agents done\n",
      "2021-08-23 10:25:44.740 | INFO     | src.policies:train:54 - Working with a batch size of 126\n"
     ]
    }
   ],
   "source": [
    "trpo_policy_nn = models.MLP(env.observation_space_size(), [32, 32], env.action_space_size())\n",
    "trpo_baseline_nn = models.MLP(env.observation_space_size(), [32, 32], 1)\n",
    "trpo_policy = policies.TRPOPolicy(env, trpo_policy_nn, trpo_baseline_nn, beta=1.0, kl_target=0.01)\n",
    "trpo_policy.train(\n",
    "    max_epochs, \n",
    "    save_every=save_every, \n",
    "    checkpoints_path=checkpoints_path, \n",
    "    wandb_config={**wandb_config, \"group\": \"TRPO\"}\n",
    ")"
   ]
  },
  {
   "cell_type": "markdown",
   "id": "a51aaa9e",
   "metadata": {},
   "source": [
    "### PPO"
   ]
  },
  {
   "cell_type": "code",
   "execution_count": 166,
   "id": "e8e75312",
   "metadata": {},
   "outputs": [
    {
     "name": "stderr",
     "output_type": "stream",
     "text": [
      "2021-08-23 10:33:56.186 | INFO     | src.policies:train:51 - Epoch 1 / 1\n",
      "/Users/jobs/Github/cpr-appropriation/src/models.py:72: UserWarning: Implicit dimension choice for log_softmax has been deprecated. Change the call to include dim=X as an argument.\n",
      "2021-08-23 10:33:59.245 | INFO     | src.policies:execute_episode:155 - Early stopping, all agents done\n",
      "2021-08-23 10:33:59.253 | INFO     | src.policies:execute_episode:155 - Early stopping, all agents done\n",
      "2021-08-23 10:33:59.265 | INFO     | src.policies:execute_episode:155 - Early stopping, all agents done\n",
      "2021-08-23 10:33:59.334 | INFO     | src.policies:execute_episode:155 - Early stopping, all agents done\n",
      "2021-08-23 10:33:59.716 | INFO     | src.policies:execute_episode:155 - Early stopping, all agents done\n",
      "2021-08-23 10:33:59.724 | INFO     | src.policies:execute_episode:155 - Early stopping, all agents done\n",
      "2021-08-23 10:33:59.734 | INFO     | src.policies:execute_episode:155 - Early stopping, all agents done\n",
      "2021-08-23 10:33:59.743 | INFO     | src.policies:execute_episode:155 - Early stopping, all agents done\n",
      "2021-08-23 10:33:59.752 | INFO     | src.policies:execute_episode:155 - Early stopping, all agents done\n",
      "2021-08-23 10:34:02.594 | INFO     | src.policies:execute_episode:155 - Early stopping, all agents done\n",
      "2021-08-23 10:34:02.602 | INFO     | src.policies:execute_episode:155 - Early stopping, all agents done\n",
      "2021-08-23 10:34:05.329 | INFO     | src.policies:execute_episode:155 - Early stopping, all agents done\n",
      "2021-08-23 10:34:05.338 | INFO     | src.policies:execute_episode:155 - Early stopping, all agents done\n",
      "2021-08-23 10:34:08.039 | INFO     | src.policies:execute_episode:155 - Early stopping, all agents done\n",
      "2021-08-23 10:34:08.047 | INFO     | src.policies:execute_episode:155 - Early stopping, all agents done\n",
      "2021-08-23 10:34:08.056 | INFO     | src.policies:execute_episode:155 - Early stopping, all agents done\n",
      "2021-08-23 10:34:08.066 | INFO     | src.policies:execute_episode:155 - Early stopping, all agents done\n",
      "2021-08-23 10:34:08.077 | INFO     | src.policies:execute_episode:155 - Early stopping, all agents done\n",
      "2021-08-23 10:34:08.086 | INFO     | src.policies:execute_episode:155 - Early stopping, all agents done\n",
      "2021-08-23 10:34:08.095 | INFO     | src.policies:execute_episode:155 - Early stopping, all agents done\n",
      "2021-08-23 10:34:08.104 | INFO     | src.policies:execute_episode:155 - Early stopping, all agents done\n",
      "2021-08-23 10:34:08.113 | INFO     | src.policies:execute_episode:155 - Early stopping, all agents done\n",
      "2021-08-23 10:34:10.787 | INFO     | src.policies:execute_episode:155 - Early stopping, all agents done\n",
      "2021-08-23 10:34:13.682 | INFO     | src.policies:execute_episode:155 - Early stopping, all agents done\n",
      "2021-08-23 10:34:16.359 | INFO     | src.policies:execute_episode:155 - Early stopping, all agents done\n",
      "2021-08-23 10:34:18.942 | INFO     | src.policies:execute_episode:155 - Early stopping, all agents done\n",
      "2021-08-23 10:34:19.075 | INFO     | src.policies:execute_episode:155 - Early stopping, all agents done\n",
      "2021-08-23 10:34:19.133 | INFO     | src.policies:execute_episode:155 - Early stopping, all agents done\n",
      "2021-08-23 10:34:19.141 | INFO     | src.policies:execute_episode:155 - Early stopping, all agents done\n",
      "2021-08-23 10:34:19.151 | INFO     | src.policies:execute_episode:155 - Early stopping, all agents done\n",
      "2021-08-23 10:34:21.960 | INFO     | src.policies:execute_episode:155 - Early stopping, all agents done\n",
      "2021-08-23 10:34:22.286 | INFO     | src.policies:execute_episode:155 - Early stopping, all agents done\n",
      "2021-08-23 10:34:24.944 | INFO     | src.policies:execute_episode:155 - Early stopping, all agents done\n",
      "2021-08-23 10:34:24.952 | INFO     | src.policies:execute_episode:155 - Early stopping, all agents done\n",
      "2021-08-23 10:34:24.962 | INFO     | src.policies:execute_episode:155 - Early stopping, all agents done\n",
      "2021-08-23 10:34:24.971 | INFO     | src.policies:execute_episode:155 - Early stopping, all agents done\n",
      "2021-08-23 10:34:24.980 | INFO     | src.policies:execute_episode:155 - Early stopping, all agents done\n",
      "2021-08-23 10:34:24.991 | INFO     | src.policies:execute_episode:155 - Early stopping, all agents done\n",
      "2021-08-23 10:34:25.464 | INFO     | src.policies:execute_episode:155 - Early stopping, all agents done\n",
      "2021-08-23 10:34:25.507 | INFO     | src.policies:execute_episode:155 - Early stopping, all agents done\n",
      "2021-08-23 10:34:25.556 | INFO     | src.policies:execute_episode:155 - Early stopping, all agents done\n",
      "2021-08-23 10:34:28.337 | INFO     | src.policies:execute_episode:155 - Early stopping, all agents done\n",
      "2021-08-23 10:34:28.338 | INFO     | src.policies:train:60 - Working with a batch size of 126\n"
     ]
    }
   ],
   "source": [
    "ppo_policy_nn = models.MLP(env.observation_space_size(), [32, 32], env.action_space_size())\n",
    "ppo_baseline_nn = models.MLP(env.observation_space_size(), [32, 32], 1)\n",
    "ppo_policy = policies.PPOPolicy(env, ppo_policy_nn, ppo_baseline_nn, c1=1.0, c2=0.0, eps=0.2)\n",
    "ppo_policy.train(\n",
    "    max_epochs, \n",
    "    save_every=save_every, \n",
    "    checkpoints_path=checkpoints_path, \n",
    "    wandb_config={**wandb_config, \"group\": \"PPO\"}\n",
    ")"
   ]
  },
  {
   "cell_type": "code",
   "execution_count": null,
   "id": "1dce4f7a",
   "metadata": {},
   "outputs": [],
   "source": []
  }
 ],
 "metadata": {
  "kernelspec": {
   "display_name": "Python 3 (ipykernel)",
   "language": "python",
   "name": "python3"
  },
  "language_info": {
   "codemirror_mode": {
    "name": "ipython",
    "version": 3
   },
   "file_extension": ".py",
   "mimetype": "text/x-python",
   "name": "python",
   "nbconvert_exporter": "python",
   "pygments_lexer": "ipython3",
   "version": "3.9.5"
  }
 },
 "nbformat": 4,
 "nbformat_minor": 5
}
