{
 "cells": [
  {
   "cell_type": "markdown",
   "id": "79c2374a",
   "metadata": {},
   "source": [
    "# CPR appropriation"
   ]
  },
  {
   "cell_type": "markdown",
   "id": "07351a01",
   "metadata": {},
   "source": [
    "## Pre-requisites"
   ]
  },
  {
   "cell_type": "code",
   "execution_count": 18,
   "id": "b1eb7cbb",
   "metadata": {},
   "outputs": [],
   "source": [
    "%%capture\n",
    "!pip install src/gym_cpr_grid\n",
    "!pip install -r requirements.txt"
   ]
  },
  {
   "cell_type": "code",
   "execution_count": 20,
   "id": "911ea125",
   "metadata": {},
   "outputs": [
    {
     "name": "stdout",
     "output_type": "stream",
     "text": [
      "The autoreload extension is already loaded. To reload it, use:\n",
      "  %reload_ext autoreload\n"
     ]
    }
   ],
   "source": [
    "import numpy as np\n",
    "import gym\n",
    "\n",
    "%load_ext autoreload\n",
    "%autoreload 2"
   ]
  },
  {
   "cell_type": "markdown",
   "id": "d9dcd8f6",
   "metadata": {},
   "source": [
    "## Random policy"
   ]
  },
  {
   "cell_type": "code",
   "execution_count": 2,
   "id": "de080b5f",
   "metadata": {},
   "outputs": [],
   "source": [
    "env = gym.make('gym_cpr_grid:CPRGridEnv-v0', n_agents=3, grid_width=5, grid_height=7)"
   ]
  },
  {
   "cell_type": "code",
   "execution_count": 15,
   "id": "902af09f",
   "metadata": {
    "scrolled": false
   },
   "outputs": [
    {
     "ename": "KeyboardInterrupt",
     "evalue": "",
     "output_type": "error",
     "traceback": [
      "\u001b[0;31m---------------------------------------------------------------------------\u001b[0m",
      "\u001b[0;31mKeyboardInterrupt\u001b[0m                         Traceback (most recent call last)",
      "\u001b[0;32m/var/folders/pp/wfj1kcws58g7pxksj9k8zdhw0000gn/T/ipykernel_54085/3962637534.py\u001b[0m in \u001b[0;36m<module>\u001b[0;34m\u001b[0m\n\u001b[1;32m      5\u001b[0m \u001b[0mfig\u001b[0m\u001b[0;34m,\u001b[0m \u001b[0max\u001b[0m\u001b[0;34m,\u001b[0m \u001b[0mimg\u001b[0m \u001b[0;34m=\u001b[0m \u001b[0menv\u001b[0m\u001b[0;34m.\u001b[0m\u001b[0mplot\u001b[0m\u001b[0;34m(\u001b[0m\u001b[0menv\u001b[0m\u001b[0;34m.\u001b[0m\u001b[0mrender\u001b[0m\u001b[0;34m(\u001b[0m\u001b[0;34m'rgb_array'\u001b[0m\u001b[0;34m)\u001b[0m\u001b[0;34m)\u001b[0m\u001b[0;34m\u001b[0m\u001b[0;34m\u001b[0m\u001b[0m\n\u001b[1;32m      6\u001b[0m \u001b[0;32mfor\u001b[0m \u001b[0m_\u001b[0m \u001b[0;32min\u001b[0m \u001b[0mrange\u001b[0m\u001b[0;34m(\u001b[0m\u001b[0menv\u001b[0m\u001b[0;34m.\u001b[0m\u001b[0mmax_steps\u001b[0m\u001b[0;34m)\u001b[0m\u001b[0;34m:\u001b[0m\u001b[0;34m\u001b[0m\u001b[0;34m\u001b[0m\u001b[0m\n\u001b[0;32m----> 7\u001b[0;31m     \u001b[0mdisplay\u001b[0m\u001b[0;34m.\u001b[0m\u001b[0mdisplay\u001b[0m\u001b[0;34m(\u001b[0m\u001b[0mplt\u001b[0m\u001b[0;34m.\u001b[0m\u001b[0mgcf\u001b[0m\u001b[0;34m(\u001b[0m\u001b[0;34m)\u001b[0m\u001b[0;34m)\u001b[0m\u001b[0;34m\u001b[0m\u001b[0;34m\u001b[0m\u001b[0m\n\u001b[0m\u001b[1;32m      8\u001b[0m     \u001b[0maction_dict\u001b[0m \u001b[0;34m=\u001b[0m \u001b[0;34m{\u001b[0m\u001b[0mh\u001b[0m\u001b[0;34m:\u001b[0m \u001b[0menv\u001b[0m\u001b[0;34m.\u001b[0m\u001b[0maction_space\u001b[0m\u001b[0;34m.\u001b[0m\u001b[0msample\u001b[0m\u001b[0;34m(\u001b[0m\u001b[0;34m)\u001b[0m \u001b[0;32mfor\u001b[0m \u001b[0mh\u001b[0m \u001b[0;32min\u001b[0m \u001b[0mrange\u001b[0m\u001b[0;34m(\u001b[0m\u001b[0menv\u001b[0m\u001b[0;34m.\u001b[0m\u001b[0mn_agents\u001b[0m\u001b[0;34m)\u001b[0m\u001b[0;34m}\u001b[0m\u001b[0;34m\u001b[0m\u001b[0;34m\u001b[0m\u001b[0m\n\u001b[1;32m      9\u001b[0m     \u001b[0mobservations\u001b[0m\u001b[0;34m,\u001b[0m \u001b[0mrewards\u001b[0m\u001b[0;34m,\u001b[0m \u001b[0mdones\u001b[0m\u001b[0;34m,\u001b[0m \u001b[0minfos\u001b[0m \u001b[0;34m=\u001b[0m \u001b[0menv\u001b[0m\u001b[0;34m.\u001b[0m\u001b[0mstep\u001b[0m\u001b[0;34m(\u001b[0m\u001b[0maction_dict\u001b[0m\u001b[0;34m)\u001b[0m\u001b[0;34m\u001b[0m\u001b[0;34m\u001b[0m\u001b[0m\n",
      "\u001b[0;32m~/Github/cpr-appropriation/venv/lib/python3.9/site-packages/IPython/core/display.py\u001b[0m in \u001b[0;36mdisplay\u001b[0;34m(include, exclude, metadata, transient, display_id, *objs, **kwargs)\u001b[0m\n\u001b[1;32m    318\u001b[0m             \u001b[0mpublish_display_data\u001b[0m\u001b[0;34m(\u001b[0m\u001b[0mdata\u001b[0m\u001b[0;34m=\u001b[0m\u001b[0mobj\u001b[0m\u001b[0;34m,\u001b[0m \u001b[0mmetadata\u001b[0m\u001b[0;34m=\u001b[0m\u001b[0mmetadata\u001b[0m\u001b[0;34m,\u001b[0m \u001b[0;34m**\u001b[0m\u001b[0mkwargs\u001b[0m\u001b[0;34m)\u001b[0m\u001b[0;34m\u001b[0m\u001b[0;34m\u001b[0m\u001b[0m\n\u001b[1;32m    319\u001b[0m         \u001b[0;32melse\u001b[0m\u001b[0;34m:\u001b[0m\u001b[0;34m\u001b[0m\u001b[0;34m\u001b[0m\u001b[0m\n\u001b[0;32m--> 320\u001b[0;31m             \u001b[0mformat_dict\u001b[0m\u001b[0;34m,\u001b[0m \u001b[0mmd_dict\u001b[0m \u001b[0;34m=\u001b[0m \u001b[0mformat\u001b[0m\u001b[0;34m(\u001b[0m\u001b[0mobj\u001b[0m\u001b[0;34m,\u001b[0m \u001b[0minclude\u001b[0m\u001b[0;34m=\u001b[0m\u001b[0minclude\u001b[0m\u001b[0;34m,\u001b[0m \u001b[0mexclude\u001b[0m\u001b[0;34m=\u001b[0m\u001b[0mexclude\u001b[0m\u001b[0;34m)\u001b[0m\u001b[0;34m\u001b[0m\u001b[0;34m\u001b[0m\u001b[0m\n\u001b[0m\u001b[1;32m    321\u001b[0m             \u001b[0;32mif\u001b[0m \u001b[0;32mnot\u001b[0m \u001b[0mformat_dict\u001b[0m\u001b[0;34m:\u001b[0m\u001b[0;34m\u001b[0m\u001b[0;34m\u001b[0m\u001b[0m\n\u001b[1;32m    322\u001b[0m                 \u001b[0;31m# nothing to display (e.g. _ipython_display_ took over)\u001b[0m\u001b[0;34m\u001b[0m\u001b[0;34m\u001b[0m\u001b[0;34m\u001b[0m\u001b[0m\n",
      "\u001b[0;32m~/Github/cpr-appropriation/venv/lib/python3.9/site-packages/IPython/core/formatters.py\u001b[0m in \u001b[0;36mformat\u001b[0;34m(self, obj, include, exclude)\u001b[0m\n\u001b[1;32m    178\u001b[0m             \u001b[0mmd\u001b[0m \u001b[0;34m=\u001b[0m \u001b[0;32mNone\u001b[0m\u001b[0;34m\u001b[0m\u001b[0;34m\u001b[0m\u001b[0m\n\u001b[1;32m    179\u001b[0m             \u001b[0;32mtry\u001b[0m\u001b[0;34m:\u001b[0m\u001b[0;34m\u001b[0m\u001b[0;34m\u001b[0m\u001b[0m\n\u001b[0;32m--> 180\u001b[0;31m                 \u001b[0mdata\u001b[0m \u001b[0;34m=\u001b[0m \u001b[0mformatter\u001b[0m\u001b[0;34m(\u001b[0m\u001b[0mobj\u001b[0m\u001b[0;34m)\u001b[0m\u001b[0;34m\u001b[0m\u001b[0;34m\u001b[0m\u001b[0m\n\u001b[0m\u001b[1;32m    181\u001b[0m             \u001b[0;32mexcept\u001b[0m\u001b[0;34m:\u001b[0m\u001b[0;34m\u001b[0m\u001b[0;34m\u001b[0m\u001b[0m\n\u001b[1;32m    182\u001b[0m                 \u001b[0;31m# FIXME: log the exception\u001b[0m\u001b[0;34m\u001b[0m\u001b[0;34m\u001b[0m\u001b[0;34m\u001b[0m\u001b[0m\n",
      "\u001b[0;32m~/Github/cpr-appropriation/venv/lib/python3.9/site-packages/decorator.py\u001b[0m in \u001b[0;36mfun\u001b[0;34m(*args, **kw)\u001b[0m\n\u001b[1;32m    230\u001b[0m             \u001b[0;32mif\u001b[0m \u001b[0;32mnot\u001b[0m \u001b[0mkwsyntax\u001b[0m\u001b[0;34m:\u001b[0m\u001b[0;34m\u001b[0m\u001b[0;34m\u001b[0m\u001b[0m\n\u001b[1;32m    231\u001b[0m                 \u001b[0margs\u001b[0m\u001b[0;34m,\u001b[0m \u001b[0mkw\u001b[0m \u001b[0;34m=\u001b[0m \u001b[0mfix\u001b[0m\u001b[0;34m(\u001b[0m\u001b[0margs\u001b[0m\u001b[0;34m,\u001b[0m \u001b[0mkw\u001b[0m\u001b[0;34m,\u001b[0m \u001b[0msig\u001b[0m\u001b[0;34m)\u001b[0m\u001b[0;34m\u001b[0m\u001b[0;34m\u001b[0m\u001b[0m\n\u001b[0;32m--> 232\u001b[0;31m             \u001b[0;32mreturn\u001b[0m \u001b[0mcaller\u001b[0m\u001b[0;34m(\u001b[0m\u001b[0mfunc\u001b[0m\u001b[0;34m,\u001b[0m \u001b[0;34m*\u001b[0m\u001b[0;34m(\u001b[0m\u001b[0mextras\u001b[0m \u001b[0;34m+\u001b[0m \u001b[0margs\u001b[0m\u001b[0;34m)\u001b[0m\u001b[0;34m,\u001b[0m \u001b[0;34m**\u001b[0m\u001b[0mkw\u001b[0m\u001b[0;34m)\u001b[0m\u001b[0;34m\u001b[0m\u001b[0;34m\u001b[0m\u001b[0m\n\u001b[0m\u001b[1;32m    233\u001b[0m     \u001b[0mfun\u001b[0m\u001b[0;34m.\u001b[0m\u001b[0m__name__\u001b[0m \u001b[0;34m=\u001b[0m \u001b[0mfunc\u001b[0m\u001b[0;34m.\u001b[0m\u001b[0m__name__\u001b[0m\u001b[0;34m\u001b[0m\u001b[0;34m\u001b[0m\u001b[0m\n\u001b[1;32m    234\u001b[0m     \u001b[0mfun\u001b[0m\u001b[0;34m.\u001b[0m\u001b[0m__doc__\u001b[0m \u001b[0;34m=\u001b[0m \u001b[0mfunc\u001b[0m\u001b[0;34m.\u001b[0m\u001b[0m__doc__\u001b[0m\u001b[0;34m\u001b[0m\u001b[0;34m\u001b[0m\u001b[0m\n",
      "\u001b[0;32m~/Github/cpr-appropriation/venv/lib/python3.9/site-packages/IPython/core/formatters.py\u001b[0m in \u001b[0;36mcatch_format_error\u001b[0;34m(method, self, *args, **kwargs)\u001b[0m\n\u001b[1;32m    222\u001b[0m     \u001b[0;34m\"\"\"show traceback on failed format call\"\"\"\u001b[0m\u001b[0;34m\u001b[0m\u001b[0;34m\u001b[0m\u001b[0m\n\u001b[1;32m    223\u001b[0m     \u001b[0;32mtry\u001b[0m\u001b[0;34m:\u001b[0m\u001b[0;34m\u001b[0m\u001b[0;34m\u001b[0m\u001b[0m\n\u001b[0;32m--> 224\u001b[0;31m         \u001b[0mr\u001b[0m \u001b[0;34m=\u001b[0m \u001b[0mmethod\u001b[0m\u001b[0;34m(\u001b[0m\u001b[0mself\u001b[0m\u001b[0;34m,\u001b[0m \u001b[0;34m*\u001b[0m\u001b[0margs\u001b[0m\u001b[0;34m,\u001b[0m \u001b[0;34m**\u001b[0m\u001b[0mkwargs\u001b[0m\u001b[0;34m)\u001b[0m\u001b[0;34m\u001b[0m\u001b[0;34m\u001b[0m\u001b[0m\n\u001b[0m\u001b[1;32m    225\u001b[0m     \u001b[0;32mexcept\u001b[0m \u001b[0mNotImplementedError\u001b[0m\u001b[0;34m:\u001b[0m\u001b[0;34m\u001b[0m\u001b[0;34m\u001b[0m\u001b[0m\n\u001b[1;32m    226\u001b[0m         \u001b[0;31m# don't warn on NotImplementedErrors\u001b[0m\u001b[0;34m\u001b[0m\u001b[0;34m\u001b[0m\u001b[0;34m\u001b[0m\u001b[0m\n",
      "\u001b[0;32m~/Github/cpr-appropriation/venv/lib/python3.9/site-packages/IPython/core/formatters.py\u001b[0m in \u001b[0;36m__call__\u001b[0;34m(self, obj)\u001b[0m\n\u001b[1;32m    339\u001b[0m                 \u001b[0;32mpass\u001b[0m\u001b[0;34m\u001b[0m\u001b[0;34m\u001b[0m\u001b[0m\n\u001b[1;32m    340\u001b[0m             \u001b[0;32melse\u001b[0m\u001b[0;34m:\u001b[0m\u001b[0;34m\u001b[0m\u001b[0;34m\u001b[0m\u001b[0m\n\u001b[0;32m--> 341\u001b[0;31m                 \u001b[0;32mreturn\u001b[0m \u001b[0mprinter\u001b[0m\u001b[0;34m(\u001b[0m\u001b[0mobj\u001b[0m\u001b[0;34m)\u001b[0m\u001b[0;34m\u001b[0m\u001b[0;34m\u001b[0m\u001b[0m\n\u001b[0m\u001b[1;32m    342\u001b[0m             \u001b[0;31m# Finally look for special method names\u001b[0m\u001b[0;34m\u001b[0m\u001b[0;34m\u001b[0m\u001b[0;34m\u001b[0m\u001b[0m\n\u001b[1;32m    343\u001b[0m             \u001b[0mmethod\u001b[0m \u001b[0;34m=\u001b[0m \u001b[0mget_real_method\u001b[0m\u001b[0;34m(\u001b[0m\u001b[0mobj\u001b[0m\u001b[0;34m,\u001b[0m \u001b[0mself\u001b[0m\u001b[0;34m.\u001b[0m\u001b[0mprint_method\u001b[0m\u001b[0;34m)\u001b[0m\u001b[0;34m\u001b[0m\u001b[0;34m\u001b[0m\u001b[0m\n",
      "\u001b[0;32m~/Github/cpr-appropriation/venv/lib/python3.9/site-packages/IPython/core/pylabtools.py\u001b[0m in \u001b[0;36m<lambda>\u001b[0;34m(fig)\u001b[0m\n\u001b[1;32m    248\u001b[0m \u001b[0;34m\u001b[0m\u001b[0m\n\u001b[1;32m    249\u001b[0m     \u001b[0;32mif\u001b[0m \u001b[0;34m'png'\u001b[0m \u001b[0;32min\u001b[0m \u001b[0mformats\u001b[0m\u001b[0;34m:\u001b[0m\u001b[0;34m\u001b[0m\u001b[0;34m\u001b[0m\u001b[0m\n\u001b[0;32m--> 250\u001b[0;31m         \u001b[0mpng_formatter\u001b[0m\u001b[0;34m.\u001b[0m\u001b[0mfor_type\u001b[0m\u001b[0;34m(\u001b[0m\u001b[0mFigure\u001b[0m\u001b[0;34m,\u001b[0m \u001b[0;32mlambda\u001b[0m \u001b[0mfig\u001b[0m\u001b[0;34m:\u001b[0m \u001b[0mprint_figure\u001b[0m\u001b[0;34m(\u001b[0m\u001b[0mfig\u001b[0m\u001b[0;34m,\u001b[0m \u001b[0;34m'png'\u001b[0m\u001b[0;34m,\u001b[0m \u001b[0;34m**\u001b[0m\u001b[0mkwargs\u001b[0m\u001b[0;34m)\u001b[0m\u001b[0;34m)\u001b[0m\u001b[0;34m\u001b[0m\u001b[0;34m\u001b[0m\u001b[0m\n\u001b[0m\u001b[1;32m    251\u001b[0m     \u001b[0;32mif\u001b[0m \u001b[0;34m'retina'\u001b[0m \u001b[0;32min\u001b[0m \u001b[0mformats\u001b[0m \u001b[0;32mor\u001b[0m \u001b[0;34m'png2x'\u001b[0m \u001b[0;32min\u001b[0m \u001b[0mformats\u001b[0m\u001b[0;34m:\u001b[0m\u001b[0;34m\u001b[0m\u001b[0;34m\u001b[0m\u001b[0m\n\u001b[1;32m    252\u001b[0m         \u001b[0mpng_formatter\u001b[0m\u001b[0;34m.\u001b[0m\u001b[0mfor_type\u001b[0m\u001b[0;34m(\u001b[0m\u001b[0mFigure\u001b[0m\u001b[0;34m,\u001b[0m \u001b[0;32mlambda\u001b[0m \u001b[0mfig\u001b[0m\u001b[0;34m:\u001b[0m \u001b[0mretina_figure\u001b[0m\u001b[0;34m(\u001b[0m\u001b[0mfig\u001b[0m\u001b[0;34m,\u001b[0m \u001b[0;34m**\u001b[0m\u001b[0mkwargs\u001b[0m\u001b[0;34m)\u001b[0m\u001b[0;34m)\u001b[0m\u001b[0;34m\u001b[0m\u001b[0;34m\u001b[0m\u001b[0m\n",
      "\u001b[0;32m~/Github/cpr-appropriation/venv/lib/python3.9/site-packages/IPython/core/pylabtools.py\u001b[0m in \u001b[0;36mprint_figure\u001b[0;34m(fig, fmt, bbox_inches, **kwargs)\u001b[0m\n\u001b[1;32m    132\u001b[0m         \u001b[0mFigureCanvasBase\u001b[0m\u001b[0;34m(\u001b[0m\u001b[0mfig\u001b[0m\u001b[0;34m)\u001b[0m\u001b[0;34m\u001b[0m\u001b[0;34m\u001b[0m\u001b[0m\n\u001b[1;32m    133\u001b[0m \u001b[0;34m\u001b[0m\u001b[0m\n\u001b[0;32m--> 134\u001b[0;31m     \u001b[0mfig\u001b[0m\u001b[0;34m.\u001b[0m\u001b[0mcanvas\u001b[0m\u001b[0;34m.\u001b[0m\u001b[0mprint_figure\u001b[0m\u001b[0;34m(\u001b[0m\u001b[0mbytes_io\u001b[0m\u001b[0;34m,\u001b[0m \u001b[0;34m**\u001b[0m\u001b[0mkw\u001b[0m\u001b[0;34m)\u001b[0m\u001b[0;34m\u001b[0m\u001b[0;34m\u001b[0m\u001b[0m\n\u001b[0m\u001b[1;32m    135\u001b[0m     \u001b[0mdata\u001b[0m \u001b[0;34m=\u001b[0m \u001b[0mbytes_io\u001b[0m\u001b[0;34m.\u001b[0m\u001b[0mgetvalue\u001b[0m\u001b[0;34m(\u001b[0m\u001b[0;34m)\u001b[0m\u001b[0;34m\u001b[0m\u001b[0;34m\u001b[0m\u001b[0m\n\u001b[1;32m    136\u001b[0m     \u001b[0;32mif\u001b[0m \u001b[0mfmt\u001b[0m \u001b[0;34m==\u001b[0m \u001b[0;34m'svg'\u001b[0m\u001b[0;34m:\u001b[0m\u001b[0;34m\u001b[0m\u001b[0;34m\u001b[0m\u001b[0m\n",
      "\u001b[0;32m~/Github/cpr-appropriation/venv/lib/python3.9/site-packages/matplotlib/backend_bases.py\u001b[0m in \u001b[0;36mprint_figure\u001b[0;34m(self, filename, dpi, facecolor, edgecolor, orientation, format, bbox_inches, pad_inches, bbox_extra_artists, backend, **kwargs)\u001b[0m\n\u001b[1;32m   2228\u001b[0m                        else suppress())\n\u001b[1;32m   2229\u001b[0m                 \u001b[0;32mwith\u001b[0m \u001b[0mctx\u001b[0m\u001b[0;34m:\u001b[0m\u001b[0;34m\u001b[0m\u001b[0;34m\u001b[0m\u001b[0m\n\u001b[0;32m-> 2230\u001b[0;31m                     \u001b[0mself\u001b[0m\u001b[0;34m.\u001b[0m\u001b[0mfigure\u001b[0m\u001b[0;34m.\u001b[0m\u001b[0mdraw\u001b[0m\u001b[0;34m(\u001b[0m\u001b[0mrenderer\u001b[0m\u001b[0;34m)\u001b[0m\u001b[0;34m\u001b[0m\u001b[0;34m\u001b[0m\u001b[0m\n\u001b[0m\u001b[1;32m   2231\u001b[0m \u001b[0;34m\u001b[0m\u001b[0m\n\u001b[1;32m   2232\u001b[0m             \u001b[0;32mif\u001b[0m \u001b[0mbbox_inches\u001b[0m\u001b[0;34m:\u001b[0m\u001b[0;34m\u001b[0m\u001b[0;34m\u001b[0m\u001b[0m\n",
      "\u001b[0;32m~/Github/cpr-appropriation/venv/lib/python3.9/site-packages/matplotlib/artist.py\u001b[0m in \u001b[0;36mdraw_wrapper\u001b[0;34m(artist, renderer, *args, **kwargs)\u001b[0m\n\u001b[1;32m     72\u001b[0m     \u001b[0;34m@\u001b[0m\u001b[0mwraps\u001b[0m\u001b[0;34m(\u001b[0m\u001b[0mdraw\u001b[0m\u001b[0;34m)\u001b[0m\u001b[0;34m\u001b[0m\u001b[0;34m\u001b[0m\u001b[0m\n\u001b[1;32m     73\u001b[0m     \u001b[0;32mdef\u001b[0m \u001b[0mdraw_wrapper\u001b[0m\u001b[0;34m(\u001b[0m\u001b[0martist\u001b[0m\u001b[0;34m,\u001b[0m \u001b[0mrenderer\u001b[0m\u001b[0;34m,\u001b[0m \u001b[0;34m*\u001b[0m\u001b[0margs\u001b[0m\u001b[0;34m,\u001b[0m \u001b[0;34m**\u001b[0m\u001b[0mkwargs\u001b[0m\u001b[0;34m)\u001b[0m\u001b[0;34m:\u001b[0m\u001b[0;34m\u001b[0m\u001b[0;34m\u001b[0m\u001b[0m\n\u001b[0;32m---> 74\u001b[0;31m         \u001b[0mresult\u001b[0m \u001b[0;34m=\u001b[0m \u001b[0mdraw\u001b[0m\u001b[0;34m(\u001b[0m\u001b[0martist\u001b[0m\u001b[0;34m,\u001b[0m \u001b[0mrenderer\u001b[0m\u001b[0;34m,\u001b[0m \u001b[0;34m*\u001b[0m\u001b[0margs\u001b[0m\u001b[0;34m,\u001b[0m \u001b[0;34m**\u001b[0m\u001b[0mkwargs\u001b[0m\u001b[0;34m)\u001b[0m\u001b[0;34m\u001b[0m\u001b[0;34m\u001b[0m\u001b[0m\n\u001b[0m\u001b[1;32m     75\u001b[0m         \u001b[0;32mif\u001b[0m \u001b[0mrenderer\u001b[0m\u001b[0;34m.\u001b[0m\u001b[0m_rasterizing\u001b[0m\u001b[0;34m:\u001b[0m\u001b[0;34m\u001b[0m\u001b[0;34m\u001b[0m\u001b[0m\n\u001b[1;32m     76\u001b[0m             \u001b[0mrenderer\u001b[0m\u001b[0;34m.\u001b[0m\u001b[0mstop_rasterizing\u001b[0m\u001b[0;34m(\u001b[0m\u001b[0;34m)\u001b[0m\u001b[0;34m\u001b[0m\u001b[0;34m\u001b[0m\u001b[0m\n",
      "\u001b[0;32m~/Github/cpr-appropriation/venv/lib/python3.9/site-packages/matplotlib/artist.py\u001b[0m in \u001b[0;36mdraw_wrapper\u001b[0;34m(artist, renderer, *args, **kwargs)\u001b[0m\n\u001b[1;32m     49\u001b[0m                 \u001b[0mrenderer\u001b[0m\u001b[0;34m.\u001b[0m\u001b[0mstart_filter\u001b[0m\u001b[0;34m(\u001b[0m\u001b[0;34m)\u001b[0m\u001b[0;34m\u001b[0m\u001b[0;34m\u001b[0m\u001b[0m\n\u001b[1;32m     50\u001b[0m \u001b[0;34m\u001b[0m\u001b[0m\n\u001b[0;32m---> 51\u001b[0;31m             \u001b[0;32mreturn\u001b[0m \u001b[0mdraw\u001b[0m\u001b[0;34m(\u001b[0m\u001b[0martist\u001b[0m\u001b[0;34m,\u001b[0m \u001b[0mrenderer\u001b[0m\u001b[0;34m,\u001b[0m \u001b[0;34m*\u001b[0m\u001b[0margs\u001b[0m\u001b[0;34m,\u001b[0m \u001b[0;34m**\u001b[0m\u001b[0mkwargs\u001b[0m\u001b[0;34m)\u001b[0m\u001b[0;34m\u001b[0m\u001b[0;34m\u001b[0m\u001b[0m\n\u001b[0m\u001b[1;32m     52\u001b[0m         \u001b[0;32mfinally\u001b[0m\u001b[0;34m:\u001b[0m\u001b[0;34m\u001b[0m\u001b[0;34m\u001b[0m\u001b[0m\n\u001b[1;32m     53\u001b[0m             \u001b[0;32mif\u001b[0m \u001b[0martist\u001b[0m\u001b[0;34m.\u001b[0m\u001b[0mget_agg_filter\u001b[0m\u001b[0;34m(\u001b[0m\u001b[0;34m)\u001b[0m \u001b[0;32mis\u001b[0m \u001b[0;32mnot\u001b[0m \u001b[0;32mNone\u001b[0m\u001b[0;34m:\u001b[0m\u001b[0;34m\u001b[0m\u001b[0;34m\u001b[0m\u001b[0m\n",
      "\u001b[0;32m~/Github/cpr-appropriation/venv/lib/python3.9/site-packages/matplotlib/figure.py\u001b[0m in \u001b[0;36mdraw\u001b[0;34m(self, renderer)\u001b[0m\n\u001b[1;32m   2788\u001b[0m \u001b[0;34m\u001b[0m\u001b[0m\n\u001b[1;32m   2789\u001b[0m             \u001b[0mself\u001b[0m\u001b[0;34m.\u001b[0m\u001b[0mpatch\u001b[0m\u001b[0;34m.\u001b[0m\u001b[0mdraw\u001b[0m\u001b[0;34m(\u001b[0m\u001b[0mrenderer\u001b[0m\u001b[0;34m)\u001b[0m\u001b[0;34m\u001b[0m\u001b[0;34m\u001b[0m\u001b[0m\n\u001b[0;32m-> 2790\u001b[0;31m             mimage._draw_list_compositing_images(\n\u001b[0m\u001b[1;32m   2791\u001b[0m                 renderer, self, artists, self.suppressComposite)\n\u001b[1;32m   2792\u001b[0m \u001b[0;34m\u001b[0m\u001b[0m\n",
      "\u001b[0;32m~/Github/cpr-appropriation/venv/lib/python3.9/site-packages/matplotlib/image.py\u001b[0m in \u001b[0;36m_draw_list_compositing_images\u001b[0;34m(renderer, parent, artists, suppress_composite)\u001b[0m\n\u001b[1;32m    130\u001b[0m     \u001b[0;32mif\u001b[0m \u001b[0mnot_composite\u001b[0m \u001b[0;32mor\u001b[0m \u001b[0;32mnot\u001b[0m \u001b[0mhas_images\u001b[0m\u001b[0;34m:\u001b[0m\u001b[0;34m\u001b[0m\u001b[0;34m\u001b[0m\u001b[0m\n\u001b[1;32m    131\u001b[0m         \u001b[0;32mfor\u001b[0m \u001b[0ma\u001b[0m \u001b[0;32min\u001b[0m \u001b[0martists\u001b[0m\u001b[0;34m:\u001b[0m\u001b[0;34m\u001b[0m\u001b[0;34m\u001b[0m\u001b[0m\n\u001b[0;32m--> 132\u001b[0;31m             \u001b[0ma\u001b[0m\u001b[0;34m.\u001b[0m\u001b[0mdraw\u001b[0m\u001b[0;34m(\u001b[0m\u001b[0mrenderer\u001b[0m\u001b[0;34m)\u001b[0m\u001b[0;34m\u001b[0m\u001b[0;34m\u001b[0m\u001b[0m\n\u001b[0m\u001b[1;32m    133\u001b[0m     \u001b[0;32melse\u001b[0m\u001b[0;34m:\u001b[0m\u001b[0;34m\u001b[0m\u001b[0;34m\u001b[0m\u001b[0m\n\u001b[1;32m    134\u001b[0m         \u001b[0;31m# Composite any adjacent images together\u001b[0m\u001b[0;34m\u001b[0m\u001b[0;34m\u001b[0m\u001b[0;34m\u001b[0m\u001b[0m\n",
      "\u001b[0;32m~/Github/cpr-appropriation/venv/lib/python3.9/site-packages/matplotlib/artist.py\u001b[0m in \u001b[0;36mdraw_wrapper\u001b[0;34m(artist, renderer, *args, **kwargs)\u001b[0m\n\u001b[1;32m     49\u001b[0m                 \u001b[0mrenderer\u001b[0m\u001b[0;34m.\u001b[0m\u001b[0mstart_filter\u001b[0m\u001b[0;34m(\u001b[0m\u001b[0;34m)\u001b[0m\u001b[0;34m\u001b[0m\u001b[0;34m\u001b[0m\u001b[0m\n\u001b[1;32m     50\u001b[0m \u001b[0;34m\u001b[0m\u001b[0m\n\u001b[0;32m---> 51\u001b[0;31m             \u001b[0;32mreturn\u001b[0m \u001b[0mdraw\u001b[0m\u001b[0;34m(\u001b[0m\u001b[0martist\u001b[0m\u001b[0;34m,\u001b[0m \u001b[0mrenderer\u001b[0m\u001b[0;34m,\u001b[0m \u001b[0;34m*\u001b[0m\u001b[0margs\u001b[0m\u001b[0;34m,\u001b[0m \u001b[0;34m**\u001b[0m\u001b[0mkwargs\u001b[0m\u001b[0;34m)\u001b[0m\u001b[0;34m\u001b[0m\u001b[0;34m\u001b[0m\u001b[0m\n\u001b[0m\u001b[1;32m     52\u001b[0m         \u001b[0;32mfinally\u001b[0m\u001b[0;34m:\u001b[0m\u001b[0;34m\u001b[0m\u001b[0;34m\u001b[0m\u001b[0m\n\u001b[1;32m     53\u001b[0m             \u001b[0;32mif\u001b[0m \u001b[0martist\u001b[0m\u001b[0;34m.\u001b[0m\u001b[0mget_agg_filter\u001b[0m\u001b[0;34m(\u001b[0m\u001b[0;34m)\u001b[0m \u001b[0;32mis\u001b[0m \u001b[0;32mnot\u001b[0m \u001b[0;32mNone\u001b[0m\u001b[0;34m:\u001b[0m\u001b[0;34m\u001b[0m\u001b[0;34m\u001b[0m\u001b[0m\n",
      "\u001b[0;32m~/Github/cpr-appropriation/venv/lib/python3.9/site-packages/matplotlib/_api/deprecation.py\u001b[0m in \u001b[0;36mwrapper\u001b[0;34m(*inner_args, **inner_kwargs)\u001b[0m\n\u001b[1;32m    429\u001b[0m                          \u001b[0;32melse\u001b[0m \u001b[0mdeprecation_addendum\u001b[0m\u001b[0;34m,\u001b[0m\u001b[0;34m\u001b[0m\u001b[0;34m\u001b[0m\u001b[0m\n\u001b[1;32m    430\u001b[0m                 **kwargs)\n\u001b[0;32m--> 431\u001b[0;31m         \u001b[0;32mreturn\u001b[0m \u001b[0mfunc\u001b[0m\u001b[0;34m(\u001b[0m\u001b[0;34m*\u001b[0m\u001b[0minner_args\u001b[0m\u001b[0;34m,\u001b[0m \u001b[0;34m**\u001b[0m\u001b[0minner_kwargs\u001b[0m\u001b[0;34m)\u001b[0m\u001b[0;34m\u001b[0m\u001b[0;34m\u001b[0m\u001b[0m\n\u001b[0m\u001b[1;32m    432\u001b[0m \u001b[0;34m\u001b[0m\u001b[0m\n\u001b[1;32m    433\u001b[0m     \u001b[0;32mreturn\u001b[0m \u001b[0mwrapper\u001b[0m\u001b[0;34m\u001b[0m\u001b[0;34m\u001b[0m\u001b[0m\n",
      "\u001b[0;32m~/Github/cpr-appropriation/venv/lib/python3.9/site-packages/matplotlib/axes/_base.py\u001b[0m in \u001b[0;36mdraw\u001b[0;34m(self, renderer, inframe)\u001b[0m\n\u001b[1;32m   2919\u001b[0m             \u001b[0mrenderer\u001b[0m\u001b[0;34m.\u001b[0m\u001b[0mstop_rasterizing\u001b[0m\u001b[0;34m(\u001b[0m\u001b[0;34m)\u001b[0m\u001b[0;34m\u001b[0m\u001b[0;34m\u001b[0m\u001b[0m\n\u001b[1;32m   2920\u001b[0m \u001b[0;34m\u001b[0m\u001b[0m\n\u001b[0;32m-> 2921\u001b[0;31m         \u001b[0mmimage\u001b[0m\u001b[0;34m.\u001b[0m\u001b[0m_draw_list_compositing_images\u001b[0m\u001b[0;34m(\u001b[0m\u001b[0mrenderer\u001b[0m\u001b[0;34m,\u001b[0m \u001b[0mself\u001b[0m\u001b[0;34m,\u001b[0m \u001b[0martists\u001b[0m\u001b[0;34m)\u001b[0m\u001b[0;34m\u001b[0m\u001b[0;34m\u001b[0m\u001b[0m\n\u001b[0m\u001b[1;32m   2922\u001b[0m \u001b[0;34m\u001b[0m\u001b[0m\n\u001b[1;32m   2923\u001b[0m         \u001b[0mrenderer\u001b[0m\u001b[0;34m.\u001b[0m\u001b[0mclose_group\u001b[0m\u001b[0;34m(\u001b[0m\u001b[0;34m'axes'\u001b[0m\u001b[0;34m)\u001b[0m\u001b[0;34m\u001b[0m\u001b[0;34m\u001b[0m\u001b[0m\n",
      "\u001b[0;32m~/Github/cpr-appropriation/venv/lib/python3.9/site-packages/matplotlib/image.py\u001b[0m in \u001b[0;36m_draw_list_compositing_images\u001b[0;34m(renderer, parent, artists, suppress_composite)\u001b[0m\n\u001b[1;32m    130\u001b[0m     \u001b[0;32mif\u001b[0m \u001b[0mnot_composite\u001b[0m \u001b[0;32mor\u001b[0m \u001b[0;32mnot\u001b[0m \u001b[0mhas_images\u001b[0m\u001b[0;34m:\u001b[0m\u001b[0;34m\u001b[0m\u001b[0;34m\u001b[0m\u001b[0m\n\u001b[1;32m    131\u001b[0m         \u001b[0;32mfor\u001b[0m \u001b[0ma\u001b[0m \u001b[0;32min\u001b[0m \u001b[0martists\u001b[0m\u001b[0;34m:\u001b[0m\u001b[0;34m\u001b[0m\u001b[0;34m\u001b[0m\u001b[0m\n\u001b[0;32m--> 132\u001b[0;31m             \u001b[0ma\u001b[0m\u001b[0;34m.\u001b[0m\u001b[0mdraw\u001b[0m\u001b[0;34m(\u001b[0m\u001b[0mrenderer\u001b[0m\u001b[0;34m)\u001b[0m\u001b[0;34m\u001b[0m\u001b[0;34m\u001b[0m\u001b[0m\n\u001b[0m\u001b[1;32m    133\u001b[0m     \u001b[0;32melse\u001b[0m\u001b[0;34m:\u001b[0m\u001b[0;34m\u001b[0m\u001b[0;34m\u001b[0m\u001b[0m\n\u001b[1;32m    134\u001b[0m         \u001b[0;31m# Composite any adjacent images together\u001b[0m\u001b[0;34m\u001b[0m\u001b[0;34m\u001b[0m\u001b[0;34m\u001b[0m\u001b[0m\n",
      "\u001b[0;32m~/Github/cpr-appropriation/venv/lib/python3.9/site-packages/matplotlib/artist.py\u001b[0m in \u001b[0;36mdraw_wrapper\u001b[0;34m(artist, renderer, *args, **kwargs)\u001b[0m\n\u001b[1;32m     49\u001b[0m                 \u001b[0mrenderer\u001b[0m\u001b[0;34m.\u001b[0m\u001b[0mstart_filter\u001b[0m\u001b[0;34m(\u001b[0m\u001b[0;34m)\u001b[0m\u001b[0;34m\u001b[0m\u001b[0;34m\u001b[0m\u001b[0m\n\u001b[1;32m     50\u001b[0m \u001b[0;34m\u001b[0m\u001b[0m\n\u001b[0;32m---> 51\u001b[0;31m             \u001b[0;32mreturn\u001b[0m \u001b[0mdraw\u001b[0m\u001b[0;34m(\u001b[0m\u001b[0martist\u001b[0m\u001b[0;34m,\u001b[0m \u001b[0mrenderer\u001b[0m\u001b[0;34m,\u001b[0m \u001b[0;34m*\u001b[0m\u001b[0margs\u001b[0m\u001b[0;34m,\u001b[0m \u001b[0;34m**\u001b[0m\u001b[0mkwargs\u001b[0m\u001b[0;34m)\u001b[0m\u001b[0;34m\u001b[0m\u001b[0;34m\u001b[0m\u001b[0m\n\u001b[0m\u001b[1;32m     52\u001b[0m         \u001b[0;32mfinally\u001b[0m\u001b[0;34m:\u001b[0m\u001b[0;34m\u001b[0m\u001b[0;34m\u001b[0m\u001b[0m\n\u001b[1;32m     53\u001b[0m             \u001b[0;32mif\u001b[0m \u001b[0martist\u001b[0m\u001b[0;34m.\u001b[0m\u001b[0mget_agg_filter\u001b[0m\u001b[0;34m(\u001b[0m\u001b[0;34m)\u001b[0m \u001b[0;32mis\u001b[0m \u001b[0;32mnot\u001b[0m \u001b[0;32mNone\u001b[0m\u001b[0;34m:\u001b[0m\u001b[0;34m\u001b[0m\u001b[0;34m\u001b[0m\u001b[0m\n",
      "\u001b[0;32m~/Github/cpr-appropriation/venv/lib/python3.9/site-packages/matplotlib/image.py\u001b[0m in \u001b[0;36mdraw\u001b[0;34m(self, renderer, *args, **kwargs)\u001b[0m\n\u001b[1;32m    638\u001b[0m                 \u001b[0mrenderer\u001b[0m\u001b[0;34m.\u001b[0m\u001b[0mdraw_image\u001b[0m\u001b[0;34m(\u001b[0m\u001b[0mgc\u001b[0m\u001b[0;34m,\u001b[0m \u001b[0ml\u001b[0m\u001b[0;34m,\u001b[0m \u001b[0mb\u001b[0m\u001b[0;34m,\u001b[0m \u001b[0mim\u001b[0m\u001b[0;34m,\u001b[0m \u001b[0mtrans\u001b[0m\u001b[0;34m)\u001b[0m\u001b[0;34m\u001b[0m\u001b[0;34m\u001b[0m\u001b[0m\n\u001b[1;32m    639\u001b[0m         \u001b[0;32melse\u001b[0m\u001b[0;34m:\u001b[0m\u001b[0;34m\u001b[0m\u001b[0;34m\u001b[0m\u001b[0m\n\u001b[0;32m--> 640\u001b[0;31m             im, l, b, trans = self.make_image(\n\u001b[0m\u001b[1;32m    641\u001b[0m                 renderer, renderer.get_image_magnification())\n\u001b[1;32m    642\u001b[0m             \u001b[0;32mif\u001b[0m \u001b[0mim\u001b[0m \u001b[0;32mis\u001b[0m \u001b[0;32mnot\u001b[0m \u001b[0;32mNone\u001b[0m\u001b[0;34m:\u001b[0m\u001b[0;34m\u001b[0m\u001b[0;34m\u001b[0m\u001b[0m\n",
      "\u001b[0;32m~/Github/cpr-appropriation/venv/lib/python3.9/site-packages/matplotlib/image.py\u001b[0m in \u001b[0;36mmake_image\u001b[0;34m(self, renderer, magnification, unsampled)\u001b[0m\n\u001b[1;32m    924\u001b[0m         clip = ((self.get_clip_box() or self.axes.bbox) if self.get_clip_on()\n\u001b[1;32m    925\u001b[0m                 else self.figure.bbox)\n\u001b[0;32m--> 926\u001b[0;31m         return self._make_image(self._A, bbox, transformed_bbox, clip,\n\u001b[0m\u001b[1;32m    927\u001b[0m                                 magnification, unsampled=unsampled)\n\u001b[1;32m    928\u001b[0m \u001b[0;34m\u001b[0m\u001b[0m\n",
      "\u001b[0;32m~/Github/cpr-appropriation/venv/lib/python3.9/site-packages/matplotlib/image.py\u001b[0m in \u001b[0;36m_make_image\u001b[0;34m(self, A, in_bbox, out_bbox, clip_bbox, magnification, unsampled, round_to_pixel_border)\u001b[0m\n\u001b[1;32m    549\u001b[0m                 output_alpha = _resample(  # resample alpha channel\n\u001b[1;32m    550\u001b[0m                     self, A[..., 3], out_shape, t, alpha=alpha)\n\u001b[0;32m--> 551\u001b[0;31m                 output = _resample(  # resample rgb channels\n\u001b[0m\u001b[1;32m    552\u001b[0m                     self, _rgb_to_rgba(A[..., :3]), out_shape, t, alpha=alpha)\n\u001b[1;32m    553\u001b[0m                 \u001b[0moutput\u001b[0m\u001b[0;34m[\u001b[0m\u001b[0;34m...\u001b[0m\u001b[0;34m,\u001b[0m \u001b[0;36m3\u001b[0m\u001b[0;34m]\u001b[0m \u001b[0;34m=\u001b[0m \u001b[0moutput_alpha\u001b[0m  \u001b[0;31m# recombine rgb and alpha\u001b[0m\u001b[0;34m\u001b[0m\u001b[0;34m\u001b[0m\u001b[0m\n",
      "\u001b[0;32m~/Github/cpr-appropriation/venv/lib/python3.9/site-packages/matplotlib/image.py\u001b[0m in \u001b[0;36m_resample\u001b[0;34m(image_obj, data, out_shape, transform, resample, alpha)\u001b[0m\n\u001b[1;32m    191\u001b[0m     \u001b[0;32mif\u001b[0m \u001b[0mresample\u001b[0m \u001b[0;32mis\u001b[0m \u001b[0;32mNone\u001b[0m\u001b[0;34m:\u001b[0m\u001b[0;34m\u001b[0m\u001b[0;34m\u001b[0m\u001b[0m\n\u001b[1;32m    192\u001b[0m         \u001b[0mresample\u001b[0m \u001b[0;34m=\u001b[0m \u001b[0mimage_obj\u001b[0m\u001b[0;34m.\u001b[0m\u001b[0mget_resample\u001b[0m\u001b[0;34m(\u001b[0m\u001b[0;34m)\u001b[0m\u001b[0;34m\u001b[0m\u001b[0;34m\u001b[0m\u001b[0m\n\u001b[0;32m--> 193\u001b[0;31m     _image.resample(data, out, transform,\n\u001b[0m\u001b[1;32m    194\u001b[0m                     \u001b[0m_interpd_\u001b[0m\u001b[0;34m[\u001b[0m\u001b[0minterpolation\u001b[0m\u001b[0;34m]\u001b[0m\u001b[0;34m,\u001b[0m\u001b[0;34m\u001b[0m\u001b[0;34m\u001b[0m\u001b[0m\n\u001b[1;32m    195\u001b[0m                     \u001b[0mresample\u001b[0m\u001b[0;34m,\u001b[0m\u001b[0;34m\u001b[0m\u001b[0;34m\u001b[0m\u001b[0m\n",
      "\u001b[0;31mKeyboardInterrupt\u001b[0m: "
     ]
    },
    {
     "data": {
      "image/png": "[encoded data removed]",
      "text/plain": [
       "<Figure size 864x720 with 1 Axes>"
      ]
     },
     "metadata": {
      "needs_background": "light"
     },
     "output_type": "display_data"
    }
   ],
   "source": [
    "import matplotlib.pyplot as plt\n",
    "from IPython import display\n",
    "\n",
    "observations = env.reset()\n",
    "fig, ax, img = env.plot(env.render('rgb_array'))\n",
    "for _ in range(env.max_steps):\n",
    "    display.display(plt.gcf())\n",
    "    action_dict = {h: env.action_space.sample() for h in range(env.n_agents)}\n",
    "    observations, rewards, dones, infos = env.step(action_dict)\n",
    "    display.clear_output(wait=True)\n",
    "    img.set_data(env.render(mode='rgb_array'))\n",
    "env.close()"
   ]
  },
  {
   "cell_type": "markdown",
   "id": "de77dec3",
   "metadata": {},
   "source": [
    "## RLlib baselines"
   ]
  },
  {
   "cell_type": "code",
   "execution_count": 21,
   "id": "4f7844d1",
   "metadata": {},
   "outputs": [],
   "source": [
    "from src import models\n",
    "from ray.rllib.models import ModelCatalog\n",
    "\n",
    "ModelCatalog.register_custom_model(\"fcn\", models.FCNetwork)"
   ]
  },
  {
   "cell_type": "code",
   "execution_count": 23,
   "id": "c6d0bbf6",
   "metadata": {},
   "outputs": [
    {
     "data": {
      "text/html": [
       "== Status ==<br>Memory usage on this node: 9.8/16.0 GiB<br>Using FIFO scheduling algorithm.<br>Resources requested: 0/16 CPUs, 0/0 GPUs, 0.0/4.43 GiB heap, 0.0/2.21 GiB objects<br>Result logdir: /Users/jobs/ray_results/DQN_2021-08-17_09-38-11<br>Number of trials: 1/1 (1 PENDING)<br><table>\n",
       "<thead>\n",
       "<tr><th>Trial name                                </th><th>status  </th><th>loc  </th></tr>\n",
       "</thead>\n",
       "<tbody>\n",
       "<tr><td>DQN_gym_cpr_grid:CPRGridEnv-v0_12977_00000</td><td>PENDING </td><td>     </td></tr>\n",
       "</tbody>\n",
       "</table><br><br>"
      ],
      "text/plain": [
       "<IPython.core.display.HTML object>"
      ]
     },
     "metadata": {},
     "output_type": "display_data"
    },
    {
     "name": "stderr",
     "output_type": "stream",
     "text": [
      "\u001b[2m\u001b[36m(pid=54161)\u001b[0m 2021-08-17 09:38:12,709\tINFO trainer.py:718 -- Current log_level is WARN. For more information, set 'log_level': 'INFO' / 'DEBUG' or use the -v and -vv flags.\n",
      "\u001b[2m\u001b[36m(pid=54161)\u001b[0m 2021-08-17 09:38:14,223\tWARNING util.py:55 -- Install gputil for GPU system monitoring.\n"
     ]
    },
    {
     "name": "stdout",
     "output_type": "stream",
     "text": [
      "Result for DQN_gym_cpr_grid:CPRGridEnv-v0_12977_00000:\n",
      "  agent_timesteps_total: 1008\n",
      "  custom_metrics: {}\n",
      "  date: 2021-08-17_09-38-15\n",
      "  done: false\n",
      "  episode_len_mean: .nan\n",
      "  episode_media: {}\n",
      "  episode_reward_max: .nan\n",
      "  episode_reward_mean: .nan\n",
      "  episode_reward_min: .nan\n",
      "  episodes_this_iter: 0\n",
      "  episodes_total: 0\n",
      "  experiment_id: ee1858f3aa17418d8d7e7ac6d9b5f303\n",
      "  hostname: wadaboa-work.local\n",
      "  info:\n",
      "    last_target_update_ts: 1008\n",
      "    learner:\n",
      "      default_policy:\n",
      "        custom_metrics: {}\n",
      "        learner_stats:\n",
      "          allreduce_latency: 0.0\n",
      "          cur_lr: 0.0005\n",
      "          grad_gnorm: 1.2916113138198853\n",
      "          max_q: 0.09693920612335205\n",
      "          mean_q: 0.04877370595932007\n",
      "          mean_td_error: 0.8819049596786499\n",
      "          min_q: 0.006110220216214657\n",
      "        model: {}\n",
      "        td_error: \"[ 1.0911441   1.1054873   0.99730796 -0.95566654  1.1063724   1.0110275\\n\\\n",
      "          \\  1.092205    1.1101962   1.0402781   1.0118505   1.0348008   1.0431473\\n\\\n",
      "          \\  1.1081433   1.0911721   1.0612462   1.0972264   1.0792618   1.0598227\\n\\\n",
      "          \\ -0.9421194   1.0308008   1.1136414   1.016378    1.090362    1.0365328\\n\\\n",
      "          \\  1.112965    1.0921966   1.1405112  -0.93207556  1.1385639   1.0498707\\n\\\n",
      "          \\  1.0461016   1.0422049 ]\"\n",
      "    num_agent_steps_sampled: 1008\n",
      "    num_agent_steps_trained: 32\n",
      "    num_steps_sampled: 1008\n",
      "    num_steps_trained: 32\n",
      "    num_target_updates: 1\n",
      "  iterations_since_restore: 1\n",
      "  node_ip: 192.168.1.110\n",
      "  num_healthy_workers: 1\n",
      "  off_policy_estimator: {}\n",
      "  perf:\n",
      "    cpu_util_percent: 8.2\n",
      "    ram_util_percent: 63.05\n",
      "  pid: 54161\n",
      "  policy_reward_max: {}\n",
      "  policy_reward_mean: {}\n",
      "  policy_reward_min: {}\n",
      "  sampler_perf: {}\n",
      "  time_since_restore: 1.0210819244384766\n",
      "  time_this_iter_s: 1.0210819244384766\n",
      "  time_total_s: 1.0210819244384766\n",
      "  timers:\n",
      "    learn_throughput: 5804.512\n",
      "    learn_time_ms: 5.513\n",
      "    update_time_ms: 0.839\n",
      "  timestamp: 1629185895\n",
      "  timesteps_since_restore: 0\n",
      "  timesteps_total: 1008\n",
      "  training_iteration: 1\n",
      "  trial_id: '12977_00000'\n",
      "  \n"
     ]
    },
    {
     "data": {
      "text/html": [
       "== Status ==<br>Memory usage on this node: 10.1/16.0 GiB<br>Using FIFO scheduling algorithm.<br>Resources requested: 2.0/16 CPUs, 0/0 GPUs, 0.0/4.43 GiB heap, 0.0/2.21 GiB objects<br>Result logdir: /Users/jobs/ray_results/DQN_2021-08-17_09-38-11<br>Number of trials: 1/1 (1 RUNNING)<br><table>\n",
       "<thead>\n",
       "<tr><th>Trial name                                </th><th>status  </th><th>loc                </th><th style=\"text-align: right;\">  iter</th><th style=\"text-align: right;\">  total time (s)</th><th style=\"text-align: right;\">  ts</th><th style=\"text-align: right;\">  reward</th><th style=\"text-align: right;\">  episode_reward_max</th><th style=\"text-align: right;\">  episode_reward_min</th><th style=\"text-align: right;\">  episode_len_mean</th></tr>\n",
       "</thead>\n",
       "<tbody>\n",
       "<tr><td>DQN_gym_cpr_grid:CPRGridEnv-v0_12977_00000</td><td>RUNNING </td><td>192.168.1.110:54161</td><td style=\"text-align: right;\">     2</td><td style=\"text-align: right;\">          2.5202</td><td style=\"text-align: right;\">2016</td><td style=\"text-align: right;\">     nan</td><td style=\"text-align: right;\">                 nan</td><td style=\"text-align: right;\">                 nan</td><td style=\"text-align: right;\">               nan</td></tr>\n",
       "</tbody>\n",
       "</table><br><br>"
      ],
      "text/plain": [
       "<IPython.core.display.HTML object>"
      ]
     },
     "metadata": {},
     "output_type": "display_data"
    },
    {
     "name": "stdout",
     "output_type": "stream",
     "text": [
      "Result for DQN_gym_cpr_grid:CPRGridEnv-v0_12977_00000:\n",
      "  agent_timesteps_total: 5040\n",
      "  custom_metrics: {}\n",
      "  date: 2021-08-17_09-38-22\n",
      "  done: false\n",
      "  episode_len_mean: 1000.0\n",
      "  episode_media: {}\n",
      "  episode_reward_max: -2468.0\n",
      "  episode_reward_mean: -2468.0\n",
      "  episode_reward_min: -2468.0\n",
      "  episodes_this_iter: 0\n",
      "  episodes_total: 1\n",
      "  experiment_id: ee1858f3aa17418d8d7e7ac6d9b5f303\n",
      "  hostname: wadaboa-work.local\n",
      "  info:\n",
      "    last_target_update_ts: 5040\n",
      "    learner:\n",
      "      default_policy:\n",
      "        custom_metrics: {}\n",
      "        learner_stats:\n",
      "          allreduce_latency: 0.0\n",
      "          cur_lr: 0.0005\n",
      "          grad_gnorm: 0.0700501948595047\n",
      "          max_q: -1.8854105472564697\n",
      "          mean_q: -3.267568588256836\n",
      "          mean_td_error: -0.10382568836212158\n",
      "          min_q: -5.633205413818359\n",
      "        model: {}\n",
      "        td_error: \"[-0.09291983 -0.6218791   0.08123946 -0.6523566   0.39398408 -0.84233165\\n\\\n",
      "          \\ -1.4244807   0.846025   -0.6218791   0.06551862  0.8526299   0.17086625\\n\\\n",
      "          \\  0.17167282  0.20075989  1.2763355  -0.04917479  0.48435974  1.2383192\\n\\\n",
      "          \\ -0.05886269 -0.5523708   0.24161553 -0.13123536 -0.04710126 -0.72730374\\n\\\n",
      "          \\ -1.3228828  -1.4331241  -0.87828803 -1.2100036  -0.03420591  1.1688733\\n\\\n",
      "          \\  1.3992038  -1.2134252 ]\"\n",
      "    num_agent_steps_sampled: 5040\n",
      "    num_agent_steps_trained: 10784\n",
      "    num_steps_sampled: 5040\n",
      "    num_steps_trained: 10784\n",
      "    num_target_updates: 9\n",
      "  iterations_since_restore: 5\n",
      "  node_ip: 192.168.1.110\n",
      "  num_healthy_workers: 1\n",
      "  off_policy_estimator: {}\n",
      "  perf:\n",
      "    cpu_util_percent: 10.800000000000002\n",
      "    ram_util_percent: 63.20000000000001\n",
      "  pid: 54161\n",
      "  policy_reward_max: {}\n",
      "  policy_reward_mean: {}\n",
      "  policy_reward_min: {}\n",
      "  sampler_perf:\n",
      "    mean_action_processing_ms: 0.05369663711109294\n",
      "    mean_env_render_ms: 0.0\n",
      "    mean_env_wait_ms: 1.340483059613745\n",
      "    mean_inference_ms: 0.71643010830383\n",
      "    mean_raw_obs_processing_ms: 0.15812870059660808\n",
      "  time_since_restore: 7.898958921432495\n",
      "  time_this_iter_s: 2.002948045730591\n",
      "  time_total_s: 7.898958921432495\n",
      "  timers:\n",
      "    learn_throughput: 9657.55\n",
      "    learn_time_ms: 3.313\n",
      "    update_time_ms: 0.888\n",
      "  timestamp: 1629185902\n",
      "  timesteps_since_restore: 0\n",
      "  timesteps_total: 5040\n",
      "  training_iteration: 5\n",
      "  trial_id: '12977_00000'\n",
      "  \n"
     ]
    },
    {
     "data": {
      "text/html": [
       "== Status ==<br>Memory usage on this node: 10.1/16.0 GiB<br>Using FIFO scheduling algorithm.<br>Resources requested: 2.0/16 CPUs, 0/0 GPUs, 0.0/4.43 GiB heap, 0.0/2.21 GiB objects<br>Result logdir: /Users/jobs/ray_results/DQN_2021-08-17_09-38-11<br>Number of trials: 1/1 (1 RUNNING)<br><table>\n",
       "<thead>\n",
       "<tr><th>Trial name                                </th><th>status  </th><th>loc                </th><th style=\"text-align: right;\">  iter</th><th style=\"text-align: right;\">  total time (s)</th><th style=\"text-align: right;\">  ts</th><th style=\"text-align: right;\">  reward</th><th style=\"text-align: right;\">  episode_reward_max</th><th style=\"text-align: right;\">  episode_reward_min</th><th style=\"text-align: right;\">  episode_len_mean</th></tr>\n",
       "</thead>\n",
       "<tbody>\n",
       "<tr><td>DQN_gym_cpr_grid:CPRGridEnv-v0_12977_00000</td><td>RUNNING </td><td>192.168.1.110:54161</td><td style=\"text-align: right;\">     5</td><td style=\"text-align: right;\">         7.89896</td><td style=\"text-align: right;\">5040</td><td style=\"text-align: right;\">   -2468</td><td style=\"text-align: right;\">               -2468</td><td style=\"text-align: right;\">               -2468</td><td style=\"text-align: right;\">              1000</td></tr>\n",
       "</tbody>\n",
       "</table><br><br>"
      ],
      "text/plain": [
       "<IPython.core.display.HTML object>"
      ]
     },
     "metadata": {},
     "output_type": "display_data"
    },
    {
     "name": "stdout",
     "output_type": "stream",
     "text": [
      "Result for DQN_gym_cpr_grid:CPRGridEnv-v0_12977_00000:\n",
      "  agent_timesteps_total: 8064\n",
      "  custom_metrics: {}\n",
      "  date: 2021-08-17_09-38-28\n",
      "  done: false\n",
      "  episode_len_mean: 1000.0\n",
      "  episode_media: {}\n",
      "  episode_reward_max: -622.0\n",
      "  episode_reward_mean: -1545.0\n",
      "  episode_reward_min: -2468.0\n",
      "  episodes_this_iter: 0\n",
      "  episodes_total: 2\n",
      "  experiment_id: ee1858f3aa17418d8d7e7ac6d9b5f303\n",
      "  hostname: wadaboa-work.local\n",
      "  info:\n",
      "    last_target_update_ts: 8064\n",
      "    learner:\n",
      "      default_policy:\n",
      "        custom_metrics: {}\n",
      "        learner_stats:\n",
      "          allreduce_latency: 0.0\n",
      "          cur_lr: 0.0005\n",
      "          grad_gnorm: 0.15214699506759644\n",
      "          max_q: -0.9250001907348633\n",
      "          mean_q: -2.1119987964630127\n",
      "          mean_td_error: -0.5307348966598511\n",
      "          min_q: -4.831971168518066\n",
      "        model: {}\n",
      "        td_error: \"[-0.67758346  0.3916092  -1.1570871   0.21039772  1.3459175   0.5017786\\n\\\n",
      "          \\ -0.6431515  -0.14771545 -1.0045134  -0.9550686  -1.8675008  -1.3086932\\n\\\n",
      "          \\  0.1647495   0.20606756 -0.8473358   0.2411766  -1.386942   -1.6687884\\n\\\n",
      "          \\ -0.3998034  -1.8240292   0.43545628  0.68641615 -1.7993487  -0.66533875\\n\\\n",
      "          \\ -1.8427279  -0.2884965   0.22067022 -0.90515983 -0.9598143   0.82267237\\n\\\n",
      "          \\ -0.66064024 -1.2006905 ]\"\n",
      "    num_agent_steps_sampled: 8064\n",
      "    num_agent_steps_trained: 18848\n",
      "    num_steps_sampled: 8064\n",
      "    num_steps_trained: 18848\n",
      "    num_target_updates: 15\n",
      "  iterations_since_restore: 8\n",
      "  node_ip: 192.168.1.110\n",
      "  num_healthy_workers: 1\n",
      "  off_policy_estimator: {}\n",
      "  perf:\n",
      "    cpu_util_percent: 11.333333333333334\n",
      "    ram_util_percent: 63.20000000000001\n",
      "  pid: 54161\n",
      "  policy_reward_max: {}\n",
      "  policy_reward_mean: {}\n",
      "  policy_reward_min: {}\n",
      "  sampler_perf:\n",
      "    mean_action_processing_ms: 0.05373394365056402\n",
      "    mean_env_render_ms: 0.0\n",
      "    mean_env_wait_ms: 1.6688719329198713\n",
      "    mean_inference_ms: 0.7252363429503934\n",
      "    mean_raw_obs_processing_ms: 0.15874485599318372\n",
      "  time_since_restore: 14.534298658370972\n",
      "  time_this_iter_s: 2.2761828899383545\n",
      "  time_total_s: 14.534298658370972\n",
      "  timers:\n",
      "    learn_throughput: 9929.844\n",
      "    learn_time_ms: 3.223\n",
      "    update_time_ms: 0.839\n",
      "  timestamp: 1629185908\n",
      "  timesteps_since_restore: 0\n",
      "  timesteps_total: 8064\n",
      "  training_iteration: 8\n",
      "  trial_id: '12977_00000'\n",
      "  \n"
     ]
    },
    {
     "data": {
      "text/html": [
       "== Status ==<br>Memory usage on this node: 10.1/16.0 GiB<br>Using FIFO scheduling algorithm.<br>Resources requested: 2.0/16 CPUs, 0/0 GPUs, 0.0/4.43 GiB heap, 0.0/2.21 GiB objects (0.0/2.0 CPU_group_3b7fdab15ca7118971417780bb7eb218, 0.0/1.0 CPU_group_0_3b7fdab15ca7118971417780bb7eb218, 0.0/1.0 CPU_group_1_3b7fdab15ca7118971417780bb7eb218)<br>Result logdir: /Users/jobs/ray_results/DQN_2021-08-17_09-38-11<br>Number of trials: 1/1 (1 RUNNING)<br><table>\n",
       "<thead>\n",
       "<tr><th>Trial name                                </th><th>status  </th><th>loc                </th><th style=\"text-align: right;\">  iter</th><th style=\"text-align: right;\">  total time (s)</th><th style=\"text-align: right;\">  ts</th><th style=\"text-align: right;\">  reward</th><th style=\"text-align: right;\">  episode_reward_max</th><th style=\"text-align: right;\">  episode_reward_min</th><th style=\"text-align: right;\">  episode_len_mean</th></tr>\n",
       "</thead>\n",
       "<tbody>\n",
       "<tr><td>DQN_gym_cpr_grid:CPRGridEnv-v0_12977_00000</td><td>RUNNING </td><td>192.168.1.110:54161</td><td style=\"text-align: right;\">     8</td><td style=\"text-align: right;\">         14.5343</td><td style=\"text-align: right;\">8064</td><td style=\"text-align: right;\">   -1545</td><td style=\"text-align: right;\">                -622</td><td style=\"text-align: right;\">               -2468</td><td style=\"text-align: right;\">              1000</td></tr>\n",
       "</tbody>\n",
       "</table><br><br>"
      ],
      "text/plain": [
       "<IPython.core.display.HTML object>"
      ]
     },
     "metadata": {},
     "output_type": "display_data"
    },
    {
     "name": "stdout",
     "output_type": "stream",
     "text": [
      "Result for DQN_gym_cpr_grid:CPRGridEnv-v0_12977_00000:\n",
      "  agent_timesteps_total: 11088\n",
      "  custom_metrics: {}\n",
      "  date: 2021-08-17_09-38-36\n",
      "  done: false\n",
      "  episode_len_mean: 1000.0\n",
      "  episode_media: {}\n",
      "  episode_reward_max: 348.0\n",
      "  episode_reward_mean: -914.0\n",
      "  episode_reward_min: -2468.0\n",
      "  episodes_this_iter: 0\n",
      "  episodes_total: 3\n",
      "  experiment_id: ee1858f3aa17418d8d7e7ac6d9b5f303\n",
      "  hostname: wadaboa-work.local\n",
      "  info:\n",
      "    last_target_update_ts: 11088\n",
      "    learner:\n",
      "      default_policy:\n",
      "        custom_metrics: {}\n",
      "        learner_stats:\n",
      "          allreduce_latency: 0.0\n",
      "          cur_lr: 0.0005\n",
      "          grad_gnorm: 0.06619715690612793\n",
      "          max_q: 1.2971739768981934\n",
      "          mean_q: -0.39727237820625305\n",
      "          mean_td_error: -0.14402414858341217\n",
      "          min_q: -2.421640396118164\n",
      "        model: {}\n",
      "        td_error: \"[ 0.8555622  -0.65190816 -0.5817308   1.8718004  -1.7839041  -0.31423402\\n\\\n",
      "          \\ -0.5142993  -1.4382071  -2.630599    0.15892154  0.02071452 -0.06068277\\n\\\n",
      "          \\  0.31536615 -0.45476633 -2.1568286   1.5029652   1.7430573  -0.805421\\n\\\n",
      "          \\ -0.654125    0.26502365 -0.06052732  0.18443257  1.0575387  -0.26127028\\n\\\n",
      "          \\  0.15749347 -0.59536743  0.02071452  1.6321071  -0.11436576 -0.58103645\\n\\\n",
      "          \\ -0.6804279  -0.05476886]\"\n",
      "    num_agent_steps_sampled: 11088\n",
      "    num_agent_steps_trained: 26912\n",
      "    num_steps_sampled: 11088\n",
      "    num_steps_trained: 26912\n",
      "    num_target_updates: 21\n",
      "  iterations_since_restore: 11\n",
      "  node_ip: 192.168.1.110\n",
      "  num_healthy_workers: 1\n",
      "  off_policy_estimator: {}\n",
      "  perf:\n",
      "    cpu_util_percent: 10.85\n",
      "    ram_util_percent: 63.150000000000006\n",
      "  pid: 54161\n",
      "  policy_reward_max: {}\n",
      "  policy_reward_mean: {}\n",
      "  policy_reward_min: {}\n",
      "  sampler_perf:\n",
      "    mean_action_processing_ms: 0.05375517415541863\n",
      "    mean_env_render_ms: 0.0\n",
      "    mean_env_wait_ms: 1.9460578832701998\n",
      "    mean_inference_ms: 0.7317080182425536\n",
      "    mean_raw_obs_processing_ms: 0.15955455548975786\n",
      "  time_since_restore: 21.7175190448761\n",
      "  time_this_iter_s: 2.3496782779693604\n",
      "  time_total_s: 21.7175190448761\n",
      "  timers:\n",
      "    learn_throughput: 9865.469\n",
      "    learn_time_ms: 3.244\n",
      "    update_time_ms: 0.874\n",
      "  timestamp: 1629185916\n",
      "  timesteps_since_restore: 0\n",
      "  timesteps_total: 11088\n",
      "  training_iteration: 11\n",
      "  trial_id: '12977_00000'\n",
      "  \n"
     ]
    },
    {
     "data": {
      "text/html": [
       "== Status ==<br>Memory usage on this node: 10.1/16.0 GiB<br>Using FIFO scheduling algorithm.<br>Resources requested: 2.0/16 CPUs, 0/0 GPUs, 0.0/4.43 GiB heap, 0.0/2.21 GiB objects (0.0/1.0 CPU_group_0_3b7fdab15ca7118971417780bb7eb218, 0.0/2.0 CPU_group_3b7fdab15ca7118971417780bb7eb218, 0.0/1.0 CPU_group_1_3b7fdab15ca7118971417780bb7eb218)<br>Result logdir: /Users/jobs/ray_results/DQN_2021-08-17_09-38-11<br>Number of trials: 1/1 (1 RUNNING)<br><table>\n",
       "<thead>\n",
       "<tr><th>Trial name                                </th><th>status  </th><th>loc                </th><th style=\"text-align: right;\">  iter</th><th style=\"text-align: right;\">  total time (s)</th><th style=\"text-align: right;\">   ts</th><th style=\"text-align: right;\">  reward</th><th style=\"text-align: right;\">  episode_reward_max</th><th style=\"text-align: right;\">  episode_reward_min</th><th style=\"text-align: right;\">  episode_len_mean</th></tr>\n",
       "</thead>\n",
       "<tbody>\n",
       "<tr><td>DQN_gym_cpr_grid:CPRGridEnv-v0_12977_00000</td><td>RUNNING </td><td>192.168.1.110:54161</td><td style=\"text-align: right;\">    11</td><td style=\"text-align: right;\">         21.7175</td><td style=\"text-align: right;\">11088</td><td style=\"text-align: right;\">    -914</td><td style=\"text-align: right;\">                 348</td><td style=\"text-align: right;\">               -2468</td><td style=\"text-align: right;\">              1000</td></tr>\n",
       "</tbody>\n",
       "</table><br><br>"
      ],
      "text/plain": [
       "<IPython.core.display.HTML object>"
      ]
     },
     "metadata": {},
     "output_type": "display_data"
    },
    {
     "name": "stderr",
     "output_type": "stream",
     "text": [
      "2021-08-17 09:38:43,432\tWARNING tune.py:507 -- SIGINT received (e.g. via Ctrl+C), ending Ray Tune run. This will try to checkpoint the experiment state one last time. Press CTRL+C one more time (or send SIGINT/SIGKILL/SIGTERM) to skip. \n"
     ]
    },
    {
     "name": "stdout",
     "output_type": "stream",
     "text": [
      "Result for DQN_gym_cpr_grid:CPRGridEnv-v0_12977_00000:\n",
      "  agent_timesteps_total: 14112\n",
      "  custom_metrics: {}\n",
      "  date: 2021-08-17_09-38-43\n",
      "  done: false\n",
      "  episode_len_mean: 1000.0\n",
      "  episode_media: {}\n",
      "  episode_reward_max: 774.0\n",
      "  episode_reward_mean: -492.0\n",
      "  episode_reward_min: -2468.0\n",
      "  episodes_this_iter: 0\n",
      "  episodes_total: 4\n",
      "  experiment_id: ee1858f3aa17418d8d7e7ac6d9b5f303\n",
      "  hostname: wadaboa-work.local\n",
      "  info:\n",
      "    last_target_update_ts: 14112\n",
      "    learner:\n",
      "      default_policy:\n",
      "        custom_metrics: {}\n",
      "        learner_stats:\n",
      "          allreduce_latency: 0.0\n",
      "          cur_lr: 0.0005\n",
      "          grad_gnorm: 0.10364214330911636\n",
      "          max_q: 5.290007591247559\n",
      "          mean_q: 2.665403366088867\n",
      "          mean_td_error: -0.050793278962373734\n",
      "          min_q: -0.4351884722709656\n",
      "        model: {}\n",
      "        td_error: \"[ 0.24452639 -0.5622077  -0.95066524  1.058498    0.22977304 -0.11854517\\n\\\n",
      "          \\ -0.8234401   1.3001359  -0.16008031  0.73085403  0.04639196  0.1230495\\n\\\n",
      "          \\  0.01819372 -0.7206273   1.9960799  -3.17606    -0.35553408  1.263563\\n\\\n",
      "          \\ -0.432621   -0.5921402   1.0122747   1.137939    0.35199642 -0.70834327\\n\\\n",
      "          \\  0.3293259  -1.3745909  -0.97315717 -1.8742259   0.67148805  0.22326422\\n\\\n",
      "          \\  0.68631977 -0.22682047]\"\n",
      "    num_agent_steps_sampled: 14112\n",
      "    num_agent_steps_trained: 34976\n",
      "    num_steps_sampled: 14112\n",
      "    num_steps_trained: 34976\n",
      "    num_target_updates: 27\n",
      "  iterations_since_restore: 14\n",
      "  node_ip: 192.168.1.110\n",
      "  num_healthy_workers: 1\n",
      "  off_policy_estimator: {}\n",
      "  perf:\n",
      "    cpu_util_percent: 11.200000000000001\n",
      "    ram_util_percent: 63.20000000000001\n",
      "  pid: 54161\n",
      "  policy_reward_max: {}\n",
      "  policy_reward_mean: {}\n",
      "  policy_reward_min: {}\n",
      "  sampler_perf:\n",
      "    mean_action_processing_ms: 0.05372937654972023\n",
      "    mean_env_render_ms: 0.0\n",
      "    mean_env_wait_ms: 2.1617547626626\n",
      "    mean_inference_ms: 0.7362179946797249\n",
      "    mean_raw_obs_processing_ms: 0.15986872485556472\n",
      "  time_since_restore: 29.015007972717285\n",
      "  time_this_iter_s: 2.4159929752349854\n",
      "  time_total_s: 29.015007972717285\n",
      "  timers:\n",
      "    learn_throughput: 9975.602\n",
      "    learn_time_ms: 3.208\n",
      "    update_time_ms: 0.871\n",
      "  timestamp: 1629185923\n",
      "  timesteps_since_restore: 0\n",
      "  timesteps_total: 14112\n",
      "  training_iteration: 14\n",
      "  trial_id: '12977_00000'\n",
      "  \n"
     ]
    },
    {
     "data": {
      "text/html": [
       "== Status ==<br>Memory usage on this node: 10.1/16.0 GiB<br>Using FIFO scheduling algorithm.<br>Resources requested: 2.0/16 CPUs, 0/0 GPUs, 0.0/4.43 GiB heap, 0.0/2.21 GiB objects (0.0/1.0 CPU_group_0_3b7fdab15ca7118971417780bb7eb218, 0.0/2.0 CPU_group_3b7fdab15ca7118971417780bb7eb218, 0.0/1.0 CPU_group_1_3b7fdab15ca7118971417780bb7eb218)<br>Result logdir: /Users/jobs/ray_results/DQN_2021-08-17_09-38-11<br>Number of trials: 1/1 (1 RUNNING)<br><table>\n",
       "<thead>\n",
       "<tr><th>Trial name                                </th><th>status  </th><th>loc                </th><th style=\"text-align: right;\">  iter</th><th style=\"text-align: right;\">  total time (s)</th><th style=\"text-align: right;\">   ts</th><th style=\"text-align: right;\">  reward</th><th style=\"text-align: right;\">  episode_reward_max</th><th style=\"text-align: right;\">  episode_reward_min</th><th style=\"text-align: right;\">  episode_len_mean</th></tr>\n",
       "</thead>\n",
       "<tbody>\n",
       "<tr><td>DQN_gym_cpr_grid:CPRGridEnv-v0_12977_00000</td><td>RUNNING </td><td>192.168.1.110:54161</td><td style=\"text-align: right;\">    14</td><td style=\"text-align: right;\">          29.015</td><td style=\"text-align: right;\">14112</td><td style=\"text-align: right;\">    -492</td><td style=\"text-align: right;\">                 774</td><td style=\"text-align: right;\">               -2468</td><td style=\"text-align: right;\">              1000</td></tr>\n",
       "</tbody>\n",
       "</table><br><br>"
      ],
      "text/plain": [
       "<IPython.core.display.HTML object>"
      ]
     },
     "metadata": {},
     "output_type": "display_data"
    },
    {
     "data": {
      "text/html": [
       "== Status ==<br>Memory usage on this node: 10.1/16.0 GiB<br>Using FIFO scheduling algorithm.<br>Resources requested: 2.0/16 CPUs, 0/0 GPUs, 0.0/4.43 GiB heap, 0.0/2.21 GiB objects (0.0/1.0 CPU_group_0_3b7fdab15ca7118971417780bb7eb218, 0.0/2.0 CPU_group_3b7fdab15ca7118971417780bb7eb218, 0.0/1.0 CPU_group_1_3b7fdab15ca7118971417780bb7eb218)<br>Result logdir: /Users/jobs/ray_results/DQN_2021-08-17_09-38-11<br>Number of trials: 1/1 (1 RUNNING)<br><table>\n",
       "<thead>\n",
       "<tr><th>Trial name                                </th><th>status  </th><th>loc                </th><th style=\"text-align: right;\">  iter</th><th style=\"text-align: right;\">  total time (s)</th><th style=\"text-align: right;\">   ts</th><th style=\"text-align: right;\">  reward</th><th style=\"text-align: right;\">  episode_reward_max</th><th style=\"text-align: right;\">  episode_reward_min</th><th style=\"text-align: right;\">  episode_len_mean</th></tr>\n",
       "</thead>\n",
       "<tbody>\n",
       "<tr><td>DQN_gym_cpr_grid:CPRGridEnv-v0_12977_00000</td><td>RUNNING </td><td>192.168.1.110:54161</td><td style=\"text-align: right;\">    14</td><td style=\"text-align: right;\">          29.015</td><td style=\"text-align: right;\">14112</td><td style=\"text-align: right;\">    -492</td><td style=\"text-align: right;\">                 774</td><td style=\"text-align: right;\">               -2468</td><td style=\"text-align: right;\">              1000</td></tr>\n",
       "</tbody>\n",
       "</table><br><br>"
      ],
      "text/plain": [
       "<IPython.core.display.HTML object>"
      ]
     },
     "metadata": {},
     "output_type": "display_data"
    },
    {
     "name": "stderr",
     "output_type": "stream",
     "text": [
      "\u001b[2m\u001b[36m(pid=54161)\u001b[0m 2021-08-17 09:38:43,486\tERROR worker.py:421 -- SystemExit was raised from the worker\n",
      "\u001b[2m\u001b[36m(pid=54161)\u001b[0m Traceback (most recent call last):\n",
      "\u001b[2m\u001b[36m(pid=54161)\u001b[0m   File \"python/ray/_raylet.pyx\", line 632, in ray._raylet.task_execution_handler\n",
      "\u001b[2m\u001b[36m(pid=54161)\u001b[0m   File \"python/ray/_raylet.pyx\", line 486, in ray._raylet.execute_task\n",
      "\u001b[2m\u001b[36m(pid=54161)\u001b[0m   File \"python/ray/_raylet.pyx\", line 523, in ray._raylet.execute_task\n",
      "\u001b[2m\u001b[36m(pid=54161)\u001b[0m   File \"python/ray/_raylet.pyx\", line 530, in ray._raylet.execute_task\n",
      "\u001b[2m\u001b[36m(pid=54161)\u001b[0m   File \"python/ray/_raylet.pyx\", line 534, in ray._raylet.execute_task\n",
      "\u001b[2m\u001b[36m(pid=54161)\u001b[0m   File \"python/ray/_raylet.pyx\", line 484, in ray._raylet.execute_task.function_executor\n",
      "\u001b[2m\u001b[36m(pid=54161)\u001b[0m   File \"/Users/jobs/Github/cpr-appropriation/venv/lib/python3.9/site-packages/ray/_private/function_manager.py\", line 563, in actor_method_executor\n",
      "\u001b[2m\u001b[36m(pid=54161)\u001b[0m     return method(__ray_actor, *args, **kwargs)\n",
      "\u001b[2m\u001b[36m(pid=54161)\u001b[0m   File \"/Users/jobs/Github/cpr-appropriation/venv/lib/python3.9/site-packages/ray/tune/trainable.py\", line 178, in train_buffered\n",
      "\u001b[2m\u001b[36m(pid=54161)\u001b[0m     result = self.train()\n",
      "\u001b[2m\u001b[36m(pid=54161)\u001b[0m   File \"/Users/jobs/Github/cpr-appropriation/venv/lib/python3.9/site-packages/ray/rllib/agents/trainer.py\", line 629, in train\n",
      "\u001b[2m\u001b[36m(pid=54161)\u001b[0m     result = Trainable.train(self)\n",
      "\u001b[2m\u001b[36m(pid=54161)\u001b[0m   File \"/Users/jobs/Github/cpr-appropriation/venv/lib/python3.9/site-packages/ray/tune/trainable.py\", line 237, in train\n",
      "\u001b[2m\u001b[36m(pid=54161)\u001b[0m     result = self.step()\n",
      "\u001b[2m\u001b[36m(pid=54161)\u001b[0m   File \"/Users/jobs/Github/cpr-appropriation/venv/lib/python3.9/site-packages/ray/rllib/agents/trainer_template.py\", line 170, in step\n",
      "\u001b[2m\u001b[36m(pid=54161)\u001b[0m     res = next(self.train_exec_impl)\n",
      "\u001b[2m\u001b[36m(pid=54161)\u001b[0m   File \"/Users/jobs/Github/cpr-appropriation/venv/lib/python3.9/site-packages/ray/util/iter.py\", line 756, in __next__\n",
      "\u001b[2m\u001b[36m(pid=54161)\u001b[0m     return next(self.built_iterator)\n",
      "\u001b[2m\u001b[36m(pid=54161)\u001b[0m   File \"/Users/jobs/Github/cpr-appropriation/venv/lib/python3.9/site-packages/ray/util/iter.py\", line 783, in apply_foreach\n",
      "\u001b[2m\u001b[36m(pid=54161)\u001b[0m     for item in it:\n",
      "\u001b[2m\u001b[36m(pid=54161)\u001b[0m   File \"/Users/jobs/Github/cpr-appropriation/venv/lib/python3.9/site-packages/ray/util/iter.py\", line 843, in apply_filter\n",
      "\u001b[2m\u001b[36m(pid=54161)\u001b[0m     for item in it:\n",
      "\u001b[2m\u001b[36m(pid=54161)\u001b[0m   File \"/Users/jobs/Github/cpr-appropriation/venv/lib/python3.9/site-packages/ray/util/iter.py\", line 843, in apply_filter\n",
      "\u001b[2m\u001b[36m(pid=54161)\u001b[0m     for item in it:\n",
      "\u001b[2m\u001b[36m(pid=54161)\u001b[0m   File \"/Users/jobs/Github/cpr-appropriation/venv/lib/python3.9/site-packages/ray/util/iter.py\", line 783, in apply_foreach\n",
      "\u001b[2m\u001b[36m(pid=54161)\u001b[0m     for item in it:\n",
      "\u001b[2m\u001b[36m(pid=54161)\u001b[0m   File \"/Users/jobs/Github/cpr-appropriation/venv/lib/python3.9/site-packages/ray/util/iter.py\", line 843, in apply_filter\n",
      "\u001b[2m\u001b[36m(pid=54161)\u001b[0m     for item in it:\n",
      "\u001b[2m\u001b[36m(pid=54161)\u001b[0m   File \"/Users/jobs/Github/cpr-appropriation/venv/lib/python3.9/site-packages/ray/util/iter.py\", line 1075, in build_union\n",
      "\u001b[2m\u001b[36m(pid=54161)\u001b[0m     item = next(it)\n",
      "\u001b[2m\u001b[36m(pid=54161)\u001b[0m   File \"/Users/jobs/Github/cpr-appropriation/venv/lib/python3.9/site-packages/ray/util/iter.py\", line 756, in __next__\n",
      "\u001b[2m\u001b[36m(pid=54161)\u001b[0m     return next(self.built_iterator)\n",
      "\u001b[2m\u001b[36m(pid=54161)\u001b[0m   File \"/Users/jobs/Github/cpr-appropriation/venv/lib/python3.9/site-packages/ray/util/iter.py\", line 783, in apply_foreach\n",
      "\u001b[2m\u001b[36m(pid=54161)\u001b[0m     for item in it:\n",
      "\u001b[2m\u001b[36m(pid=54161)\u001b[0m   File \"/Users/jobs/Github/cpr-appropriation/venv/lib/python3.9/site-packages/ray/util/iter.py\", line 783, in apply_foreach\n",
      "\u001b[2m\u001b[36m(pid=54161)\u001b[0m     for item in it:\n",
      "\u001b[2m\u001b[36m(pid=54161)\u001b[0m   File \"/Users/jobs/Github/cpr-appropriation/venv/lib/python3.9/site-packages/ray/util/iter.py\", line 783, in apply_foreach\n",
      "\u001b[2m\u001b[36m(pid=54161)\u001b[0m     for item in it:\n",
      "\u001b[2m\u001b[36m(pid=54161)\u001b[0m   [Previous line repeated 1 more time]\n",
      "\u001b[2m\u001b[36m(pid=54161)\u001b[0m   File \"/Users/jobs/Github/cpr-appropriation/venv/lib/python3.9/site-packages/ray/util/iter.py\", line 471, in base_iterator\n",
      "\u001b[2m\u001b[36m(pid=54161)\u001b[0m     yield ray.get(futures, timeout=timeout)\n",
      "\u001b[2m\u001b[36m(pid=54161)\u001b[0m   File \"/Users/jobs/Github/cpr-appropriation/venv/lib/python3.9/site-packages/ray/_private/client_mode_hook.py\", line 82, in wrapper\n",
      "\u001b[2m\u001b[36m(pid=54161)\u001b[0m     return func(*args, **kwargs)\n",
      "\u001b[2m\u001b[36m(pid=54161)\u001b[0m   File \"/Users/jobs/Github/cpr-appropriation/venv/lib/python3.9/site-packages/ray/worker.py\", line 1557, in get\n",
      "\u001b[2m\u001b[36m(pid=54161)\u001b[0m     values, debugger_breakpoint = worker.get_objects(\n",
      "\u001b[2m\u001b[36m(pid=54161)\u001b[0m   File \"/Users/jobs/Github/cpr-appropriation/venv/lib/python3.9/site-packages/ray/worker.py\", line 340, in get_objects\n",
      "\u001b[2m\u001b[36m(pid=54161)\u001b[0m     data_metadata_pairs = self.core_worker.get_objects(\n",
      "\u001b[2m\u001b[36m(pid=54161)\u001b[0m   File \"/Users/jobs/Github/cpr-appropriation/venv/lib/python3.9/site-packages/ray/worker.py\", line 418, in sigterm_handler\n",
      "\u001b[2m\u001b[36m(pid=54161)\u001b[0m     sys.exit(1)\n",
      "\u001b[2m\u001b[36m(pid=54161)\u001b[0m SystemExit: 1\n",
      "\u001b[2m\u001b[36m(pid=54164)\u001b[0m 2021-08-17 09:38:43,465\tERROR worker.py:421 -- SystemExit was raised from the worker\n",
      "\u001b[2m\u001b[36m(pid=54164)\u001b[0m Traceback (most recent call last):\n",
      "\u001b[2m\u001b[36m(pid=54164)\u001b[0m   File \"python/ray/_raylet.pyx\", line 632, in ray._raylet.task_execution_handler\n",
      "\u001b[2m\u001b[36m(pid=54164)\u001b[0m   File \"python/ray/_raylet.pyx\", line 486, in ray._raylet.execute_task\n",
      "\u001b[2m\u001b[36m(pid=54164)\u001b[0m   File \"python/ray/_raylet.pyx\", line 523, in ray._raylet.execute_task\n",
      "\u001b[2m\u001b[36m(pid=54164)\u001b[0m   File \"python/ray/_raylet.pyx\", line 530, in ray._raylet.execute_task\n",
      "\u001b[2m\u001b[36m(pid=54164)\u001b[0m   File \"python/ray/_raylet.pyx\", line 534, in ray._raylet.execute_task\n",
      "\u001b[2m\u001b[36m(pid=54164)\u001b[0m   File \"python/ray/_raylet.pyx\", line 484, in ray._raylet.execute_task.function_executor\n",
      "\u001b[2m\u001b[36m(pid=54164)\u001b[0m   File \"/Users/jobs/Github/cpr-appropriation/venv/lib/python3.9/site-packages/ray/_private/function_manager.py\", line 563, in actor_method_executor\n",
      "\u001b[2m\u001b[36m(pid=54164)\u001b[0m     return method(__ray_actor, *args, **kwargs)\n",
      "\u001b[2m\u001b[36m(pid=54164)\u001b[0m   File \"/Users/jobs/Github/cpr-appropriation/venv/lib/python3.9/site-packages/ray/util/iter.py\", line 1151, in par_iter_next\n",
      "\u001b[2m\u001b[36m(pid=54164)\u001b[0m     return next(self.local_it)\n",
      "\u001b[2m\u001b[36m(pid=54164)\u001b[0m   File \"/Users/jobs/Github/cpr-appropriation/venv/lib/python3.9/site-packages/ray/rllib/evaluation/rollout_worker.py\", line 339, in gen_rollouts\n",
      "\u001b[2m\u001b[36m(pid=54164)\u001b[0m     yield self.sample()\n",
      "\u001b[2m\u001b[36m(pid=54164)\u001b[0m   File \"/Users/jobs/Github/cpr-appropriation/venv/lib/python3.9/site-packages/ray/rllib/evaluation/rollout_worker.py\", line 740, in sample\n",
      "\u001b[2m\u001b[36m(pid=54164)\u001b[0m     batches = [self.input_reader.next()]\n",
      "\u001b[2m\u001b[36m(pid=54164)\u001b[0m   File \"/Users/jobs/Github/cpr-appropriation/venv/lib/python3.9/site-packages/ray/rllib/evaluation/sampler.py\", line 101, in next\n",
      "\u001b[2m\u001b[36m(pid=54164)\u001b[0m     batches = [self.get_data()]\n",
      "\u001b[2m\u001b[36m(pid=54164)\u001b[0m   File \"/Users/jobs/Github/cpr-appropriation/venv/lib/python3.9/site-packages/ray/rllib/evaluation/sampler.py\", line 231, in get_data\n",
      "\u001b[2m\u001b[36m(pid=54164)\u001b[0m     item = next(self.rollout_provider)\n",
      "\u001b[2m\u001b[36m(pid=54164)\u001b[0m   File \"/Users/jobs/Github/cpr-appropriation/venv/lib/python3.9/site-packages/ray/rllib/evaluation/sampler.py\", line 652, in _env_runner\n",
      "\u001b[2m\u001b[36m(pid=54164)\u001b[0m     base_env.send_actions(actions_to_send)\n",
      "\u001b[2m\u001b[36m(pid=54164)\u001b[0m   File \"/Users/jobs/Github/cpr-appropriation/venv/lib/python3.9/site-packages/ray/rllib/env/base_env.py\", line 421, in send_actions\n",
      "\u001b[2m\u001b[36m(pid=54164)\u001b[0m     obs, rewards, dones, infos = env.step(agent_dict)\n",
      "\u001b[2m\u001b[36m(pid=54164)\u001b[0m   File \"/Users/jobs/Github/cpr-appropriation/venv/lib/python3.9/site-packages/gym_cpr_grid/cpr_grid.py\", line 170, in step\n",
      "\u001b[2m\u001b[36m(pid=54164)\u001b[0m     self._respawn_resources()\n",
      "\u001b[2m\u001b[36m(pid=54164)\u001b[0m   File \"/Users/jobs/Github/cpr-appropriation/venv/lib/python3.9/site-packages/gym_cpr_grid/cpr_grid.py\", line 283, in _respawn_resources\n",
      "\u001b[2m\u001b[36m(pid=54164)\u001b[0m     l = len(self._extract_ball(x, y))\n",
      "\u001b[2m\u001b[36m(pid=54164)\u001b[0m   File \"/Users/jobs/Github/cpr-appropriation/venv/lib/python3.9/site-packages/gym_cpr_grid/cpr_grid.py\", line 408, in _extract_ball\n",
      "\u001b[2m\u001b[36m(pid=54164)\u001b[0m     yg, xg = np.ogrid[\n",
      "\u001b[2m\u001b[36m(pid=54164)\u001b[0m   File \"/Users/jobs/Github/cpr-appropriation/venv/lib/python3.9/site-packages/numpy/lib/index_tricks.py\", line 170, in __getitem__\n",
      "\u001b[2m\u001b[36m(pid=54164)\u001b[0m     nn = [_nx.arange(_x, dtype=_t)\n",
      "\u001b[2m\u001b[36m(pid=54164)\u001b[0m   File \"/Users/jobs/Github/cpr-appropriation/venv/lib/python3.9/site-packages/numpy/lib/index_tricks.py\", line 170, in <listcomp>\n",
      "\u001b[2m\u001b[36m(pid=54164)\u001b[0m     nn = [_nx.arange(_x, dtype=_t)\n",
      "\u001b[2m\u001b[36m(pid=54164)\u001b[0m   File \"/Users/jobs/Github/cpr-appropriation/venv/lib/python3.9/site-packages/ray/worker.py\", line 418, in sigterm_handler\n",
      "\u001b[2m\u001b[36m(pid=54164)\u001b[0m     sys.exit(1)\n",
      "\u001b[2m\u001b[36m(pid=54164)\u001b[0m SystemExit: 1\n"
     ]
    },
    {
     "name": "stderr",
     "output_type": "stream",
     "text": [
      "2021-08-17 09:38:43,670\tERROR tune.py:546 -- Trials did not complete: [DQN_gym_cpr_grid:CPRGridEnv-v0_12977_00000]\n",
      "2021-08-17 09:38:43,671\tINFO tune.py:550 -- Total run time: 32.63 seconds (32.41 seconds for the tuning loop).\n",
      "2021-08-17 09:38:43,671\tWARNING tune.py:554 -- Experiment has been interrupted, but the most recent state was saved. You can continue running this experiment by passing `resume=True` to `tune.run()`\n"
     ]
    },
    {
     "data": {
      "text/plain": [
       "<ray.tune.analysis.experiment_analysis.ExperimentAnalysis at 0x1dc9bf820>"
      ]
     },
     "execution_count": 23,
     "metadata": {},
     "output_type": "execute_result"
    }
   ],
   "source": [
    "from ray import tune\n",
    "from ray.rllib.agents.dqn import DQNTrainer\n",
    "from ray.rllib.models.torch.fcnet import FullyConnectedNetwork\n",
    "\n",
    "tune.run(\n",
    "    DQNTrainer, \n",
    "    config={\n",
    "        \"env\": \"gym_cpr_grid:CPRGridEnv-v0\", \n",
    "        \"env_config\": {\n",
    "            \"n_agents\": 3,\n",
    "            \"grid_width\": 5,\n",
    "            \"grid_height\": 7\n",
    "        }, \n",
    "        \"num_workers\": 1, \n",
    "        \"framework\": \"torch\",\n",
    "        \"model\": {\n",
    "            \"custom_model\": \"fcn\",\n",
    "            \"fcnet_hiddens\": [32, 32],\n",
    "            \"fcnet_activation\": \"relu\",\n",
    "        },\n",
    "        \"exploration_config\": {\n",
    "            \"type\": \"EpsilonGreedy\",\n",
    "            \"initial_epsilon\": 1.0,\n",
    "            \"final_epsilon\": 0.1,\n",
    "            \"epsilon_timesteps\": env.max_steps,\n",
    "        },\n",
    "    }\n",
    ")"
   ]
  },
  {
   "cell_type": "code",
   "execution_count": null,
   "id": "b59c2c04",
   "metadata": {},
   "outputs": [],
   "source": []
  }
 ],
 "metadata": {
  "kernelspec": {
   "display_name": "Python 3 (ipykernel)",
   "language": "python",
   "name": "python3"
  },
  "language_info": {
   "codemirror_mode": {
    "name": "ipython",
    "version": 3
   },
   "file_extension": ".py",
   "mimetype": "text/x-python",
   "name": "python",
   "nbconvert_exporter": "python",
   "pygments_lexer": "ipython3",
   "version": "3.9.5"
  }
 },
 "nbformat": 4,
 "nbformat_minor": 5
}
