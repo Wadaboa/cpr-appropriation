{
 "cells": [
  {
   "cell_type": "code",
   "execution_count": 13,
   "id": "cbbf0712",
   "metadata": {},
   "outputs": [
    {
     "ename": "Error",
     "evalue": "Cannot re-register id: CPRGridEnv-v0",
     "output_type": "error",
     "traceback": [
      "\u001b[0;31m---------------------------------------------------------------------------\u001b[0m",
      "\u001b[0;31mError\u001b[0m                                     Traceback (most recent call last)",
      "\u001b[0;32m/var/folders/pp/wfj1kcws58g7pxksj9k8zdhw0000gn/T/ipykernel_42790/2441978841.py\u001b[0m in \u001b[0;36m<module>\u001b[0;34m\u001b[0m\n\u001b[0;32m----> 1\u001b[0;31m \u001b[0;32mfrom\u001b[0m \u001b[0msrc\u001b[0m\u001b[0;34m.\u001b[0m\u001b[0mgym_cpr_grid\u001b[0m\u001b[0;34m.\u001b[0m\u001b[0mgym_cpr_grid\u001b[0m\u001b[0;34m.\u001b[0m\u001b[0mcpr_grid\u001b[0m \u001b[0;32mimport\u001b[0m \u001b[0mCPRGridEnv\u001b[0m\u001b[0;34m\u001b[0m\u001b[0;34m\u001b[0m\u001b[0m\n\u001b[0m\u001b[1;32m      2\u001b[0m \u001b[0;32mfrom\u001b[0m \u001b[0msrc\u001b[0m\u001b[0;34m.\u001b[0m\u001b[0mgym_cpr_grid\u001b[0m\u001b[0;34m.\u001b[0m\u001b[0mgym_cpr_grid\u001b[0m\u001b[0;34m.\u001b[0m\u001b[0mutils\u001b[0m \u001b[0;32mimport\u001b[0m \u001b[0mAgentAction\u001b[0m\u001b[0;34m\u001b[0m\u001b[0;34m\u001b[0m\u001b[0m\n\u001b[1;32m      3\u001b[0m \u001b[0;32mimport\u001b[0m \u001b[0mnumpy\u001b[0m \u001b[0;32mas\u001b[0m \u001b[0mnp\u001b[0m\u001b[0;34m\u001b[0m\u001b[0;34m\u001b[0m\u001b[0m\n\u001b[1;32m      4\u001b[0m \u001b[0;34m\u001b[0m\u001b[0m\n\u001b[1;32m      5\u001b[0m \u001b[0mget_ipython\u001b[0m\u001b[0;34m(\u001b[0m\u001b[0;34m)\u001b[0m\u001b[0;34m.\u001b[0m\u001b[0mrun_line_magic\u001b[0m\u001b[0;34m(\u001b[0m\u001b[0;34m'load_ext'\u001b[0m\u001b[0;34m,\u001b[0m \u001b[0;34m'autoreload'\u001b[0m\u001b[0;34m)\u001b[0m\u001b[0;34m\u001b[0m\u001b[0;34m\u001b[0m\u001b[0m\n",
      "\u001b[0;32m~/Github/cpr-appropriation/src/gym_cpr_grid/gym_cpr_grid/__init__.py\u001b[0m in \u001b[0;36m<module>\u001b[0;34m\u001b[0m\n\u001b[1;32m      1\u001b[0m \u001b[0;32mfrom\u001b[0m \u001b[0mgym\u001b[0m\u001b[0;34m.\u001b[0m\u001b[0menvs\u001b[0m\u001b[0;34m.\u001b[0m\u001b[0mregistration\u001b[0m \u001b[0;32mimport\u001b[0m \u001b[0mregister\u001b[0m\u001b[0;34m\u001b[0m\u001b[0;34m\u001b[0m\u001b[0m\n\u001b[1;32m      2\u001b[0m \u001b[0;34m\u001b[0m\u001b[0m\n\u001b[0;32m----> 3\u001b[0;31m register(\n\u001b[0m\u001b[1;32m      4\u001b[0m     \u001b[0mid\u001b[0m\u001b[0;34m=\u001b[0m\u001b[0;34m\"CPRGridEnv-v0\"\u001b[0m\u001b[0;34m,\u001b[0m\u001b[0;34m\u001b[0m\u001b[0;34m\u001b[0m\u001b[0m\n\u001b[1;32m      5\u001b[0m     \u001b[0mentry_point\u001b[0m\u001b[0;34m=\u001b[0m\u001b[0;34m\"gym_cpr_grid.cpr_grid:CPRGridEnv\"\u001b[0m\u001b[0;34m,\u001b[0m\u001b[0;34m\u001b[0m\u001b[0;34m\u001b[0m\u001b[0m\n",
      "\u001b[0;32m~/Github/cpr-appropriation/venv/lib/python3.9/site-packages/gym/envs/registration.py\u001b[0m in \u001b[0;36mregister\u001b[0;34m(id, **kwargs)\u001b[0m\n\u001b[1;32m    140\u001b[0m \u001b[0;34m\u001b[0m\u001b[0m\n\u001b[1;32m    141\u001b[0m \u001b[0;32mdef\u001b[0m \u001b[0mregister\u001b[0m\u001b[0;34m(\u001b[0m\u001b[0mid\u001b[0m\u001b[0;34m,\u001b[0m \u001b[0;34m**\u001b[0m\u001b[0mkwargs\u001b[0m\u001b[0;34m)\u001b[0m\u001b[0;34m:\u001b[0m\u001b[0;34m\u001b[0m\u001b[0;34m\u001b[0m\u001b[0m\n\u001b[0;32m--> 142\u001b[0;31m     \u001b[0;32mreturn\u001b[0m \u001b[0mregistry\u001b[0m\u001b[0;34m.\u001b[0m\u001b[0mregister\u001b[0m\u001b[0;34m(\u001b[0m\u001b[0mid\u001b[0m\u001b[0;34m,\u001b[0m \u001b[0;34m**\u001b[0m\u001b[0mkwargs\u001b[0m\u001b[0;34m)\u001b[0m\u001b[0;34m\u001b[0m\u001b[0;34m\u001b[0m\u001b[0m\n\u001b[0m\u001b[1;32m    143\u001b[0m \u001b[0;34m\u001b[0m\u001b[0m\n\u001b[1;32m    144\u001b[0m \u001b[0;32mdef\u001b[0m \u001b[0mmake\u001b[0m\u001b[0;34m(\u001b[0m\u001b[0mid\u001b[0m\u001b[0;34m,\u001b[0m \u001b[0;34m**\u001b[0m\u001b[0mkwargs\u001b[0m\u001b[0;34m)\u001b[0m\u001b[0;34m:\u001b[0m\u001b[0;34m\u001b[0m\u001b[0;34m\u001b[0m\u001b[0m\n",
      "\u001b[0;32m~/Github/cpr-appropriation/venv/lib/python3.9/site-packages/gym/envs/registration.py\u001b[0m in \u001b[0;36mregister\u001b[0;34m(self, id, **kwargs)\u001b[0m\n\u001b[1;32m    133\u001b[0m     \u001b[0;32mdef\u001b[0m \u001b[0mregister\u001b[0m\u001b[0;34m(\u001b[0m\u001b[0mself\u001b[0m\u001b[0;34m,\u001b[0m \u001b[0mid\u001b[0m\u001b[0;34m,\u001b[0m \u001b[0;34m**\u001b[0m\u001b[0mkwargs\u001b[0m\u001b[0;34m)\u001b[0m\u001b[0;34m:\u001b[0m\u001b[0;34m\u001b[0m\u001b[0;34m\u001b[0m\u001b[0m\n\u001b[1;32m    134\u001b[0m         \u001b[0;32mif\u001b[0m \u001b[0mid\u001b[0m \u001b[0;32min\u001b[0m \u001b[0mself\u001b[0m\u001b[0;34m.\u001b[0m\u001b[0menv_specs\u001b[0m\u001b[0;34m:\u001b[0m\u001b[0;34m\u001b[0m\u001b[0;34m\u001b[0m\u001b[0m\n\u001b[0;32m--> 135\u001b[0;31m             \u001b[0;32mraise\u001b[0m \u001b[0merror\u001b[0m\u001b[0;34m.\u001b[0m\u001b[0mError\u001b[0m\u001b[0;34m(\u001b[0m\u001b[0;34m'Cannot re-register id: {}'\u001b[0m\u001b[0;34m.\u001b[0m\u001b[0mformat\u001b[0m\u001b[0;34m(\u001b[0m\u001b[0mid\u001b[0m\u001b[0;34m)\u001b[0m\u001b[0;34m)\u001b[0m\u001b[0;34m\u001b[0m\u001b[0;34m\u001b[0m\u001b[0m\n\u001b[0m\u001b[1;32m    136\u001b[0m         \u001b[0mself\u001b[0m\u001b[0;34m.\u001b[0m\u001b[0menv_specs\u001b[0m\u001b[0;34m[\u001b[0m\u001b[0mid\u001b[0m\u001b[0;34m]\u001b[0m \u001b[0;34m=\u001b[0m \u001b[0mEnvSpec\u001b[0m\u001b[0;34m(\u001b[0m\u001b[0mid\u001b[0m\u001b[0;34m,\u001b[0m \u001b[0;34m**\u001b[0m\u001b[0mkwargs\u001b[0m\u001b[0;34m)\u001b[0m\u001b[0;34m\u001b[0m\u001b[0;34m\u001b[0m\u001b[0m\n\u001b[1;32m    137\u001b[0m \u001b[0;34m\u001b[0m\u001b[0m\n",
      "\u001b[0;31mError\u001b[0m: Cannot re-register id: CPRGridEnv-v0"
     ]
    }
   ],
   "source": [
    "from src.gym_cpr_grid.gym_cpr_grid.cpr_grid import CPRGridEnv\n",
    "from src.gym_cpr_grid.gym_cpr_grid.utils import AgentAction\n",
    "import numpy as np\n",
    "\n",
    "%load_ext autoreload\n",
    "%autoreload 2"
   ]
  },
  {
   "cell_type": "code",
   "execution_count": 58,
   "id": "9bd396d4",
   "metadata": {},
   "outputs": [],
   "source": [
    "env = CPRGridEnv(n_agents=3, grid_width=5, grid_height=7)"
   ]
  },
  {
   "cell_type": "code",
   "execution_count": 59,
   "id": "97cbeaba",
   "metadata": {},
   "outputs": [
    {
     "data": {
      "text/plain": [
       "array([[1, 1, 1, 1, 1],\n",
       "       [1, 1, 0, 0, 0],\n",
       "       [2, 0, 1, 2, 1],\n",
       "       [0, 0, 1, 1, 1],\n",
       "       [1, 1, 0, 1, 0],\n",
       "       [0, 2, 1, 0, 1],\n",
       "       [0, 1, 0, 1, 0]])"
      ]
     },
     "execution_count": 59,
     "metadata": {},
     "output_type": "execute_result"
    }
   ],
   "source": [
    "env.grid"
   ]
  },
  {
   "cell_type": "code",
   "execution_count": 60,
   "id": "c493bf61",
   "metadata": {},
   "outputs": [
    {
     "data": {
      "image/png": "[encoded data removed]",
      "text/plain": [
       "<Figure size 864x720 with 1 Axes>"
      ]
     },
     "metadata": {
      "needs_background": "light"
     },
     "output_type": "display_data"
    }
   ],
   "source": [
    "env.render()"
   ]
  },
  {
   "cell_type": "code",
   "execution_count": 61,
   "id": "f4d14454",
   "metadata": {},
   "outputs": [
    {
     "name": "stdout",
     "output_type": "stream",
     "text": [
      "[<AgentAction.STEP_FORWARD: 0>, <AgentAction.STEP_FORWARD: 0>, <AgentAction.STEP_FORWARD: 0>]\n"
     ]
    },
    {
     "data": {
      "text/plain": [
       "(array([[[0., 0., 0.],\n",
       "         [0., 0., 0.],\n",
       "         [0., 0., 0.],\n",
       "         ...,\n",
       "         [0., 0., 0.],\n",
       "         [0., 0., 0.],\n",
       "         [0., 0., 0.]],\n",
       " \n",
       "        [[0., 0., 0.],\n",
       "         [0., 0., 0.],\n",
       "         [0., 0., 0.],\n",
       "         ...,\n",
       "         [0., 0., 0.],\n",
       "         [0., 0., 0.],\n",
       "         [0., 0., 0.]],\n",
       " \n",
       "        [[0., 0., 0.],\n",
       "         [0., 0., 0.],\n",
       "         [0., 0., 0.],\n",
       "         ...,\n",
       "         [0., 0., 0.],\n",
       "         [0., 0., 0.],\n",
       "         [0., 0., 0.]],\n",
       " \n",
       "        ...,\n",
       " \n",
       "        [[0., 0., 0.],\n",
       "         [0., 0., 0.],\n",
       "         [0., 0., 0.],\n",
       "         ...,\n",
       "         [0., 0., 0.],\n",
       "         [0., 0., 0.],\n",
       "         [0., 0., 0.]],\n",
       " \n",
       "        [[0., 0., 0.],\n",
       "         [0., 0., 0.],\n",
       "         [0., 0., 0.],\n",
       "         ...,\n",
       "         [0., 0., 0.],\n",
       "         [0., 0., 0.],\n",
       "         [0., 0., 0.]],\n",
       " \n",
       "        [[0., 0., 0.],\n",
       "         [0., 0., 0.],\n",
       "         [0., 0., 0.],\n",
       "         ...,\n",
       "         [0., 0., 0.],\n",
       "         [0., 0., 0.],\n",
       "         [0., 0., 0.]]]),\n",
       " [1, -1, 1],\n",
       " [False, False, False],\n",
       " {})"
      ]
     },
     "execution_count": 61,
     "metadata": {},
     "output_type": "execute_result"
    }
   ],
   "source": [
    "actions = [AgentAction(0) for _ in range(3)]\n",
    "print(actions)\n",
    "env.step(actions)"
   ]
  },
  {
   "cell_type": "code",
   "execution_count": 62,
   "id": "7f2a60ec",
   "metadata": {},
   "outputs": [
    {
     "data": {
      "text/plain": [
       "array([[1, 1, 1, 1, 1],\n",
       "       [2, 1, 1, 2, 0],\n",
       "       [0, 1, 1, 0, 1],\n",
       "       [0, 0, 1, 1, 1],\n",
       "       [1, 2, 0, 1, 0],\n",
       "       [0, 1, 1, 0, 1],\n",
       "       [1, 1, 0, 1, 0]])"
      ]
     },
     "execution_count": 62,
     "metadata": {},
     "output_type": "execute_result"
    }
   ],
   "source": [
    "env.grid"
   ]
  },
  {
   "cell_type": "code",
   "execution_count": 63,
   "id": "b82ed2e4",
   "metadata": {},
   "outputs": [
    {
     "data": {
      "image/png": "[encoded data removed]",
      "text/plain": [
       "<Figure size 864x720 with 1 Axes>"
      ]
     },
     "metadata": {
      "needs_background": "light"
     },
     "output_type": "display_data"
    }
   ],
   "source": [
    "env.render()"
   ]
  },
  {
   "cell_type": "code",
   "execution_count": null,
   "id": "18e6e611",
   "metadata": {},
   "outputs": [],
   "source": []
  },
  {
   "cell_type": "code",
   "execution_count": 1,
   "id": "4bfd8fb6",
   "metadata": {},
   "outputs": [],
   "source": [
    "import numpy as np\n",
    "import gym\n",
    "\n",
    "%load_ext autoreload\n",
    "%autoreload 2"
   ]
  },
  {
   "cell_type": "code",
   "execution_count": 28,
   "id": "e660d756",
   "metadata": {},
   "outputs": [
    {
     "name": "stdout",
     "output_type": "stream",
     "text": [
      "Processing ./src/gym_cpr_grid\n",
      "\u001b[33m  DEPRECATION: A future pip version will change local packages to be built in-place without first copying to a temporary directory. We recommend you use --use-feature=in-tree-build to test your packages with this new behavior before it becomes the default.\n",
      "   pip 21.3 will remove support for this functionality. You can find discussion regarding this at https://github.com/pypa/pip/issues/7555.\u001b[0m\n",
      "Requirement already satisfied: gym in ./venv/lib/python3.9/site-packages (from gym-cpr-grid==0.0.1) (0.18.3)\n",
      "Requirement already satisfied: Pillow<=8.2.0 in ./venv/lib/python3.9/site-packages (from gym->gym-cpr-grid==0.0.1) (8.2.0)\n",
      "Requirement already satisfied: pyglet<=1.5.15,>=1.4.0 in ./venv/lib/python3.9/site-packages (from gym->gym-cpr-grid==0.0.1) (1.5.15)\n",
      "Requirement already satisfied: numpy>=1.10.4 in ./venv/lib/python3.9/site-packages (from gym->gym-cpr-grid==0.0.1) (1.21.2)\n",
      "Requirement already satisfied: cloudpickle<1.7.0,>=1.2.0 in ./venv/lib/python3.9/site-packages (from gym->gym-cpr-grid==0.0.1) (1.6.0)\n",
      "Requirement already satisfied: scipy in ./venv/lib/python3.9/site-packages (from gym->gym-cpr-grid==0.0.1) (1.7.1)\n",
      "Building wheels for collected packages: gym-cpr-grid\n",
      "  Building wheel for gym-cpr-grid (setup.py) ... \u001b[?25ldone\n",
      "\u001b[?25h  Created wheel for gym-cpr-grid: filename=gym_cpr_grid-0.0.1-py3-none-any.whl size=7115 sha256=09ca1dd47be935eb47ca994c28c2963880d0bbb9a8b30242a20b03a41c8ed7ec\n",
      "  Stored in directory: /private/var/folders/pp/wfj1kcws58g7pxksj9k8zdhw0000gn/T/pip-ephem-wheel-cache-v2rdithx/wheels/15/b8/5e/e8cf71a4e081d3ad152d040fd0d82eab5c70e705c5b2f60c6b\n",
      "Successfully built gym-cpr-grid\n",
      "Installing collected packages: gym-cpr-grid\n",
      "  Attempting uninstall: gym-cpr-grid\n",
      "    Found existing installation: gym-cpr-grid 0.0.1\n",
      "    Uninstalling gym-cpr-grid-0.0.1:\n",
      "      Successfully uninstalled gym-cpr-grid-0.0.1\n",
      "Successfully installed gym-cpr-grid-0.0.1\n"
     ]
    }
   ],
   "source": [
    "!pip install src/gym_cpr_grid"
   ]
  },
  {
   "cell_type": "code",
   "execution_count": 30,
   "id": "388c3487",
   "metadata": {},
   "outputs": [],
   "source": [
    "env = gym.make('gym_cpr_grid:CPRGridEnv-v0', n_agents=3, grid_width=5, grid_height=7)"
   ]
  },
  {
   "cell_type": "code",
   "execution_count": 34,
   "id": "b2841de7",
   "metadata": {
    "scrolled": false
   },
   "outputs": [
    {
     "data": {
      "image/png": "[encoded data removed]",
      "text/plain": [
       "<Figure size 864x720 with 1 Axes>"
      ]
     },
     "metadata": {},
     "output_type": "display_data"
    }
   ],
   "source": [
    "import matplotlib.pyplot as plt\n",
    "from IPython import display\n",
    "\n",
    "fig, ax = env.plot(env.render('rgb_array'))\n",
    "for _ in range(10):\n",
    "    env.step([env.action_space.sample() for _ in range(3)])\n",
    "    display.clear_output(wait=True)\n",
    "    img.set_data(env.render(mode='rgb_array'))\n",
    "    display.display(plt.gcf())\n",
    "env.close()"
   ]
  },
  {
   "cell_type": "code",
   "execution_count": null,
   "id": "8b508425",
   "metadata": {},
   "outputs": [],
   "source": []
  },
  {
   "cell_type": "code",
   "execution_count": 157,
   "id": "99850293",
   "metadata": {},
   "outputs": [
    {
     "data": {
      "text/plain": [
       "array([[False, False, False, False, False,  True,  True, False,  True,\n",
       "        False],\n",
       "       [ True,  True,  True, False,  True, False,  True, False, False,\n",
       "         True],\n",
       "       [False, False,  True, False, False,  True,  True,  True,  True,\n",
       "        False],\n",
       "       [False, False, False, False, False,  True,  True,  True, False,\n",
       "         True],\n",
       "       [False,  True, False, False, False, False,  True,  True, False,\n",
       "         True]])"
      ]
     },
     "execution_count": 157,
     "metadata": {},
     "output_type": "execute_result"
    }
   ],
   "source": [
    "resource_mask = np.random.randint(\n",
    "    low=0, high=2, size=(5, 10), dtype=bool\n",
    ")\n",
    "resource_mask"
   ]
  },
  {
   "cell_type": "code",
   "execution_count": 158,
   "id": "5f9329e3",
   "metadata": {},
   "outputs": [
    {
     "data": {
      "text/plain": [
       "[(0, 5),\n",
       " (0, 6),\n",
       " (0, 8),\n",
       " (1, 0),\n",
       " (1, 1),\n",
       " (1, 2),\n",
       " (1, 4),\n",
       " (1, 6),\n",
       " (1, 9),\n",
       " (2, 2),\n",
       " (2, 5),\n",
       " (2, 6),\n",
       " (2, 7),\n",
       " (2, 8),\n",
       " (3, 5),\n",
       " (3, 6),\n",
       " (3, 7),\n",
       " (3, 9),\n",
       " (4, 1),\n",
       " (4, 6),\n",
       " (4, 7),\n",
       " (4, 9)]"
      ]
     },
     "execution_count": 158,
     "metadata": {},
     "output_type": "execute_result"
    }
   ],
   "source": [
    "xs, ys = resource_mask.nonzero()\n",
    "list(zip(list(xs), list(ys)))"
   ]
  },
  {
   "cell_type": "code",
   "execution_count": 3,
   "id": "2ba3466d",
   "metadata": {},
   "outputs": [
    {
     "data": {
      "text/plain": [
       "array([[0., 0., 1., 0., 0.],\n",
       "       [0., 1., 1., 1., 0.],\n",
       "       [1., 1., 1., 1., 1.],\n",
       "       [0., 1., 1., 1., 0.],\n",
       "       [0., 0., 1., 0., 0.]])"
      ]
     },
     "execution_count": 3,
     "metadata": {},
     "output_type": "execute_result"
    }
   ],
   "source": [
    "radius =2\n",
    "kernel = np.zeros((2*radius+1, 2*radius+1))\n",
    "y,x = np.ogrid[-radius:radius+1, -radius:radius+1]\n",
    "mask = x**2 + y**2 <= radius**2\n",
    "kernel[mask] = 1\n",
    "kernel"
   ]
  },
  {
   "cell_type": "code",
   "execution_count": 5,
   "id": "f03c3760",
   "metadata": {},
   "outputs": [
    {
     "data": {
      "text/plain": [
       "array([[ 0.,  0.,  0.,  0., 20.],\n",
       "       [ 0., 10.,  0.,  0.,  0.],\n",
       "       [ 0.,  0.,  0.,  0.,  0.],\n",
       "       [ 0.,  0.,  0.,  0.,  0.],\n",
       "       [ 0.,  0.,  0.,  0.,  0.]])"
      ]
     },
     "execution_count": 5,
     "metadata": {},
     "output_type": "execute_result"
    }
   ],
   "source": [
    "a = np.zeros((5,5))\n",
    "a[1,1] = 10\n",
    "a[0,4] = 20\n",
    "a"
   ]
  },
  {
   "cell_type": "code",
   "execution_count": 7,
   "id": "27a88bbe",
   "metadata": {},
   "outputs": [
    {
     "data": {
      "text/plain": [
       "array([ 0., 10.,  0.,  0.,  0.,  0.,  0.,  0.,  0.,  0.,  0.,  0.,  0.])"
      ]
     },
     "execution_count": 7,
     "metadata": {},
     "output_type": "execute_result"
    }
   ],
   "source": [
    "a[kernel.astype(bool)]"
   ]
  },
  {
   "cell_type": "code",
   "execution_count": 20,
   "id": "11c54f49",
   "metadata": {},
   "outputs": [
    {
     "name": "stdout",
     "output_type": "stream",
     "text": [
      "cioa\n",
      "cioa\n",
      "cioa\n",
      "cioa\n",
      "cioa\n",
      "cioa\n",
      "cioa\n"
     ]
    },
    {
     "data": {
      "text/plain": [
       "7"
      ]
     },
     "execution_count": 20,
     "metadata": {},
     "output_type": "execute_result"
    }
   ],
   "source": [
    "v = []\n",
    "for _ in range(100):\n",
    "    v += [np.random.binomial(1, 0.1)]\n",
    "    if v[-1]:\n",
    "        print('cioa')\n",
    "len([x for x in v if x == 1])"
   ]
  },
  {
   "cell_type": "code",
   "execution_count": null,
   "id": "70c3b2a9",
   "metadata": {},
   "outputs": [],
   "source": []
  }
 ],
 "metadata": {
  "kernelspec": {
   "display_name": "Python 3 (ipykernel)",
   "language": "python",
   "name": "python3"
  },
  "language_info": {
   "codemirror_mode": {
    "name": "ipython",
    "version": 3
   },
   "file_extension": ".py",
   "mimetype": "text/x-python",
   "name": "python",
   "nbconvert_exporter": "python",
   "pygments_lexer": "ipython3",
   "version": "3.9.5"
  }
 },
 "nbformat": 4,
 "nbformat_minor": 5
}
