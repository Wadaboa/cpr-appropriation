{
 "cells": [
  {
   "cell_type": "markdown",
   "id": "5bcc75b5",
   "metadata": {},
   "source": [
    "# CPR appropriation"
   ]
  },
  {
   "cell_type": "markdown",
   "id": "e249de4b",
   "metadata": {},
   "source": [
    "## Pre-requisites"
   ]
  },
  {
   "cell_type": "code",
   "execution_count": 67,
   "id": "05407869",
   "metadata": {},
   "outputs": [],
   "source": [
    "%%capture\n",
    "!pip install src/gym_cpr_grid\n",
    "!pip install -r requirements.txt"
   ]
  },
  {
   "cell_type": "code",
   "execution_count": 1,
   "id": "ae40e389",
   "metadata": {},
   "outputs": [],
   "source": [
    "import numpy as np\n",
    "import gym\n",
    "import matplotlib.pyplot as plt\n",
    "from IPython import display\n",
    "from ray import tune\n",
    "from ray.tune import JupyterNotebookReporter\n",
    "from ray.rllib.models import ModelCatalog\n",
    "from ray.rllib.agents.dqn import DQNTrainer\n",
    "from ray.tune.logger import DEFAULT_LOGGERS\n",
    "from ray.tune.integration.wandb import WandbLogger\n",
    "\n",
    "from src import models, metrics, policies\n",
    "\n",
    "%load_ext tensorboard\n",
    "%load_ext autoreload\n",
    "%autoreload 2"
   ]
  },
  {
   "cell_type": "markdown",
   "id": "ca89d8a6",
   "metadata": {},
   "source": [
    "## Random"
   ]
  },
  {
   "cell_type": "code",
   "execution_count": 211,
   "id": "7efd9c9b",
   "metadata": {
    "scrolled": false
   },
   "outputs": [
    {
     "data": {
      "image/png": "[encoded data removed]",
      "text/plain": [
       "<Figure size 864x720 with 1 Axes>"
      ]
     },
     "metadata": {},
     "output_type": "display_data"
    },
    {
     "name": "stdout",
     "output_type": "stream",
     "text": [
      "{0: <AgentAction.STEP_BACKWARD: 1>, 1: <AgentAction.STEP_FORWARD: 0>, 2: <AgentAction.STEP_RIGHT: 3>}\n"
     ]
    },
    {
     "ename": "KeyboardInterrupt",
     "evalue": "",
     "output_type": "error",
     "traceback": [
      "\u001b[0;31m---------------------------------------------------------------------------\u001b[0m",
      "\u001b[0;31mKeyboardInterrupt\u001b[0m                         Traceback (most recent call last)",
      "\u001b[0;32m/var/folders/pp/wfj1kcws58g7pxksj9k8zdhw0000gn/T/ipykernel_54085/2804727066.py\u001b[0m in \u001b[0;36m<module>\u001b[0;34m\u001b[0m\n\u001b[1;32m      6\u001b[0m     \u001b[0maction_dict\u001b[0m \u001b[0;34m=\u001b[0m \u001b[0;34m{\u001b[0m\u001b[0mh\u001b[0m\u001b[0;34m:\u001b[0m \u001b[0menv\u001b[0m\u001b[0;34m.\u001b[0m\u001b[0maction_space\u001b[0m\u001b[0;34m.\u001b[0m\u001b[0msample\u001b[0m\u001b[0;34m(\u001b[0m\u001b[0;34m)\u001b[0m \u001b[0;32mfor\u001b[0m \u001b[0mh\u001b[0m \u001b[0;32min\u001b[0m \u001b[0mrange\u001b[0m\u001b[0;34m(\u001b[0m\u001b[0menv\u001b[0m\u001b[0;34m.\u001b[0m\u001b[0mn_agents\u001b[0m\u001b[0;34m)\u001b[0m\u001b[0;34m}\u001b[0m\u001b[0;34m\u001b[0m\u001b[0;34m\u001b[0m\u001b[0m\n\u001b[1;32m      7\u001b[0m     \u001b[0mprint\u001b[0m\u001b[0;34m(\u001b[0m\u001b[0maction_dict\u001b[0m\u001b[0;34m)\u001b[0m\u001b[0;34m\u001b[0m\u001b[0;34m\u001b[0m\u001b[0m\n\u001b[0;32m----> 8\u001b[0;31m     \u001b[0mobservations\u001b[0m\u001b[0;34m,\u001b[0m \u001b[0mrewards\u001b[0m\u001b[0;34m,\u001b[0m \u001b[0mdones\u001b[0m\u001b[0;34m,\u001b[0m \u001b[0minfos\u001b[0m \u001b[0;34m=\u001b[0m \u001b[0menv\u001b[0m\u001b[0;34m.\u001b[0m\u001b[0mstep\u001b[0m\u001b[0;34m(\u001b[0m\u001b[0maction_dict\u001b[0m\u001b[0;34m)\u001b[0m\u001b[0;34m\u001b[0m\u001b[0;34m\u001b[0m\u001b[0m\n\u001b[0m\u001b[1;32m      9\u001b[0m     \u001b[0mprint\u001b[0m\u001b[0;34m(\u001b[0m\u001b[0minfos\u001b[0m\u001b[0;34m)\u001b[0m\u001b[0;34m\u001b[0m\u001b[0;34m\u001b[0m\u001b[0m\n\u001b[1;32m     10\u001b[0m     \u001b[0mdisplay\u001b[0m\u001b[0;34m.\u001b[0m\u001b[0mclear_output\u001b[0m\u001b[0;34m(\u001b[0m\u001b[0mwait\u001b[0m\u001b[0;34m=\u001b[0m\u001b[0;32mTrue\u001b[0m\u001b[0;34m)\u001b[0m\u001b[0;34m\u001b[0m\u001b[0;34m\u001b[0m\u001b[0m\n",
      "\u001b[0;32m~/Github/cpr-appropriation/venv/lib/python3.9/site-packages/gym_cpr_grid/cpr_grid.py\u001b[0m in \u001b[0;36mstep\u001b[0;34m(self, action_dict)\u001b[0m\n\u001b[1;32m    218\u001b[0m \u001b[0;34m\u001b[0m\u001b[0m\n\u001b[1;32m    219\u001b[0m         \u001b[0;31m# Respawn resources\u001b[0m\u001b[0;34m\u001b[0m\u001b[0;34m\u001b[0m\u001b[0;34m\u001b[0m\u001b[0m\n\u001b[0;32m--> 220\u001b[0;31m         \u001b[0mself\u001b[0m\u001b[0;34m.\u001b[0m\u001b[0m_respawn_resources\u001b[0m\u001b[0;34m(\u001b[0m\u001b[0;34m)\u001b[0m\u001b[0;34m\u001b[0m\u001b[0;34m\u001b[0m\u001b[0m\n\u001b[0m\u001b[1;32m    221\u001b[0m \u001b[0;34m\u001b[0m\u001b[0m\n\u001b[1;32m    222\u001b[0m         \u001b[0;32mreturn\u001b[0m \u001b[0mobservations\u001b[0m\u001b[0;34m,\u001b[0m \u001b[0mrewards\u001b[0m\u001b[0;34m,\u001b[0m \u001b[0mdones\u001b[0m\u001b[0;34m,\u001b[0m \u001b[0minfos\u001b[0m\u001b[0;34m\u001b[0m\u001b[0;34m\u001b[0m\u001b[0m\n",
      "\u001b[0;32m~/Github/cpr-appropriation/venv/lib/python3.9/site-packages/gym_cpr_grid/cpr_grid.py\u001b[0m in \u001b[0;36m_respawn_resources\u001b[0;34m(self)\u001b[0m\n\u001b[1;32m    350\u001b[0m         \u001b[0;32mfor\u001b[0m \u001b[0mx\u001b[0m\u001b[0;34m,\u001b[0m \u001b[0my\u001b[0m \u001b[0;32min\u001b[0m \u001b[0mitertools\u001b[0m\u001b[0;34m.\u001b[0m\u001b[0mproduct\u001b[0m\u001b[0;34m(\u001b[0m\u001b[0mrange\u001b[0m\u001b[0;34m(\u001b[0m\u001b[0mself\u001b[0m\u001b[0;34m.\u001b[0m\u001b[0mgrid_width\u001b[0m\u001b[0;34m)\u001b[0m\u001b[0;34m,\u001b[0m \u001b[0mrange\u001b[0m\u001b[0;34m(\u001b[0m\u001b[0mself\u001b[0m\u001b[0;34m.\u001b[0m\u001b[0mgrid_height\u001b[0m\u001b[0;34m)\u001b[0m\u001b[0;34m)\u001b[0m\u001b[0;34m:\u001b[0m\u001b[0;34m\u001b[0m\u001b[0;34m\u001b[0m\u001b[0m\n\u001b[1;32m    351\u001b[0m             \u001b[0;32mif\u001b[0m \u001b[0mself\u001b[0m\u001b[0;34m.\u001b[0m\u001b[0mgrid\u001b[0m\u001b[0;34m[\u001b[0m\u001b[0my\u001b[0m\u001b[0;34m,\u001b[0m \u001b[0mx\u001b[0m\u001b[0;34m]\u001b[0m \u001b[0;34m==\u001b[0m \u001b[0mutils\u001b[0m\u001b[0;34m.\u001b[0m\u001b[0mGridCell\u001b[0m\u001b[0;34m.\u001b[0m\u001b[0mEMPTY\u001b[0m\u001b[0;34m.\u001b[0m\u001b[0mvalue\u001b[0m\u001b[0;34m:\u001b[0m\u001b[0;34m\u001b[0m\u001b[0;34m\u001b[0m\u001b[0m\n\u001b[0;32m--> 352\u001b[0;31m                 \u001b[0mball\u001b[0m \u001b[0;34m=\u001b[0m \u001b[0mself\u001b[0m\u001b[0;34m.\u001b[0m\u001b[0m_extract_ball\u001b[0m\u001b[0;34m(\u001b[0m\u001b[0mx\u001b[0m\u001b[0;34m,\u001b[0m \u001b[0my\u001b[0m\u001b[0;34m)\u001b[0m\u001b[0;34m\u001b[0m\u001b[0;34m\u001b[0m\u001b[0m\n\u001b[0m\u001b[1;32m    353\u001b[0m                 \u001b[0ml\u001b[0m \u001b[0;34m=\u001b[0m \u001b[0mlen\u001b[0m\u001b[0;34m(\u001b[0m\u001b[0mball\u001b[0m\u001b[0;34m[\u001b[0m\u001b[0mball\u001b[0m \u001b[0;34m==\u001b[0m \u001b[0mutils\u001b[0m\u001b[0;34m.\u001b[0m\u001b[0mGridCell\u001b[0m\u001b[0;34m.\u001b[0m\u001b[0mRESOURCE\u001b[0m\u001b[0;34m.\u001b[0m\u001b[0mvalue\u001b[0m\u001b[0;34m]\u001b[0m\u001b[0;34m)\u001b[0m\u001b[0;34m\u001b[0m\u001b[0;34m\u001b[0m\u001b[0m\n\u001b[1;32m    354\u001b[0m                 \u001b[0mp\u001b[0m \u001b[0;34m=\u001b[0m \u001b[0mself\u001b[0m\u001b[0;34m.\u001b[0m\u001b[0m_respawn_probability\u001b[0m\u001b[0;34m(\u001b[0m\u001b[0ml\u001b[0m\u001b[0;34m)\u001b[0m\u001b[0;34m\u001b[0m\u001b[0;34m\u001b[0m\u001b[0m\n",
      "\u001b[0;32m~/Github/cpr-appropriation/venv/lib/python3.9/site-packages/gym_cpr_grid/cpr_grid.py\u001b[0m in \u001b[0;36m_extract_ball\u001b[0;34m(self, x, y)\u001b[0m\n\u001b[1;32m    460\u001b[0m         \"\"\"\n\u001b[1;32m    461\u001b[0m         \u001b[0;31m# Pad the 2D grid so as not have indexing errors in ball extraction\u001b[0m\u001b[0;34m\u001b[0m\u001b[0;34m\u001b[0m\u001b[0;34m\u001b[0m\u001b[0m\n\u001b[0;32m--> 462\u001b[0;31m         padded_grid, x_pad_width, y_pad_width = self._pad_grid(\n\u001b[0m\u001b[1;32m    463\u001b[0m             \u001b[0mself\u001b[0m\u001b[0;34m.\u001b[0m\u001b[0mgrid\u001b[0m\u001b[0;34m,\u001b[0m\u001b[0;34m\u001b[0m\u001b[0;34m\u001b[0m\u001b[0m\n\u001b[1;32m    464\u001b[0m             \u001b[0mx\u001b[0m\u001b[0;34m,\u001b[0m\u001b[0;34m\u001b[0m\u001b[0;34m\u001b[0m\u001b[0m\n",
      "\u001b[0;32m~/Github/cpr-appropriation/venv/lib/python3.9/site-packages/gym_cpr_grid/cpr_grid.py\u001b[0m in \u001b[0;36m_pad_grid\u001b[0;34m(self, grid, x, y, xl, yl, pad_value)\u001b[0m\n\u001b[1;32m    376\u001b[0m         x_pad_width = (\n\u001b[1;32m    377\u001b[0m             \u001b[0mabs\u001b[0m\u001b[0;34m(\u001b[0m\u001b[0mnp\u001b[0m\u001b[0;34m.\u001b[0m\u001b[0mclip\u001b[0m\u001b[0;34m(\u001b[0m\u001b[0mx\u001b[0m \u001b[0;34m-\u001b[0m \u001b[0mxl\u001b[0m\u001b[0;34m,\u001b[0m \u001b[0;32mNone\u001b[0m\u001b[0;34m,\u001b[0m \u001b[0;36m0\u001b[0m\u001b[0;34m)\u001b[0m\u001b[0;34m)\u001b[0m\u001b[0;34m,\u001b[0m\u001b[0;34m\u001b[0m\u001b[0;34m\u001b[0m\u001b[0m\n\u001b[0;32m--> 378\u001b[0;31m             \u001b[0mnp\u001b[0m\u001b[0;34m.\u001b[0m\u001b[0mclip\u001b[0m\u001b[0;34m(\u001b[0m\u001b[0mx\u001b[0m \u001b[0;34m+\u001b[0m \u001b[0mxl\u001b[0m \u001b[0;34m-\u001b[0m \u001b[0mself\u001b[0m\u001b[0;34m.\u001b[0m\u001b[0mgrid_width\u001b[0m \u001b[0;34m+\u001b[0m \u001b[0;36m1\u001b[0m\u001b[0;34m,\u001b[0m \u001b[0;36m0\u001b[0m\u001b[0;34m,\u001b[0m \u001b[0;32mNone\u001b[0m\u001b[0;34m)\u001b[0m\u001b[0;34m,\u001b[0m\u001b[0;34m\u001b[0m\u001b[0;34m\u001b[0m\u001b[0m\n\u001b[0m\u001b[1;32m    379\u001b[0m         )\n\u001b[1;32m    380\u001b[0m         y_pad_width = (\n",
      "\u001b[0;32m<__array_function__ internals>\u001b[0m in \u001b[0;36mclip\u001b[0;34m(*args, **kwargs)\u001b[0m\n",
      "\u001b[0;32m~/Github/cpr-appropriation/venv/lib/python3.9/site-packages/numpy/core/fromnumeric.py\u001b[0m in \u001b[0;36mclip\u001b[0;34m(a, a_min, a_max, out, **kwargs)\u001b[0m\n\u001b[1;32m   2113\u001b[0m \u001b[0;34m\u001b[0m\u001b[0m\n\u001b[1;32m   2114\u001b[0m     \"\"\"\n\u001b[0;32m-> 2115\u001b[0;31m     \u001b[0;32mreturn\u001b[0m \u001b[0m_wrapfunc\u001b[0m\u001b[0;34m(\u001b[0m\u001b[0ma\u001b[0m\u001b[0;34m,\u001b[0m \u001b[0;34m'clip'\u001b[0m\u001b[0;34m,\u001b[0m \u001b[0ma_min\u001b[0m\u001b[0;34m,\u001b[0m \u001b[0ma_max\u001b[0m\u001b[0;34m,\u001b[0m \u001b[0mout\u001b[0m\u001b[0;34m=\u001b[0m\u001b[0mout\u001b[0m\u001b[0;34m,\u001b[0m \u001b[0;34m**\u001b[0m\u001b[0mkwargs\u001b[0m\u001b[0;34m)\u001b[0m\u001b[0;34m\u001b[0m\u001b[0;34m\u001b[0m\u001b[0m\n\u001b[0m\u001b[1;32m   2116\u001b[0m \u001b[0;34m\u001b[0m\u001b[0m\n\u001b[1;32m   2117\u001b[0m \u001b[0;34m\u001b[0m\u001b[0m\n",
      "\u001b[0;32m~/Github/cpr-appropriation/venv/lib/python3.9/site-packages/numpy/core/fromnumeric.py\u001b[0m in \u001b[0;36m_wrapfunc\u001b[0;34m(obj, method, *args, **kwds)\u001b[0m\n\u001b[1;32m     52\u001b[0m     \u001b[0mbound\u001b[0m \u001b[0;34m=\u001b[0m \u001b[0mgetattr\u001b[0m\u001b[0;34m(\u001b[0m\u001b[0mobj\u001b[0m\u001b[0;34m,\u001b[0m \u001b[0mmethod\u001b[0m\u001b[0;34m,\u001b[0m \u001b[0;32mNone\u001b[0m\u001b[0;34m)\u001b[0m\u001b[0;34m\u001b[0m\u001b[0;34m\u001b[0m\u001b[0m\n\u001b[1;32m     53\u001b[0m     \u001b[0;32mif\u001b[0m \u001b[0mbound\u001b[0m \u001b[0;32mis\u001b[0m \u001b[0;32mNone\u001b[0m\u001b[0;34m:\u001b[0m\u001b[0;34m\u001b[0m\u001b[0;34m\u001b[0m\u001b[0m\n\u001b[0;32m---> 54\u001b[0;31m         \u001b[0;32mreturn\u001b[0m \u001b[0m_wrapit\u001b[0m\u001b[0;34m(\u001b[0m\u001b[0mobj\u001b[0m\u001b[0;34m,\u001b[0m \u001b[0mmethod\u001b[0m\u001b[0;34m,\u001b[0m \u001b[0;34m*\u001b[0m\u001b[0margs\u001b[0m\u001b[0;34m,\u001b[0m \u001b[0;34m**\u001b[0m\u001b[0mkwds\u001b[0m\u001b[0;34m)\u001b[0m\u001b[0;34m\u001b[0m\u001b[0;34m\u001b[0m\u001b[0m\n\u001b[0m\u001b[1;32m     55\u001b[0m \u001b[0;34m\u001b[0m\u001b[0m\n\u001b[1;32m     56\u001b[0m     \u001b[0;32mtry\u001b[0m\u001b[0;34m:\u001b[0m\u001b[0;34m\u001b[0m\u001b[0;34m\u001b[0m\u001b[0m\n",
      "\u001b[0;32m~/Github/cpr-appropriation/venv/lib/python3.9/site-packages/numpy/core/fromnumeric.py\u001b[0m in \u001b[0;36m_wrapit\u001b[0;34m(obj, method, *args, **kwds)\u001b[0m\n\u001b[1;32m     41\u001b[0m     \u001b[0;32mexcept\u001b[0m \u001b[0mAttributeError\u001b[0m\u001b[0;34m:\u001b[0m\u001b[0;34m\u001b[0m\u001b[0;34m\u001b[0m\u001b[0m\n\u001b[1;32m     42\u001b[0m         \u001b[0mwrap\u001b[0m \u001b[0;34m=\u001b[0m \u001b[0;32mNone\u001b[0m\u001b[0;34m\u001b[0m\u001b[0;34m\u001b[0m\u001b[0m\n\u001b[0;32m---> 43\u001b[0;31m     \u001b[0mresult\u001b[0m \u001b[0;34m=\u001b[0m \u001b[0mgetattr\u001b[0m\u001b[0;34m(\u001b[0m\u001b[0masarray\u001b[0m\u001b[0;34m(\u001b[0m\u001b[0mobj\u001b[0m\u001b[0;34m)\u001b[0m\u001b[0;34m,\u001b[0m \u001b[0mmethod\u001b[0m\u001b[0;34m)\u001b[0m\u001b[0;34m(\u001b[0m\u001b[0;34m*\u001b[0m\u001b[0margs\u001b[0m\u001b[0;34m,\u001b[0m \u001b[0;34m**\u001b[0m\u001b[0mkwds\u001b[0m\u001b[0;34m)\u001b[0m\u001b[0;34m\u001b[0m\u001b[0;34m\u001b[0m\u001b[0m\n\u001b[0m\u001b[1;32m     44\u001b[0m     \u001b[0;32mif\u001b[0m \u001b[0mwrap\u001b[0m\u001b[0;34m:\u001b[0m\u001b[0;34m\u001b[0m\u001b[0;34m\u001b[0m\u001b[0m\n\u001b[1;32m     45\u001b[0m         \u001b[0;32mif\u001b[0m \u001b[0;32mnot\u001b[0m \u001b[0misinstance\u001b[0m\u001b[0;34m(\u001b[0m\u001b[0mresult\u001b[0m\u001b[0;34m,\u001b[0m \u001b[0mmu\u001b[0m\u001b[0;34m.\u001b[0m\u001b[0mndarray\u001b[0m\u001b[0;34m)\u001b[0m\u001b[0;34m:\u001b[0m\u001b[0;34m\u001b[0m\u001b[0;34m\u001b[0m\u001b[0m\n",
      "\u001b[0;32m~/Github/cpr-appropriation/venv/lib/python3.9/site-packages/numpy/core/_methods.py\u001b[0m in \u001b[0;36m_clip\u001b[0;34m(a, min, max, out, casting, **kwargs)\u001b[0m\n\u001b[1;32m    135\u001b[0m             \u001b[0mmin\u001b[0m \u001b[0;34m=\u001b[0m \u001b[0;34m-\u001b[0m\u001b[0mfloat\u001b[0m\u001b[0;34m(\u001b[0m\u001b[0;34m'inf'\u001b[0m\u001b[0;34m)\u001b[0m\u001b[0;34m\u001b[0m\u001b[0;34m\u001b[0m\u001b[0m\n\u001b[1;32m    136\u001b[0m             \u001b[0musing_deprecated_nan\u001b[0m \u001b[0;34m=\u001b[0m \u001b[0;32mTrue\u001b[0m\u001b[0;34m\u001b[0m\u001b[0;34m\u001b[0m\u001b[0m\n\u001b[0;32m--> 137\u001b[0;31m         \u001b[0;32mif\u001b[0m \u001b[0m_clip_dep_is_scalar_nan\u001b[0m\u001b[0;34m(\u001b[0m\u001b[0mmax\u001b[0m\u001b[0;34m)\u001b[0m\u001b[0;34m:\u001b[0m\u001b[0;34m\u001b[0m\u001b[0;34m\u001b[0m\u001b[0m\n\u001b[0m\u001b[1;32m    138\u001b[0m             \u001b[0mmax\u001b[0m \u001b[0;34m=\u001b[0m \u001b[0mfloat\u001b[0m\u001b[0;34m(\u001b[0m\u001b[0;34m'inf'\u001b[0m\u001b[0;34m)\u001b[0m\u001b[0;34m\u001b[0m\u001b[0;34m\u001b[0m\u001b[0m\n\u001b[1;32m    139\u001b[0m             \u001b[0musing_deprecated_nan\u001b[0m \u001b[0;34m=\u001b[0m \u001b[0;32mTrue\u001b[0m\u001b[0;34m\u001b[0m\u001b[0;34m\u001b[0m\u001b[0m\n",
      "\u001b[0;31mKeyboardInterrupt\u001b[0m: "
     ]
    },
    {
     "data": {
      "image/png": "[encoded data removed]",
      "text/plain": [
       "<Figure size 864x720 with 1 Axes>"
      ]
     },
     "metadata": {
      "needs_background": "light"
     },
     "output_type": "display_data"
    }
   ],
   "source": [
    "env = gym.make('gym_cpr_grid:CPRGridEnv-v0', n_agents=3, grid_width=51, grid_height=71, initial_resource_probability=0.01)\n",
    "observations = env.reset()\n",
    "fig, ax, img = env.plot(env.render('rgb_array'))\n",
    "for _ in range(env.max_steps):\n",
    "    display.display(plt.gcf())\n",
    "    action_dict = {h: env.action_space.sample() for h in range(env.n_agents)}\n",
    "    print(action_dict)\n",
    "    observations, rewards, dones, infos = env.step(action_dict)\n",
    "    print(infos)\n",
    "    display.clear_output(wait=True)\n",
    "    img.set_data(env.render(mode='rgb_array'))\n",
    "env.close()"
   ]
  },
  {
   "cell_type": "markdown",
   "id": "fb5b8c59",
   "metadata": {},
   "source": [
    "## Tensorboard"
   ]
  },
  {
   "cell_type": "code",
   "execution_count": null,
   "id": "42b625bd",
   "metadata": {},
   "outputs": [],
   "source": [
    "%tensorboard --logdir \"~/ray_results\""
   ]
  },
  {
   "cell_type": "markdown",
   "id": "1acc3151",
   "metadata": {},
   "source": [
    "## DQN"
   ]
  },
  {
   "cell_type": "code",
   "execution_count": null,
   "id": "4acf1767",
   "metadata": {},
   "outputs": [],
   "source": [
    "ModelCatalog.register_custom_model(\"fcn\", models.FCNetwork)"
   ]
  },
  {
   "cell_type": "code",
   "execution_count": null,
   "id": "b188a35a",
   "metadata": {},
   "outputs": [],
   "source": [
    "reporter = JupyterNotebookReporter(\n",
    "    overwrite=True, \n",
    "    metric_columns={\n",
    "        \"custom_metrics/efficiency_mean\": \"U\",\n",
    "        \"custom_metrics/equality_mean\": \"E\",\n",
    "        \"custom_metrics/sustainability_mean\": \"S\",\n",
    "        \"custom_metrics/peace_mean\": \"P\"\n",
    "    }\n",
    ")"
   ]
  },
  {
   "cell_type": "code",
   "execution_count": 213,
   "id": "bbbf1e64",
   "metadata": {},
   "outputs": [],
   "source": [
    "max_steps = 1000\n",
    "dqn_common_config = {\n",
    "    \"env\": \"gym_cpr_grid:CPRGridEnv-v0\", \n",
    "    \"env_config\": {\n",
    "        \"n_agents\": 3,\n",
    "        \"grid_width\": 5,\n",
    "        \"grid_height\": 7,\n",
    "        \"max_steps\": max_steps,\n",
    "    }, \n",
    "    \"num_workers\": 1, \n",
    "    \"framework\": \"torch\",\n",
    "    \"model\": {\n",
    "        \"custom_model\": \"fcn\",\n",
    "        \"fcnet_hiddens\": [32, 32],\n",
    "        \"fcnet_activation\": \"relu\",\n",
    "    },\n",
    "    \"exploration_config\": {\n",
    "        \"type\": \"EpsilonGreedy\",\n",
    "        \"initial_epsilon\": 1.0,\n",
    "        \"final_epsilon\": 0.1,\n",
    "        \"epsilon_timesteps\": max_steps,\n",
    "    },\n",
    "    \"callbacks\": metrics.SocialOutcomeMetrics,\n",
    "    \"logger_config\": {\n",
    "        \"wandb\": {\n",
    "            \"project\": \"cpr-appropriation\",\n",
    "            \"api_key_file\": \"./wandb_api_key_file\",\n",
    "            \"log_config\": True,\n",
    "            'sync_tensorboard': True,\n",
    "        }\n",
    "    }\n",
    "}"
   ]
  },
  {
   "cell_type": "markdown",
   "id": "7db0def0",
   "metadata": {},
   "source": [
    "### Without tagging"
   ]
  },
  {
   "cell_type": "code",
   "execution_count": 166,
   "id": "d9a547dd",
   "metadata": {},
   "outputs": [
    {
     "data": {
      "text/html": [
       "== Status ==<br>Memory usage on this node: 9.8/16.0 GiB<br>Using FIFO scheduling algorithm.<br>Resources requested: 2.0/16 CPUs, 0/0 GPUs, 0.0/4.43 GiB heap, 0.0/2.21 GiB objects (0.0/1.0 CPU_group_0_a41396e352ac88db822fabe6e6727708, 0.0/1.0 CPU_group_1_a41396e352ac88db822fabe6e6727708, 0.0/2.0 CPU_group_a41396e352ac88db822fabe6e6727708)<br>Result logdir: /Users/jobs/ray_results/DQN_2021-08-17_14-16-49<br>Number of trials: 1/1 (1 RUNNING)<br><table>\n",
       "<thead>\n",
       "<tr><th>Trial name                                </th><th>status  </th><th>loc                </th><th style=\"text-align: right;\">       U</th><th style=\"text-align: right;\">       E</th><th style=\"text-align: right;\">      S</th><th style=\"text-align: right;\">  P</th></tr>\n",
       "</thead>\n",
       "<tbody>\n",
       "<tr><td>DQN_gym_cpr_grid:CPRGridEnv-v0_ff9d7_00000</td><td>RUNNING </td><td>192.168.1.110:70670</td><td style=\"text-align: right;\">0.444304</td><td style=\"text-align: right;\">0.965422</td><td style=\"text-align: right;\">252.159</td><td style=\"text-align: right;\">nan</td></tr>\n",
       "</tbody>\n",
       "</table><br><br>"
      ],
      "text/plain": [
       "<IPython.core.display.HTML object>"
      ]
     },
     "metadata": {},
     "output_type": "display_data"
    },
    {
     "name": "stderr",
     "output_type": "stream",
     "text": [
      "\u001b[2m\u001b[36m(pid=70670)\u001b[0m 2021-08-17 14:17:23,910\tERROR worker.py:421 -- SystemExit was raised from the worker\n",
      "\u001b[2m\u001b[36m(pid=70670)\u001b[0m Traceback (most recent call last):\n",
      "\u001b[2m\u001b[36m(pid=70670)\u001b[0m   File \"python/ray/_raylet.pyx\", line 632, in ray._raylet.task_execution_handler\n",
      "\u001b[2m\u001b[36m(pid=70670)\u001b[0m   File \"python/ray/_raylet.pyx\", line 486, in ray._raylet.execute_task\n",
      "\u001b[2m\u001b[36m(pid=70670)\u001b[0m   File \"python/ray/_raylet.pyx\", line 523, in ray._raylet.execute_task\n",
      "\u001b[2m\u001b[36m(pid=70670)\u001b[0m   File \"python/ray/_raylet.pyx\", line 530, in ray._raylet.execute_task\n",
      "\u001b[2m\u001b[36m(pid=70670)\u001b[0m   File \"python/ray/_raylet.pyx\", line 534, in ray._raylet.execute_task\n",
      "\u001b[2m\u001b[36m(pid=70670)\u001b[0m   File \"python/ray/_raylet.pyx\", line 484, in ray._raylet.execute_task.function_executor\n",
      "\u001b[2m\u001b[36m(pid=70670)\u001b[0m   File \"/Users/jobs/Github/cpr-appropriation/venv/lib/python3.9/site-packages/ray/_private/function_manager.py\", line 563, in actor_method_executor\n",
      "\u001b[2m\u001b[36m(pid=70670)\u001b[0m     return method(__ray_actor, *args, **kwargs)\n",
      "\u001b[2m\u001b[36m(pid=70670)\u001b[0m   File \"/Users/jobs/Github/cpr-appropriation/venv/lib/python3.9/site-packages/ray/tune/trainable.py\", line 178, in train_buffered\n",
      "\u001b[2m\u001b[36m(pid=70670)\u001b[0m     result = self.train()\n",
      "\u001b[2m\u001b[36m(pid=70670)\u001b[0m   File \"/Users/jobs/Github/cpr-appropriation/venv/lib/python3.9/site-packages/ray/rllib/agents/trainer.py\", line 629, in train\n",
      "\u001b[2m\u001b[36m(pid=70670)\u001b[0m     result = Trainable.train(self)\n",
      "\u001b[2m\u001b[36m(pid=70670)\u001b[0m   File \"/Users/jobs/Github/cpr-appropriation/venv/lib/python3.9/site-packages/ray/tune/trainable.py\", line 237, in train\n",
      "\u001b[2m\u001b[36m(pid=70670)\u001b[0m     result = self.step()\n",
      "\u001b[2m\u001b[36m(pid=70670)\u001b[0m   File \"/Users/jobs/Github/cpr-appropriation/venv/lib/python3.9/site-packages/ray/rllib/agents/trainer_template.py\", line 170, in step\n",
      "\u001b[2m\u001b[36m(pid=70670)\u001b[0m     res = next(self.train_exec_impl)\n",
      "\u001b[2m\u001b[36m(pid=70670)\u001b[0m   File \"/Users/jobs/Github/cpr-appropriation/venv/lib/python3.9/site-packages/ray/util/iter.py\", line 756, in __next__\n",
      "\u001b[2m\u001b[36m(pid=70670)\u001b[0m     return next(self.built_iterator)\n",
      "\u001b[2m\u001b[36m(pid=70670)\u001b[0m   File \"/Users/jobs/Github/cpr-appropriation/venv/lib/python3.9/site-packages/ray/util/iter.py\", line 783, in apply_foreach\n",
      "\u001b[2m\u001b[36m(pid=70670)\u001b[0m     for item in it:\n",
      "\u001b[2m\u001b[36m(pid=70670)\u001b[0m   File \"/Users/jobs/Github/cpr-appropriation/venv/lib/python3.9/site-packages/ray/util/iter.py\", line 843, in apply_filter\n",
      "\u001b[2m\u001b[36m(pid=70670)\u001b[0m     for item in it:\n",
      "\u001b[2m\u001b[36m(pid=70670)\u001b[0m   File \"/Users/jobs/Github/cpr-appropriation/venv/lib/python3.9/site-packages/ray/util/iter.py\", line 843, in apply_filter\n",
      "\u001b[2m\u001b[36m(pid=70670)\u001b[0m     for item in it:\n",
      "\u001b[2m\u001b[36m(pid=70670)\u001b[0m   File \"/Users/jobs/Github/cpr-appropriation/venv/lib/python3.9/site-packages/ray/util/iter.py\", line 783, in apply_foreach\n",
      "\u001b[2m\u001b[36m(pid=70670)\u001b[0m     for item in it:\n",
      "\u001b[2m\u001b[36m(pid=70670)\u001b[0m   File \"/Users/jobs/Github/cpr-appropriation/venv/lib/python3.9/site-packages/ray/util/iter.py\", line 843, in apply_filter\n",
      "\u001b[2m\u001b[36m(pid=70670)\u001b[0m     for item in it:\n",
      "\u001b[2m\u001b[36m(pid=70670)\u001b[0m   File \"/Users/jobs/Github/cpr-appropriation/venv/lib/python3.9/site-packages/ray/util/iter.py\", line 1075, in build_union\n",
      "\u001b[2m\u001b[36m(pid=70670)\u001b[0m     item = next(it)\n",
      "\u001b[2m\u001b[36m(pid=70670)\u001b[0m   File \"/Users/jobs/Github/cpr-appropriation/venv/lib/python3.9/site-packages/ray/util/iter.py\", line 756, in __next__\n",
      "\u001b[2m\u001b[36m(pid=70670)\u001b[0m     return next(self.built_iterator)\n",
      "\u001b[2m\u001b[36m(pid=70670)\u001b[0m   File \"/Users/jobs/Github/cpr-appropriation/venv/lib/python3.9/site-packages/ray/util/iter.py\", line 783, in apply_foreach\n",
      "\u001b[2m\u001b[36m(pid=70670)\u001b[0m     for item in it:\n",
      "\u001b[2m\u001b[36m(pid=70670)\u001b[0m   File \"/Users/jobs/Github/cpr-appropriation/venv/lib/python3.9/site-packages/ray/util/iter.py\", line 783, in apply_foreach\n",
      "\u001b[2m\u001b[36m(pid=70670)\u001b[0m     for item in it:\n",
      "\u001b[2m\u001b[36m(pid=70670)\u001b[0m   File \"/Users/jobs/Github/cpr-appropriation/venv/lib/python3.9/site-packages/ray/util/iter.py\", line 783, in apply_foreach\n",
      "\u001b[2m\u001b[36m(pid=70670)\u001b[0m     for item in it:\n",
      "\u001b[2m\u001b[36m(pid=70670)\u001b[0m   [Previous line repeated 1 more time]\n",
      "\u001b[2m\u001b[36m(pid=70670)\u001b[0m   File \"/Users/jobs/Github/cpr-appropriation/venv/lib/python3.9/site-packages/ray/util/iter.py\", line 471, in base_iterator\n",
      "\u001b[2m\u001b[36m(pid=70670)\u001b[0m     yield ray.get(futures, timeout=timeout)\n",
      "\u001b[2m\u001b[36m(pid=70670)\u001b[0m   File \"/Users/jobs/Github/cpr-appropriation/venv/lib/python3.9/site-packages/ray/_private/client_mode_hook.py\", line 82, in wrapper\n",
      "\u001b[2m\u001b[36m(pid=70670)\u001b[0m     return func(*args, **kwargs)\n",
      "\u001b[2m\u001b[36m(pid=70670)\u001b[0m   File \"/Users/jobs/Github/cpr-appropriation/venv/lib/python3.9/site-packages/ray/worker.py\", line 1557, in get\n",
      "\u001b[2m\u001b[36m(pid=70670)\u001b[0m     values, debugger_breakpoint = worker.get_objects(\n",
      "\u001b[2m\u001b[36m(pid=70670)\u001b[0m   File \"/Users/jobs/Github/cpr-appropriation/venv/lib/python3.9/site-packages/ray/worker.py\", line 340, in get_objects\n",
      "\u001b[2m\u001b[36m(pid=70670)\u001b[0m     data_metadata_pairs = self.core_worker.get_objects(\n",
      "\u001b[2m\u001b[36m(pid=70670)\u001b[0m   File \"/Users/jobs/Github/cpr-appropriation/venv/lib/python3.9/site-packages/ray/worker.py\", line 418, in sigterm_handler\n",
      "\u001b[2m\u001b[36m(pid=70670)\u001b[0m     sys.exit(1)\n",
      "\u001b[2m\u001b[36m(pid=70670)\u001b[0m SystemExit: 1\n",
      "\u001b[2m\u001b[36m(pid=70671)\u001b[0m 2021-08-17 14:17:23,888\tERROR worker.py:421 -- SystemExit was raised from the worker\n",
      "\u001b[2m\u001b[36m(pid=70671)\u001b[0m Traceback (most recent call last):\n",
      "\u001b[2m\u001b[36m(pid=70671)\u001b[0m   File \"python/ray/_raylet.pyx\", line 632, in ray._raylet.task_execution_handler\n",
      "\u001b[2m\u001b[36m(pid=70671)\u001b[0m   File \"python/ray/_raylet.pyx\", line 486, in ray._raylet.execute_task\n",
      "\u001b[2m\u001b[36m(pid=70671)\u001b[0m   File \"python/ray/_raylet.pyx\", line 523, in ray._raylet.execute_task\n",
      "\u001b[2m\u001b[36m(pid=70671)\u001b[0m   File \"python/ray/_raylet.pyx\", line 530, in ray._raylet.execute_task\n",
      "\u001b[2m\u001b[36m(pid=70671)\u001b[0m   File \"python/ray/_raylet.pyx\", line 534, in ray._raylet.execute_task\n",
      "\u001b[2m\u001b[36m(pid=70671)\u001b[0m   File \"python/ray/_raylet.pyx\", line 484, in ray._raylet.execute_task.function_executor\n",
      "\u001b[2m\u001b[36m(pid=70671)\u001b[0m   File \"/Users/jobs/Github/cpr-appropriation/venv/lib/python3.9/site-packages/ray/_private/function_manager.py\", line 563, in actor_method_executor\n",
      "\u001b[2m\u001b[36m(pid=70671)\u001b[0m     return method(__ray_actor, *args, **kwargs)\n",
      "\u001b[2m\u001b[36m(pid=70671)\u001b[0m   File \"/Users/jobs/Github/cpr-appropriation/venv/lib/python3.9/site-packages/ray/util/iter.py\", line 1151, in par_iter_next\n",
      "\u001b[2m\u001b[36m(pid=70671)\u001b[0m     return next(self.local_it)\n",
      "\u001b[2m\u001b[36m(pid=70671)\u001b[0m   File \"/Users/jobs/Github/cpr-appropriation/venv/lib/python3.9/site-packages/ray/rllib/evaluation/rollout_worker.py\", line 339, in gen_rollouts\n",
      "\u001b[2m\u001b[36m(pid=70671)\u001b[0m     yield self.sample()\n",
      "\u001b[2m\u001b[36m(pid=70671)\u001b[0m   File \"/Users/jobs/Github/cpr-appropriation/venv/lib/python3.9/site-packages/ray/rllib/evaluation/rollout_worker.py\", line 740, in sample\n",
      "\u001b[2m\u001b[36m(pid=70671)\u001b[0m     batches = [self.input_reader.next()]\n",
      "\u001b[2m\u001b[36m(pid=70671)\u001b[0m   File \"/Users/jobs/Github/cpr-appropriation/venv/lib/python3.9/site-packages/ray/rllib/evaluation/sampler.py\", line 101, in next\n",
      "\u001b[2m\u001b[36m(pid=70671)\u001b[0m     batches = [self.get_data()]\n",
      "\u001b[2m\u001b[36m(pid=70671)\u001b[0m   File \"/Users/jobs/Github/cpr-appropriation/venv/lib/python3.9/site-packages/ray/rllib/evaluation/sampler.py\", line 231, in get_data\n",
      "\u001b[2m\u001b[36m(pid=70671)\u001b[0m     item = next(self.rollout_provider)\n",
      "\u001b[2m\u001b[36m(pid=70671)\u001b[0m   File \"/Users/jobs/Github/cpr-appropriation/venv/lib/python3.9/site-packages/ray/rllib/evaluation/sampler.py\", line 652, in _env_runner\n",
      "\u001b[2m\u001b[36m(pid=70671)\u001b[0m     base_env.send_actions(actions_to_send)\n",
      "\u001b[2m\u001b[36m(pid=70671)\u001b[0m   File \"/Users/jobs/Github/cpr-appropriation/venv/lib/python3.9/site-packages/ray/rllib/env/base_env.py\", line 421, in send_actions\n",
      "\u001b[2m\u001b[36m(pid=70671)\u001b[0m     obs, rewards, dones, infos = env.step(agent_dict)\n",
      "\u001b[2m\u001b[36m(pid=70671)\u001b[0m   File \"/Users/jobs/Github/cpr-appropriation/venv/lib/python3.9/site-packages/gym_cpr_grid/cpr_grid.py\", line 213, in step\n",
      "\u001b[2m\u001b[36m(pid=70671)\u001b[0m     observations[agent_handle] = self._get_observation(agent_handle)\n",
      "\u001b[2m\u001b[36m(pid=70671)\u001b[0m   File \"/Users/jobs/Github/cpr-appropriation/venv/lib/python3.9/site-packages/gym_cpr_grid/cpr_grid.py\", line 323, in _get_observation\n",
      "\u001b[2m\u001b[36m(pid=70671)\u001b[0m     fov = self._extract_fov(agent_handle)\n",
      "\u001b[2m\u001b[36m(pid=70671)\u001b[0m   File \"/Users/jobs/Github/cpr-appropriation/venv/lib/python3.9/site-packages/gym_cpr_grid/cpr_grid.py\", line 425, in _extract_fov\n",
      "\u001b[2m\u001b[36m(pid=70671)\u001b[0m     padded_grid, x_pad_width, y_pad_width = self._pad_grid(\n",
      "\u001b[2m\u001b[36m(pid=70671)\u001b[0m   File \"/Users/jobs/Github/cpr-appropriation/venv/lib/python3.9/site-packages/gym_cpr_grid/cpr_grid.py\", line 379, in _pad_grid\n",
      "\u001b[2m\u001b[36m(pid=70671)\u001b[0m     padded_grid = np.pad(\n",
      "\u001b[2m\u001b[36m(pid=70671)\u001b[0m   File \"<__array_function__ internals>\", line 5, in pad\n",
      "\u001b[2m\u001b[36m(pid=70671)\u001b[0m   File \"/Users/jobs/Github/cpr-appropriation/venv/lib/python3.9/site-packages/numpy/lib/arraypad.py\", line 743, in pad\n",
      "\u001b[2m\u001b[36m(pid=70671)\u001b[0m     pad_width = _as_pairs(pad_width, array.ndim, as_index=True)\n",
      "\u001b[2m\u001b[36m(pid=70671)\u001b[0m   File \"/Users/jobs/Github/cpr-appropriation/venv/lib/python3.9/site-packages/numpy/lib/arraypad.py\", line 513, in _as_pairs\n",
      "\u001b[2m\u001b[36m(pid=70671)\u001b[0m     if as_index and x.min() < 0:\n",
      "\u001b[2m\u001b[36m(pid=70671)\u001b[0m   File \"/Users/jobs/Github/cpr-appropriation/venv/lib/python3.9/site-packages/numpy/core/_methods.py\", line 44, in _amin\n",
      "\u001b[2m\u001b[36m(pid=70671)\u001b[0m     return umr_minimum(a, axis, None, out, keepdims, initial, where)\n",
      "\u001b[2m\u001b[36m(pid=70671)\u001b[0m   File \"/Users/jobs/Github/cpr-appropriation/venv/lib/python3.9/site-packages/ray/worker.py\", line 418, in sigterm_handler\n",
      "\u001b[2m\u001b[36m(pid=70671)\u001b[0m     sys.exit(1)\n",
      "\u001b[2m\u001b[36m(pid=70671)\u001b[0m SystemExit: 1\n",
      "Process wandb_internal:\n"
     ]
    },
    {
     "name": "stdout",
     "output_type": "stream",
     "text": [
      "\r\n"
     ]
    },
    {
     "name": "stderr",
     "output_type": "stream",
     "text": [
      "Process _WandbLoggingProcess-11:\r\n",
      "Traceback (most recent call last):\r\n",
      "  File \"/usr/local/Cellar/python@3.9/3.9.5/Frameworks/Python.framework/Versions/3.9/lib/python3.9/multiprocessing/process.py\", line 315, in _bootstrap\r\n",
      "    self.run()\r\n",
      "  File \"/Users/jobs/Github/cpr-appropriation/venv/lib/python3.9/site-packages/ray/tune/integration/wandb.py\", line 200, in run\r\n",
      "    result = self.queue.get()\r\n",
      "  File \"/usr/local/Cellar/python@3.9/3.9.5/Frameworks/Python.framework/Versions/3.9/lib/python3.9/multiprocessing/queues.py\", line 103, in get\r\n",
      "    res = self._recv_bytes()\r\n",
      "  File \"/usr/local/Cellar/python@3.9/3.9.5/Frameworks/Python.framework/Versions/3.9/lib/python3.9/multiprocessing/connection.py\", line 221, in recv_bytes\r\n",
      "    buf = self._recv_bytes(maxlength)\r\n",
      "  File \"/usr/local/Cellar/python@3.9/3.9.5/Frameworks/Python.framework/Versions/3.9/lib/python3.9/multiprocessing/connection.py\", line 419, in _recv_bytes\r\n",
      "    buf = self._recv(4)\r\n",
      "  File \"/usr/local/Cellar/python@3.9/3.9.5/Frameworks/Python.framework/Versions/3.9/lib/python3.9/multiprocessing/connection.py\", line 384, in _recv\r\n",
      "    chunk = read(handle, remaining)\r\n",
      "KeyboardInterrupt\r\n",
      "\r\n",
      "During handling of the above exception, another exception occurred:\r\n",
      "\r\n",
      "Traceback (most recent call last):\r\n",
      "  File \"/usr/local/Cellar/python@3.9/3.9.5/Frameworks/Python.framework/Versions/3.9/lib/python3.9/multiprocessing/process.py\", line 318, in _bootstrap\r\n",
      "    util._exit_function()\r\n",
      "  File \"/usr/local/Cellar/python@3.9/3.9.5/Frameworks/Python.framework/Versions/3.9/lib/python3.9/multiprocessing/util.py\", line 357, in _exit_function\r\n",
      "    p.join()\r\n",
      "  File \"/usr/local/Cellar/python@3.9/3.9.5/Frameworks/Python.framework/Versions/3.9/lib/python3.9/multiprocessing/process.py\", line 149, in join\r\n",
      "    res = self._popen.wait(timeout)\r\n",
      "  File \"/usr/local/Cellar/python@3.9/3.9.5/Frameworks/Python.framework/Versions/3.9/lib/python3.9/multiprocessing/popen_fork.py\", line 43, in wait\r\n",
      "    return self.poll(os.WNOHANG if timeout == 0.0 else 0)\r\n",
      "  File \"/usr/local/Cellar/python@3.9/3.9.5/Frameworks/Python.framework/Versions/3.9/lib/python3.9/multiprocessing/popen_fork.py\", line 27, in poll\r\n",
      "    pid, sts = os.waitpid(self.pid, flag)\r\n",
      "KeyboardInterrupt\r\n",
      "Traceback (most recent call last):\n",
      "  File \"/usr/local/Cellar/python@3.9/3.9.5/Frameworks/Python.framework/Versions/3.9/lib/python3.9/multiprocessing/process.py\", line 315, in _bootstrap\n",
      "    self.run()\n",
      "  File \"/usr/local/Cellar/python@3.9/3.9.5/Frameworks/Python.framework/Versions/3.9/lib/python3.9/multiprocessing/process.py\", line 108, in run\n",
      "    self._target(*self._args, **self._kwargs)\n",
      "  File \"/Users/jobs/Github/cpr-appropriation/venv/lib/python3.9/site-packages/wandb/sdk/internal/internal.py\", line 152, in wandb_internal\n",
      "    thread.join()\n",
      "  File \"/usr/local/Cellar/python@3.9/3.9.5/Frameworks/Python.framework/Versions/3.9/lib/python3.9/threading.py\", line 1033, in join\n",
      "    self._wait_for_tstate_lock()\n",
      "  File \"/usr/local/Cellar/python@3.9/3.9.5/Frameworks/Python.framework/Versions/3.9/lib/python3.9/threading.py\", line 1049, in _wait_for_tstate_lock\n",
      "    elif lock.acquire(block, timeout):\n",
      "KeyboardInterrupt\n"
     ]
    },
    {
     "ename": "KeyboardInterrupt",
     "evalue": "",
     "output_type": "error",
     "traceback": [
      "\u001b[0;31m---------------------------------------------------------------------------\u001b[0m",
      "\u001b[0;31mKeyboardInterrupt\u001b[0m                         Traceback (most recent call last)",
      "\u001b[0;32m/var/folders/pp/wfj1kcws58g7pxksj9k8zdhw0000gn/T/ipykernel_54085/2457331443.py\u001b[0m in \u001b[0;36m<module>\u001b[0;34m\u001b[0m\n\u001b[0;32m----> 1\u001b[0;31m experiment_analysis = tune.run(\n\u001b[0m\u001b[1;32m      2\u001b[0m     \u001b[0mDQNTrainer\u001b[0m\u001b[0;34m,\u001b[0m\u001b[0;34m\u001b[0m\u001b[0;34m\u001b[0m\u001b[0m\n\u001b[1;32m      3\u001b[0m     config={\n\u001b[1;32m      4\u001b[0m         \u001b[0;34m\"env\"\u001b[0m\u001b[0;34m:\u001b[0m \u001b[0;34m\"gym_cpr_grid:CPRGridEnv-v0\"\u001b[0m\u001b[0;34m,\u001b[0m\u001b[0;34m\u001b[0m\u001b[0;34m\u001b[0m\u001b[0m\n\u001b[1;32m      5\u001b[0m         \"env_config\": {\n",
      "\u001b[0;32m~/Github/cpr-appropriation/venv/lib/python3.9/site-packages/ray/tune/tune.py\u001b[0m in \u001b[0;36mrun\u001b[0;34m(run_or_experiment, name, metric, mode, stop, time_budget_s, config, resources_per_trial, num_samples, local_dir, search_alg, scheduler, keep_checkpoints_num, checkpoint_score_attr, checkpoint_freq, checkpoint_at_end, verbose, progress_reporter, log_to_file, trial_name_creator, trial_dirname_creator, sync_config, export_formats, max_failures, fail_fast, restore, server_port, resume, queue_trials, reuse_actors, trial_executor, raise_on_failed_trial, callbacks, loggers, ray_auto_init, run_errored_only, global_checkpoint_period, with_server, upload_dir, sync_to_cloud, sync_to_driver, sync_on_checkpoint, _remote)\u001b[0m\n\u001b[1;32m    533\u001b[0m \u001b[0;34m\u001b[0m\u001b[0m\n\u001b[1;32m    534\u001b[0m     \u001b[0mwait_for_sync\u001b[0m\u001b[0;34m(\u001b[0m\u001b[0;34m)\u001b[0m\u001b[0;34m\u001b[0m\u001b[0;34m\u001b[0m\u001b[0m\n\u001b[0;32m--> 535\u001b[0;31m     \u001b[0mrunner\u001b[0m\u001b[0;34m.\u001b[0m\u001b[0mcleanup_trials\u001b[0m\u001b[0;34m(\u001b[0m\u001b[0;34m)\u001b[0m\u001b[0;34m\u001b[0m\u001b[0;34m\u001b[0m\u001b[0m\n\u001b[0m\u001b[1;32m    536\u001b[0m \u001b[0;34m\u001b[0m\u001b[0m\n\u001b[1;32m    537\u001b[0m     \u001b[0mincomplete_trials\u001b[0m \u001b[0;34m=\u001b[0m \u001b[0;34m[\u001b[0m\u001b[0;34m]\u001b[0m\u001b[0;34m\u001b[0m\u001b[0;34m\u001b[0m\u001b[0m\n",
      "\u001b[0;32m~/Github/cpr-appropriation/venv/lib/python3.9/site-packages/ray/tune/trial_runner.py\u001b[0m in \u001b[0;36mcleanup_trials\u001b[0;34m(self)\u001b[0m\n\u001b[1;32m   1189\u001b[0m \u001b[0;34m\u001b[0m\u001b[0m\n\u001b[1;32m   1190\u001b[0m     \u001b[0;32mdef\u001b[0m \u001b[0mcleanup_trials\u001b[0m\u001b[0;34m(\u001b[0m\u001b[0mself\u001b[0m\u001b[0;34m)\u001b[0m\u001b[0;34m:\u001b[0m\u001b[0;34m\u001b[0m\u001b[0;34m\u001b[0m\u001b[0m\n\u001b[0;32m-> 1191\u001b[0;31m         \u001b[0mself\u001b[0m\u001b[0;34m.\u001b[0m\u001b[0mtrial_executor\u001b[0m\u001b[0;34m.\u001b[0m\u001b[0mcleanup\u001b[0m\u001b[0;34m(\u001b[0m\u001b[0mself\u001b[0m\u001b[0;34m)\u001b[0m\u001b[0;34m\u001b[0m\u001b[0;34m\u001b[0m\u001b[0m\n\u001b[0m\u001b[1;32m   1192\u001b[0m \u001b[0;34m\u001b[0m\u001b[0m\n\u001b[1;32m   1193\u001b[0m     \u001b[0;32mdef\u001b[0m \u001b[0m_reconcile_live_trials\u001b[0m\u001b[0;34m(\u001b[0m\u001b[0mself\u001b[0m\u001b[0;34m)\u001b[0m\u001b[0;34m:\u001b[0m\u001b[0;34m\u001b[0m\u001b[0;34m\u001b[0m\u001b[0m\n",
      "\u001b[0;32m~/Github/cpr-appropriation/venv/lib/python3.9/site-packages/ray/tune/ray_trial_executor.py\u001b[0m in \u001b[0;36mcleanup\u001b[0;34m(self, trial_runner)\u001b[0m\n\u001b[1;32m   1053\u001b[0m         \u001b[0mself\u001b[0m\u001b[0;34m.\u001b[0m\u001b[0m_pg_manager\u001b[0m\u001b[0;34m.\u001b[0m\u001b[0mreconcile_placement_groups\u001b[0m\u001b[0;34m(\u001b[0m\u001b[0mtrial_runner\u001b[0m\u001b[0;34m.\u001b[0m\u001b[0mget_trials\u001b[0m\u001b[0;34m(\u001b[0m\u001b[0;34m)\u001b[0m\u001b[0;34m)\u001b[0m\u001b[0;34m\u001b[0m\u001b[0;34m\u001b[0m\u001b[0m\n\u001b[1;32m   1054\u001b[0m         \u001b[0mself\u001b[0m\u001b[0;34m.\u001b[0m\u001b[0m_pg_manager\u001b[0m\u001b[0;34m.\u001b[0m\u001b[0mcleanup\u001b[0m\u001b[0;34m(\u001b[0m\u001b[0mforce\u001b[0m\u001b[0;34m=\u001b[0m\u001b[0;32mTrue\u001b[0m\u001b[0;34m)\u001b[0m\u001b[0;34m\u001b[0m\u001b[0;34m\u001b[0m\u001b[0m\n\u001b[0;32m-> 1055\u001b[0;31m         \u001b[0mself\u001b[0m\u001b[0;34m.\u001b[0m\u001b[0m_pg_manager\u001b[0m\u001b[0;34m.\u001b[0m\u001b[0mcleanup_existing_pg\u001b[0m\u001b[0;34m(\u001b[0m\u001b[0mblock\u001b[0m\u001b[0;34m=\u001b[0m\u001b[0;32mTrue\u001b[0m\u001b[0;34m)\u001b[0m\u001b[0;34m\u001b[0m\u001b[0;34m\u001b[0m\u001b[0m\n\u001b[0m\u001b[1;32m   1056\u001b[0m \u001b[0;34m\u001b[0m\u001b[0m\n\u001b[1;32m   1057\u001b[0m     \u001b[0;34m@\u001b[0m\u001b[0mcontextmanager\u001b[0m\u001b[0;34m\u001b[0m\u001b[0;34m\u001b[0m\u001b[0m\n",
      "\u001b[0;32m~/Github/cpr-appropriation/venv/lib/python3.9/site-packages/ray/tune/utils/placement_groups.py\u001b[0m in \u001b[0;36mcleanup_existing_pg\u001b[0;34m(self, block)\u001b[0m\n\u001b[1;32m    316\u001b[0m                     \u001b[0mpg\u001b[0m \u001b[0;34m=\u001b[0m \u001b[0mget_placement_group\u001b[0m\u001b[0;34m(\u001b[0m\u001b[0minfo\u001b[0m\u001b[0;34m[\u001b[0m\u001b[0;34m\"name\"\u001b[0m\u001b[0;34m]\u001b[0m\u001b[0;34m)\u001b[0m\u001b[0;34m\u001b[0m\u001b[0;34m\u001b[0m\u001b[0m\n\u001b[1;32m    317\u001b[0m                     \u001b[0mremove_placement_group\u001b[0m\u001b[0;34m(\u001b[0m\u001b[0mpg\u001b[0m\u001b[0;34m)\u001b[0m\u001b[0;34m\u001b[0m\u001b[0;34m\u001b[0m\u001b[0m\n\u001b[0;32m--> 318\u001b[0;31m                 \u001b[0mtime\u001b[0m\u001b[0;34m.\u001b[0m\u001b[0msleep\u001b[0m\u001b[0;34m(\u001b[0m\u001b[0;36m0.1\u001b[0m\u001b[0;34m)\u001b[0m\u001b[0;34m\u001b[0m\u001b[0;34m\u001b[0m\u001b[0m\n\u001b[0m\u001b[1;32m    319\u001b[0m \u001b[0;34m\u001b[0m\u001b[0m\n\u001b[1;32m    320\u001b[0m     \u001b[0;32mdef\u001b[0m \u001b[0mstage_trial_pg\u001b[0m\u001b[0;34m(\u001b[0m\u001b[0mself\u001b[0m\u001b[0;34m,\u001b[0m \u001b[0mtrial\u001b[0m\u001b[0;34m:\u001b[0m \u001b[0;34m\"Trial\"\u001b[0m\u001b[0;34m)\u001b[0m\u001b[0;34m:\u001b[0m\u001b[0;34m\u001b[0m\u001b[0;34m\u001b[0m\u001b[0m\n",
      "\u001b[0;31mKeyboardInterrupt\u001b[0m: "
     ]
    }
   ],
   "source": [
    "config_dqn_without_tagging = dict(dqn_common_config)\n",
    "config_dqn_without_tagging[\"env_config\"][\"tagging_ability\"] = False\n",
    "experiment_analysis = tune.run(\n",
    "    DQNTrainer, \n",
    "    config=config_dqn_without_tagging,\n",
    "    progress_reporter=reporter,\n",
    "    loggers=DEFAULT_LOGGERS + (WandbLogger, )\n",
    ")"
   ]
  },
  {
   "cell_type": "markdown",
   "id": "cd643554",
   "metadata": {},
   "source": [
    "### With tagging"
   ]
  },
  {
   "cell_type": "code",
   "execution_count": null,
   "id": "d3f2b4ce",
   "metadata": {},
   "outputs": [],
   "source": [
    "config_dqn_with_tagging = dict(dqn_common_config)\n",
    "config_dqn_with_tagging[\"env_config\"][\"tagging_ability\"] = True\n",
    "experiment_analysis = tune.run(\n",
    "    DQNTrainer, \n",
    "    config=config_dqn_with_tagging,\n",
    "    progress_reporter=reporter,\n",
    "    loggers=DEFAULT_LOGGERS + (WandbLogger, )\n",
    ")"
   ]
  },
  {
   "cell_type": "markdown",
   "id": "1eac3aea",
   "metadata": {},
   "source": [
    "### With gifting"
   ]
  },
  {
   "cell_type": "markdown",
   "id": "1caa0ad7",
   "metadata": {},
   "source": [
    "#### Zero sum"
   ]
  },
  {
   "cell_type": "code",
   "execution_count": null,
   "id": "f44c3bf3",
   "metadata": {},
   "outputs": [],
   "source": [
    "config_dqn_with_zero_sum_gifting = dict(dqn_common_config)\n",
    "config_dqn_with_zero_sum_gifting[\"env_config\"][\"tagging_ability\"] = False\n",
    "config_dqn_with_zero_sum_gifting[\"env_config\"][\"gifting_mechanism\"] = 0\n",
    "experiment_analysis = tune.run(\n",
    "    DQNTrainer, \n",
    "    config=config_dqn_with_zero_sum_gifting,\n",
    "    progress_reporter=reporter,\n",
    "    loggers=DEFAULT_LOGGERS + (WandbLogger, )\n",
    ")"
   ]
  },
  {
   "cell_type": "markdown",
   "id": "79c78584",
   "metadata": {},
   "source": [
    "#### Fixed budget"
   ]
  },
  {
   "cell_type": "code",
   "execution_count": null,
   "id": "1744213b",
   "metadata": {},
   "outputs": [],
   "source": [
    "config_dqn_with_fixed_budget_gifting = dict(dqn_common_config)\n",
    "config_dqn_with_fixed_budget_gifting[\"env_config\"][\"tagging_ability\"] = False\n",
    "config_dqn_with_fixed_budget_gifting[\"env_config\"][\"gifting_mechanism\"] = 1\n",
    "experiment_analysis = tune.run(\n",
    "    DQNTrainer, \n",
    "    config=config_dqn_with_fixed_budget_gifting,\n",
    "    progress_reporter=reporter,\n",
    "    loggers=DEFAULT_LOGGERS + (WandbLogger, )\n",
    ")"
   ]
  },
  {
   "cell_type": "markdown",
   "id": "5644ef8c",
   "metadata": {},
   "source": [
    "#### Replenishable budget"
   ]
  },
  {
   "cell_type": "code",
   "execution_count": null,
   "id": "20703058",
   "metadata": {},
   "outputs": [],
   "source": [
    "config_dqn_with_replenishable_budget_gifting = dict(dqn_common_config)\n",
    "config_dqn_with_replenishable_budget_gifting[\"env_config\"][\"tagging_ability\"] = False\n",
    "config_dqn_with_replenishable_budget_gifting[\"env_config\"][\"gifting_mechanism\"] = 2\n",
    "experiment_analysis = tune.run(\n",
    "    DQNTrainer, \n",
    "    config=config_dqn_with_replenishable_budget_gifting,\n",
    "    progress_reporter=reporter,\n",
    "    loggers=DEFAULT_LOGGERS + (WandbLogger, )\n",
    ")"
   ]
  },
  {
   "cell_type": "markdown",
   "id": "cdcdc4e1",
   "metadata": {},
   "source": [
    "## VPG"
   ]
  },
  {
   "cell_type": "code",
   "execution_count": 61,
   "id": "d9e183c6",
   "metadata": {},
   "outputs": [],
   "source": [
    "env = gym.make('gym_cpr_grid:CPRGridEnv-v0', n_agents=3, grid_width=5, grid_height=7, initial_resource_probability=0.01)\n",
    "vpg_estimator = models.MLP(env.observation_space_size(), [32, 32], env.action_space_size())"
   ]
  },
  {
   "cell_type": "code",
   "execution_count": 62,
   "id": "a089f0fb",
   "metadata": {},
   "outputs": [
    {
     "data": {
      "text/plain": [
       "MLP(\n",
       "  (mlp): Sequential(\n",
       "    (0): Linear(in_features=1260, out_features=32, bias=True)\n",
       "    (1): ReLU()\n",
       "    (2): Linear(in_features=32, out_features=32, bias=True)\n",
       "    (3): ReLU()\n",
       "    (4): Linear(in_features=32, out_features=9, bias=True)\n",
       "    (5): ReLU()\n",
       "  )\n",
       ")"
      ]
     },
     "execution_count": 62,
     "metadata": {},
     "output_type": "execute_result"
    }
   ],
   "source": [
    "vpg_estimator"
   ]
  },
  {
   "cell_type": "code",
   "execution_count": 77,
   "id": "b0e1a562",
   "metadata": {},
   "outputs": [
    {
     "name": "stderr",
     "output_type": "stream",
     "text": [
      "2021-08-20 12:33:24.738 | INFO     | src.policies:train:32 - Episode 1 / 10\n",
      "2021-08-20 12:33:24.750 | INFO     | src.policies:execute_episode:101 - Early stopping, all agents done\n",
      "2021-08-20 12:33:24.750 | INFO     | src.policies:train:32 - Episode 2 / 10\n",
      "2021-08-20 12:33:24.762 | INFO     | src.policies:execute_episode:101 - Early stopping, all agents done\n",
      "2021-08-20 12:33:24.763 | INFO     | src.policies:train:32 - Episode 3 / 10\n",
      "2021-08-20 12:33:24.772 | INFO     | src.policies:execute_episode:101 - Early stopping, all agents done\n",
      "2021-08-20 12:33:24.773 | INFO     | src.policies:train:32 - Episode 4 / 10\n",
      "2021-08-20 12:33:24.823 | INFO     | src.policies:execute_episode:101 - Early stopping, all agents done\n",
      "2021-08-20 12:33:24.823 | INFO     | src.policies:train:32 - Episode 5 / 10\n",
      "2021-08-20 12:33:27.847 | INFO     | src.policies:execute_episode:101 - Early stopping, all agents done\n",
      "2021-08-20 12:33:27.848 | INFO     | src.policies:train:32 - Episode 6 / 10\n",
      "2021-08-20 12:33:27.857 | INFO     | src.policies:execute_episode:101 - Early stopping, all agents done\n",
      "2021-08-20 12:33:27.858 | INFO     | src.policies:train:32 - Episode 7 / 10\n",
      "2021-08-20 12:33:27.870 | INFO     | src.policies:execute_episode:101 - Early stopping, all agents done\n",
      "2021-08-20 12:33:27.870 | INFO     | src.policies:train:32 - Episode 8 / 10\n",
      "2021-08-20 12:33:27.881 | INFO     | src.policies:execute_episode:101 - Early stopping, all agents done\n",
      "2021-08-20 12:33:27.882 | INFO     | src.policies:train:32 - Episode 9 / 10\n",
      "2021-08-20 12:33:27.891 | INFO     | src.policies:execute_episode:101 - Early stopping, all agents done\n",
      "2021-08-20 12:33:27.892 | INFO     | src.policies:train:32 - Episode 10 / 10\n",
      "2021-08-20 12:33:27.901 | INFO     | src.policies:execute_episode:101 - Early stopping, all agents done\n",
      "2021-08-20 12:33:27.902 | INFO     | src.policies:train:40 - Working with a batch size of 30\n"
     ]
    }
   ],
   "source": [
    "vpg_policy = policies.VPGPolicy(env, vpg_estimator)\n",
    "vpg_policy.train(10)"
   ]
  },
  {
   "cell_type": "code",
   "execution_count": null,
   "id": "9721ab97",
   "metadata": {},
   "outputs": [],
   "source": []
  }
 ],
 "metadata": {
  "kernelspec": {
   "display_name": "Python 3 (ipykernel)",
   "language": "python",
   "name": "python3"
  },
  "language_info": {
   "codemirror_mode": {
    "name": "ipython",
    "version": 3
   },
   "file_extension": ".py",
   "mimetype": "text/x-python",
   "name": "python",
   "nbconvert_exporter": "python",
   "pygments_lexer": "ipython3",
   "version": "3.9.5"
  }
 },
 "nbformat": 4,
 "nbformat_minor": 5
}
